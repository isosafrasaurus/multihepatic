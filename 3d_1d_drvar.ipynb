{
 "cells": [
  {
   "cell_type": "markdown",
   "metadata": {
    "id": "view-in-github"
   },
   "source": [
    "<a href=\"https://colab.research.google.com/github/isosafrasaurus/3d-1d/blob/main/3d_1d_drvar.ipynb\" target=\"_parent\"><img src=\"https://colab.research.google.com/assets/colab-badge.svg\" alt=\"Open In Colab\"/></a>"
   ]
  },
  {
   "cell_type": "code",
   "execution_count": 9,
   "metadata": {
    "colab": {
     "base_uri": "https://localhost:8080/"
    },
    "executionInfo": {
     "elapsed": 705,
     "status": "ok",
     "timestamp": 1742844993903,
     "user": {
      "displayName": "Pierce Zhang",
      "userId": "01548574227919084930"
     },
     "user_tz": 300
    },
    "id": "StrXDDn4yyB_",
    "outputId": "794c8f80-6894-4e23-97c4-72a490669f4a"
   },
   "outputs": [
    {
     "name": "stdout",
     "output_type": "stream",
     "text": [
      "Drive already mounted at /content/drive; to attempt to forcibly remount, call drive.mount(\"/content/drive\", force_remount=True).\n"
     ]
    }
   ],
   "source": [
    "from google.colab import drive\n",
    "drive.mount('/content/drive')"
   ]
  },
  {
   "cell_type": "code",
   "execution_count": 10,
   "metadata": {
    "colab": {
     "base_uri": "https://localhost:8080/"
    },
    "executionInfo": {
     "elapsed": 636,
     "status": "ok",
     "timestamp": 1742845002445,
     "user": {
      "displayName": "Pierce Zhang",
      "userId": "01548574227919084930"
     },
     "user_tz": 300
    },
    "id": "tgaXE5iDq3VP",
    "outputId": "9fce8a2b-6afa-4bbe-f5b1-e66dac5b6800"
   },
   "outputs": [
    {
     "name": "stdout",
     "output_type": "stream",
     "text": [
      "The autoreload extension is already loaded. To reload it, use:\n",
      "  %reload_ext autoreload\n",
      "Drive already mounted at /content/drive; to attempt to forcibly remount, call drive.mount(\"/content/drive\", force_remount=True).\n"
     ]
    }
   ],
   "source": [
    "%load_ext autoreload\n",
    "%autoreload 2\n",
    "\n",
    "from google.colab import drive\n",
    "drive.mount('/content/drive')\n",
    "\n",
    "import sys, os, re\n",
    "import numpy as np\n",
    "\n",
    "WORK_PATH = \"/content/drive/MyDrive/Research/3d-1d\"\n",
    "SOURCE_PATH = os.path.join(WORK_PATH, \"src\")\n",
    "EXPORT_PATH = os.path.join(WORK_PATH, \"export\")\n",
    "sys.path.append(SOURCE_PATH)"
   ]
  },
  {
   "cell_type": "code",
   "execution_count": 11,
   "metadata": {
    "cellView": "form",
    "executionInfo": {
     "elapsed": 10693,
     "status": "ok",
     "timestamp": 1742845017170,
     "user": {
      "displayName": "Pierce Zhang",
      "userId": "01548574227919084930"
     },
     "user_tz": 300
    },
    "id": "1ZN2_QMNqWmn"
   },
   "outputs": [],
   "source": [
    "# @title Install all packages\n",
    "%%capture\n",
    "!pip install ipywidgets vtk meshio pyvista Rtree\n",
    "\n",
    "def replace_in_file(file_path):\n",
    "    with open(file_path, 'r', encoding='utf-8') as file:\n",
    "        content = file.read()\n",
    "    content = re.sub(r'\\bufl\\b', 'ufl_legacy', content)\n",
    "    with open(file_path, 'w', encoding='utf-8') as file:\n",
    "        file.write(content)\n",
    "\n",
    "def process_directory(directory):\n",
    "    for root, _, files in os.walk(directory):\n",
    "        for file in files:\n",
    "            if file.endswith('.py'):\n",
    "                file_path = os.path.join(root, file)\n",
    "                replace_in_file(file_path)\n",
    "\n",
    "# dolfin\n",
    "try:\n",
    "    import dolfin\n",
    "except ImportError:\n",
    "    !wget \"https://fem-on-colab.github.io/releases/fenics-install-release-real.sh\" -O \"/tmp/fenics-install.sh\" && bash \"/tmp/fenics-install.sh\"\n",
    "\n",
    "# block\n",
    "try:\n",
    "    import block\n",
    "except ImportError:\n",
    "    !git clone \"https://bitbucket.org/fenics-apps/cbc.block/src/master/\"\n",
    "    !pip install master/\n",
    "\n",
    "# fenics_ii\n",
    "try:\n",
    "    import xii\n",
    "except ImportError:\n",
    "    !git clone --single-branch -b \"collapse-iter-dev\" \"https://github.com/MiroK/fenics_ii\"\n",
    "    process_directory(\"fenics_ii/\")\n",
    "    !pip install fenics_ii/\n",
    "\n",
    "# graphnics\n",
    "try:\n",
    "    import graphnics\n",
    "except ImportError:\n",
    "    !git clone \"https://github.com/IngeborgGjerde/graphnics\"\n",
    "    !pip install graphnics/\n",
    "\n",
    "!pip install git+https://github.com/dolfin-adjoint/pyadjoint.git --upgrade"
   ]
  },
  {
   "cell_type": "markdown",
   "metadata": {
    "id": "KLbYZsIQtGqb"
   },
   "source": [
    "| Parameter    | Units                 | Physical Role                                        |\n",
    "|--------------|-----------------------|------------------------------------------------------|\n",
    "| $$ \\mu $$    | $$\\text{Pa}\\cdot\\text{s}$$ | Dynamic viscosity of blood                           |\n",
    "| $$ k_t $$    | $$ \\text{m}^2 $$      | 3D tissue permeability                               |\n",
    "| $$ k_v $$    | $$ \\text{m}^2 $$      | Axial permeability along the vessel                  |\n",
    "| $$ \\gamma $$ | $$ \\text{m}/(\\text{Pa}\\cdot\\text{s}) $$ | Vessel wall permeability coefficient |\n",
    "| $$ \\gamma_R $$ | $$ \\text{m}/(\\text{Pa}\\cdot\\text{s}) $$ | Boundary outflow permeability                 |\n",
    "| $$ \\gamma_a $$ | $$\\text{m}$$                    | Terminal vessel hydraulic conductance at end |\n",
    "\n",
    "Velocity units: $$\\frac{\\text{m}^2}{\\text{Pa} \\cdot s} \\times \\frac{\\text{Pa}}{\\text{m}} = \\frac{\\text{m}}{\\text{s}}$$"
   ]
  },
  {
   "cell_type": "code",
   "execution_count": 12,
   "metadata": {
    "executionInfo": {
     "elapsed": 18,
     "status": "ok",
     "timestamp": 1742845017198,
     "user": {
      "displayName": "Pierce Zhang",
      "userId": "01548574227919084930"
     },
     "user_tz": 300
    },
    "id": "L40MhZ9oRmAK"
   },
   "outputs": [],
   "source": [
    "from graphnics import FenicsGraph"
   ]
  },
  {
   "cell_type": "code",
   "execution_count": 15,
   "metadata": {
    "colab": {
     "base_uri": "https://localhost:8080/"
    },
    "executionInfo": {
     "elapsed": 31307,
     "status": "ok",
     "timestamp": 1742845415109,
     "user": {
      "displayName": "Pierce Zhang",
      "userId": "01548574227919084930"
     },
     "user_tz": 300
    },
    "id": "_ipx3B9HxPxE",
    "outputId": "088c26c2-5dd3-4751-bf01-46c6d44ff740"
   },
   "outputs": [
    {
     "name": "stderr",
     "output_type": "stream",
     "text": [
      "Averaging over 448 cells: 100%|██████████| 448/448 [00:00<00:00, 1373.34it/s]\n"
     ]
    },
    {
     "name": "stdout",
     "output_type": "stream",
     "text": [
      "Flow Diagnostics\n",
      "--------------------------------------------------\n",
      "Sink Boundary:\n",
      "  Inflow               : 0\n",
      "  Outflow              : 3.2089302e-06\n",
      "  Net Flow (sum)       : 3.2089302e-06\n",
      "  Net Flow (Dolfin)    : 3.2089302e-06\n",
      "  --> The 'Net Flow (sum)' should equal 'Net Flow (Dolfin)'.\n",
      "--------------------------------------------------\n",
      "Neumann Boundary:\n",
      "  Net Flow (Dolfin)    : -5.4459613e-21\n",
      "--------------------------------------------------\n",
      "Entire Domain Boundary:\n",
      "  Inflow               : -2.5226167e-07\n",
      "  Outflow              : 3.4611918e-06\n",
      "  Net Flow (sum)       : 3.2089302e-06\n",
      "  Net Flow (Dolfin)    : 3.2089302e-06\n",
      "  --> The 'Net Flow (sum)' should equal 'Net Flow (Dolfin)'.\n",
      "--------------------------------------------------\n",
      "Sum of dsOmegaNeumann and dsOmegaSink (Dolfin):\n",
      "  Neumann + Sink       : 3.2089302e-06\n",
      "  --> This should match the net flow over the entire domain boundary.\n",
      "--------------------------------------------------\n"
     ]
    }
   ],
   "source": [
    "import tissue, fem, visualize\n",
    "\n",
    "TEST_GRAPH = FenicsGraph()\n",
    "\n",
    "TEST_GRAPH_NODES = {\n",
    "    0: [0.000, 0.020, 0.015],\n",
    "    1: [0.010, 0.020, 0.015],\n",
    "    2: [0.022, 0.013, 0.015],\n",
    "    3: [0.022, 0.028, 0.015],\n",
    "    4: [0.015, 0.005, 0.015],\n",
    "    5: [0.015, 0.035, 0.015],\n",
    "    6: [0.038, 0.005, 0.015],\n",
    "    7: [0.038, 0.035, 0.015]\n",
    "}\n",
    "\n",
    "for node_id, pos in TEST_GRAPH_NODES.items():\n",
    "    TEST_GRAPH.add_node(node_id, pos=pos)\n",
    "\n",
    "TEST_GRAPH_EDGES = [\n",
    "    (0, 1, 0.004),\n",
    "    (1, 2, 0.003),\n",
    "    (1, 3, 0.003),\n",
    "    (2, 4, 0.002),\n",
    "    (2, 6, 0.003),\n",
    "    (3, 5, 0.002),\n",
    "    (3, 7, 0.003)\n",
    "]\n",
    "\n",
    "for (u, v, radius) in TEST_GRAPH_EDGES:\n",
    "    TEST_GRAPH.add_edge(u, v, radius=radius)\n",
    "\n",
    "Omega_bounds = np.array([[0, 0, 0], [0.08, 0.08, 0.08]])\n",
    "\n",
    "TEST_MESH = tissue.MeshBuild(\n",
    "    TEST_GRAPH,\n",
    "    Omega_bounds = Omega_bounds,\n",
    "    Omega_mesh_voxel_dim = (64, 32, 32),\n",
    "    Lambda_num_nodes_exp = 6\n",
    ")\n",
    "\n",
    "TEST_SINK_FACE = TEST_MESH.get_Omega_axis_plane(\"left\")\n",
    "\n",
    "TEST_DOMAIN = tissue.DomainBuild(\n",
    "    mesh_build = TEST_MESH,\n",
    "    Lambda_inlet = [0],\n",
    "    Omega_sink = TEST_SINK_FACE\n",
    ")\n",
    "\n",
    "CUBES_TEST = fem.SubCubes(\n",
    "    domain = TEST_DOMAIN,\n",
    "    gamma = 1.0e-6,      # (can vary)\n",
    "    gamma_R = 1.0e-7,    # (can vary)\n",
    "    gamma_a = 1.0e-7,    # (can vary)\n",
    "    mu = 1.0e-3,         # Viscosity\n",
    "    k_t = 1.0e-10,       # Tissue permeability in 3D\n",
    "    k_v = 1.0e-11,       # Vessel permeability in 1D (can vary)\n",
    "    P_in = 100 * 133.322,\n",
    "    p_cvp = 1.0 * 133.322,\n",
    "    lower_cube_bounds = [[0.0, 0.0, 0.0], [0.01, 0.01, 0.01]],\n",
    "    upper_cube_bounds = [[0.033, 0.03, 0.01], [0.043, 0.04, 0.02]]\n",
    ")\n",
    "\n",
    "CUBES_TEST.print_diagnostics()"
   ]
  },
  {
   "cell_type": "code",
   "execution_count": 16,
   "metadata": {
    "executionInfo": {
     "elapsed": 434,
     "status": "ok",
     "timestamp": 1742845430099,
     "user": {
      "displayName": "Pierce Zhang",
      "userId": "01548574227919084930"
     },
     "user_tz": 300
    },
    "id": "siKt3ewexRu0"
   },
   "outputs": [],
   "source": [
    "import numpy as np\n",
    "import pandas as pd\n",
    "import matplotlib.pyplot as plt\n",
    "import os\n",
    "import datetime\n",
    "import pytz\n",
    "\n",
    "default_params = {\n",
    "    'domain': TEST_DOMAIN,\n",
    "    'gamma': 1.0e-6,\n",
    "    'gamma_R': 1.0e-7,\n",
    "    'gamma_a': 1.0e-7,\n",
    "    'mu': 1.0e-3,\n",
    "    'k_t': 1.0e-10,\n",
    "    'k_v': 1.0e-11,\n",
    "    'P_in': 100 * 133.322,\n",
    "    'p_cvp': 1.0 * 133.322,\n",
    "    'lower_cube_bounds': [[0.0, 0.0, 0.0], [0.01, 0.01, 0.01]],\n",
    "    'upper_cube_bounds': [[0.033, 0.03, 0.01], [0.043, 0.04, 0.02]]\n",
    "}\n",
    "\n",
    "def run_sweep(param_name, values, defaults):\n",
    "    results = []\n",
    "    for val in values:\n",
    "        params = defaults.copy()\n",
    "        params[param_name] = val\n",
    "        surface_area = params['domain'].get_surface_area()\n",
    "\n",
    "        cube_test = fem.SubCubes(**params)\n",
    "        upper_total = cube_test.compute_upper_cube_flux() / surface_area\n",
    "        upper_in    = cube_test.compute_upper_cube_flux_in() / surface_area\n",
    "        upper_out   = cube_test.compute_upper_cube_flux_out() / surface_area\n",
    "        lower_out   = cube_test.compute_lower_cube_flux_out() / surface_area\n",
    "        results.append((upper_total, upper_in, upper_out, lower_out))\n",
    "    return results\n",
    "\n",
    "def perform_sweeps(num_points=50, subset_params=['k_t', 'gamma', 'gamma_R']):\n",
    "    sweep_configs = {\n",
    "        'k_t': {\n",
    "            'values': np.logspace(-18, -8, num_points),\n",
    "            'xlabel': \"Tissue Permeability k_t\",\n",
    "            'title': \"Cube Unit Flux vs. Tissue Permeability k_t\",\n",
    "            'plot_type': 'semilogx',\n",
    "            'grid_kwargs': {'which': \"both\", 'ls': \"--\"}\n",
    "        },\n",
    "        'gamma': {\n",
    "            'values': np.logspace(-15, 3, num_points),\n",
    "            'xlabel': \"gamma\",\n",
    "            'title': \"Cube Unit Flux vs. gamma\",\n",
    "            'plot_type': 'semilogx',\n",
    "            'grid_kwargs': {'which': \"both\", 'ls': \"--\"}\n",
    "        },\n",
    "        'gamma_R': {\n",
    "            'values': np.logspace(-15, 3, num_points),\n",
    "            'xlabel': \"gamma_R\",\n",
    "            'title': \"Cube Unit Flux vs. gamma_R\",\n",
    "            'plot_type': 'semilogx',\n",
    "            'grid_kwargs': {'which': \"both\", 'ls': \"--\"}\n",
    "        }\n",
    "    }\n",
    "\n",
    "    data = []\n",
    "\n",
    "    for param in subset_params:\n",
    "        config = sweep_configs[param]\n",
    "        values = config['values']\n",
    "        fluxes = run_sweep(param, values, default_params)\n",
    "\n",
    "        for val, (upper_total, upper_in, upper_out, lower_out) in zip(values, fluxes):\n",
    "            data.append({\n",
    "                'sweep_param': param,\n",
    "                'sweep_value': val,\n",
    "                'upper_total': upper_total,\n",
    "                'upper_in': upper_in,\n",
    "                'upper_out': upper_out,\n",
    "                'lower_out': lower_out,\n",
    "                'xlabel': config['xlabel'],\n",
    "                'title': config['title'],\n",
    "                'plot_type': config['plot_type'],\n",
    "                'grid_kwargs': config['grid_kwargs']\n",
    "            })\n",
    "\n",
    "    df = pd.DataFrame(data)\n",
    "    return df, sweep_configs\n",
    "\n",
    "cst = pytz.timezone(\"America/Chicago\")\n",
    "now = datetime.datetime.now(cst)\n",
    "timestamp = now.strftime(\"%Y%m%d_%H%M\")\n",
    "output_dir = os.path.join(EXPORT_PATH, f\"output_sweeps_{timestamp}\")\n",
    "os.makedirs(output_dir, exist_ok=True)\n",
    "\n",
    "def plot_results(df, sweep_configs, directory, subset_params=['k_t', 'gamma', 'gamma_R']):\n",
    "    for param in subset_params:\n",
    "        config = sweep_configs[param]\n",
    "        df_param = df[df['sweep_param'] == param]\n",
    "\n",
    "        fig1, ax1 = plt.subplots(figsize=(10, 6))\n",
    "        if config['plot_type'] == 'semilogx':\n",
    "            ax1.semilogx(df_param['sweep_value'], df_param['upper_total'],\n",
    "                         marker='o', linestyle='-', label=\"Upper Total Unit Flux\")\n",
    "            ax1.semilogx(df_param['sweep_value'], df_param['upper_in'],\n",
    "                         marker='s', linestyle='--', label=\"Upper Unit Flux In\")\n",
    "            ax1.semilogx(df_param['sweep_value'], df_param['upper_out'],\n",
    "                         marker='^', linestyle='-.', label=\"Upper Unit Flux Out\")\n",
    "        else:\n",
    "            ax1.plot(df_param['sweep_value'], df_param['upper_total'],\n",
    "                     marker='o', linestyle='-', label=\"Upper Total Unit Flux\")\n",
    "            ax1.plot(df_param['sweep_value'], df_param['upper_in'],\n",
    "                     marker='s', linestyle='--', label=\"Upper Unit Flux In\")\n",
    "            ax1.plot(df_param['sweep_value'], df_param['upper_out'],\n",
    "                     marker='^', linestyle='-.', label=\"Upper Unit Flux Out\")\n",
    "        ax1.set_xlabel(config['xlabel'])\n",
    "        ax1.set_ylabel(\"Upper Cube Unit Flux\")\n",
    "        ax1.set_title(config['title'] + \" (Upper Unit Fluxes)\")\n",
    "        ax1.grid(True, **config['grid_kwargs'])\n",
    "        ax1.legend()\n",
    "\n",
    "        fig1_filename = os.path.join(directory, f\"{param}_upper_sweep.png\")\n",
    "        fig1.savefig(fig1_filename)\n",
    "        plt.show()\n",
    "        plt.close(fig1)\n",
    "\n",
    "        fig2, ax2 = plt.subplots(figsize=(10, 6))\n",
    "        if config['plot_type'] == 'semilogx':\n",
    "            ax2.semilogx(df_param['sweep_value'], df_param['lower_out'],\n",
    "                         marker='o', linestyle='-', label=\"Lower Unit Flux Out\")\n",
    "        else:\n",
    "            ax2.plot(df_param['sweep_value'], df_param['lower_out'],\n",
    "                     marker='o', linestyle='-', label=\"Lower Unit Flux Out\")\n",
    "        ax2.set_xlabel(config['xlabel'])\n",
    "        ax2.set_ylabel(\"Lower Cube Unit Flux\")\n",
    "        ax2.set_title(config['title'] + \" (Lower Unit Flux Out)\")\n",
    "        ax2.grid(True, **config['grid_kwargs'])\n",
    "        ax2.legend()\n",
    "\n",
    "        fig2_filename = os.path.join(directory, f\"{param}_lower_sweep.png\")\n",
    "        fig2.savefig(fig2_filename)\n",
    "        plt.show()\n",
    "        plt.close(fig2)\n",
    "\n",
    "def save_data_to_csv(df, directory, filename=\"sweep_results.csv\"):\n",
    "    file_path = os.path.join(directory, filename)\n",
    "    df.to_csv(file_path, index=False)\n",
    "    print(f\"Data saved to {file_path}\")"
   ]
  },
  {
   "cell_type": "code",
   "execution_count": null,
   "metadata": {
    "colab": {
     "base_uri": "https://localhost:8080/"
    },
    "id": "PpTYav0Zrxtz",
    "outputId": "39c082df-520d-4e51-e2fb-7eb7b8887df5"
   },
   "outputs": [
    {
     "name": "stdout",
     "output_type": "stream",
     "text": [
      "[np.float64(0.08), np.float64(0.08), np.float64(0.08)]\n"
     ]
    },
    {
     "name": "stderr",
     "output_type": "stream",
     "text": [
      "Averaging over 448 cells: 100%|██████████| 448/448 [00:00<00:00, 1341.91it/s]\n"
     ]
    },
    {
     "name": "stdout",
     "output_type": "stream",
     "text": [
      "[np.float64(0.08), np.float64(0.08), np.float64(0.08)]\n"
     ]
    },
    {
     "name": "stderr",
     "output_type": "stream",
     "text": [
      "Averaging over 448 cells: 100%|██████████| 448/448 [00:00<00:00, 1351.25it/s]\n"
     ]
    }
   ],
   "source": [
    "cst = pytz.timezone(\"America/Chicago\")\n",
    "now = datetime.datetime.now(cst)\n",
    "timestamp = now.strftime(\"%Y%m%d_%H%M\")\n",
    "output_dir = os.path.join(EXPORT_PATH, f\"output_sweeps_{timestamp}\")\n",
    "\n",
    "df_results, sweep_configs = perform_sweeps(num_points=50)\n",
    "plot_results(df_results, sweep_configs, output_dir)\n",
    "save_data_to_csv(df_results, output_dir)"
   ]
  },
  {
   "cell_type": "code",
   "execution_count": 17,
   "metadata": {
    "colab": {
     "base_uri": "https://localhost:8080/",
     "height": 443
    },
    "executionInfo": {
     "elapsed": 110,
     "status": "error",
     "timestamp": 1742845436155,
     "user": {
      "displayName": "Pierce Zhang",
      "userId": "01548574227919084930"
     },
     "user_tz": 300
    },
    "id": "3ATQ6MgiyNPz",
    "outputId": "2d276baa-09e2-44b7-bd4a-2e184cb2e918"
   },
   "outputs": [
    {
     "ename": "FileNotFoundError",
     "evalue": "[Errno 2] No such file or directory: 'data'",
     "output_type": "error",
     "traceback": [
      "\u001b[0;31m---------------------------------------------------------------------------\u001b[0m",
      "\u001b[0;31mFileNotFoundError\u001b[0m                         Traceback (most recent call last)",
      "\u001b[0;32m<ipython-input-17-a629d7e5810f>\u001b[0m in \u001b[0;36m<cell line: 0>\u001b[0;34m()\u001b[0m\n\u001b[1;32m     32\u001b[0m \u001b[0moutput_dir\u001b[0m \u001b[0;34m=\u001b[0m \u001b[0mos\u001b[0m\u001b[0;34m.\u001b[0m\u001b[0mpath\u001b[0m\u001b[0;34m.\u001b[0m\u001b[0mjoin\u001b[0m\u001b[0;34m(\u001b[0m\u001b[0mEXPORT_PATH\u001b[0m\u001b[0;34m,\u001b[0m \u001b[0;34mf\"output_sweeps_{timestamp}\"\u001b[0m\u001b[0;34m)\u001b[0m\u001b[0;34m\u001b[0m\u001b[0;34m\u001b[0m\u001b[0m\n\u001b[1;32m     33\u001b[0m \u001b[0;34m\u001b[0m\u001b[0m\n\u001b[0;32m---> 34\u001b[0;31m \u001b[0mdf_results\u001b[0m \u001b[0;34m=\u001b[0m \u001b[0mpd\u001b[0m\u001b[0;34m.\u001b[0m\u001b[0mread_csv\u001b[0m\u001b[0;34m(\u001b[0m\u001b[0;34m\"data\"\u001b[0m\u001b[0;34m)\u001b[0m\u001b[0;34m\u001b[0m\u001b[0;34m\u001b[0m\u001b[0m\n\u001b[0m\u001b[1;32m     35\u001b[0m \u001b[0mplot_results\u001b[0m\u001b[0;34m(\u001b[0m\u001b[0mdf_results\u001b[0m\u001b[0;34m,\u001b[0m \u001b[0msweep_configs\u001b[0m\u001b[0;34m,\u001b[0m \u001b[0moutput_dir\u001b[0m\u001b[0;34m)\u001b[0m\u001b[0;34m\u001b[0m\u001b[0;34m\u001b[0m\u001b[0m\n\u001b[1;32m     36\u001b[0m \u001b[0;31m# save_data_to_csv(df_results, output_dir)\u001b[0m\u001b[0;34m\u001b[0m\u001b[0;34m\u001b[0m\u001b[0m\n",
      "\u001b[0;32m/usr/local/lib/python3.11/dist-packages/pandas/io/parsers/readers.py\u001b[0m in \u001b[0;36mread_csv\u001b[0;34m(filepath_or_buffer, sep, delimiter, header, names, index_col, usecols, dtype, engine, converters, true_values, false_values, skipinitialspace, skiprows, skipfooter, nrows, na_values, keep_default_na, na_filter, verbose, skip_blank_lines, parse_dates, infer_datetime_format, keep_date_col, date_parser, date_format, dayfirst, cache_dates, iterator, chunksize, compression, thousands, decimal, lineterminator, quotechar, quoting, doublequote, escapechar, comment, encoding, encoding_errors, dialect, on_bad_lines, delim_whitespace, low_memory, memory_map, float_precision, storage_options, dtype_backend)\u001b[0m\n\u001b[1;32m   1024\u001b[0m     \u001b[0mkwds\u001b[0m\u001b[0;34m.\u001b[0m\u001b[0mupdate\u001b[0m\u001b[0;34m(\u001b[0m\u001b[0mkwds_defaults\u001b[0m\u001b[0;34m)\u001b[0m\u001b[0;34m\u001b[0m\u001b[0;34m\u001b[0m\u001b[0m\n\u001b[1;32m   1025\u001b[0m \u001b[0;34m\u001b[0m\u001b[0m\n\u001b[0;32m-> 1026\u001b[0;31m     \u001b[0;32mreturn\u001b[0m \u001b[0m_read\u001b[0m\u001b[0;34m(\u001b[0m\u001b[0mfilepath_or_buffer\u001b[0m\u001b[0;34m,\u001b[0m \u001b[0mkwds\u001b[0m\u001b[0;34m)\u001b[0m\u001b[0;34m\u001b[0m\u001b[0;34m\u001b[0m\u001b[0m\n\u001b[0m\u001b[1;32m   1027\u001b[0m \u001b[0;34m\u001b[0m\u001b[0m\n\u001b[1;32m   1028\u001b[0m \u001b[0;34m\u001b[0m\u001b[0m\n",
      "\u001b[0;32m/usr/local/lib/python3.11/dist-packages/pandas/io/parsers/readers.py\u001b[0m in \u001b[0;36m_read\u001b[0;34m(filepath_or_buffer, kwds)\u001b[0m\n\u001b[1;32m    618\u001b[0m \u001b[0;34m\u001b[0m\u001b[0m\n\u001b[1;32m    619\u001b[0m     \u001b[0;31m# Create the parser.\u001b[0m\u001b[0;34m\u001b[0m\u001b[0;34m\u001b[0m\u001b[0m\n\u001b[0;32m--> 620\u001b[0;31m     \u001b[0mparser\u001b[0m \u001b[0;34m=\u001b[0m \u001b[0mTextFileReader\u001b[0m\u001b[0;34m(\u001b[0m\u001b[0mfilepath_or_buffer\u001b[0m\u001b[0;34m,\u001b[0m \u001b[0;34m**\u001b[0m\u001b[0mkwds\u001b[0m\u001b[0;34m)\u001b[0m\u001b[0;34m\u001b[0m\u001b[0;34m\u001b[0m\u001b[0m\n\u001b[0m\u001b[1;32m    621\u001b[0m \u001b[0;34m\u001b[0m\u001b[0m\n\u001b[1;32m    622\u001b[0m     \u001b[0;32mif\u001b[0m \u001b[0mchunksize\u001b[0m \u001b[0;32mor\u001b[0m \u001b[0miterator\u001b[0m\u001b[0;34m:\u001b[0m\u001b[0;34m\u001b[0m\u001b[0;34m\u001b[0m\u001b[0m\n",
      "\u001b[0;32m/usr/local/lib/python3.11/dist-packages/pandas/io/parsers/readers.py\u001b[0m in \u001b[0;36m__init__\u001b[0;34m(self, f, engine, **kwds)\u001b[0m\n\u001b[1;32m   1618\u001b[0m \u001b[0;34m\u001b[0m\u001b[0m\n\u001b[1;32m   1619\u001b[0m         \u001b[0mself\u001b[0m\u001b[0;34m.\u001b[0m\u001b[0mhandles\u001b[0m\u001b[0;34m:\u001b[0m \u001b[0mIOHandles\u001b[0m \u001b[0;34m|\u001b[0m \u001b[0;32mNone\u001b[0m \u001b[0;34m=\u001b[0m \u001b[0;32mNone\u001b[0m\u001b[0;34m\u001b[0m\u001b[0;34m\u001b[0m\u001b[0m\n\u001b[0;32m-> 1620\u001b[0;31m         \u001b[0mself\u001b[0m\u001b[0;34m.\u001b[0m\u001b[0m_engine\u001b[0m \u001b[0;34m=\u001b[0m \u001b[0mself\u001b[0m\u001b[0;34m.\u001b[0m\u001b[0m_make_engine\u001b[0m\u001b[0;34m(\u001b[0m\u001b[0mf\u001b[0m\u001b[0;34m,\u001b[0m \u001b[0mself\u001b[0m\u001b[0;34m.\u001b[0m\u001b[0mengine\u001b[0m\u001b[0;34m)\u001b[0m\u001b[0;34m\u001b[0m\u001b[0;34m\u001b[0m\u001b[0m\n\u001b[0m\u001b[1;32m   1621\u001b[0m \u001b[0;34m\u001b[0m\u001b[0m\n\u001b[1;32m   1622\u001b[0m     \u001b[0;32mdef\u001b[0m \u001b[0mclose\u001b[0m\u001b[0;34m(\u001b[0m\u001b[0mself\u001b[0m\u001b[0;34m)\u001b[0m \u001b[0;34m->\u001b[0m \u001b[0;32mNone\u001b[0m\u001b[0;34m:\u001b[0m\u001b[0;34m\u001b[0m\u001b[0;34m\u001b[0m\u001b[0m\n",
      "\u001b[0;32m/usr/local/lib/python3.11/dist-packages/pandas/io/parsers/readers.py\u001b[0m in \u001b[0;36m_make_engine\u001b[0;34m(self, f, engine)\u001b[0m\n\u001b[1;32m   1878\u001b[0m                 \u001b[0;32mif\u001b[0m \u001b[0;34m\"b\"\u001b[0m \u001b[0;32mnot\u001b[0m \u001b[0;32min\u001b[0m \u001b[0mmode\u001b[0m\u001b[0;34m:\u001b[0m\u001b[0;34m\u001b[0m\u001b[0;34m\u001b[0m\u001b[0m\n\u001b[1;32m   1879\u001b[0m                     \u001b[0mmode\u001b[0m \u001b[0;34m+=\u001b[0m \u001b[0;34m\"b\"\u001b[0m\u001b[0;34m\u001b[0m\u001b[0;34m\u001b[0m\u001b[0m\n\u001b[0;32m-> 1880\u001b[0;31m             self.handles = get_handle(\n\u001b[0m\u001b[1;32m   1881\u001b[0m                 \u001b[0mf\u001b[0m\u001b[0;34m,\u001b[0m\u001b[0;34m\u001b[0m\u001b[0;34m\u001b[0m\u001b[0m\n\u001b[1;32m   1882\u001b[0m                 \u001b[0mmode\u001b[0m\u001b[0;34m,\u001b[0m\u001b[0;34m\u001b[0m\u001b[0;34m\u001b[0m\u001b[0m\n",
      "\u001b[0;32m/usr/local/lib/python3.11/dist-packages/pandas/io/common.py\u001b[0m in \u001b[0;36mget_handle\u001b[0;34m(path_or_buf, mode, encoding, compression, memory_map, is_text, errors, storage_options)\u001b[0m\n\u001b[1;32m    871\u001b[0m         \u001b[0;32mif\u001b[0m \u001b[0mioargs\u001b[0m\u001b[0;34m.\u001b[0m\u001b[0mencoding\u001b[0m \u001b[0;32mand\u001b[0m \u001b[0;34m\"b\"\u001b[0m \u001b[0;32mnot\u001b[0m \u001b[0;32min\u001b[0m \u001b[0mioargs\u001b[0m\u001b[0;34m.\u001b[0m\u001b[0mmode\u001b[0m\u001b[0;34m:\u001b[0m\u001b[0;34m\u001b[0m\u001b[0;34m\u001b[0m\u001b[0m\n\u001b[1;32m    872\u001b[0m             \u001b[0;31m# Encoding\u001b[0m\u001b[0;34m\u001b[0m\u001b[0;34m\u001b[0m\u001b[0m\n\u001b[0;32m--> 873\u001b[0;31m             handle = open(\n\u001b[0m\u001b[1;32m    874\u001b[0m                 \u001b[0mhandle\u001b[0m\u001b[0;34m,\u001b[0m\u001b[0;34m\u001b[0m\u001b[0;34m\u001b[0m\u001b[0m\n\u001b[1;32m    875\u001b[0m                 \u001b[0mioargs\u001b[0m\u001b[0;34m.\u001b[0m\u001b[0mmode\u001b[0m\u001b[0;34m,\u001b[0m\u001b[0;34m\u001b[0m\u001b[0;34m\u001b[0m\u001b[0m\n",
      "\u001b[0;31mFileNotFoundError\u001b[0m: [Errno 2] No such file or directory: 'data'"
     ]
    }
   ],
   "source": [
    "# df_results, sweep_configs = perform_sweeps(num_points=50)\n",
    "sweep_configs = {\n",
    "    'k_t': {\n",
    "        'values': np.logspace(-18, -8, 50),\n",
    "        'xlabel': \"Tissue Permeability k_t\",\n",
    "        'title': \"Cube Unit Flux vs. Tissue Permeability k_t\",\n",
    "        'plot_type': 'semilogx',\n",
    "        'grid_kwargs': {'which': \"both\", 'ls': \"--\"}\n",
    "    },\n",
    "    'gamma': {\n",
    "        'values': np.logspace(-15, 3, 50),\n",
    "        'xlabel': \"gamma\",\n",
    "        'title': \"Cube Unit Flux vs. gamma\",\n",
    "        'plot_type': 'semilogx',\n",
    "        'grid_kwargs': {'which': \"both\", 'ls': \"--\"}\n",
    "    },\n",
    "    'gamma_R': {\n",
    "        'values': np.logspace(-15, 3, 50),\n",
    "        'xlabel': \"gamma_R\",\n",
    "        'title': \"Cube Unit Flux vs. gamma_R\",\n",
    "        'plot_type': 'semilogx',\n",
    "        'grid_kwargs': {'which': \"both\", 'ls': \"--\"}\n",
    "    }\n",
    "}\n",
    "\n",
    "# Set the output directory (should be the same used when saving the data)\n",
    "cst = pytz.timezone(\"America/Chicago\")\n",
    "now = datetime.datetime.now(cst)\n",
    "timestamp = now.strftime(\"%Y%m%d_%H%M\")\n",
    "# Or if you know the output_dir path, set it directly, for example:\n",
    "# output_dir = \"/path/to/your/saved/output_dir\"\n",
    "output_dir = os.path.join(EXPORT_PATH, f\"output_sweeps_{timestamp}\")\n",
    "\n",
    "df_results = pd.read_csv(\"data\")\n",
    "plot_results(df_results, sweep_configs, output_dir)\n",
    "# save_data_to_csv(df_results, output_dir)"
   ]
  }
 ],
 "metadata": {
  "colab": {
   "machine_shape": "hm",
   "provenance": []
  },
  "kernelspec": {
   "display_name": "Python 3 (ipykernel)",
   "language": "python",
   "name": "python3"
  },
  "language_info": {
   "codemirror_mode": {
    "name": "ipython",
    "version": 3
   },
   "file_extension": ".py",
   "mimetype": "text/x-python",
   "name": "python",
   "nbconvert_exporter": "python",
   "pygments_lexer": "ipython3",
   "version": "3.12.3"
  }
 },
 "nbformat": 4,
 "nbformat_minor": 4
}
