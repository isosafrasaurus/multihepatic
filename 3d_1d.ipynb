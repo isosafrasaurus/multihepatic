{
 "cells": [
  {
   "cell_type": "code",
   "execution_count": 2,
   "metadata": {
    "executionInfo": {
     "elapsed": 17,
     "status": "ok",
     "timestamp": 1744054110673,
     "user": {
      "displayName": "Pierce Zhang",
      "userId": "01548574227919084930"
     },
     "user_tz": 300
    },
    "id": "ThiKhhsquYiA"
   },
   "outputs": [],
   "source": [
    "%load_ext autoreload\n",
    "%autoreload 2"
   ]
  },
  {
   "cell_type": "code",
   "execution_count": 3,
   "metadata": {},
   "outputs": [
    {
     "name": "stdout",
     "output_type": "stream",
     "text": [
      "sys.path starts with: ['/home/pierce/Software/cmor_mdanderson/3d-1d/src', '/home/pierce/Software/cmor_mdanderson/3d-1d/hpc']\n",
      "PYTHONPATH = /home/pierce/Software/cmor_mdanderson/3d-1d/src:/home/pierce/Software/cmor_mdanderson/3d-1d/hpc\n"
     ]
    }
   ],
   "source": [
    "import os\n",
    "import sys\n",
    "\n",
    "# 1) Define your working/project paths\n",
    "WORK_PATH      = \"./\"\n",
    "SOURCE_PATH    = os.path.join(WORK_PATH, \"src\")\n",
    "HPC_PATH       = os.path.join(WORK_PATH, \"hpc\")\n",
    "\n",
    "SOURCE_PATH_ABS = os.path.abspath(SOURCE_PATH)\n",
    "HPC_PATH_ABS    = os.path.abspath(HPC_PATH)\n",
    "\n",
    "# 2) Insert at front of sys.path so that imports in *this* notebook see them\n",
    "#    (you can also use .append() if order doesn’t matter)\n",
    "sys.path[0:0] = [SOURCE_PATH_ABS, HPC_PATH_ABS]\n",
    "\n",
    "# 3) Export into os.environ so that any spawned subprocess or IPython magic\n",
    "#    cell sees the same PYTHONPATH\n",
    "old_pp = os.environ.get(\"PYTHONPATH\", \"\")\n",
    "paths = [SOURCE_PATH_ABS, HPC_PATH_ABS]\n",
    "if old_pp:\n",
    "    paths.append(old_pp)\n",
    "os.environ[\"PYTHONPATH\"] = os.pathsep.join(paths)\n",
    "\n",
    "# --- verify ---\n",
    "print(\"sys.path starts with:\", sys.path[:2])\n",
    "print(\"PYTHONPATH =\", os.environ[\"PYTHONPATH\"])"
   ]
  },
  {
   "cell_type": "code",
   "execution_count": null,
   "metadata": {},
   "outputs": [
    {
     "name": "stderr",
     "output_type": "stream",
     "text": [
      "/home/pierce/Software/cmor_mdanderson/lib/python3.13/site-packages/block/__init__.py:15: UserWarning: The cbc.block repository has moved to https://github.com/blocknics/cbc.block\n",
      "  warnings.warn('The cbc.block repository has moved to https://github.com/blocknics/cbc.block', UserWarning)\n"
     ]
    },
    {
     "name": "stdout",
     "output_type": "stream",
     "text": [
      "Missing HsMG for fract norm computing\n",
      "Running sweep for 'gamma_a' with values from 1.00e+00 to 1.00e+00...\n",
      "WARNING: user expression has not supplied value_shape method or an element. Assuming scalar element.\n",
      "WARNING: user expression has not supplied value_shape method or an element. Assuming scalar element.\n",
      "\n",
      "step 0: set gamma_a = 1.000e+00\n"
     ]
    },
    {
     "name": "stderr",
     "output_type": "stream",
     "text": [
      "Averaging over 224 cells: 100%|█████████████| 224/224 [00:00<00:00, 2145.24it/s]\n"
     ]
    }
   ],
   "source": [
    "import numpy as np\n",
    "import pandas as pd\n",
    "import matplotlib.pyplot as plt\n",
    "from pathlib import Path\n",
    "import os\n",
    "import continuation\n",
    "\n",
    "def run_example_sweep_and_plot():\n",
    "    \"\"\"\n",
    "    Runs an example sweep using run_sweep and plots the results.\n",
    "    \"\"\"\n",
    "    # Define sweep parameters\n",
    "    sweep_name = \"gamma_a\"\n",
    "    sweep_values = np.logspace(1e-5, 1e-3, 1).tolist()\n",
    "    target_flow = 5.0e-6  # Target total_flow\n",
    "    default_params = [1e-4, 1e-4, 1e-4] # [gamma, gamma_a, gamma_R]\n",
    "    max_iterations = 50\n",
    "    results_directory = \"sweep_results_example\"\n",
    "\n",
    "    print(f\"Running sweep for '{sweep_name}' with values from {sweep_values[0]:.2e} to {sweep_values[-1]:.2e}...\")\n",
    "\n",
    "    # Ensure the results directory exists and is clean for this example\n",
    "    output_dir_path = Path(results_directory)\n",
    "    if not output_dir_path.exists():\n",
    "        output_dir_path.mkdir(parents=True)\n",
    "    \n",
    "    # Run the sweep\n",
    "    continuation.run_sweep(\n",
    "        sweep_name=sweep_name,\n",
    "        sweep_values=sweep_values,\n",
    "        target=target_flow,\n",
    "        x_default=default_params,\n",
    "        maxiter=max_iterations,\n",
    "        directory=results_directory,\n",
    "    )\n",
    "\n",
    "    # --- Plotting the results ---\n",
    "    csv_path = os.path.join(results_directory, \"sweep_results.csv\")\n",
    "    if Path(csv_path).exists():\n",
    "        df = pd.read_csv(csv_path)\n",
    "\n",
    "        print(\"\\nSweep results (first 5 rows):\")\n",
    "        print(df.head())\n",
    "\n",
    "        plt.figure(figsize=(10, 6))\n",
    "        plt.plot(df[sweep_name], df[\"total_flow\"], marker='o', linestyle='-')\n",
    "        plt.axhline(y=target_flow, color='r', linestyle='--', label=f'Target Flow ({target_flow:.1e} m³/s)')\n",
    "        plt.title(f'Total Flow vs. {sweep_name} (Target: {target_flow:.1e} m³/s)')\n",
    "        plt.xlabel(f'{sweep_name} (Pa·s⁻¹·m⁻²)')\n",
    "        plt.ylabel('Total Flow (m³/s)')\n",
    "        plt.grid(True)\n",
    "        plt.legend()\n",
    "        plt.xscale('log') # Use log scale for gamma_a as values can vary widely\n",
    "        plt.tight_layout()\n",
    "        plot_filename = Path(results_directory) / f\"flow_vs_{sweep_name}_plot.png\"\n",
    "        plt.savefig(plot_filename)\n",
    "        print(f\"\\nPlot saved to: {plot_filename}\")\n",
    "        plt.show()\n",
    "    else:\n",
    "        print(f\"Error: Results CSV not found at {csv_path}\")\n",
    "\n",
    "if __name__ == \"__main__\":\n",
    "    run_example_sweep_and_plot()"
   ]
  },
  {
   "cell_type": "code",
   "execution_count": null,
   "metadata": {},
   "outputs": [],
   "source": []
  }
 ],
 "metadata": {
  "colab": {
   "machine_shape": "hm",
   "provenance": []
  },
  "kernelspec": {
   "display_name": "Python (cmor_mdanderson)",
   "language": "python",
   "name": "cmor_mdanderson"
  },
  "language_info": {
   "codemirror_mode": {
    "name": "ipython",
    "version": 3
   },
   "file_extension": ".py",
   "mimetype": "text/x-python",
   "name": "python",
   "nbconvert_exporter": "python",
   "pygments_lexer": "ipython3",
   "version": "3.13.3"
  }
 },
 "nbformat": 4,
 "nbformat_minor": 4
}
