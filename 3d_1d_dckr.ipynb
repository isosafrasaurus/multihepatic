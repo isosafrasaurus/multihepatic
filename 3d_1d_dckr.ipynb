{
 "cells": [
  {
   "cell_type": "code",
   "execution_count": 1,
   "metadata": {},
   "outputs": [],
   "source": [
    "%load_ext autoreload\n",
    "%autoreload 2"
   ]
  },
  {
   "cell_type": "code",
   "execution_count": 2,
   "metadata": {
    "colab": {
     "base_uri": "https://localhost:8080/"
    },
    "id": "tgaXE5iDq3VP",
    "outputId": "325ae38c-0348-409e-ae58-684662a1f63d"
   },
   "outputs": [],
   "source": [
    "import sys, os\n",
    "import numpy as np\n",
    "\n",
    "WORK_PATH = \"./\"\n",
    "SOURCE_PATH = os.path.join(WORK_PATH, \"src\")\n",
    "sys.path.append(SOURCE_PATH)"
   ]
  },
  {
   "cell_type": "code",
   "execution_count": 3,
   "metadata": {
    "id": "L40MhZ9oRmAK"
   },
   "outputs": [
    {
     "name": "stderr",
     "output_type": "stream",
     "text": [
      "/usr/local/lib/python3.11/dist-packages/block/__init__.py:15: UserWarning: The cbc.block repository has moved to https://github.com/blocknics/cbc.block\n",
      "  warnings.warn('The cbc.block repository has moved to https://github.com/blocknics/cbc.block', UserWarning)\n"
     ]
    },
    {
     "name": "stdout",
     "output_type": "stream",
     "text": [
      "Missing HsMG for fract norm computing\n"
     ]
    }
   ],
   "source": [
    "from graphnics import FenicsGraph"
   ]
  },
  {
   "cell_type": "code",
   "execution_count": 4,
   "metadata": {
    "colab": {
     "base_uri": "https://localhost:8080/"
    },
    "id": "_HoMOymdqWmp",
    "outputId": "c44b71d4-acab-47d1-ae87-297305a70806"
   },
   "outputs": [
    {
     "name": "stderr",
     "output_type": "stream",
     "text": [
      "Averaging over 28 cells: 100%|██████████| 28/28 [00:00<00:00, 2203.68it/s]\n"
     ]
    }
   ],
   "source": [
    "import tissue, fem, visualize\n",
    "\n",
    "TEST_GRAPH = FenicsGraph()\n",
    "TEST_GRAPH_NODES = {\n",
    "    0: [0.000, 0.020, 0.015],\n",
    "    1: [0.010, 0.020, 0.015],\n",
    "    2: [0.022, 0.013, 0.015],\n",
    "    3: [0.022, 0.028, 0.015],\n",
    "    4: [0.015, 0.005, 0.015],\n",
    "    5: [0.015, 0.035, 0.015],\n",
    "    6: [0.038, 0.005, 0.015],\n",
    "    7: [0.038, 0.035, 0.015]\n",
    "}\n",
    "for node_id, pos in TEST_GRAPH_NODES.items():\n",
    "    TEST_GRAPH.add_node(node_id, pos=pos)\n",
    "TEST_GRAPH_EDGES = [\n",
    "    (0, 1, 0.004),\n",
    "    (1, 2, 0.003),\n",
    "    (1, 3, 0.003),\n",
    "    (2, 4, 0.002),\n",
    "    (2, 6, 0.003),\n",
    "    (3, 5, 0.002),\n",
    "    (3, 7, 0.003)\n",
    "]\n",
    "for (u, v, radius) in TEST_GRAPH_EDGES:\n",
    "    TEST_GRAPH.add_edge(u, v, radius=radius)\n",
    "\n",
    "Omega_bounds = np.array([[0, 0, 0], [0.08, 0.08, 0.08]])\n",
    "mesh_builder = tissue.MeshBuild(\n",
    "    TEST_GRAPH,\n",
    "    Omega_bounds=Omega_bounds,\n",
    "    Omega_mesh_voxel_dim=(24, 24, 24),\n",
    "    Lambda_num_nodes_exp=2\n",
    ")\n",
    "\n",
    "sink_face = mesh_builder.get_Omega_axis_plane(\"left\")\n",
    "\n",
    "measure_builder = tissue.DomainBuild(\n",
    "    mesh_build=mesh_builder,\n",
    "    Lambda_inlet=[0],\n",
    "    Omega_sink=sink_face\n",
    ")\n",
    "\n",
    "_pos = np.array(TEST_GRAPH.nodes[7]['pos'])\n",
    "_offset = np.array([0.005, 0.005, 0.005])\n",
    "_upper_cube_bounds_val = [_pos - _offset, _pos + _offset]\n",
    "\n",
    "CUBES_TEST = fem.Velo(\n",
    "    domain = measure_builder,\n",
    "    gamma = 1.0e-10,\n",
    "    gamma_R = 10.0,\n",
    "    gamma_a = 0,\n",
    "    mu = 1.0e-3, # Viscosity\n",
    "    k_t = 1.0e-10, # Tissue permeability in 3D\n",
    "    k_v = 4.0e-11, # Vessel permeability in 1D\n",
    "    P_in = 100 * 133.322,\n",
    "    p_cvp = 1.0 * 133.322\n",
    ")"
   ]
  },
  {
   "cell_type": "code",
   "execution_count": 5,
   "metadata": {},
   "outputs": [
    {
     "name": "stdout",
     "output_type": "stream",
     "text": [
      "Flow Diagnostic Report:\n",
      "--------------------------------------------------\n",
      "Sink Boundary:\n",
      "  Inflow               : 0\n",
      "  Outflow              : 2.27073e-09\n",
      "  Net Flow (sum)       : 2.27073e-09\n",
      "  Net Flow (Dolfin)    : 2.27073e-09\n",
      "  --> The 'Net Flow (sum)' should equal 'Net Flow (Dolfin)'.\n",
      "--------------------------------------------------\n",
      "Neumann Boundary:\n",
      "  Net Flow (Dolfin)    : 1.08417e-10\n",
      "--------------------------------------------------\n",
      "Entire Domain Boundary:\n",
      "  Inflow               : -2.03441e-11\n",
      "  Outflow              : 2.39949e-09\n",
      "  Net Flow (sum)       : 2.37915e-09\n",
      "  Net Flow (Dolfin)    : 2.37915e-09\n",
      "  --> The 'Net Flow (sum)' should equal 'Net Flow (Dolfin)'.\n",
      "--------------------------------------------------\n",
      "Sum of dsOmegaNeumann and dsOmegaSink (Dolfin):\n",
      "  Neumann + Sink       : 2.37915e-09\n",
      "  --> This should match the net flow over the entire domain boundary.\n",
      "--------------------------------------------------\n"
     ]
    }
   ],
   "source": [
    "CUBES_TEST.print_diagnostics()"
   ]
  },
  {
   "cell_type": "code",
   "execution_count": null,
   "metadata": {
    "colab": {
     "base_uri": "https://localhost:8080/",
     "height": 642
    },
    "id": "zlT_MsANqWmq",
    "outputId": "6297ef73-3dcd-4b9c-e809-cf2e23060feb"
   },
   "outputs": [],
   "source": [
    "cube_lower_bounds = CUBES_TEST.lower_cube_bounds\n",
    "cube_upper_bounds = CUBES_TEST.upper_cube_bounds\n",
    "\n",
    "print(\"Lower Cube Bounds:\", cube_lower_bounds)\n",
    "print(\"Upper Cube Bounds:\", cube_upper_bounds)\n",
    "\n",
    "fig1 = visualize.plot_with_boundaries(CUBES_TEST.uh1d, CUBES_TEST.uh3d,\n",
    "     cube_lower=cube_lower_bounds,\n",
    "     cube_upper=cube_upper_bounds)\n",
    "fig1.show()"
   ]
  },
  {
   "cell_type": "code",
   "execution_count": 4,
   "metadata": {
    "colab": {
     "base_uri": "https://localhost:8080/",
     "height": 1000
    },
    "id": "WviP48Z-qWmq",
    "outputId": "04ed4c6e-22e9-483a-cb09-4499312d05d9"
   },
   "outputs": [
    {
     "ename": "NameError",
     "evalue": "name 'visualize' is not defined",
     "output_type": "error",
     "traceback": [
      "\u001b[0;31m---------------------------------------------------------------------------\u001b[0m",
      "\u001b[0;31mNameError\u001b[0m                                 Traceback (most recent call last)",
      "Cell \u001b[0;32mIn[4], line 1\u001b[0m\n\u001b[0;32m----> 1\u001b[0m fig1 \u001b[38;5;241m=\u001b[39m \u001b[43mvisualize\u001b[49m\u001b[38;5;241m.\u001b[39mplot_path_pressure(CUBES_TEST\u001b[38;5;241m.\u001b[39muh1d, TEST_GRAPH, [\u001b[38;5;241m0\u001b[39m, \u001b[38;5;241m1\u001b[39m, \u001b[38;5;241m3\u001b[39m, \u001b[38;5;241m7\u001b[39m])\n\u001b[1;32m      2\u001b[0m fig1\u001b[38;5;241m.\u001b[39mshow()\n",
      "\u001b[0;31mNameError\u001b[0m: name 'visualize' is not defined"
     ]
    }
   ],
   "source": [
    "fig1 = visualize.plot_path_pressure(CUBES_TEST.uh1d, TEST_GRAPH, [0, 1, 3, 7])\n",
    "fig1.show()"
   ]
  },
  {
   "cell_type": "code",
   "execution_count": 26,
   "metadata": {
    "id": "exEzfngnqWmq",
    "outputId": "6efd8f19-2fcc-49f4-dde5-387288127b4a"
   },
   "outputs": [
    {
     "data": {
      "application/vnd.plotly.v1+json": {
       "config": {
        "plotlyServerURL": "https://plot.ly"
       },
       "data": [
        {
         "marker": {
          "color": [
           13332.200000000006,
           13331.756870848321,
           13331.707314000576,
           13331.705725617927,
           13331.694577076241,
           13331.696066231209,
           13331.706245480886,
           13331.705118583466,
           13331.847444894667,
           13331.718930467396,
           13331.71970147182,
           13331.698277099651,
           13331.704492904306,
           13331.70356245841,
           13331.706051197385,
           13331.95617160484,
           13331.788335413947,
           13331.732395274843,
           13331.710275974381,
           13331.733313912913,
           13331.711115006628,
           13331.702262759143,
           13331.697969107787,
           13331.705121781615,
           13331.705827695818,
           13331.705945172227,
           13331.701308015152,
           13331.70320552537,
           13331.704873638275,
           13332.07719380901,
           13331.88761896703,
           13331.770497284044,
           13331.80710141804,
           13331.741508921059,
           13331.725442946552,
           13331.708333010503,
           13331.714023263225,
           13331.742410842697,
           13331.72588338261,
           13331.708039571078,
           13331.714458944003,
           13331.70442933409,
           13331.699541783853,
           13331.69695501244,
           13331.69782560802,
           13331.705299197898,
           13331.704983338008,
           13331.705862430896,
           13331.704614372613,
           13331.705902192383,
           13331.704971676772,
           13331.698600130076,
           13331.702440446907,
           13331.703841127492,
           13331.705228426568,
           13331.704958844779,
           13331.705239920862
          ],
          "colorbar": {
           "title": {
            "text": "1D Pressure (Pa)"
           }
          },
          "colorscale": [
           [
            0,
            "#440154"
           ],
           [
            0.1111111111111111,
            "#482878"
           ],
           [
            0.2222222222222222,
            "#3e4989"
           ],
           [
            0.3333333333333333,
            "#31688e"
           ],
           [
            0.4444444444444444,
            "#26828e"
           ],
           [
            0.5555555555555556,
            "#1f9e89"
           ],
           [
            0.6666666666666666,
            "#35b779"
           ],
           [
            0.7777777777777778,
            "#6ece58"
           ],
           [
            0.8888888888888888,
            "#b5de2b"
           ],
           [
            1,
            "#fde725"
           ]
          ],
          "opacity": 0.8,
          "size": 4
         },
         "mode": "markers",
         "name": "1D Pressure",
         "text": [
          "(0.00, 0.02, 0.01)<br>P: 1.33e+04",
          "(0.01, 0.02, 0.01)<br>P: 1.33e+04",
          "(0.02, 0.01, 0.01)<br>P: 1.33e+04",
          "(0.02, 0.03, 0.01)<br>P: 1.33e+04",
          "(0.01, 0.01, 0.01)<br>P: 1.33e+04",
          "(0.01, 0.04, 0.01)<br>P: 1.33e+04",
          "(0.04, 0.01, 0.01)<br>P: 1.33e+04",
          "(0.04, 0.04, 0.01)<br>P: 1.33e+04",
          "(0.01, 0.02, 0.01)<br>P: 1.33e+04",
          "(0.02, 0.02, 0.01)<br>P: 1.33e+04",
          "(0.02, 0.02, 0.01)<br>P: 1.33e+04",
          "(0.02, 0.01, 0.01)<br>P: 1.33e+04",
          "(0.03, 0.01, 0.01)<br>P: 1.33e+04",
          "(0.02, 0.03, 0.01)<br>P: 1.33e+04",
          "(0.03, 0.03, 0.01)<br>P: 1.33e+04",
          "(0.00, 0.02, 0.01)<br>P: 1.33e+04",
          "(0.01, 0.02, 0.01)<br>P: 1.33e+04",
          "(0.01, 0.02, 0.01)<br>P: 1.33e+04",
          "(0.02, 0.01, 0.01)<br>P: 1.33e+04",
          "(0.01, 0.02, 0.01)<br>P: 1.33e+04",
          "(0.02, 0.03, 0.01)<br>P: 1.33e+04",
          "(0.02, 0.01, 0.01)<br>P: 1.33e+04",
          "(0.02, 0.01, 0.01)<br>P: 1.33e+04",
          "(0.03, 0.01, 0.01)<br>P: 1.33e+04",
          "(0.03, 0.01, 0.01)<br>P: 1.33e+04",
          "(0.02, 0.03, 0.01)<br>P: 1.33e+04",
          "(0.02, 0.03, 0.01)<br>P: 1.33e+04",
          "(0.03, 0.03, 0.01)<br>P: 1.33e+04",
          "(0.03, 0.03, 0.01)<br>P: 1.33e+04",
          "(0.00, 0.02, 0.01)<br>P: 1.33e+04",
          "(0.00, 0.02, 0.01)<br>P: 1.33e+04",
          "(0.01, 0.02, 0.01)<br>P: 1.33e+04",
          "(0.01, 0.02, 0.01)<br>P: 1.33e+04",
          "(0.01, 0.02, 0.01)<br>P: 1.33e+04",
          "(0.01, 0.02, 0.01)<br>P: 1.33e+04",
          "(0.02, 0.01, 0.01)<br>P: 1.33e+04",
          "(0.02, 0.02, 0.01)<br>P: 1.33e+04",
          "(0.01, 0.02, 0.01)<br>P: 1.33e+04",
          "(0.01, 0.02, 0.01)<br>P: 1.33e+04",
          "(0.02, 0.03, 0.01)<br>P: 1.33e+04",
          "(0.02, 0.03, 0.01)<br>P: 1.33e+04",
          "(0.02, 0.01, 0.01)<br>P: 1.33e+04",
          "(0.02, 0.01, 0.01)<br>P: 1.33e+04",
          "(0.02, 0.01, 0.01)<br>P: 1.33e+04",
          "(0.02, 0.01, 0.01)<br>P: 1.33e+04",
          "(0.02, 0.01, 0.01)<br>P: 1.33e+04",
          "(0.03, 0.01, 0.01)<br>P: 1.33e+04",
          "(0.04, 0.01, 0.01)<br>P: 1.33e+04",
          "(0.03, 0.01, 0.01)<br>P: 1.33e+04",
          "(0.02, 0.03, 0.01)<br>P: 1.33e+04",
          "(0.02, 0.03, 0.01)<br>P: 1.33e+04",
          "(0.02, 0.03, 0.01)<br>P: 1.33e+04",
          "(0.02, 0.03, 0.01)<br>P: 1.33e+04",
          "(0.02, 0.03, 0.01)<br>P: 1.33e+04",
          "(0.03, 0.03, 0.01)<br>P: 1.33e+04",
          "(0.04, 0.03, 0.01)<br>P: 1.33e+04",
          "(0.03, 0.03, 0.01)<br>P: 1.33e+04"
         ],
         "textposition": "top center",
         "type": "scatter3d",
         "x": [
          0,
          0.01,
          0.022,
          0.022,
          0.015,
          0.015,
          0.038,
          0.038,
          0.005,
          0.016,
          0.016,
          0.0185,
          0.03,
          0.0185,
          0.03,
          0.0025,
          0.0075,
          0.013000000000000001,
          0.019,
          0.013000000000000001,
          0.019,
          0.020249999999999997,
          0.01675,
          0.026,
          0.034,
          0.020249999999999997,
          0.01675,
          0.026,
          0.034,
          0.00125,
          0.00375,
          0.00875,
          0.00625,
          0.0115,
          0.0145,
          0.020499999999999997,
          0.0175,
          0.0115,
          0.0145,
          0.020499999999999997,
          0.0175,
          0.021124999999999998,
          0.019374999999999996,
          0.015875,
          0.017625000000000002,
          0.024,
          0.027999999999999997,
          0.036000000000000004,
          0.032,
          0.021124999999999998,
          0.019374999999999996,
          0.015875,
          0.017625000000000002,
          0.024,
          0.027999999999999997,
          0.036000000000000004,
          0.032
         ],
         "y": [
          0.02,
          0.02,
          0.013,
          0.028,
          0.005,
          0.035,
          0.005,
          0.035,
          0.02,
          0.0165,
          0.024,
          0.009,
          0.009,
          0.0315,
          0.0315,
          0.02,
          0.02,
          0.018250000000000002,
          0.01475,
          0.022,
          0.026000000000000002,
          0.011,
          0.006999999999999999,
          0.011,
          0.006999999999999999,
          0.02975,
          0.03325,
          0.02975,
          0.03325,
          0.02,
          0.02,
          0.02,
          0.02,
          0.019125000000000003,
          0.017375,
          0.013874999999999998,
          0.015625,
          0.020999999999999998,
          0.023,
          0.027000000000000003,
          0.025,
          0.012,
          0.009999999999999998,
          0.006,
          0.008,
          0.012,
          0.009999999999999998,
          0.006,
          0.008,
          0.028874999999999998,
          0.030625,
          0.034125,
          0.032375,
          0.028874999999999998,
          0.030625,
          0.034125,
          0.032375
         ],
         "z": [
          0.015,
          0.015,
          0.015,
          0.015,
          0.015,
          0.015,
          0.015,
          0.015,
          0.015,
          0.015,
          0.015,
          0.015,
          0.015,
          0.015,
          0.015,
          0.015,
          0.015,
          0.015,
          0.015,
          0.015,
          0.015,
          0.015,
          0.015,
          0.015,
          0.015,
          0.015,
          0.015,
          0.015,
          0.015,
          0.015,
          0.015,
          0.015,
          0.015,
          0.015,
          0.015,
          0.015,
          0.015,
          0.015,
          0.015,
          0.015,
          0.015,
          0.015,
          0.015,
          0.015,
          0.015,
          0.015,
          0.015,
          0.015,
          0.015,
          0.015,
          0.015,
          0.015,
          0.015,
          0.015,
          0.015,
          0.015,
          0.015
         ]
        },
        {
         "line": {
          "color": "red",
          "width": 4
         },
         "mode": "lines",
         "name": "Omega Boundary",
         "type": "scatter3d",
         "x": [
          0,
          0.05,
          null,
          0.05,
          0.05,
          null,
          0.05,
          0,
          null,
          0,
          0,
          null,
          0,
          0.05,
          null,
          0.05,
          0.05,
          null,
          0.05,
          0,
          null,
          0,
          0,
          null,
          0,
          0,
          null,
          0.05,
          0.05,
          null,
          0.05,
          0.05,
          null,
          0,
          0,
          null
         ],
         "y": [
          0,
          0,
          null,
          0,
          0.04,
          null,
          0.04,
          0.04,
          null,
          0.04,
          0,
          null,
          0,
          0,
          null,
          0,
          0.04,
          null,
          0.04,
          0.04,
          null,
          0.04,
          0,
          null,
          0,
          0,
          null,
          0,
          0,
          null,
          0.04,
          0.04,
          null,
          0.04,
          0.04,
          null
         ],
         "z": [
          0,
          0,
          null,
          0,
          0,
          null,
          0,
          0,
          null,
          0,
          0,
          null,
          0.03,
          0.03,
          null,
          0.03,
          0.03,
          null,
          0.03,
          0.03,
          null,
          0.03,
          0.03,
          null,
          0,
          0.03,
          null,
          0,
          0.03,
          null,
          0,
          0.03,
          null,
          0,
          0.03,
          null
         ]
        },
        {
         "line": {
          "color": "blue",
          "width": 4
         },
         "mode": "lines",
         "name": "Sub-mesh Boundary",
         "type": "scatter3d",
         "x": [
          0,
          0.038,
          null,
          0.038,
          0.038,
          null,
          0.038,
          0,
          null,
          0,
          0,
          null,
          0,
          0.038,
          null,
          0.038,
          0.038,
          null,
          0.038,
          0,
          null,
          0,
          0,
          null,
          0,
          0,
          null,
          0.038,
          0.038,
          null,
          0.038,
          0.038,
          null,
          0,
          0,
          null
         ],
         "y": [
          0.005,
          0.005,
          null,
          0.005,
          0.035,
          null,
          0.035,
          0.035,
          null,
          0.035,
          0.005,
          null,
          0.005,
          0.005,
          null,
          0.005,
          0.035,
          null,
          0.035,
          0.035,
          null,
          0.035,
          0.005,
          null,
          0.005,
          0.005,
          null,
          0.005,
          0.005,
          null,
          0.035,
          0.035,
          null,
          0.035,
          0.035,
          null
         ],
         "z": [
          0.015,
          0.015,
          null,
          0.015,
          0.015,
          null,
          0.015,
          0.015,
          null,
          0.015,
          0.015,
          null,
          0.015,
          0.015,
          null,
          0.015,
          0.015,
          null,
          0.015,
          0.015,
          null,
          0.015,
          0.015,
          null,
          0.015,
          0.015,
          null,
          0.015,
          0.015,
          null,
          0.015,
          0.015,
          null,
          0.015,
          0.015,
          null
         ]
        },
        {
         "line": {
          "color": "green",
          "width": 4
         },
         "mode": "lines",
         "name": "Lower Cube Subdomain",
         "type": "scatter3d",
         "x": [
          0,
          0.01,
          null,
          0.01,
          0.01,
          null,
          0.01,
          0,
          null,
          0,
          0,
          null,
          0,
          0.01,
          null,
          0.01,
          0.01,
          null,
          0.01,
          0,
          null,
          0,
          0,
          null,
          0,
          0,
          null,
          0.01,
          0.01,
          null,
          0.01,
          0.01,
          null,
          0,
          0,
          null
         ],
         "y": [
          0,
          0,
          null,
          0,
          0.01,
          null,
          0.01,
          0.01,
          null,
          0.01,
          0,
          null,
          0,
          0,
          null,
          0,
          0.01,
          null,
          0.01,
          0.01,
          null,
          0.01,
          0,
          null,
          0,
          0,
          null,
          0,
          0,
          null,
          0.01,
          0.01,
          null,
          0.01,
          0.01,
          null
         ],
         "z": [
          0,
          0,
          null,
          0,
          0,
          null,
          0,
          0,
          null,
          0,
          0,
          null,
          0.01,
          0.01,
          null,
          0.01,
          0.01,
          null,
          0.01,
          0.01,
          null,
          0.01,
          0.01,
          null,
          0,
          0.01,
          null,
          0,
          0.01,
          null,
          0,
          0.01,
          null,
          0,
          0.01,
          null
         ]
        },
        {
         "line": {
          "color": "magenta",
          "width": 4
         },
         "mode": "lines",
         "name": "Upper Cube Subdomain",
         "type": "scatter3d",
         "x": [
          0.033,
          0.043,
          null,
          0.043,
          0.043,
          null,
          0.043,
          0.033,
          null,
          0.033,
          0.033,
          null,
          0.033,
          0.043,
          null,
          0.043,
          0.043,
          null,
          0.043,
          0.033,
          null,
          0.033,
          0.033,
          null,
          0.033,
          0.033,
          null,
          0.043,
          0.043,
          null,
          0.043,
          0.043,
          null,
          0.033,
          0.033,
          null
         ],
         "y": [
          0.030000000000000002,
          0.030000000000000002,
          null,
          0.030000000000000002,
          0.04,
          null,
          0.04,
          0.04,
          null,
          0.04,
          0.030000000000000002,
          null,
          0.030000000000000002,
          0.030000000000000002,
          null,
          0.030000000000000002,
          0.04,
          null,
          0.04,
          0.04,
          null,
          0.04,
          0.030000000000000002,
          null,
          0.030000000000000002,
          0.030000000000000002,
          null,
          0.030000000000000002,
          0.030000000000000002,
          null,
          0.04,
          0.04,
          null,
          0.04,
          0.04,
          null
         ],
         "z": [
          0.009999999999999998,
          0.009999999999999998,
          null,
          0.009999999999999998,
          0.009999999999999998,
          null,
          0.009999999999999998,
          0.009999999999999998,
          null,
          0.009999999999999998,
          0.009999999999999998,
          null,
          0.02,
          0.02,
          null,
          0.02,
          0.02,
          null,
          0.02,
          0.02,
          null,
          0.02,
          0.02,
          null,
          0.009999999999999998,
          0.02,
          null,
          0.009999999999999998,
          0.02,
          null,
          0.009999999999999998,
          0.02,
          null,
          0.009999999999999998,
          0.02,
          null
         ]
        }
       ],
       "layout": {
        "height": 700,
        "margin": {
         "b": 0,
         "l": 0,
         "r": 0,
         "t": 40
        },
        "scene": {
         "aspectmode": "data",
         "xaxis": {
          "title": {
           "text": "X"
          }
         },
         "yaxis": {
          "title": {
           "text": "Y"
          }
         },
         "zaxis": {
          "title": {
           "text": "Z"
          }
         }
        },
        "template": {
         "data": {
          "bar": [
           {
            "error_x": {
             "color": "#2a3f5f"
            },
            "error_y": {
             "color": "#2a3f5f"
            },
            "marker": {
             "line": {
              "color": "#E5ECF6",
              "width": 0.5
             },
             "pattern": {
              "fillmode": "overlay",
              "size": 10,
              "solidity": 0.2
             }
            },
            "type": "bar"
           }
          ],
          "barpolar": [
           {
            "marker": {
             "line": {
              "color": "#E5ECF6",
              "width": 0.5
             },
             "pattern": {
              "fillmode": "overlay",
              "size": 10,
              "solidity": 0.2
             }
            },
            "type": "barpolar"
           }
          ],
          "carpet": [
           {
            "aaxis": {
             "endlinecolor": "#2a3f5f",
             "gridcolor": "white",
             "linecolor": "white",
             "minorgridcolor": "white",
             "startlinecolor": "#2a3f5f"
            },
            "baxis": {
             "endlinecolor": "#2a3f5f",
             "gridcolor": "white",
             "linecolor": "white",
             "minorgridcolor": "white",
             "startlinecolor": "#2a3f5f"
            },
            "type": "carpet"
           }
          ],
          "choropleth": [
           {
            "colorbar": {
             "outlinewidth": 0,
             "ticks": ""
            },
            "type": "choropleth"
           }
          ],
          "contour": [
           {
            "colorbar": {
             "outlinewidth": 0,
             "ticks": ""
            },
            "colorscale": [
             [
              0,
              "#0d0887"
             ],
             [
              0.1111111111111111,
              "#46039f"
             ],
             [
              0.2222222222222222,
              "#7201a8"
             ],
             [
              0.3333333333333333,
              "#9c179e"
             ],
             [
              0.4444444444444444,
              "#bd3786"
             ],
             [
              0.5555555555555556,
              "#d8576b"
             ],
             [
              0.6666666666666666,
              "#ed7953"
             ],
             [
              0.7777777777777778,
              "#fb9f3a"
             ],
             [
              0.8888888888888888,
              "#fdca26"
             ],
             [
              1,
              "#f0f921"
             ]
            ],
            "type": "contour"
           }
          ],
          "contourcarpet": [
           {
            "colorbar": {
             "outlinewidth": 0,
             "ticks": ""
            },
            "type": "contourcarpet"
           }
          ],
          "heatmap": [
           {
            "colorbar": {
             "outlinewidth": 0,
             "ticks": ""
            },
            "colorscale": [
             [
              0,
              "#0d0887"
             ],
             [
              0.1111111111111111,
              "#46039f"
             ],
             [
              0.2222222222222222,
              "#7201a8"
             ],
             [
              0.3333333333333333,
              "#9c179e"
             ],
             [
              0.4444444444444444,
              "#bd3786"
             ],
             [
              0.5555555555555556,
              "#d8576b"
             ],
             [
              0.6666666666666666,
              "#ed7953"
             ],
             [
              0.7777777777777778,
              "#fb9f3a"
             ],
             [
              0.8888888888888888,
              "#fdca26"
             ],
             [
              1,
              "#f0f921"
             ]
            ],
            "type": "heatmap"
           }
          ],
          "heatmapgl": [
           {
            "colorbar": {
             "outlinewidth": 0,
             "ticks": ""
            },
            "colorscale": [
             [
              0,
              "#0d0887"
             ],
             [
              0.1111111111111111,
              "#46039f"
             ],
             [
              0.2222222222222222,
              "#7201a8"
             ],
             [
              0.3333333333333333,
              "#9c179e"
             ],
             [
              0.4444444444444444,
              "#bd3786"
             ],
             [
              0.5555555555555556,
              "#d8576b"
             ],
             [
              0.6666666666666666,
              "#ed7953"
             ],
             [
              0.7777777777777778,
              "#fb9f3a"
             ],
             [
              0.8888888888888888,
              "#fdca26"
             ],
             [
              1,
              "#f0f921"
             ]
            ],
            "type": "heatmapgl"
           }
          ],
          "histogram": [
           {
            "marker": {
             "pattern": {
              "fillmode": "overlay",
              "size": 10,
              "solidity": 0.2
             }
            },
            "type": "histogram"
           }
          ],
          "histogram2d": [
           {
            "colorbar": {
             "outlinewidth": 0,
             "ticks": ""
            },
            "colorscale": [
             [
              0,
              "#0d0887"
             ],
             [
              0.1111111111111111,
              "#46039f"
             ],
             [
              0.2222222222222222,
              "#7201a8"
             ],
             [
              0.3333333333333333,
              "#9c179e"
             ],
             [
              0.4444444444444444,
              "#bd3786"
             ],
             [
              0.5555555555555556,
              "#d8576b"
             ],
             [
              0.6666666666666666,
              "#ed7953"
             ],
             [
              0.7777777777777778,
              "#fb9f3a"
             ],
             [
              0.8888888888888888,
              "#fdca26"
             ],
             [
              1,
              "#f0f921"
             ]
            ],
            "type": "histogram2d"
           }
          ],
          "histogram2dcontour": [
           {
            "colorbar": {
             "outlinewidth": 0,
             "ticks": ""
            },
            "colorscale": [
             [
              0,
              "#0d0887"
             ],
             [
              0.1111111111111111,
              "#46039f"
             ],
             [
              0.2222222222222222,
              "#7201a8"
             ],
             [
              0.3333333333333333,
              "#9c179e"
             ],
             [
              0.4444444444444444,
              "#bd3786"
             ],
             [
              0.5555555555555556,
              "#d8576b"
             ],
             [
              0.6666666666666666,
              "#ed7953"
             ],
             [
              0.7777777777777778,
              "#fb9f3a"
             ],
             [
              0.8888888888888888,
              "#fdca26"
             ],
             [
              1,
              "#f0f921"
             ]
            ],
            "type": "histogram2dcontour"
           }
          ],
          "mesh3d": [
           {
            "colorbar": {
             "outlinewidth": 0,
             "ticks": ""
            },
            "type": "mesh3d"
           }
          ],
          "parcoords": [
           {
            "line": {
             "colorbar": {
              "outlinewidth": 0,
              "ticks": ""
             }
            },
            "type": "parcoords"
           }
          ],
          "pie": [
           {
            "automargin": true,
            "type": "pie"
           }
          ],
          "scatter": [
           {
            "fillpattern": {
             "fillmode": "overlay",
             "size": 10,
             "solidity": 0.2
            },
            "type": "scatter"
           }
          ],
          "scatter3d": [
           {
            "line": {
             "colorbar": {
              "outlinewidth": 0,
              "ticks": ""
             }
            },
            "marker": {
             "colorbar": {
              "outlinewidth": 0,
              "ticks": ""
             }
            },
            "type": "scatter3d"
           }
          ],
          "scattercarpet": [
           {
            "marker": {
             "colorbar": {
              "outlinewidth": 0,
              "ticks": ""
             }
            },
            "type": "scattercarpet"
           }
          ],
          "scattergeo": [
           {
            "marker": {
             "colorbar": {
              "outlinewidth": 0,
              "ticks": ""
             }
            },
            "type": "scattergeo"
           }
          ],
          "scattergl": [
           {
            "marker": {
             "colorbar": {
              "outlinewidth": 0,
              "ticks": ""
             }
            },
            "type": "scattergl"
           }
          ],
          "scattermapbox": [
           {
            "marker": {
             "colorbar": {
              "outlinewidth": 0,
              "ticks": ""
             }
            },
            "type": "scattermapbox"
           }
          ],
          "scatterpolar": [
           {
            "marker": {
             "colorbar": {
              "outlinewidth": 0,
              "ticks": ""
             }
            },
            "type": "scatterpolar"
           }
          ],
          "scatterpolargl": [
           {
            "marker": {
             "colorbar": {
              "outlinewidth": 0,
              "ticks": ""
             }
            },
            "type": "scatterpolargl"
           }
          ],
          "scatterternary": [
           {
            "marker": {
             "colorbar": {
              "outlinewidth": 0,
              "ticks": ""
             }
            },
            "type": "scatterternary"
           }
          ],
          "surface": [
           {
            "colorbar": {
             "outlinewidth": 0,
             "ticks": ""
            },
            "colorscale": [
             [
              0,
              "#0d0887"
             ],
             [
              0.1111111111111111,
              "#46039f"
             ],
             [
              0.2222222222222222,
              "#7201a8"
             ],
             [
              0.3333333333333333,
              "#9c179e"
             ],
             [
              0.4444444444444444,
              "#bd3786"
             ],
             [
              0.5555555555555556,
              "#d8576b"
             ],
             [
              0.6666666666666666,
              "#ed7953"
             ],
             [
              0.7777777777777778,
              "#fb9f3a"
             ],
             [
              0.8888888888888888,
              "#fdca26"
             ],
             [
              1,
              "#f0f921"
             ]
            ],
            "type": "surface"
           }
          ],
          "table": [
           {
            "cells": {
             "fill": {
              "color": "#EBF0F8"
             },
             "line": {
              "color": "white"
             }
            },
            "header": {
             "fill": {
              "color": "#C8D4E3"
             },
             "line": {
              "color": "white"
             }
            },
            "type": "table"
           }
          ]
         },
         "layout": {
          "annotationdefaults": {
           "arrowcolor": "#2a3f5f",
           "arrowhead": 0,
           "arrowwidth": 1
          },
          "autotypenumbers": "strict",
          "coloraxis": {
           "colorbar": {
            "outlinewidth": 0,
            "ticks": ""
           }
          },
          "colorscale": {
           "diverging": [
            [
             0,
             "#8e0152"
            ],
            [
             0.1,
             "#c51b7d"
            ],
            [
             0.2,
             "#de77ae"
            ],
            [
             0.3,
             "#f1b6da"
            ],
            [
             0.4,
             "#fde0ef"
            ],
            [
             0.5,
             "#f7f7f7"
            ],
            [
             0.6,
             "#e6f5d0"
            ],
            [
             0.7,
             "#b8e186"
            ],
            [
             0.8,
             "#7fbc41"
            ],
            [
             0.9,
             "#4d9221"
            ],
            [
             1,
             "#276419"
            ]
           ],
           "sequential": [
            [
             0,
             "#0d0887"
            ],
            [
             0.1111111111111111,
             "#46039f"
            ],
            [
             0.2222222222222222,
             "#7201a8"
            ],
            [
             0.3333333333333333,
             "#9c179e"
            ],
            [
             0.4444444444444444,
             "#bd3786"
            ],
            [
             0.5555555555555556,
             "#d8576b"
            ],
            [
             0.6666666666666666,
             "#ed7953"
            ],
            [
             0.7777777777777778,
             "#fb9f3a"
            ],
            [
             0.8888888888888888,
             "#fdca26"
            ],
            [
             1,
             "#f0f921"
            ]
           ],
           "sequentialminus": [
            [
             0,
             "#0d0887"
            ],
            [
             0.1111111111111111,
             "#46039f"
            ],
            [
             0.2222222222222222,
             "#7201a8"
            ],
            [
             0.3333333333333333,
             "#9c179e"
            ],
            [
             0.4444444444444444,
             "#bd3786"
            ],
            [
             0.5555555555555556,
             "#d8576b"
            ],
            [
             0.6666666666666666,
             "#ed7953"
            ],
            [
             0.7777777777777778,
             "#fb9f3a"
            ],
            [
             0.8888888888888888,
             "#fdca26"
            ],
            [
             1,
             "#f0f921"
            ]
           ]
          },
          "colorway": [
           "#636efa",
           "#EF553B",
           "#00cc96",
           "#ab63fa",
           "#FFA15A",
           "#19d3f3",
           "#FF6692",
           "#B6E880",
           "#FF97FF",
           "#FECB52"
          ],
          "font": {
           "color": "#2a3f5f"
          },
          "geo": {
           "bgcolor": "white",
           "lakecolor": "white",
           "landcolor": "#E5ECF6",
           "showlakes": true,
           "showland": true,
           "subunitcolor": "white"
          },
          "hoverlabel": {
           "align": "left"
          },
          "hovermode": "closest",
          "mapbox": {
           "style": "light"
          },
          "paper_bgcolor": "white",
          "plot_bgcolor": "#E5ECF6",
          "polar": {
           "angularaxis": {
            "gridcolor": "white",
            "linecolor": "white",
            "ticks": ""
           },
           "bgcolor": "#E5ECF6",
           "radialaxis": {
            "gridcolor": "white",
            "linecolor": "white",
            "ticks": ""
           }
          },
          "scene": {
           "xaxis": {
            "backgroundcolor": "#E5ECF6",
            "gridcolor": "white",
            "gridwidth": 2,
            "linecolor": "white",
            "showbackground": true,
            "ticks": "",
            "zerolinecolor": "white"
           },
           "yaxis": {
            "backgroundcolor": "#E5ECF6",
            "gridcolor": "white",
            "gridwidth": 2,
            "linecolor": "white",
            "showbackground": true,
            "ticks": "",
            "zerolinecolor": "white"
           },
           "zaxis": {
            "backgroundcolor": "#E5ECF6",
            "gridcolor": "white",
            "gridwidth": 2,
            "linecolor": "white",
            "showbackground": true,
            "ticks": "",
            "zerolinecolor": "white"
           }
          },
          "shapedefaults": {
           "line": {
            "color": "#2a3f5f"
           }
          },
          "ternary": {
           "aaxis": {
            "gridcolor": "white",
            "linecolor": "white",
            "ticks": ""
           },
           "baxis": {
            "gridcolor": "white",
            "linecolor": "white",
            "ticks": ""
           },
           "bgcolor": "#E5ECF6",
           "caxis": {
            "gridcolor": "white",
            "linecolor": "white",
            "ticks": ""
           }
          },
          "title": {
           "x": 0.05
          },
          "xaxis": {
           "automargin": true,
           "gridcolor": "white",
           "linecolor": "white",
           "ticks": "",
           "title": {
            "standoff": 15
           },
           "zerolinecolor": "white",
           "zerolinewidth": 2
          },
          "yaxis": {
           "automargin": true,
           "gridcolor": "white",
           "linecolor": "white",
           "ticks": "",
           "title": {
            "standoff": 15
           },
           "zerolinecolor": "white",
           "zerolinewidth": 2
          }
         }
        },
        "title": {
         "text": "1D Pressure Scatter with Boundaries"
        },
        "width": 1000
       }
      },
      "image/png": "[encoded data removed]",
      "text/html": [
       "<div>                            <div id=\"ffe34bed-e634-4ebd-9d8c-a42acc54c2e3\" class=\"plotly-graph-div\" style=\"height:700px; width:1000px;\"></div>            <script type=\"text/javascript\">                require([\"plotly\"], function(Plotly) {                    window.PLOTLYENV=window.PLOTLYENV || {};                                    if (document.getElementById(\"ffe34bed-e634-4ebd-9d8c-a42acc54c2e3\")) {                    Plotly.newPlot(                        \"ffe34bed-e634-4ebd-9d8c-a42acc54c2e3\",                        [{\"marker\":{\"color\":[13332.200000000006,13331.756870848321,13331.707314000576,13331.705725617927,13331.694577076241,13331.696066231209,13331.706245480886,13331.705118583466,13331.847444894667,13331.718930467396,13331.71970147182,13331.698277099651,13331.704492904306,13331.70356245841,13331.706051197385,13331.95617160484,13331.788335413947,13331.732395274843,13331.710275974381,13331.733313912913,13331.711115006628,13331.702262759143,13331.697969107787,13331.705121781615,13331.705827695818,13331.705945172227,13331.701308015152,13331.70320552537,13331.704873638275,13332.07719380901,13331.88761896703,13331.770497284044,13331.80710141804,13331.741508921059,13331.725442946552,13331.708333010503,13331.714023263225,13331.742410842697,13331.72588338261,13331.708039571078,13331.714458944003,13331.70442933409,13331.699541783853,13331.69695501244,13331.69782560802,13331.705299197898,13331.704983338008,13331.705862430896,13331.704614372613,13331.705902192383,13331.704971676772,13331.698600130076,13331.702440446907,13331.703841127492,13331.705228426568,13331.704958844779,13331.705239920862],\"colorbar\":{\"title\":{\"text\":\"1D Pressure (Pa)\"}},\"colorscale\":[[0.0,\"#440154\"],[0.1111111111111111,\"#482878\"],[0.2222222222222222,\"#3e4989\"],[0.3333333333333333,\"#31688e\"],[0.4444444444444444,\"#26828e\"],[0.5555555555555556,\"#1f9e89\"],[0.6666666666666666,\"#35b779\"],[0.7777777777777778,\"#6ece58\"],[0.8888888888888888,\"#b5de2b\"],[1.0,\"#fde725\"]],\"opacity\":0.8,\"size\":4},\"mode\":\"markers\",\"name\":\"1D Pressure\",\"text\":[\"(0.00, 0.02, 0.01)\\u003cbr\\u003eP: 1.33e+04\",\"(0.01, 0.02, 0.01)\\u003cbr\\u003eP: 1.33e+04\",\"(0.02, 0.01, 0.01)\\u003cbr\\u003eP: 1.33e+04\",\"(0.02, 0.03, 0.01)\\u003cbr\\u003eP: 1.33e+04\",\"(0.01, 0.01, 0.01)\\u003cbr\\u003eP: 1.33e+04\",\"(0.01, 0.04, 0.01)\\u003cbr\\u003eP: 1.33e+04\",\"(0.04, 0.01, 0.01)\\u003cbr\\u003eP: 1.33e+04\",\"(0.04, 0.04, 0.01)\\u003cbr\\u003eP: 1.33e+04\",\"(0.01, 0.02, 0.01)\\u003cbr\\u003eP: 1.33e+04\",\"(0.02, 0.02, 0.01)\\u003cbr\\u003eP: 1.33e+04\",\"(0.02, 0.02, 0.01)\\u003cbr\\u003eP: 1.33e+04\",\"(0.02, 0.01, 0.01)\\u003cbr\\u003eP: 1.33e+04\",\"(0.03, 0.01, 0.01)\\u003cbr\\u003eP: 1.33e+04\",\"(0.02, 0.03, 0.01)\\u003cbr\\u003eP: 1.33e+04\",\"(0.03, 0.03, 0.01)\\u003cbr\\u003eP: 1.33e+04\",\"(0.00, 0.02, 0.01)\\u003cbr\\u003eP: 1.33e+04\",\"(0.01, 0.02, 0.01)\\u003cbr\\u003eP: 1.33e+04\",\"(0.01, 0.02, 0.01)\\u003cbr\\u003eP: 1.33e+04\",\"(0.02, 0.01, 0.01)\\u003cbr\\u003eP: 1.33e+04\",\"(0.01, 0.02, 0.01)\\u003cbr\\u003eP: 1.33e+04\",\"(0.02, 0.03, 0.01)\\u003cbr\\u003eP: 1.33e+04\",\"(0.02, 0.01, 0.01)\\u003cbr\\u003eP: 1.33e+04\",\"(0.02, 0.01, 0.01)\\u003cbr\\u003eP: 1.33e+04\",\"(0.03, 0.01, 0.01)\\u003cbr\\u003eP: 1.33e+04\",\"(0.03, 0.01, 0.01)\\u003cbr\\u003eP: 1.33e+04\",\"(0.02, 0.03, 0.01)\\u003cbr\\u003eP: 1.33e+04\",\"(0.02, 0.03, 0.01)\\u003cbr\\u003eP: 1.33e+04\",\"(0.03, 0.03, 0.01)\\u003cbr\\u003eP: 1.33e+04\",\"(0.03, 0.03, 0.01)\\u003cbr\\u003eP: 1.33e+04\",\"(0.00, 0.02, 0.01)\\u003cbr\\u003eP: 1.33e+04\",\"(0.00, 0.02, 0.01)\\u003cbr\\u003eP: 1.33e+04\",\"(0.01, 0.02, 0.01)\\u003cbr\\u003eP: 1.33e+04\",\"(0.01, 0.02, 0.01)\\u003cbr\\u003eP: 1.33e+04\",\"(0.01, 0.02, 0.01)\\u003cbr\\u003eP: 1.33e+04\",\"(0.01, 0.02, 0.01)\\u003cbr\\u003eP: 1.33e+04\",\"(0.02, 0.01, 0.01)\\u003cbr\\u003eP: 1.33e+04\",\"(0.02, 0.02, 0.01)\\u003cbr\\u003eP: 1.33e+04\",\"(0.01, 0.02, 0.01)\\u003cbr\\u003eP: 1.33e+04\",\"(0.01, 0.02, 0.01)\\u003cbr\\u003eP: 1.33e+04\",\"(0.02, 0.03, 0.01)\\u003cbr\\u003eP: 1.33e+04\",\"(0.02, 0.03, 0.01)\\u003cbr\\u003eP: 1.33e+04\",\"(0.02, 0.01, 0.01)\\u003cbr\\u003eP: 1.33e+04\",\"(0.02, 0.01, 0.01)\\u003cbr\\u003eP: 1.33e+04\",\"(0.02, 0.01, 0.01)\\u003cbr\\u003eP: 1.33e+04\",\"(0.02, 0.01, 0.01)\\u003cbr\\u003eP: 1.33e+04\",\"(0.02, 0.01, 0.01)\\u003cbr\\u003eP: 1.33e+04\",\"(0.03, 0.01, 0.01)\\u003cbr\\u003eP: 1.33e+04\",\"(0.04, 0.01, 0.01)\\u003cbr\\u003eP: 1.33e+04\",\"(0.03, 0.01, 0.01)\\u003cbr\\u003eP: 1.33e+04\",\"(0.02, 0.03, 0.01)\\u003cbr\\u003eP: 1.33e+04\",\"(0.02, 0.03, 0.01)\\u003cbr\\u003eP: 1.33e+04\",\"(0.02, 0.03, 0.01)\\u003cbr\\u003eP: 1.33e+04\",\"(0.02, 0.03, 0.01)\\u003cbr\\u003eP: 1.33e+04\",\"(0.02, 0.03, 0.01)\\u003cbr\\u003eP: 1.33e+04\",\"(0.03, 0.03, 0.01)\\u003cbr\\u003eP: 1.33e+04\",\"(0.04, 0.03, 0.01)\\u003cbr\\u003eP: 1.33e+04\",\"(0.03, 0.03, 0.01)\\u003cbr\\u003eP: 1.33e+04\"],\"textposition\":\"top center\",\"x\":[0.0,0.01,0.022,0.022,0.015,0.015,0.038,0.038,0.005,0.016,0.016,0.0185,0.03,0.0185,0.03,0.0025,0.0075,0.013000000000000001,0.019,0.013000000000000001,0.019,0.020249999999999997,0.01675,0.026,0.034,0.020249999999999997,0.01675,0.026,0.034,0.00125,0.00375,0.00875,0.00625,0.0115,0.0145,0.020499999999999997,0.0175,0.0115,0.0145,0.020499999999999997,0.0175,0.021124999999999998,0.019374999999999996,0.015875,0.017625000000000002,0.024,0.027999999999999997,0.036000000000000004,0.032,0.021124999999999998,0.019374999999999996,0.015875,0.017625000000000002,0.024,0.027999999999999997,0.036000000000000004,0.032],\"y\":[0.02,0.02,0.013,0.028,0.005,0.035,0.005,0.035,0.02,0.0165,0.024,0.009,0.009,0.0315,0.0315,0.02,0.02,0.018250000000000002,0.01475,0.022,0.026000000000000002,0.011,0.006999999999999999,0.011,0.006999999999999999,0.02975,0.03325,0.02975,0.03325,0.02,0.02,0.02,0.02,0.019125000000000003,0.017375,0.013874999999999998,0.015625,0.020999999999999998,0.023,0.027000000000000003,0.025,0.012,0.009999999999999998,0.006,0.008,0.012,0.009999999999999998,0.006,0.008,0.028874999999999998,0.030625,0.034125,0.032375,0.028874999999999998,0.030625,0.034125,0.032375],\"z\":[0.015,0.015,0.015,0.015,0.015,0.015,0.015,0.015,0.015,0.015,0.015,0.015,0.015,0.015,0.015,0.015,0.015,0.015,0.015,0.015,0.015,0.015,0.015,0.015,0.015,0.015,0.015,0.015,0.015,0.015,0.015,0.015,0.015,0.015,0.015,0.015,0.015,0.015,0.015,0.015,0.015,0.015,0.015,0.015,0.015,0.015,0.015,0.015,0.015,0.015,0.015,0.015,0.015,0.015,0.015,0.015,0.015],\"type\":\"scatter3d\"},{\"line\":{\"color\":\"red\",\"width\":4},\"mode\":\"lines\",\"name\":\"Omega Boundary\",\"x\":[0.0,0.05,null,0.05,0.05,null,0.05,0.0,null,0.0,0.0,null,0.0,0.05,null,0.05,0.05,null,0.05,0.0,null,0.0,0.0,null,0.0,0.0,null,0.05,0.05,null,0.05,0.05,null,0.0,0.0,null],\"y\":[0.0,0.0,null,0.0,0.04,null,0.04,0.04,null,0.04,0.0,null,0.0,0.0,null,0.0,0.04,null,0.04,0.04,null,0.04,0.0,null,0.0,0.0,null,0.0,0.0,null,0.04,0.04,null,0.04,0.04,null],\"z\":[0.0,0.0,null,0.0,0.0,null,0.0,0.0,null,0.0,0.0,null,0.03,0.03,null,0.03,0.03,null,0.03,0.03,null,0.03,0.03,null,0.0,0.03,null,0.0,0.03,null,0.0,0.03,null,0.0,0.03,null],\"type\":\"scatter3d\"},{\"line\":{\"color\":\"blue\",\"width\":4},\"mode\":\"lines\",\"name\":\"Sub-mesh Boundary\",\"x\":[0.0,0.038,null,0.038,0.038,null,0.038,0.0,null,0.0,0.0,null,0.0,0.038,null,0.038,0.038,null,0.038,0.0,null,0.0,0.0,null,0.0,0.0,null,0.038,0.038,null,0.038,0.038,null,0.0,0.0,null],\"y\":[0.005,0.005,null,0.005,0.035,null,0.035,0.035,null,0.035,0.005,null,0.005,0.005,null,0.005,0.035,null,0.035,0.035,null,0.035,0.005,null,0.005,0.005,null,0.005,0.005,null,0.035,0.035,null,0.035,0.035,null],\"z\":[0.015,0.015,null,0.015,0.015,null,0.015,0.015,null,0.015,0.015,null,0.015,0.015,null,0.015,0.015,null,0.015,0.015,null,0.015,0.015,null,0.015,0.015,null,0.015,0.015,null,0.015,0.015,null,0.015,0.015,null],\"type\":\"scatter3d\"},{\"line\":{\"color\":\"green\",\"width\":4},\"mode\":\"lines\",\"name\":\"Lower Cube Subdomain\",\"x\":[0.0,0.01,null,0.01,0.01,null,0.01,0.0,null,0.0,0.0,null,0.0,0.01,null,0.01,0.01,null,0.01,0.0,null,0.0,0.0,null,0.0,0.0,null,0.01,0.01,null,0.01,0.01,null,0.0,0.0,null],\"y\":[0.0,0.0,null,0.0,0.01,null,0.01,0.01,null,0.01,0.0,null,0.0,0.0,null,0.0,0.01,null,0.01,0.01,null,0.01,0.0,null,0.0,0.0,null,0.0,0.0,null,0.01,0.01,null,0.01,0.01,null],\"z\":[0.0,0.0,null,0.0,0.0,null,0.0,0.0,null,0.0,0.0,null,0.01,0.01,null,0.01,0.01,null,0.01,0.01,null,0.01,0.01,null,0.0,0.01,null,0.0,0.01,null,0.0,0.01,null,0.0,0.01,null],\"type\":\"scatter3d\"},{\"line\":{\"color\":\"magenta\",\"width\":4},\"mode\":\"lines\",\"name\":\"Upper Cube Subdomain\",\"x\":[0.033,0.043,null,0.043,0.043,null,0.043,0.033,null,0.033,0.033,null,0.033,0.043,null,0.043,0.043,null,0.043,0.033,null,0.033,0.033,null,0.033,0.033,null,0.043,0.043,null,0.043,0.043,null,0.033,0.033,null],\"y\":[0.030000000000000002,0.030000000000000002,null,0.030000000000000002,0.04,null,0.04,0.04,null,0.04,0.030000000000000002,null,0.030000000000000002,0.030000000000000002,null,0.030000000000000002,0.04,null,0.04,0.04,null,0.04,0.030000000000000002,null,0.030000000000000002,0.030000000000000002,null,0.030000000000000002,0.030000000000000002,null,0.04,0.04,null,0.04,0.04,null],\"z\":[0.009999999999999998,0.009999999999999998,null,0.009999999999999998,0.009999999999999998,null,0.009999999999999998,0.009999999999999998,null,0.009999999999999998,0.009999999999999998,null,0.02,0.02,null,0.02,0.02,null,0.02,0.02,null,0.02,0.02,null,0.009999999999999998,0.02,null,0.009999999999999998,0.02,null,0.009999999999999998,0.02,null,0.009999999999999998,0.02,null],\"type\":\"scatter3d\"}],                        {\"template\":{\"data\":{\"histogram2dcontour\":[{\"type\":\"histogram2dcontour\",\"colorbar\":{\"outlinewidth\":0,\"ticks\":\"\"},\"colorscale\":[[0.0,\"#0d0887\"],[0.1111111111111111,\"#46039f\"],[0.2222222222222222,\"#7201a8\"],[0.3333333333333333,\"#9c179e\"],[0.4444444444444444,\"#bd3786\"],[0.5555555555555556,\"#d8576b\"],[0.6666666666666666,\"#ed7953\"],[0.7777777777777778,\"#fb9f3a\"],[0.8888888888888888,\"#fdca26\"],[1.0,\"#f0f921\"]]}],\"choropleth\":[{\"type\":\"choropleth\",\"colorbar\":{\"outlinewidth\":0,\"ticks\":\"\"}}],\"histogram2d\":[{\"type\":\"histogram2d\",\"colorbar\":{\"outlinewidth\":0,\"ticks\":\"\"},\"colorscale\":[[0.0,\"#0d0887\"],[0.1111111111111111,\"#46039f\"],[0.2222222222222222,\"#7201a8\"],[0.3333333333333333,\"#9c179e\"],[0.4444444444444444,\"#bd3786\"],[0.5555555555555556,\"#d8576b\"],[0.6666666666666666,\"#ed7953\"],[0.7777777777777778,\"#fb9f3a\"],[0.8888888888888888,\"#fdca26\"],[1.0,\"#f0f921\"]]}],\"heatmap\":[{\"type\":\"heatmap\",\"colorbar\":{\"outlinewidth\":0,\"ticks\":\"\"},\"colorscale\":[[0.0,\"#0d0887\"],[0.1111111111111111,\"#46039f\"],[0.2222222222222222,\"#7201a8\"],[0.3333333333333333,\"#9c179e\"],[0.4444444444444444,\"#bd3786\"],[0.5555555555555556,\"#d8576b\"],[0.6666666666666666,\"#ed7953\"],[0.7777777777777778,\"#fb9f3a\"],[0.8888888888888888,\"#fdca26\"],[1.0,\"#f0f921\"]]}],\"heatmapgl\":[{\"type\":\"heatmapgl\",\"colorbar\":{\"outlinewidth\":0,\"ticks\":\"\"},\"colorscale\":[[0.0,\"#0d0887\"],[0.1111111111111111,\"#46039f\"],[0.2222222222222222,\"#7201a8\"],[0.3333333333333333,\"#9c179e\"],[0.4444444444444444,\"#bd3786\"],[0.5555555555555556,\"#d8576b\"],[0.6666666666666666,\"#ed7953\"],[0.7777777777777778,\"#fb9f3a\"],[0.8888888888888888,\"#fdca26\"],[1.0,\"#f0f921\"]]}],\"contourcarpet\":[{\"type\":\"contourcarpet\",\"colorbar\":{\"outlinewidth\":0,\"ticks\":\"\"}}],\"contour\":[{\"type\":\"contour\",\"colorbar\":{\"outlinewidth\":0,\"ticks\":\"\"},\"colorscale\":[[0.0,\"#0d0887\"],[0.1111111111111111,\"#46039f\"],[0.2222222222222222,\"#7201a8\"],[0.3333333333333333,\"#9c179e\"],[0.4444444444444444,\"#bd3786\"],[0.5555555555555556,\"#d8576b\"],[0.6666666666666666,\"#ed7953\"],[0.7777777777777778,\"#fb9f3a\"],[0.8888888888888888,\"#fdca26\"],[1.0,\"#f0f921\"]]}],\"surface\":[{\"type\":\"surface\",\"colorbar\":{\"outlinewidth\":0,\"ticks\":\"\"},\"colorscale\":[[0.0,\"#0d0887\"],[0.1111111111111111,\"#46039f\"],[0.2222222222222222,\"#7201a8\"],[0.3333333333333333,\"#9c179e\"],[0.4444444444444444,\"#bd3786\"],[0.5555555555555556,\"#d8576b\"],[0.6666666666666666,\"#ed7953\"],[0.7777777777777778,\"#fb9f3a\"],[0.8888888888888888,\"#fdca26\"],[1.0,\"#f0f921\"]]}],\"mesh3d\":[{\"type\":\"mesh3d\",\"colorbar\":{\"outlinewidth\":0,\"ticks\":\"\"}}],\"scatter\":[{\"fillpattern\":{\"fillmode\":\"overlay\",\"size\":10,\"solidity\":0.2},\"type\":\"scatter\"}],\"parcoords\":[{\"type\":\"parcoords\",\"line\":{\"colorbar\":{\"outlinewidth\":0,\"ticks\":\"\"}}}],\"scatterpolargl\":[{\"type\":\"scatterpolargl\",\"marker\":{\"colorbar\":{\"outlinewidth\":0,\"ticks\":\"\"}}}],\"bar\":[{\"error_x\":{\"color\":\"#2a3f5f\"},\"error_y\":{\"color\":\"#2a3f5f\"},\"marker\":{\"line\":{\"color\":\"#E5ECF6\",\"width\":0.5},\"pattern\":{\"fillmode\":\"overlay\",\"size\":10,\"solidity\":0.2}},\"type\":\"bar\"}],\"scattergeo\":[{\"type\":\"scattergeo\",\"marker\":{\"colorbar\":{\"outlinewidth\":0,\"ticks\":\"\"}}}],\"scatterpolar\":[{\"type\":\"scatterpolar\",\"marker\":{\"colorbar\":{\"outlinewidth\":0,\"ticks\":\"\"}}}],\"histogram\":[{\"marker\":{\"pattern\":{\"fillmode\":\"overlay\",\"size\":10,\"solidity\":0.2}},\"type\":\"histogram\"}],\"scattergl\":[{\"type\":\"scattergl\",\"marker\":{\"colorbar\":{\"outlinewidth\":0,\"ticks\":\"\"}}}],\"scatter3d\":[{\"type\":\"scatter3d\",\"line\":{\"colorbar\":{\"outlinewidth\":0,\"ticks\":\"\"}},\"marker\":{\"colorbar\":{\"outlinewidth\":0,\"ticks\":\"\"}}}],\"scattermapbox\":[{\"type\":\"scattermapbox\",\"marker\":{\"colorbar\":{\"outlinewidth\":0,\"ticks\":\"\"}}}],\"scatterternary\":[{\"type\":\"scatterternary\",\"marker\":{\"colorbar\":{\"outlinewidth\":0,\"ticks\":\"\"}}}],\"scattercarpet\":[{\"type\":\"scattercarpet\",\"marker\":{\"colorbar\":{\"outlinewidth\":0,\"ticks\":\"\"}}}],\"carpet\":[{\"aaxis\":{\"endlinecolor\":\"#2a3f5f\",\"gridcolor\":\"white\",\"linecolor\":\"white\",\"minorgridcolor\":\"white\",\"startlinecolor\":\"#2a3f5f\"},\"baxis\":{\"endlinecolor\":\"#2a3f5f\",\"gridcolor\":\"white\",\"linecolor\":\"white\",\"minorgridcolor\":\"white\",\"startlinecolor\":\"#2a3f5f\"},\"type\":\"carpet\"}],\"table\":[{\"cells\":{\"fill\":{\"color\":\"#EBF0F8\"},\"line\":{\"color\":\"white\"}},\"header\":{\"fill\":{\"color\":\"#C8D4E3\"},\"line\":{\"color\":\"white\"}},\"type\":\"table\"}],\"barpolar\":[{\"marker\":{\"line\":{\"color\":\"#E5ECF6\",\"width\":0.5},\"pattern\":{\"fillmode\":\"overlay\",\"size\":10,\"solidity\":0.2}},\"type\":\"barpolar\"}],\"pie\":[{\"automargin\":true,\"type\":\"pie\"}]},\"layout\":{\"autotypenumbers\":\"strict\",\"colorway\":[\"#636efa\",\"#EF553B\",\"#00cc96\",\"#ab63fa\",\"#FFA15A\",\"#19d3f3\",\"#FF6692\",\"#B6E880\",\"#FF97FF\",\"#FECB52\"],\"font\":{\"color\":\"#2a3f5f\"},\"hovermode\":\"closest\",\"hoverlabel\":{\"align\":\"left\"},\"paper_bgcolor\":\"white\",\"plot_bgcolor\":\"#E5ECF6\",\"polar\":{\"bgcolor\":\"#E5ECF6\",\"angularaxis\":{\"gridcolor\":\"white\",\"linecolor\":\"white\",\"ticks\":\"\"},\"radialaxis\":{\"gridcolor\":\"white\",\"linecolor\":\"white\",\"ticks\":\"\"}},\"ternary\":{\"bgcolor\":\"#E5ECF6\",\"aaxis\":{\"gridcolor\":\"white\",\"linecolor\":\"white\",\"ticks\":\"\"},\"baxis\":{\"gridcolor\":\"white\",\"linecolor\":\"white\",\"ticks\":\"\"},\"caxis\":{\"gridcolor\":\"white\",\"linecolor\":\"white\",\"ticks\":\"\"}},\"coloraxis\":{\"colorbar\":{\"outlinewidth\":0,\"ticks\":\"\"}},\"colorscale\":{\"sequential\":[[0.0,\"#0d0887\"],[0.1111111111111111,\"#46039f\"],[0.2222222222222222,\"#7201a8\"],[0.3333333333333333,\"#9c179e\"],[0.4444444444444444,\"#bd3786\"],[0.5555555555555556,\"#d8576b\"],[0.6666666666666666,\"#ed7953\"],[0.7777777777777778,\"#fb9f3a\"],[0.8888888888888888,\"#fdca26\"],[1.0,\"#f0f921\"]],\"sequentialminus\":[[0.0,\"#0d0887\"],[0.1111111111111111,\"#46039f\"],[0.2222222222222222,\"#7201a8\"],[0.3333333333333333,\"#9c179e\"],[0.4444444444444444,\"#bd3786\"],[0.5555555555555556,\"#d8576b\"],[0.6666666666666666,\"#ed7953\"],[0.7777777777777778,\"#fb9f3a\"],[0.8888888888888888,\"#fdca26\"],[1.0,\"#f0f921\"]],\"diverging\":[[0,\"#8e0152\"],[0.1,\"#c51b7d\"],[0.2,\"#de77ae\"],[0.3,\"#f1b6da\"],[0.4,\"#fde0ef\"],[0.5,\"#f7f7f7\"],[0.6,\"#e6f5d0\"],[0.7,\"#b8e186\"],[0.8,\"#7fbc41\"],[0.9,\"#4d9221\"],[1,\"#276419\"]]},\"xaxis\":{\"gridcolor\":\"white\",\"linecolor\":\"white\",\"ticks\":\"\",\"title\":{\"standoff\":15},\"zerolinecolor\":\"white\",\"automargin\":true,\"zerolinewidth\":2},\"yaxis\":{\"gridcolor\":\"white\",\"linecolor\":\"white\",\"ticks\":\"\",\"title\":{\"standoff\":15},\"zerolinecolor\":\"white\",\"automargin\":true,\"zerolinewidth\":2},\"scene\":{\"xaxis\":{\"backgroundcolor\":\"#E5ECF6\",\"gridcolor\":\"white\",\"linecolor\":\"white\",\"showbackground\":true,\"ticks\":\"\",\"zerolinecolor\":\"white\",\"gridwidth\":2},\"yaxis\":{\"backgroundcolor\":\"#E5ECF6\",\"gridcolor\":\"white\",\"linecolor\":\"white\",\"showbackground\":true,\"ticks\":\"\",\"zerolinecolor\":\"white\",\"gridwidth\":2},\"zaxis\":{\"backgroundcolor\":\"#E5ECF6\",\"gridcolor\":\"white\",\"linecolor\":\"white\",\"showbackground\":true,\"ticks\":\"\",\"zerolinecolor\":\"white\",\"gridwidth\":2}},\"shapedefaults\":{\"line\":{\"color\":\"#2a3f5f\"}},\"annotationdefaults\":{\"arrowcolor\":\"#2a3f5f\",\"arrowhead\":0,\"arrowwidth\":1},\"geo\":{\"bgcolor\":\"white\",\"landcolor\":\"#E5ECF6\",\"subunitcolor\":\"white\",\"showland\":true,\"showlakes\":true,\"lakecolor\":\"white\"},\"title\":{\"x\":0.05},\"mapbox\":{\"style\":\"light\"}}},\"scene\":{\"xaxis\":{\"title\":{\"text\":\"X\"}},\"yaxis\":{\"title\":{\"text\":\"Y\"}},\"zaxis\":{\"title\":{\"text\":\"Z\"}},\"aspectmode\":\"data\"},\"margin\":{\"l\":0,\"r\":0,\"b\":0,\"t\":40},\"title\":{\"text\":\"1D Pressure Scatter with Boundaries\"},\"width\":1000,\"height\":700},                        {\"responsive\": true}                    ).then(function(){\n",
       "                            \n",
       "var gd = document.getElementById('ffe34bed-e634-4ebd-9d8c-a42acc54c2e3');\n",
       "var x = new MutationObserver(function (mutations, observer) {{\n",
       "        var display = window.getComputedStyle(gd).display;\n",
       "        if (!display || display === 'none') {{\n",
       "            console.log([gd, 'removed!']);\n",
       "            Plotly.purge(gd);\n",
       "            observer.disconnect();\n",
       "        }}\n",
       "}});\n",
       "\n",
       "// Listen for the removal of the full notebook cells\n",
       "var notebookContainer = gd.closest('#notebook-container');\n",
       "if (notebookContainer) {{\n",
       "    x.observe(notebookContainer, {childList: true});\n",
       "}}\n",
       "\n",
       "// Listen for the clearing of the current output cell\n",
       "var outputEl = gd.closest('.output');\n",
       "if (outputEl) {{\n",
       "    x.observe(outputEl, {childList: true});\n",
       "}}\n",
       "\n",
       "                        })                };                });            </script>        </div>"
      ]
     },
     "metadata": {},
     "output_type": "display_data"
    }
   ],
   "source": [
    "visualize.plot_with_boundaries_plotly(CUBES_TEST.uh1d, CUBES_TEST.uh3d,\n",
    "     cube_lower=cube_lower_bounds,\n",
    "     cube_upper=cube_upper_bounds)"
   ]
  },
  {
   "cell_type": "code",
   "execution_count": 34,
   "metadata": {
    "id": "p1HQKApTqWmr"
   },
   "outputs": [
    {
     "name": "stdout",
     "output_type": "stream",
     "text": [
      "Calling FFC just-in-time (JIT) compiler, this may take some time.\n",
      "Calling FFC just-in-time (JIT) compiler, this may take some time.\n",
      "Calling FFC just-in-time (JIT) compiler, this may take some time.\n",
      "Calling FFC just-in-time (JIT) compiler, this may take some time.\n",
      "Calling FFC just-in-time (JIT) compiler, this may take some time.\n",
      "Calling FFC just-in-time (JIT) compiler, this may take some time.\n"
     ]
    }
   ],
   "source": [
    "import datetime\n",
    "import pytz\n",
    "\n",
    "cst = pytz.timezone(\"America/Chicago\")\n",
    "now = datetime.datetime.now(cst)\n",
    "timestamp = now.strftime(\"%Y%m%d_%H%M\")\n",
    "filename = f\"output_{timestamp}\"\n",
    "\n",
    "SAVE_PATH = os.path.join(WORK_PATH, \"export\", filename)\n",
    "CUBES_TEST.save_vtk(SAVE_PATH)"
   ]
  },
  {
   "cell_type": "code",
   "execution_count": null,
   "metadata": {
    "id": "rL9VedjAqWmr",
    "outputId": "e51883bb-5738-467a-babd-865cf018b725"
   },
   "outputs": [
    {
     "name": "stderr",
     "output_type": "stream",
     "text": [
      "Averaging over 56 cells: 100%|██████████| 56/56 [00:00<00:00, 2202.21it/s]"
     ]
    }
   ],
   "source": [
    "import numpy as np\n",
    "import matplotlib.pyplot as plt\n",
    "import time\n",
    "\n",
    "def run_sweep(param_name, values, defaults):\n",
    "    fluxes = []\n",
    "    for val in values:\n",
    "        params = defaults.copy()\n",
    "        params[param_name] = val\n",
    "        cube_test = fem.SubCubes(**params)\n",
    "        flux = cube_test.compute_upper_cube_flux()\n",
    "        fluxes.append(flux)\n",
    "    return fluxes\n",
    "\n",
    "def vary_parameters_and_plot(num_points=50, subset_plots = ['k_t', 'gamma', 'gamma_R']):\n",
    "    common_params = {\n",
    "        'domain': measure_builder,\n",
    "        'gamma': 1.0,\n",
    "        'gamma_R': 1.0e-7,\n",
    "        'gamma_a': 1.0e-10,\n",
    "        'mu': 1.0e-3,\n",
    "        'k_t': 1.0e-10,\n",
    "        'k_v': 1.0e-8,\n",
    "        'P_in': 100.0 * 133.322,\n",
    "        'p_cvp': 1.0 * 133.322,\n",
    "        'lower_cube_bounds': [[0.000,0.000,0.000],[0.01, 0.01, 0.01]],\n",
    "        'upper_cube_bounds': _upper_cube_bounds_val\n",
    "    }\n",
    "\n",
    "    sweep_configs = {\n",
    "        'k_t': {\n",
    "            'values': np.logspace(-15, 3, num_points),\n",
    "            'xlabel': \"Tissue Permeability k_t\",\n",
    "            'title': \"Upper Cube Flux vs. Tissue Permeability k_t\",\n",
    "            'plot_type': 'semilogx',\n",
    "            'grid_kwargs': {'which': \"both\", 'ls': \"--\"}\n",
    "        },\n",
    "        'gamma': {\n",
    "            'values': np.logspace(-10, 2, num_points),\n",
    "            'xlabel': \"Gamma\",\n",
    "            'title': \"Upper Cube Flux vs. Gamma\",\n",
    "            'plot_type': 'semilogx',\n",
    "            'grid_kwargs': {'which': \"both\", 'ls': \"--\"}\n",
    "        },\n",
    "        'gamma_R': {\n",
    "            'values': np.logspace(-15, 3, num_points),\n",
    "            'xlabel': \"Gamma_R\",\n",
    "            'title': \"Upper Cube Flux vs. Gamma_R\",\n",
    "            'plot_type': 'semilogx',\n",
    "            'grid_kwargs': {'which': \"both\", 'ls': \"--\"}\n",
    "        }\n",
    "    }\n",
    "\n",
    "    num_plots = len(subset_plots)\n",
    "    fig, axes = plt.subplots(num_plots, 1, figsize=(10, 6 * num_plots))\n",
    "    if num_plots == 1:\n",
    "        axes = [axes]\n",
    "\n",
    "    for idx, param in enumerate(subset_plots):\n",
    "        config = sweep_configs[param]\n",
    "        values = config['values']\n",
    "        fluxes = run_sweep(param, values, common_params)\n",
    "\n",
    "        if config['plot_type'] == 'semilogx':\n",
    "            axes[idx].semilogx(values, fluxes, marker='o', linestyle='-')\n",
    "        else:\n",
    "            axes[idx].plot(values, fluxes, marker='o', linestyle='-')\n",
    "\n",
    "        axes[idx].set_xlabel(config['xlabel'])\n",
    "        axes[idx].set_ylabel(\"Upper Cube Flux\")\n",
    "        axes[idx].set_title(config['title'])\n",
    "        axes[idx].grid(True, **config['grid_kwargs'])\n",
    "\n",
    "    plt.tight_layout()\n",
    "    plt.show()\n",
    "\n",
    "vary_parameters_and_plot(num_points=50)"
   ]
  },
  {
   "cell_type": "code",
   "execution_count": null,
   "metadata": {
    "id": "XclEl8m6qWmr",
    "outputId": "e5b650eb-cce7-45d7-878b-649720b67807"
   },
   "outputs": [
    {
     "name": "stderr",
     "output_type": "stream",
     "text": [
      "Averaging over 224 cells: 100%|██████████| 224/224 [00:00<00:00, 2682.05it/s]\n",
      "Averaging over 224 cells: 100%|██████████| 224/224 [00:00<00:00, 1561.57it/s]\n",
      "Averaging over 224 cells: 100%|██████████| 224/224 [00:00<00:00, 1779.82it/s]\n",
      "Averaging over 224 cells: 100%|██████████| 224/224 [00:00<00:00, 2031.83it/s]\n",
      "Averaging over 224 cells: 100%|██████████| 224/224 [00:00<00:00, 1927.61it/s]\n",
      "Averaging over 224 cells: 100%|██████████| 224/224 [00:00<00:00, 1986.38it/s]\n",
      "Averaging over 224 cells: 100%|██████████| 224/224 [00:00<00:00, 2045.48it/s]\n",
      "Averaging over 224 cells: 100%|██████████| 224/224 [00:00<00:00, 1970.32it/s]\n",
      "Averaging over 224 cells: 100%|██████████| 224/224 [00:00<00:00, 1970.51it/s]\n",
      "Averaging over 224 cells: 100%|██████████| 224/224 [00:00<00:00, 2062.89it/s]\n",
      "Averaging over 224 cells: 100%|██████████| 224/224 [00:00<00:00, 1983.81it/s]\n",
      "Averaging over 224 cells: 100%|██████████| 224/224 [00:00<00:00, 1989.90it/s]\n",
      "Averaging over 224 cells: 100%|██████████| 224/224 [00:00<00:00, 1760.84it/s]\n",
      "Averaging over 224 cells: 100%|██████████| 224/224 [00:00<00:00, 1927.98it/s]\n",
      "Averaging over 224 cells: 100%|██████████| 224/224 [00:00<00:00, 1839.70it/s]\n",
      "Averaging over 224 cells: 100%|██████████| 224/224 [00:00<00:00, 1649.88it/s]\n",
      "Averaging over 224 cells: 100%|██████████| 224/224 [00:00<00:00, 1514.07it/s]\n",
      "Averaging over 224 cells: 100%|██████████| 224/224 [00:00<00:00, 1650.97it/s]\n",
      "Averaging over 224 cells: 100%|██████████| 224/224 [00:00<00:00, -958.52it/s]\n",
      "Averaging over 224 cells: 100%|██████████| 224/224 [00:00<00:00, 1619.60it/s]\n",
      "Averaging over 224 cells: 100%|██████████| 224/224 [00:00<00:00, 1702.73it/s]\n",
      "Averaging over 224 cells: 100%|██████████| 224/224 [00:00<00:00, 1704.98it/s]\n",
      "Averaging over 224 cells: 100%|██████████| 224/224 [00:00<00:00, 1634.05it/s]\n",
      "Averaging over 224 cells: 100%|██████████| 224/224 [00:00<00:00, 1679.39it/s]\n",
      "Averaging over 224 cells: 100%|██████████| 224/224 [00:00<00:00, 1579.08it/s]\n",
      "Averaging over 224 cells: 100%|██████████| 224/224 [00:00<00:00, 1581.83it/s]\n",
      "Averaging over 224 cells: 100%|██████████| 224/224 [00:00<00:00, 1599.12it/s]\n",
      "Averaging over 224 cells: 100%|██████████| 224/224 [00:00<00:00, 1754.06it/s]\n",
      "Averaging over 224 cells: 100%|██████████| 224/224 [00:00<00:00, 1611.49it/s]\n",
      "Averaging over 224 cells: 100%|██████████| 224/224 [00:00<00:00, 1568.46it/s]\n",
      "Averaging over 224 cells: 100%|██████████| 224/224 [00:00<00:00, 1631.52it/s]\n",
      "Averaging over 224 cells: 100%|██████████| 224/224 [00:00<00:00, 1785.25it/s]\n",
      "Averaging over 224 cells: 100%|██████████| 224/224 [00:00<00:00, 1553.71it/s]\n",
      "Averaging over 224 cells: 100%|██████████| 224/224 [00:00<00:00, 1568.23it/s]\n",
      "Averaging over 224 cells: 100%|██████████| 224/224 [00:00<00:00, 1588.41it/s]\n",
      "Averaging over 224 cells: 100%|██████████| 224/224 [00:00<00:00, 1402.92it/s]\n",
      "Averaging over 224 cells: 100%|██████████| 224/224 [00:00<00:00, 1577.34it/s]\n",
      "Averaging over 224 cells: 100%|██████████| 224/224 [00:00<00:00, 1616.28it/s]\n",
      "Averaging over 224 cells: 100%|██████████| 224/224 [00:00<00:00, 1632.00it/s]\n",
      "Averaging over 224 cells: 100%|██████████| 224/224 [00:00<00:00, 1661.74it/s]\n",
      "Averaging over 224 cells: 100%|██████████| 224/224 [00:00<00:00, 1606.98it/s]\n",
      "Averaging over 224 cells: 100%|██████████| 224/224 [00:00<00:00, 1583.77it/s]\n",
      "Averaging over 224 cells: 100%|██████████| 224/224 [00:00<00:00, 1610.73it/s]\n",
      "Averaging over 224 cells: 100%|██████████| 224/224 [00:00<00:00, 1744.81it/s]\n",
      "Averaging over 224 cells: 100%|██████████| 224/224 [00:00<00:00, 1656.34it/s]\n",
      "Averaging over 224 cells: 100%|██████████| 224/224 [00:00<00:00, 1672.04it/s]\n",
      "Averaging over 224 cells: 100%|██████████| 224/224 [00:00<00:00, 1562.39it/s]\n",
      "Averaging over 224 cells: 100%|██████████| 224/224 [00:00<00:00, 1514.25it/s]\n",
      "Averaging over 224 cells: 100%|██████████| 224/224 [00:00<00:00, 1597.86it/s]\n",
      "Averaging over 224 cells: 100%|██████████| 224/224 [00:00<00:00, 1552.79it/s]\n",
      "Averaging over 224 cells: 100%|██████████| 224/224 [00:00<00:00, 1698.71it/s]\n",
      "Averaging over 224 cells: 100%|██████████| 224/224 [00:00<00:00, 1657.48it/s]\n",
      "Averaging over 224 cells: 100%|██████████| 224/224 [00:00<00:00, 1666.66it/s]\n",
      "Averaging over 224 cells: 100%|██████████| 224/224 [00:00<00:00, 1654.13it/s]\n",
      "Averaging over 224 cells: 100%|██████████| 224/224 [00:00<00:00, 1789.59it/s]\n",
      "Averaging over 224 cells: 100%|██████████| 224/224 [00:00<00:00, 1539.42it/s]\n",
      "Averaging over 224 cells: 100%|██████████| 224/224 [00:00<00:00, 1427.33it/s]\n",
      "Averaging over 224 cells: 100%|██████████| 224/224 [00:00<00:00, 1560.91it/s]\n",
      "Averaging over 224 cells: 100%|██████████| 224/224 [00:00<00:00, 1434.33it/s]\n",
      "Averaging over 224 cells: 100%|██████████| 224/224 [00:00<00:00, 1601.32it/s]\n",
      "Averaging over 224 cells: 100%|██████████| 224/224 [00:00<00:00, 1569.05it/s]\n",
      "Averaging over 224 cells: 100%|██████████| 224/224 [00:00<00:00, 1618.28it/s]\n",
      "Averaging over 224 cells: 100%|██████████| 224/224 [00:00<00:00, -246.88it/s]\n",
      "Averaging over 224 cells: 100%|██████████| 224/224 [00:00<00:00, 1668.78it/s]\n",
      "Averaging over 224 cells: 100%|██████████| 224/224 [00:00<00:00, 1667.00it/s]\n",
      "Averaging over 224 cells: 100%|██████████| 224/224 [00:00<00:00, 1652.49it/s]\n",
      "Averaging over 224 cells: 100%|██████████| 224/224 [00:00<00:00, 1450.30it/s]\n",
      "Averaging over 224 cells: 100%|██████████| 224/224 [00:00<00:00, 1692.02it/s]\n",
      "Averaging over 224 cells: 100%|██████████| 224/224 [00:00<00:00, 1662.32it/s]\n",
      "Averaging over 224 cells: 100%|██████████| 224/224 [00:00<00:00, 1587.90it/s]\n",
      "Averaging over 224 cells: 100%|██████████| 224/224 [00:00<00:00, 1635.07it/s]\n",
      "Averaging over 224 cells: 100%|██████████| 224/224 [00:00<00:00, 1577.43it/s]\n",
      "Averaging over 224 cells: 100%|██████████| 224/224 [00:00<00:00, 1479.76it/s]\n",
      "Averaging over 224 cells: 100%|██████████| 224/224 [00:00<00:00, 1432.53it/s]\n",
      "Averaging over 224 cells: 100%|██████████| 224/224 [00:00<00:00, 1491.45it/s]\n",
      "Averaging over 224 cells: 100%|██████████| 224/224 [00:00<00:00, 1660.45it/s]\n",
      "Averaging over 224 cells: 100%|██████████| 224/224 [00:00<00:00, 1584.31it/s]\n",
      "Averaging over 224 cells: 100%|██████████| 224/224 [00:00<00:00, 1651.09it/s]\n",
      "Averaging over 224 cells: 100%|██████████| 224/224 [00:00<00:00, 1561.73it/s]\n",
      "Averaging over 224 cells: 100%|██████████| 224/224 [00:00<00:00, 1646.25it/s]\n",
      "Averaging over 224 cells: 100%|██████████| 224/224 [00:00<00:00, 1589.54it/s]\n",
      "Averaging over 224 cells: 100%|██████████| 224/224 [00:00<00:00, 1461.54it/s]\n",
      "Averaging over 224 cells: 100%|██████████| 224/224 [00:00<00:00, 1708.58it/s]\n",
      "Averaging over 224 cells: 100%|██████████| 224/224 [00:00<00:00, 1639.85it/s]\n",
      "Averaging over 224 cells: 100%|██████████| 224/224 [00:00<00:00, 1663.71it/s]\n",
      "Averaging over 224 cells: 100%|██████████| 224/224 [00:00<00:00, 1726.73it/s]\n",
      "Averaging over 224 cells: 100%|██████████| 224/224 [00:00<00:00, 1624.14it/s]\n",
      "Averaging over 224 cells: 100%|██████████| 224/224 [00:00<00:00, 1522.20it/s]\n",
      "Averaging over 224 cells: 100%|██████████| 224/224 [00:00<00:00, 1569.85it/s]\n",
      "Averaging over 224 cells: 100%|██████████| 224/224 [00:00<00:00, 1544.25it/s]\n",
      "Averaging over 224 cells: 100%|██████████| 224/224 [00:00<00:00, 1591.37it/s]\n",
      "Averaging over 224 cells: 100%|██████████| 224/224 [00:00<00:00, 1562.03it/s]\n",
      "Averaging over 224 cells: 100%|██████████| 224/224 [00:00<00:00, 1429.41it/s]\n",
      "Averaging over 224 cells: 100%|██████████| 224/224 [00:00<00:00, 1821.17it/s]\n",
      "Averaging over 224 cells: 100%|██████████| 224/224 [00:00<00:00, 1713.11it/s]\n",
      "Averaging over 224 cells: 100%|██████████| 224/224 [00:00<00:00, 1437.69it/s]\n",
      "Averaging over 224 cells: 100%|██████████| 224/224 [00:00<00:00, 1613.76it/s]\n",
      "Averaging over 224 cells: 100%|██████████| 224/224 [00:00<00:00, 1671.76it/s]\n",
      "Averaging over 224 cells: 100%|██████████| 224/224 [00:00<00:00, 1699.81it/s]\n",
      "Averaging over 224 cells: 100%|██████████| 224/224 [00:00<00:00, 1483.40it/s]\n",
      "Averaging over 224 cells: 100%|██████████| 224/224 [00:00<00:00, 1626.17it/s]\n",
      "Averaging over 224 cells: 100%|██████████| 224/224 [00:00<00:00, 1541.66it/s]\n",
      "Averaging over 224 cells: 100%|██████████| 224/224 [00:00<00:00, 1537.75it/s]\n",
      "Averaging over 224 cells: 100%|██████████| 224/224 [00:00<00:00, 1607.03it/s]\n",
      "Averaging over 224 cells: 100%|██████████| 224/224 [00:00<00:00, 1623.44it/s]\n",
      "Averaging over 224 cells: 100%|██████████| 224/224 [00:00<00:00, 1559.39it/s]\n",
      "Averaging over 224 cells: 100%|██████████| 224/224 [00:00<00:00, 1669.32it/s]\n",
      "Averaging over 224 cells: 100%|██████████| 224/224 [00:00<00:00, 1677.85it/s]\n",
      "Averaging over 224 cells: 100%|██████████| 224/224 [00:00<00:00, 1580.52it/s]\n",
      "Averaging over 224 cells: 100%|██████████| 224/224 [00:00<00:00, 1637.10it/s]\n",
      "Averaging over 224 cells: 100%|██████████| 224/224 [00:00<00:00, 1622.30it/s]\n",
      "Averaging over 224 cells: 100%|██████████| 224/224 [00:00<00:00, 1577.05it/s]\n",
      "Averaging over 224 cells: 100%|██████████| 224/224 [00:00<00:00, 1561.27it/s]\n",
      "Averaging over 224 cells: 100%|██████████| 224/224 [00:00<00:00, 1558.45it/s]\n",
      "Averaging over 224 cells: 100%|██████████| 224/224 [00:00<00:00, 1518.52it/s]\n",
      "Averaging over 224 cells: 100%|██████████| 224/224 [00:00<00:00, 1460.59it/s]\n",
      "Averaging over 224 cells: 100%|██████████| 224/224 [00:00<00:00, 1521.42it/s]\n",
      "Averaging over 224 cells: 100%|██████████| 224/224 [00:00<00:00, 1351.48it/s]\n",
      "Averaging over 224 cells: 100%|██████████| 224/224 [00:00<00:00, 1564.49it/s]\n",
      "Averaging over 224 cells: 100%|██████████| 224/224 [00:00<00:00, 1529.54it/s]\n",
      "Averaging over 224 cells: 100%|██████████| 224/224 [00:00<00:00, 1587.74it/s]\n",
      "Averaging over 224 cells: 100%|██████████| 224/224 [00:00<00:00, 1544.99it/s]\n",
      "Averaging over 224 cells: 100%|██████████| 224/224 [00:00<00:00, 1575.46it/s]\n",
      "Averaging over 224 cells: 100%|██████████| 224/224 [00:00<00:00, 1691.08it/s]\n",
      "Averaging over 224 cells: 100%|██████████| 224/224 [00:00<00:00, 1514.43it/s]\n",
      "Averaging over 224 cells: 100%|██████████| 224/224 [00:00<00:00, 1562.32it/s]\n",
      "Averaging over 224 cells: 100%|██████████| 224/224 [00:00<00:00, 1587.03it/s]\n",
      "Averaging over 224 cells: 100%|██████████| 224/224 [00:00<00:00, 1580.17it/s]\n",
      "Averaging over 224 cells: 100%|██████████| 224/224 [00:00<00:00, 1602.10it/s]\n",
      "Averaging over 224 cells: 100%|██████████| 224/224 [00:00<00:00, 1701.16it/s]\n",
      "Averaging over 224 cells: 100%|██████████| 224/224 [00:00<00:00, 1575.56it/s]\n",
      "Averaging over 224 cells: 100%|██████████| 224/224 [00:00<00:00, 1546.13it/s]\n",
      "Averaging over 224 cells: 100%|██████████| 224/224 [00:00<00:00, 1555.74it/s]\n",
      "Averaging over 224 cells: 100%|██████████| 224/224 [00:00<00:00, 1530.22it/s]\n",
      "Averaging over 224 cells: 100%|██████████| 224/224 [00:00<00:00, 1572.91it/s]\n",
      "Averaging over 224 cells: 100%|██████████| 224/224 [00:00<00:00, 1610.74it/s]\n",
      "Averaging over 224 cells: 100%|██████████| 224/224 [00:00<00:00, 1555.14it/s]\n",
      "Averaging over 224 cells: 100%|██████████| 224/224 [00:00<00:00, 1731.22it/s]\n",
      "Averaging over 224 cells: 100%|██████████| 224/224 [00:00<00:00, 1635.76it/s]\n",
      "Averaging over 224 cells: 100%|██████████| 224/224 [00:00<00:00, 1674.60it/s]\n",
      "Averaging over 224 cells: 100%|██████████| 224/224 [00:00<00:00, 1571.51it/s]\n",
      "Averaging over 224 cells: 100%|██████████| 224/224 [00:00<00:00, 1619.80it/s]\n",
      "Averaging over 224 cells: 100%|██████████| 224/224 [00:00<00:00, 1664.67it/s]\n",
      "Averaging over 224 cells: 100%|██████████| 224/224 [00:00<00:00, 1550.13it/s]\n",
      "Averaging over 224 cells: 100%|██████████| 224/224 [00:00<00:00, 1691.07it/s]\n",
      "Averaging over 224 cells: 100%|██████████| 224/224 [00:00<00:00, 1586.16it/s]\n",
      "Averaging over 224 cells: 100%|██████████| 224/224 [00:00<00:00, 1562.94it/s]\n",
      "Averaging over 224 cells: 100%|██████████| 224/224 [00:00<00:00, 1447.75it/s]\n",
      "Averaging over 224 cells: 100%|██████████| 224/224 [00:00<00:00, 1536.82it/s]\n",
      "Averaging over 224 cells: 100%|██████████| 224/224 [00:00<00:00, 1620.65it/s]\n"
     ]
    },
    {
     "data": {
      "image/png": "[encoded data removed]",
      "text/plain": [
       "<Figure size 1000x1800 with 3 Axes>"
      ]
     },
     "metadata": {},
     "output_type": "display_data"
    }
   ],
   "source": [
    "import numpy as np\n",
    "import matplotlib.pyplot as plt\n",
    "import time\n",
    "\n",
    "def run_sweep_lower(param_name, values, defaults):\n",
    "    fluxes = []\n",
    "    for val in values:\n",
    "        params = defaults.copy()\n",
    "        params[param_name] = val\n",
    "        cube_test = fem.SubCubes(**params)\n",
    "        flux = cube_test.compute_lower_cube_flux()\n",
    "        fluxes.append(flux)\n",
    "    return fluxes\n",
    "\n",
    "def vary_parameters_and_plot_lower(num_points=50, subset_plots = ['k_t', 'gamma', 'gamma_R']):\n",
    "    common_params = {\n",
    "        'domain': TEST_MEASURE,\n",
    "        'gamma': 1.0,\n",
    "        'gamma_R': 1.0e-7,\n",
    "        'gamma_a': 1.0e-10,\n",
    "        'mu': 1.0e-3,\n",
    "        'k_t': 1.0e-10,\n",
    "        'k_v': 1.0e-8,\n",
    "        'P_in': 100.0 * 133.322,\n",
    "        'p_cvp': 1.0 * 133.322,\n",
    "        'lower_cube_bounds': [[0.000,0.000,0.000],[0.01, 0.01, 0.01]],\n",
    "        'upper_cube_bounds': _upper_cube_bounds_val\n",
    "    }\n",
    "\n",
    "    sweep_configs = {\n",
    "        'k_t': {\n",
    "            'values': np.logspace(-15, 3, num_points),\n",
    "            'xlabel': \"Tissue Permeability k_t\",\n",
    "            'title': \"Upper Cube Flux vs. Tissue Permeability k_t\",\n",
    "            'plot_type': 'semilogx',\n",
    "            'grid_kwargs': {'which': \"both\", 'ls': \"--\"}\n",
    "        },\n",
    "        'gamma': {\n",
    "            'values': np.logspace(-10, 2, num_points),\n",
    "            'xlabel': \"Gamma\",\n",
    "            'title': \"Upper Cube Flux vs. Gamma\",\n",
    "            'plot_type': 'semilogx',\n",
    "            'grid_kwargs': {'which': \"both\", 'ls': \"--\"}\n",
    "        },\n",
    "        'gamma_R': {\n",
    "            'values': np.logspace(-15, 3, num_points),\n",
    "            'xlabel': \"Gamma_R\",\n",
    "            'title': \"Upper Cube Flux vs. Gamma_R\",\n",
    "            'plot_type': 'semilogx',\n",
    "            'grid_kwargs': {'which': \"both\", 'ls': \"--\"}\n",
    "        }\n",
    "    }\n",
    "\n",
    "    num_plots = len(subset_plots)\n",
    "    fig, axes = plt.subplots(num_plots, 1, figsize=(10, 6 * num_plots))\n",
    "    if num_plots == 1:\n",
    "        axes = [axes]\n",
    "\n",
    "    for idx, param in enumerate(subset_plots):\n",
    "        config = sweep_configs[param]\n",
    "        values = config['values']\n",
    "        fluxes = run_sweep_lower(param, values, common_params)\n",
    "\n",
    "        if config['plot_type'] == 'semilogx':\n",
    "            axes[idx].semilogx(values, fluxes, marker='o', linestyle='-')\n",
    "        else:\n",
    "            axes[idx].plot(values, fluxes, marker='o', linestyle='-')\n",
    "\n",
    "        axes[idx].set_xlabel(config['xlabel'])\n",
    "        axes[idx].set_ylabel(\"Lower Cube Flux\")\n",
    "        axes[idx].set_title(config['title'])\n",
    "        axes[idx].grid(True, **config['grid_kwargs'])\n",
    "\n",
    "    plt.tight_layout()\n",
    "    plt.show()\n",
    "\n",
    "vary_parameters_and_plot(num_points=50)"
   ]
  }
 ],
 "metadata": {
  "colab": {
   "include_colab_link": true,
   "machine_shape": "hm",
   "provenance": []
  },
  "kernelspec": {
   "display_name": "Python 3 (ipykernel)",
   "language": "python",
   "name": "python3"
  },
  "language_info": {
   "codemirror_mode": {
    "name": "ipython",
    "version": 3
   },
   "file_extension": ".py",
   "mimetype": "text/x-python",
   "name": "python",
   "nbconvert_exporter": "python",
   "pygments_lexer": "ipython3",
   "version": "3.11.11"
  }
 },
 "nbformat": 4,
 "nbformat_minor": 4
}
