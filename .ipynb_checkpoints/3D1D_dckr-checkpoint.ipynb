{
 "cells": [
  {
   "cell_type": "markdown",
   "metadata": {
    "id": "KLbYZsIQtGqb"
   },
   "source": [
    "| Parameter    | Units                 | Physical Role                                        |\n",
    "|--------------|-----------------------|------------------------------------------------------|\n",
    "| $$ \\mu $$    | Pa·s                  | Dynamic viscosity of blood                           |\n",
    "| $$ k_t $$    | $$ \\text{m}^2 $$      | 3D tissue permeability                               |\n",
    "| $$ k_v $$    | $$ \\text{m}^2 $$      | Axial permeability along the vessel                  |\n",
    "| $$ \\gamma $$ | $$ \\text{m}/(\\text{Pa}\\cdot\\text{s}) $$ | Vessel wall permeability coefficient (coupling tissue & vessel) |\n",
    "| $$ \\gamma_R $$ | $$ \\text{m}/(\\text{Pa}\\cdot\\text{s}) $$ | Boundary outflow (Robin) permeability                 |\n",
    "| $$ \\gamma_a $$ | m                    | Terminal vessel coupling length scale (hydraulic conductance at end) |"
   ]
  },
  {
   "cell_type": "code",
   "execution_count": 1,
   "metadata": {
    "id": "983JJSszkZse"
   },
   "outputs": [],
   "source": [
    "WORK_MOUNT_PATH = \"/home/jovyan/work\"\n",
    "\n",
    "import sys, os\n",
    "import numpy as np\n",
    "import matplotlib.pyplot as plt\n",
    "import networkx as nx\n",
    "import importlib\n",
    "\n",
    "sys.path.append(os.path.join(WORK_MOUNT_PATH, 'modules'))"
   ]
  },
  {
   "cell_type": "code",
   "execution_count": 2,
   "metadata": {
    "colab": {
     "base_uri": "https://localhost:8080/"
    },
    "executionInfo": {
     "elapsed": 23725,
     "status": "ok",
     "timestamp": 1738782132081,
     "user": {
      "displayName": "Pierce Zhang",
      "userId": "16829693512041287452"
     },
     "user_tz": 360
    },
    "id": "92yDZxs367cX",
    "outputId": "828cbfe1-6e27-466e-a464-176d302930a9"
   },
   "outputs": [
    {
     "name": "stderr",
     "output_type": "stream",
     "text": [
      "/opt/conda/lib/python3.11/site-packages/block/__init__.py:15: UserWarning: The cbc.block repository has moved to https://github.com/blocknics/cbc.block\n",
      "  warnings.warn('The cbc.block repository has moved to https://github.com/blocknics/cbc.block', UserWarning)\n"
     ]
    },
    {
     "name": "stdout",
     "output_type": "stream",
     "text": [
      "Missing HsMG for fract norm computing\n",
      "New (intermediate) nodes along the path: [8, 9, 10, 11, 12, 13, 14, 15, 16, 17, 18, 19, 20, 21, 22, 23, 24, 25, 26, 27, 48, 49, 50, 51, 52, 53, 54, 55, 56, 57]\n"
     ]
    }
   ],
   "source": [
    "import GraphUtility\n",
    "importlib.reload(GraphUtility)\n",
    "\n",
    "TEST_GRAPH_NODES = {\n",
    "    0: [0.000, 0.020, 0.015],   # A\n",
    "    1: [0.010, 0.020, 0.015],   # B\n",
    "    2: [0.022, 0.013, 0.015],   # C\n",
    "    3: [0.022, 0.028, 0.015],   # D\n",
    "    4: [0.015, 0.005, 0.015],   # E\n",
    "    5: [0.015, 0.035, 0.015],   # F\n",
    "    6: [0.038, 0.005, 0.015],   # G\n",
    "    7: [0.038, 0.035, 0.015]    # H\n",
    "}\n",
    "\n",
    "TEST_GRAPH_EDGES = [\n",
    "    (0, 1, 0.004),  # AB\n",
    "    (1, 2, 0.003),  # BC\n",
    "    (1, 3, 0.003),  # BD\n",
    "    (2, 4, 0.002),  # CE\n",
    "    (2, 6, 0.003),  # CG\n",
    "    (3, 5, 0.002),  # DF\n",
    "    (3, 7, 0.003)   # DH\n",
    "]\n",
    "\n",
    "diag_path = [0, 1, 2, 6]\n",
    "try:\n",
    "    G, original_to_new, edge_to_new_nodes = GraphUtility.build_graph(TEST_GRAPH_NODES, TEST_GRAPH_EDGES, 10)\n",
    "    intermediate_nodes = GraphUtility.get_new_nodes_along_path(diag_path, edge_to_new_nodes)\n",
    "    print(\"New (intermediate) nodes along the path:\", intermediate_nodes)\n",
    "except ValueError as e:\n",
    "    print(\"Invalid path:\", e)"
   ]
  },
  {
   "cell_type": "code",
   "execution_count": 3,
   "metadata": {
    "colab": {
     "base_uri": "https://localhost:8080/"
    },
    "executionInfo": {
     "elapsed": 135,
     "status": "ok",
     "timestamp": 1738784536295,
     "user": {
      "displayName": "Pierce Zhang",
      "userId": "16829693512041287452"
     },
     "user_tz": 360
    },
    "id": "PUj-t1ncgc1j",
    "outputId": "a3896708-8f2e-40aa-a147-0691e3d62197"
   },
   "outputs": [
    {
     "data": {
      "text/plain": [
       "<module 'FEMSinkVelo' from '/home/jovyan/work/modules/FEMSinkVelo.py'>"
      ]
     },
     "execution_count": 3,
     "metadata": {},
     "output_type": "execute_result"
    }
   ],
   "source": [
    "import FEMSinkVelo\n",
    "importlib.reload(FEMSinkVelo)"
   ]
  },
  {
   "cell_type": "code",
   "execution_count": 4,
   "metadata": {
    "colab": {
     "base_uri": "https://localhost:8080/"
    },
    "executionInfo": {
     "elapsed": 120,
     "status": "ok",
     "timestamp": 1738782494372,
     "user": {
      "displayName": "Pierce Zhang",
      "userId": "16829693512041287452"
     },
     "user_tz": 360
    },
    "id": "hXsJpQAd_Q2l",
    "outputId": "cbea3f0d-8fc5-4bc7-96a6-8d6c0779a910"
   },
   "outputs": [
    {
     "data": {
      "text/plain": [
       "<module 'FEMSink2' from '/home/jovyan/work/modules/FEMSink2.py'>"
      ]
     },
     "execution_count": 4,
     "metadata": {},
     "output_type": "execute_result"
    }
   ],
   "source": [
    "import FEMSink2\n",
    "importlib.reload(FEMSink2)"
   ]
  },
  {
   "cell_type": "code",
   "execution_count": 5,
   "metadata": {
    "colab": {
     "base_uri": "https://localhost:8080/"
    },
    "executionInfo": {
     "elapsed": 3051,
     "status": "ok",
     "timestamp": 1738785454460,
     "user": {
      "displayName": "Pierce Zhang",
      "userId": "16829693512041287452"
     },
     "user_tz": 360
    },
    "id": "0EH1o3qqgPE2",
    "outputId": "d17c66ce-8d0d-406f-eede-5d8d3ae28f4d"
   },
   "outputs": [
    {
     "name": "stderr",
     "output_type": "stream",
     "text": [
      "Averaging over 154 cells: 100%|██████████| 154/154 [00:00<00:00, 2137.00it/s]\n"
     ]
    },
    {
     "name": "stdout",
     "output_type": "stream",
     "text": [
      "Applied BC! Non-empty list\n"
     ]
    }
   ],
   "source": [
    "fem_test = FEMSinkVelo.FEMSinkVelo(\n",
    "    G=G,\n",
    "    gamma = 1.45e8,\n",
    "    gamma_R = 1300,\n",
    "    gamma_v = 25,\n",
    "    gamma_a = 2,\n",
    "    mu = 1.0e-3, # Viscosity\n",
    "    k_t = 1.0e-10, # Tissue permeability in 3D\n",
    "    k_v = 1.5e-11, # Vessel permeability in 1D\n",
    "    P_in = 100.0 * 133.322, # 100 mmHg\n",
    "    p_cvp = 1.0 * 133.322, # 1 mmHg\n",
    "    Lambda_inlet = [0],\n",
    "    Lambda_padding_min = 0.008\n",
    ")"
   ]
  },
  {
   "cell_type": "code",
   "execution_count": 6,
   "metadata": {
    "colab": {
     "base_uri": "https://localhost:8080/"
    },
    "executionInfo": {
     "elapsed": 130,
     "status": "ok",
     "timestamp": 1738785466892,
     "user": {
      "displayName": "Pierce Zhang",
      "userId": "16829693512041287452"
     },
     "user_tz": 360
    },
    "id": "7lwq1bEmtvoa",
    "outputId": "34df1345-4c66-4848-8e49-a51bc9b3141a"
   },
   "outputs": [
    {
     "name": "stdout",
     "output_type": "stream",
     "text": [
      "7.935253019215513e-06\n"
     ]
    }
   ],
   "source": [
    "print(fem_test.compute_inflow_inlet())"
   ]
  },
  {
   "cell_type": "code",
   "execution_count": 8,
   "metadata": {
    "colab": {
     "base_uri": "https://localhost:8080/"
    },
    "executionInfo": {
     "elapsed": 122,
     "status": "ok",
     "timestamp": 1738785474785,
     "user": {
      "displayName": "Pierce Zhang",
      "userId": "16829693512041287452"
     },
     "user_tz": 360
    },
    "id": "s4savFmKSOXD",
    "outputId": "d28fcc3b-cfb9-42f7-b208-8dd0785ca8e1"
   },
   "outputs": [
    {
     "data": {
      "text/plain": [
       "<module 'Visualizer' from '/home/jovyan/work/modules/Visualizer.py'>"
      ]
     },
     "execution_count": 8,
     "metadata": {},
     "output_type": "execute_result"
    }
   ],
   "source": [
    "import Visualizer\n",
    "importlib.reload(Visualizer)"
   ]
  },
  {
   "cell_type": "code",
   "execution_count": 9,
   "metadata": {
    "colab": {
     "base_uri": "https://localhost:8080/",
     "height": 477
    },
    "executionInfo": {
     "elapsed": 1249,
     "status": "ok",
     "timestamp": 1738785477012,
     "user": {
      "displayName": "Pierce Zhang",
      "userId": "16829693512041287452"
     },
     "user_tz": 360
    },
    "id": "JNYSKU-rSR5q",
    "outputId": "94aba1e9-03f5-4ee2-c18d-cc63d32c5d01"
   },
   "outputs": [
    {
     "data": {
      "image/png": "[encoded data removed]",
      "text/plain": [
       "<Figure size 1400x600 with 4 Axes>"
      ]
     },
     "metadata": {},
     "output_type": "display_data"
    }
   ],
   "source": [
    "Visualizer.plot(fem_test.uh1d, fem_test.uh3d)"
   ]
  },
  {
   "cell_type": "code",
   "execution_count": null,
   "metadata": {
    "colab": {
     "base_uri": "https://localhost:8080/",
     "height": 1000
    },
    "executionInfo": {
     "elapsed": 839,
     "status": "ok",
     "timestamp": 1738785486281,
     "user": {
      "displayName": "Pierce Zhang",
      "userId": "16829693512041287452"
     },
     "user_tz": 360
    },
    "id": "NjCkyyoroKcH",
    "outputId": "1ebbecba-b8c8-402b-b44c-011b9f4841cd"
   },
   "outputs": [
    {
     "name": "stdout",
     "output_type": "stream",
     "text": [
      "Node Pressure Data:\n",
      "Node 8: Pressure 12723.7\n",
      "Node 9: Pressure 11979.0\n",
      "Node 10: Pressure 10866.5\n",
      "Node 11: Pressure 9578.3\n",
      "Node 12: Pressure 8410.1\n",
      "Node 13: Pressure 7413.6\n",
      "Node 14: Pressure 6802.9\n",
      "Node 15: Pressure 6288.3\n",
      "Node 16: Pressure 5720.6\n",
      "Node 17: Pressure 5212.0\n",
      "Node 18: Pressure 4359.5\n",
      "Node 19: Pressure 3938.8\n",
      "Node 20: Pressure 3545.2\n",
      "Node 21: Pressure 3179.9\n",
      "Node 22: Pressure 2865.7\n",
      "Node 23: Pressure 2570.5\n",
      "Node 24: Pressure 2298.2\n",
      "Node 25: Pressure 2057.6\n",
      "Node 26: Pressure 1861.8\n",
      "Node 27: Pressure 1723.3\n",
      "Node 48: Pressure 1358.0\n",
      "Node 49: Pressure 1195.6\n",
      "Node 50: Pressure 1076.5\n",
      "Node 51: Pressure 967.3\n",
      "Node 52: Pressure 861.7\n",
      "Node 53: Pressure 759.6\n",
      "Node 54: Pressure 654.7\n",
      "Node 55: Pressure 546.5\n",
      "Node 56: Pressure 418.6\n",
      "Node 57: Pressure 258.3\n"
     ]
    },
    {
     "data": {
      "image/png": "[encoded data removed]",
      "text/plain": [
       "<Figure size 800x600 with 1 Axes>"
      ]
     },
     "metadata": {},
     "output_type": "display_data"
    }
   ],
   "source": [
    "Visualizer.plot_path_pressure(fem_test.uh1d, intermediate_nodes)"
   ]
  },
  {
   "cell_type": "code",
   "execution_count": null,
   "metadata": {
    "colab": {
     "base_uri": "https://localhost:8080/",
     "height": 1000
    },
    "executionInfo": {
     "elapsed": 554400,
     "status": "ok",
     "timestamp": 1738785373202,
     "user": {
      "displayName": "Pierce Zhang",
      "userId": "16829693512041287452"
     },
     "user_tz": 360
    },
    "id": "PUg1T5AP8ZTo",
    "outputId": "b42ae8d0-9739-4cdd-c021-de0ca9419dc6"
   },
   "outputs": [
    {
     "name": "stderr",
     "output_type": "stream",
     "text": [
      "Averaging over 154 cells: 100%|██████████| 154/154 [00:00<00:00, 793.89it/s]\n"
     ]
    },
    {
     "name": "stdout",
     "output_type": "stream",
     "text": [
      "Applied BC! Non-empty list\n"
     ]
    },
    {
     "name": "stderr",
     "output_type": "stream",
     "text": [
      "Averaging over 154 cells: 100%|██████████| 154/154 [00:00<00:00, 503.25it/s]\n"
     ]
    },
    {
     "name": "stdout",
     "output_type": "stream",
     "text": [
      "Applied BC! Non-empty list\n"
     ]
    },
    {
     "name": "stderr",
     "output_type": "stream",
     "text": [
      "Averaging over 154 cells: 100%|██████████| 154/154 [00:00<00:00, 570.66it/s]\n"
     ]
    },
    {
     "name": "stdout",
     "output_type": "stream",
     "text": [
      "Applied BC! Non-empty list\n"
     ]
    },
    {
     "name": "stderr",
     "output_type": "stream",
     "text": [
      "Averaging over 154 cells: 100%|██████████| 154/154 [00:00<00:00, 751.73it/s]\n"
     ]
    },
    {
     "name": "stdout",
     "output_type": "stream",
     "text": [
      "Applied BC! Non-empty list\n"
     ]
    },
    {
     "name": "stderr",
     "output_type": "stream",
     "text": [
      "Averaging over 154 cells: 100%|██████████| 154/154 [00:00<00:00, 783.42it/s]\n"
     ]
    },
    {
     "name": "stdout",
     "output_type": "stream",
     "text": [
      "Applied BC! Non-empty list\n"
     ]
    },
    {
     "name": "stderr",
     "output_type": "stream",
     "text": [
      "Averaging over 154 cells: 100%|██████████| 154/154 [00:00<00:00, 821.30it/s]\n"
     ]
    },
    {
     "name": "stdout",
     "output_type": "stream",
     "text": [
      "Applied BC! Non-empty list\n"
     ]
    },
    {
     "name": "stderr",
     "output_type": "stream",
     "text": [
      "Averaging over 154 cells: 100%|██████████| 154/154 [00:00<00:00, 459.54it/s]\n"
     ]
    },
    {
     "name": "stdout",
     "output_type": "stream",
     "text": [
      "Applied BC! Non-empty list\n"
     ]
    },
    {
     "name": "stderr",
     "output_type": "stream",
     "text": [
      "Averaging over 154 cells: 100%|██████████| 154/154 [00:00<00:00, 759.61it/s]\n"
     ]
    },
    {
     "name": "stdout",
     "output_type": "stream",
     "text": [
      "Applied BC! Non-empty list\n"
     ]
    },
    {
     "name": "stderr",
     "output_type": "stream",
     "text": [
      "Averaging over 154 cells: 100%|██████████| 154/154 [00:00<00:00, 797.79it/s]\n"
     ]
    },
    {
     "name": "stdout",
     "output_type": "stream",
     "text": [
      "Applied BC! Non-empty list\n",
      "Iteration 1: parameters (log scale) = [-0.2    0.06   0.06   0.06  -7.994], cost = 3.1662565036122315e-09\n"
     ]
    },
    {
     "name": "stderr",
     "output_type": "stream",
     "text": [
      "Averaging over 154 cells: 100%|██████████| 154/154 [00:00<00:00, 821.86it/s]\n"
     ]
    },
    {
     "name": "stdout",
     "output_type": "stream",
     "text": [
      "Applied BC! Non-empty list\n"
     ]
    },
    {
     "name": "stderr",
     "output_type": "stream",
     "text": [
      "Averaging over 154 cells: 100%|██████████| 154/154 [00:00<00:00, 499.11it/s]\n"
     ]
    },
    {
     "name": "stdout",
     "output_type": "stream",
     "text": [
      "Applied BC! Non-empty list\n",
      "Iteration 2: parameters (log scale) = [-0.2    0.06   0.06   0.06  -7.994], cost = 3.1662565036122315e-09\n"
     ]
    },
    {
     "name": "stderr",
     "output_type": "stream",
     "text": [
      "Averaging over 154 cells: 100%|██████████| 154/154 [00:00<00:00, 503.91it/s]\n"
     ]
    },
    {
     "name": "stdout",
     "output_type": "stream",
     "text": [
      "Applied BC! Non-empty list\n"
     ]
    },
    {
     "name": "stderr",
     "output_type": "stream",
     "text": [
      "Averaging over 154 cells: 100%|██████████| 154/154 [00:00<00:00, 796.90it/s]\n"
     ]
    },
    {
     "name": "stdout",
     "output_type": "stream",
     "text": [
      "Applied BC! Non-empty list\n",
      "Iteration 3: parameters (log scale) = [-0.2    0.06   0.06   0.06  -7.994], cost = 3.1662565036122315e-09\n"
     ]
    },
    {
     "name": "stderr",
     "output_type": "stream",
     "text": [
      "Averaging over 154 cells: 100%|██████████| 154/154 [00:00<00:00, 813.17it/s]\n"
     ]
    },
    {
     "name": "stdout",
     "output_type": "stream",
     "text": [
      "Applied BC! Non-empty list\n"
     ]
    },
    {
     "name": "stderr",
     "output_type": "stream",
     "text": [
      "Averaging over 154 cells: 100%|██████████| 154/154 [00:00<00:00, 814.88it/s]\n"
     ]
    },
    {
     "name": "stdout",
     "output_type": "stream",
     "text": [
      "Applied BC! Non-empty list\n",
      "Iteration 4: parameters (log scale) = [-0.2    0.06   0.06   0.06  -7.994], cost = 3.1662565036122315e-09\n"
     ]
    },
    {
     "name": "stderr",
     "output_type": "stream",
     "text": [
      "Averaging over 154 cells: 100%|██████████| 154/154 [00:00<00:00, 502.23it/s]\n"
     ]
    },
    {
     "name": "stdout",
     "output_type": "stream",
     "text": [
      "Applied BC! Non-empty list\n"
     ]
    },
    {
     "name": "stderr",
     "output_type": "stream",
     "text": [
      "Averaging over 154 cells: 100%|██████████| 154/154 [00:00<00:00, 826.34it/s]\n"
     ]
    },
    {
     "name": "stdout",
     "output_type": "stream",
     "text": [
      "Applied BC! Non-empty list\n"
     ]
    },
    {
     "name": "stderr",
     "output_type": "stream",
     "text": [
      "Averaging over 154 cells: 100%|██████████| 154/154 [00:00<00:00, 839.58it/s]\n"
     ]
    },
    {
     "name": "stdout",
     "output_type": "stream",
     "text": [
      "Applied BC! Non-empty list\n",
      "Iteration 5: parameters (log scale) = [-0.32928    0.061824   0.263424   0.119424  -8.0018816], cost = 3.1623950195381295e-09\n"
     ]
    },
    {
     "name": "stderr",
     "output_type": "stream",
     "text": [
      "Averaging over 154 cells: 100%|██████████| 154/154 [00:00<00:00, 812.39it/s]\n"
     ]
    },
    {
     "name": "stdout",
     "output_type": "stream",
     "text": [
      "Applied BC! Non-empty list\n"
     ]
    },
    {
     "name": "stderr",
     "output_type": "stream",
     "text": [
      "Averaging over 154 cells: 100%|██████████| 154/154 [00:00<00:00, 826.03it/s]\n"
     ]
    },
    {
     "name": "stdout",
     "output_type": "stream",
     "text": [
      "Applied BC! Non-empty list\n"
     ]
    },
    {
     "name": "stderr",
     "output_type": "stream",
     "text": [
      "Averaging over 154 cells: 100%|██████████| 154/154 [00:00<00:00, 452.11it/s]\n"
     ]
    },
    {
     "name": "stdout",
     "output_type": "stream",
     "text": [
      "Applied BC! Non-empty list\n",
      "Iteration 6: parameters (log scale) = [-0.526848    0.0989184   0.1614784   0.1910784  -8.00301056], cost = 3.156487686130434e-09\n"
     ]
    },
    {
     "name": "stderr",
     "output_type": "stream",
     "text": [
      "Averaging over 154 cells: 100%|██████████| 154/154 [00:00<00:00, 837.91it/s]\n"
     ]
    },
    {
     "name": "stdout",
     "output_type": "stream",
     "text": [
      "Applied BC! Non-empty list\n"
     ]
    },
    {
     "name": "stderr",
     "output_type": "stream",
     "text": [
      "Averaging over 154 cells: 100%|██████████| 154/154 [00:00<00:00, 817.33it/s]\n"
     ]
    },
    {
     "name": "stdout",
     "output_type": "stream",
     "text": [
      "Applied BC! Non-empty list\n",
      "Iteration 7: parameters (log scale) = [-0.526848    0.0989184   0.1614784   0.1910784  -8.00301056], cost = 3.156487686130434e-09\n"
     ]
    },
    {
     "name": "stderr",
     "output_type": "stream",
     "text": [
      "Averaging over 154 cells: 100%|██████████| 154/154 [00:00<00:00, 704.54it/s]\n"
     ]
    },
    {
     "name": "stdout",
     "output_type": "stream",
     "text": [
      "Applied BC! Non-empty list\n"
     ]
    },
    {
     "name": "stderr",
     "output_type": "stream",
     "text": [
      "Averaging over 154 cells: 100%|██████████| 154/154 [00:00<00:00, 520.32it/s]\n"
     ]
    },
    {
     "name": "stdout",
     "output_type": "stream",
     "text": [
      "Applied BC! Non-empty list\n"
     ]
    },
    {
     "name": "stderr",
     "output_type": "stream",
     "text": [
      "Averaging over 154 cells: 100%|██████████| 154/154 [00:00<00:00, 713.69it/s]\n"
     ]
    },
    {
     "name": "stdout",
     "output_type": "stream",
     "text": [
      "Applied BC! Non-empty list\n",
      "Iteration 8: parameters (log scale) = [-0.77373952  0.26045722  0.31659162  0.10289562 -7.99413565], cost = 3.1479446723695016e-09\n"
     ]
    },
    {
     "name": "stderr",
     "output_type": "stream",
     "text": [
      "Averaging over 154 cells: 100%|██████████| 154/154 [00:00<00:00, 715.90it/s]\n"
     ]
    },
    {
     "name": "stdout",
     "output_type": "stream",
     "text": [
      "Applied BC! Non-empty list\n"
     ]
    },
    {
     "name": "stderr",
     "output_type": "stream",
     "text": [
      "Averaging over 154 cells: 100%|██████████| 154/154 [00:00<00:00, 811.74it/s]\n"
     ]
    },
    {
     "name": "stdout",
     "output_type": "stream",
     "text": [
      "Applied BC! Non-empty list\n",
      "Iteration 9: parameters (log scale) = [-0.77373952  0.26045722  0.31659162  0.10289562 -7.99413565], cost = 3.1479446723695016e-09\n"
     ]
    },
    {
     "name": "stderr",
     "output_type": "stream",
     "text": [
      "Averaging over 154 cells: 100%|██████████| 154/154 [00:00<00:00, 827.61it/s]\n"
     ]
    },
    {
     "name": "stdout",
     "output_type": "stream",
     "text": [
      "Applied BC! Non-empty list\n"
     ]
    },
    {
     "name": "stderr",
     "output_type": "stream",
     "text": [
      "Averaging over 154 cells: 100%|██████████| 154/154 [00:00<00:00, 462.31it/s]\n"
     ]
    },
    {
     "name": "stdout",
     "output_type": "stream",
     "text": [
      "Applied BC! Non-empty list\n"
     ]
    },
    {
     "name": "stderr",
     "output_type": "stream",
     "text": [
      "Averaging over 154 cells: 100%|██████████| 154/154 [00:00<00:00, 668.35it/s]\n"
     ]
    },
    {
     "name": "stdout",
     "output_type": "stream",
     "text": [
      "Applied BC! Non-empty list\n",
      "Iteration 10: parameters (log scale) = [-1.30098452  0.24391056  0.62341162  0.34633258 -8.00296563], cost = 3.1140125866669186e-09\n"
     ]
    },
    {
     "name": "stderr",
     "output_type": "stream",
     "text": [
      "Averaging over 154 cells: 100%|██████████| 154/154 [00:00<00:00, 698.74it/s]\n"
     ]
    },
    {
     "name": "stdout",
     "output_type": "stream",
     "text": [
      "Applied BC! Non-empty list\n"
     ]
    },
    {
     "name": "stderr",
     "output_type": "stream",
     "text": [
      "Averaging over 154 cells: 100%|██████████| 154/154 [00:00<00:00, 712.89it/s]\n"
     ]
    },
    {
     "name": "stdout",
     "output_type": "stream",
     "text": [
      "Applied BC! Non-empty list\n",
      "Iteration 11: parameters (log scale) = [-1.30098452  0.24391056  0.62341162  0.34633258 -8.00296563], cost = 3.1140125866669186e-09\n"
     ]
    },
    {
     "name": "stderr",
     "output_type": "stream",
     "text": [
      "Averaging over 154 cells: 100%|██████████| 154/154 [00:00<00:00, 466.10it/s]\n"
     ]
    },
    {
     "name": "stdout",
     "output_type": "stream",
     "text": [
      "Applied BC! Non-empty list\n"
     ]
    },
    {
     "name": "stderr",
     "output_type": "stream",
     "text": [
      "Averaging over 154 cells: 100%|██████████| 154/154 [00:00<00:00, 619.72it/s]\n"
     ]
    },
    {
     "name": "stdout",
     "output_type": "stream",
     "text": [
      "Applied BC! Non-empty list\n"
     ]
    },
    {
     "name": "stderr",
     "output_type": "stream",
     "text": [
      "Averaging over 154 cells: 100%|██████████| 154/154 [00:00<00:00, 716.08it/s]\n"
     ]
    },
    {
     "name": "stdout",
     "output_type": "stream",
     "text": [
      "Applied BC! Non-empty list\n",
      "Iteration 12: parameters (log scale) = [-1.83011702  0.58395941  0.62357137  0.47485032 -8.00644821], cost = 3.0479128281790256e-09\n"
     ]
    },
    {
     "name": "stderr",
     "output_type": "stream",
     "text": [
      "Averaging over 154 cells: 100%|██████████| 154/154 [00:00<00:00, 721.92it/s]\n"
     ]
    },
    {
     "name": "stdout",
     "output_type": "stream",
     "text": [
      "Applied BC! Non-empty list\n"
     ]
    },
    {
     "name": "stderr",
     "output_type": "stream",
     "text": [
      "Averaging over 154 cells: 100%|██████████| 154/154 [00:00<00:00, 752.29it/s]\n"
     ]
    },
    {
     "name": "stdout",
     "output_type": "stream",
     "text": [
      "Applied BC! Non-empty list\n",
      "Iteration 13: parameters (log scale) = [-1.83011702  0.58395941  0.62357137  0.47485032 -8.00644821], cost = 3.0479128281790256e-09\n"
     ]
    },
    {
     "name": "stderr",
     "output_type": "stream",
     "text": [
      "Averaging over 154 cells: 100%|██████████| 154/154 [00:00<00:00, 451.22it/s]\n"
     ]
    },
    {
     "name": "stdout",
     "output_type": "stream",
     "text": [
      "Applied BC! Non-empty list\n"
     ]
    },
    {
     "name": "stderr",
     "output_type": "stream",
     "text": [
      "Averaging over 154 cells: 100%|██████████| 154/154 [00:00<00:00, 782.48it/s]\n"
     ]
    },
    {
     "name": "stdout",
     "output_type": "stream",
     "text": [
      "Applied BC! Non-empty list\n"
     ]
    },
    {
     "name": "stderr",
     "output_type": "stream",
     "text": [
      "Averaging over 154 cells: 100%|██████████| 154/154 [00:00<00:00, 767.41it/s]\n"
     ]
    },
    {
     "name": "stdout",
     "output_type": "stream",
     "text": [
      "Applied BC! Non-empty list\n",
      "Iteration 14: parameters (log scale) = [-2.63736809  0.76972978  1.03698065  0.45934374 -8.00661489], cost = 2.8006241473084716e-09\n"
     ]
    },
    {
     "name": "stderr",
     "output_type": "stream",
     "text": [
      "Averaging over 154 cells: 100%|██████████| 154/154 [00:00<00:00, 759.76it/s]\n"
     ]
    },
    {
     "name": "stdout",
     "output_type": "stream",
     "text": [
      "Applied BC! Non-empty list\n"
     ]
    },
    {
     "name": "stderr",
     "output_type": "stream",
     "text": [
      "Averaging over 154 cells: 100%|██████████| 154/154 [00:00<00:00, 485.63it/s]\n"
     ]
    },
    {
     "name": "stdout",
     "output_type": "stream",
     "text": [
      "Applied BC! Non-empty list\n"
     ]
    },
    {
     "name": "stderr",
     "output_type": "stream",
     "text": [
      "Averaging over 154 cells: 100%|██████████| 154/154 [00:00<00:00, 747.97it/s]\n"
     ]
    },
    {
     "name": "stdout",
     "output_type": "stream",
     "text": [
      "Applied BC! Non-empty list\n",
      "Iteration 15: parameters (log scale) = [-3.71833716  0.89318895  1.39912762  0.96663336 -8.01251838], cost = 2.013757933353928e-09\n"
     ]
    },
    {
     "name": "stderr",
     "output_type": "stream",
     "text": [
      "Averaging over 154 cells: 100%|██████████| 154/154 [00:00<00:00, 803.51it/s]\n"
     ]
    },
    {
     "name": "stdout",
     "output_type": "stream",
     "text": [
      "Applied BC! Non-empty list\n"
     ]
    },
    {
     "name": "stderr",
     "output_type": "stream",
     "text": [
      "Averaging over 154 cells: 100%|██████████| 154/154 [00:00<00:00, 802.03it/s]\n"
     ]
    },
    {
     "name": "stdout",
     "output_type": "stream",
     "text": [
      "Applied BC! Non-empty list\n",
      "Iteration 16: parameters (log scale) = [-3.71833716  0.89318895  1.39912762  0.96663336 -8.01251838], cost = 2.013757933353928e-09\n"
     ]
    },
    {
     "name": "stderr",
     "output_type": "stream",
     "text": [
      "Averaging over 154 cells: 100%|██████████| 154/154 [00:00<00:00, 688.73it/s]\n"
     ]
    },
    {
     "name": "stdout",
     "output_type": "stream",
     "text": [
      "Applied BC! Non-empty list\n"
     ]
    },
    {
     "name": "stderr",
     "output_type": "stream",
     "text": [
      "Averaging over 154 cells: 100%|██████████| 154/154 [00:00<00:00, 487.02it/s]\n"
     ]
    },
    {
     "name": "stdout",
     "output_type": "stream",
     "text": [
      "Applied BC! Non-empty list\n"
     ]
    },
    {
     "name": "stderr",
     "output_type": "stream",
     "text": [
      "Averaging over 154 cells: 100%|██████████| 154/154 [00:00<00:00, 774.23it/s]\n"
     ]
    },
    {
     "name": "stdout",
     "output_type": "stream",
     "text": [
      "Applied BC! Non-empty list\n",
      "Iteration 17: parameters (log scale) = [-5.39450238  1.73064656  1.85793472  1.14649369 -8.01466847], cost = 3.1276666174683625e-10\n"
     ]
    },
    {
     "name": "stderr",
     "output_type": "stream",
     "text": [
      "Averaging over 154 cells: 100%|██████████| 154/154 [00:00<00:00, 727.60it/s]\n"
     ]
    },
    {
     "name": "stdout",
     "output_type": "stream",
     "text": [
      "Applied BC! Non-empty list\n"
     ]
    },
    {
     "name": "stderr",
     "output_type": "stream",
     "text": [
      "Averaging over 154 cells: 100%|██████████| 154/154 [00:00<00:00, 819.39it/s]\n"
     ]
    },
    {
     "name": "stdout",
     "output_type": "stream",
     "text": [
      "Applied BC! Non-empty list\n",
      "Iteration 18: parameters (log scale) = [-5.39450238  1.73064656  1.85793472  1.14649369 -8.01466847], cost = 3.1276666174683625e-10\n"
     ]
    },
    {
     "name": "stderr",
     "output_type": "stream",
     "text": [
      "Averaging over 154 cells: 100%|██████████| 154/154 [00:00<00:00, 407.27it/s]\n"
     ]
    },
    {
     "name": "stdout",
     "output_type": "stream",
     "text": [
      "Applied BC! Non-empty list\n"
     ]
    },
    {
     "name": "stderr",
     "output_type": "stream",
     "text": [
      "Averaging over 154 cells: 100%|██████████| 154/154 [00:00<00:00, 813.79it/s]\n"
     ]
    },
    {
     "name": "stdout",
     "output_type": "stream",
     "text": [
      "Applied BC! Non-empty list\n"
     ]
    },
    {
     "name": "stderr",
     "output_type": "stream",
     "text": [
      "Averaging over 154 cells: 100%|██████████| 154/154 [00:00<00:00, 753.55it/s]\n"
     ]
    },
    {
     "name": "stdout",
     "output_type": "stream",
     "text": [
      "Applied BC! Non-empty list\n",
      "Iteration 19: parameters (log scale) = [-8.3552589   2.31320837  3.2390998   1.73981365 -8.03482379], cost = 2.5344723478637575e-11\n"
     ]
    },
    {
     "name": "stderr",
     "output_type": "stream",
     "text": [
      "Averaging over 154 cells: 100%|██████████| 154/154 [00:00<00:00, 774.20it/s]\n"
     ]
    },
    {
     "name": "stdout",
     "output_type": "stream",
     "text": [
      "Applied BC! Non-empty list\n"
     ]
    },
    {
     "name": "stderr",
     "output_type": "stream",
     "text": [
      "Averaging over 154 cells: 100%|██████████| 154/154 [00:00<00:00, 821.83it/s]\n"
     ]
    },
    {
     "name": "stdout",
     "output_type": "stream",
     "text": [
      "Applied BC! Non-empty list\n",
      "Iteration 20: parameters (log scale) = [-8.3552589   2.31320837  3.2390998   1.73981365 -8.03482379], cost = 2.5344723478637575e-11\n"
     ]
    },
    {
     "name": "stderr",
     "output_type": "stream",
     "text": [
      "Averaging over 154 cells: 100%|██████████| 154/154 [00:00<00:00, 435.08it/s]\n"
     ]
    },
    {
     "name": "stdout",
     "output_type": "stream",
     "text": [
      "Applied BC! Non-empty list\n"
     ]
    },
    {
     "name": "stderr",
     "output_type": "stream",
     "text": [
      "Averaging over 154 cells: 100%|██████████| 154/154 [00:00<00:00, 717.32it/s]\n"
     ]
    },
    {
     "name": "stdout",
     "output_type": "stream",
     "text": [
      "Applied BC! Non-empty list\n"
     ]
    },
    {
     "name": "stderr",
     "output_type": "stream",
     "text": [
      "Averaging over 154 cells: 100%|██████████| 154/154 [00:00<00:00, 775.36it/s]\n"
     ]
    },
    {
     "name": "stdout",
     "output_type": "stream",
     "text": [
      "Applied BC! Non-empty list\n",
      "Iteration 21: parameters (log scale) = [-11.39175716   3.25140145   3.89985721   2.55511643  -8.04495286], cost = 2.500031650164773e-11\n"
     ]
    },
    {
     "name": "stderr",
     "output_type": "stream",
     "text": [
      "Averaging over 154 cells: 100%|██████████| 154/154 [00:00<00:00, 817.85it/s]\n"
     ]
    },
    {
     "name": "stdout",
     "output_type": "stream",
     "text": [
      "Applied BC! Non-empty list\n"
     ]
    },
    {
     "name": "stderr",
     "output_type": "stream",
     "text": [
      "Averaging over 154 cells: 100%|██████████| 154/154 [00:00<00:00, 549.34it/s]\n"
     ]
    },
    {
     "name": "stdout",
     "output_type": "stream",
     "text": [
      "Applied BC! Non-empty list\n",
      "Iteration 22: parameters (log scale) = [-11.39175716   3.25140145   3.89985721   2.55511643  -8.04495286], cost = 2.500031650164773e-11\n"
     ]
    },
    {
     "name": "stderr",
     "output_type": "stream",
     "text": [
      "Averaging over 154 cells: 100%|██████████| 154/154 [00:00<00:00, 830.10it/s]\n"
     ]
    },
    {
     "name": "stdout",
     "output_type": "stream",
     "text": [
      "Applied BC! Non-empty list\n"
     ]
    },
    {
     "name": "stderr",
     "output_type": "stream",
     "text": [
      "Averaging over 154 cells: 100%|██████████| 154/154 [00:00<00:00, 704.82it/s]\n"
     ]
    },
    {
     "name": "stdout",
     "output_type": "stream",
     "text": [
      "Applied BC! Non-empty list\n"
     ]
    },
    {
     "name": "stderr",
     "output_type": "stream",
     "text": [
      "Averaging over 154 cells: 100%|██████████| 154/154 [00:00<00:00, 814.00it/s]\n"
     ]
    },
    {
     "name": "stdout",
     "output_type": "stream",
     "text": [
      "Applied BC! Non-empty list\n",
      "Iteration 23: parameters (log scale) = [-16.61304127   4.83804324   5.93958682   3.54038517  -8.05012746], cost = 2.5000000001901043e-11\n"
     ]
    },
    {
     "name": "stderr",
     "output_type": "stream",
     "text": [
      "Averaging over 154 cells: 100%|██████████| 154/154 [00:00<00:00, 812.40it/s]\n"
     ]
    },
    {
     "name": "stdout",
     "output_type": "stream",
     "text": [
      "Applied BC! Non-empty list\n"
     ]
    },
    {
     "name": "stderr",
     "output_type": "stream",
     "text": [
      "Averaging over 154 cells: 100%|██████████| 154/154 [00:00<00:00, 460.86it/s]\n"
     ]
    },
    {
     "name": "stdout",
     "output_type": "stream",
     "text": [
      "Applied BC! Non-empty list\n"
     ]
    },
    {
     "name": "stderr",
     "output_type": "stream",
     "text": [
      "Averaging over 154 cells: 100%|██████████| 154/154 [00:00<00:00, 759.72it/s]\n"
     ]
    },
    {
     "name": "stdout",
     "output_type": "stream",
     "text": [
      "Applied BC! Non-empty list\n",
      "Iteration 24: parameters (log scale) = [-22.45212584   6.16792194   8.2630152    4.95753714  -8.10154367], cost = 2.4999999999999607e-11\n"
     ]
    },
    {
     "name": "stderr",
     "output_type": "stream",
     "text": [
      "Averaging over 154 cells: 100%|██████████| 154/154 [00:00<00:00, 807.07it/s]\n"
     ]
    },
    {
     "name": "stdout",
     "output_type": "stream",
     "text": [
      "Applied BC! Non-empty list\n"
     ]
    },
    {
     "name": "stderr",
     "output_type": "stream",
     "text": [
      "Averaging over 154 cells: 100%|██████████| 154/154 [00:00<00:00, 780.48it/s]\n"
     ]
    },
    {
     "name": "stdout",
     "output_type": "stream",
     "text": [
      "Applied BC! Non-empty list\n",
      "Iteration 25: parameters (log scale) = [-22.45212584   6.16792194   8.2630152    4.95753714  -8.10154367], cost = 2.4999999999999607e-11\n"
     ]
    },
    {
     "name": "stderr",
     "output_type": "stream",
     "text": [
      "Averaging over 154 cells: 100%|██████████| 154/154 [00:00<00:00, 502.07it/s]\n"
     ]
    },
    {
     "name": "stdout",
     "output_type": "stream",
     "text": [
      "Applied BC! Non-empty list\n"
     ]
    },
    {
     "name": "stderr",
     "output_type": "stream",
     "text": [
      "Averaging over 154 cells: 100%|██████████| 154/154 [00:00<00:00, 839.92it/s]\n"
     ]
    },
    {
     "name": "stdout",
     "output_type": "stream",
     "text": [
      "Applied BC! Non-empty list\n",
      "Iteration 26: parameters (log scale) = [-22.45212584   6.16792194   8.2630152    4.95753714  -8.10154367], cost = 2.4999999999999607e-11\n"
     ]
    },
    {
     "name": "stderr",
     "output_type": "stream",
     "text": [
      "Averaging over 154 cells: 100%|██████████| 154/154 [00:00<00:00, 750.70it/s]\n"
     ]
    },
    {
     "name": "stdout",
     "output_type": "stream",
     "text": [
      "Applied BC! Non-empty list\n"
     ]
    },
    {
     "name": "stderr",
     "output_type": "stream",
     "text": [
      "Averaging over 154 cells: 100%|██████████| 154/154 [00:00<00:00, 717.42it/s]\n"
     ]
    },
    {
     "name": "stdout",
     "output_type": "stream",
     "text": [
      "Applied BC! Non-empty list\n",
      "Iteration 27: parameters (log scale) = [-22.45212584   6.16792194   8.2630152    4.95753714  -8.10154367], cost = 2.4999999999999607e-11\n"
     ]
    },
    {
     "name": "stderr",
     "output_type": "stream",
     "text": [
      "Averaging over 154 cells: 100%|██████████| 154/154 [00:00<00:00, 797.84it/s]\n"
     ]
    },
    {
     "name": "stdout",
     "output_type": "stream",
     "text": [
      "Applied BC! Non-empty list\n"
     ]
    },
    {
     "name": "stderr",
     "output_type": "stream",
     "text": [
      "Averaging over 154 cells: 100%|██████████| 154/154 [00:00<00:00, 420.19it/s]\n"
     ]
    },
    {
     "name": "stdout",
     "output_type": "stream",
     "text": [
      "Applied BC! Non-empty list\n"
     ]
    },
    {
     "name": "stderr",
     "output_type": "stream",
     "text": [
      "Averaging over 154 cells: 100%|██████████| 154/154 [00:00<00:00, 445.09it/s]\n"
     ]
    },
    {
     "name": "stdout",
     "output_type": "stream",
     "text": [
      "Applied BC! Non-empty list\n",
      "Iteration 28: parameters (log scale) = [-43.70649536  12.33245095  15.96973083   9.23664828  -8.16175121], cost = 2.4999999999999565e-11\n"
     ]
    },
    {
     "name": "stderr",
     "output_type": "stream",
     "text": [
      "Averaging over 154 cells: 100%|██████████| 154/154 [00:00<00:00, 808.60it/s]\n"
     ]
    },
    {
     "name": "stdout",
     "output_type": "stream",
     "text": [
      "Applied BC! Non-empty list\n"
     ]
    },
    {
     "name": "stderr",
     "output_type": "stream",
     "text": [
      "Averaging over 154 cells: 100%|██████████| 154/154 [00:00<00:00, 779.86it/s]\n"
     ]
    },
    {
     "name": "stdout",
     "output_type": "stream",
     "text": [
      "Applied BC! Non-empty list\n",
      "Iteration 29: parameters (log scale) = [-43.70649536  12.33245095  15.96973083   9.23664828  -8.16175121], cost = 2.4999999999999565e-11\n"
     ]
    },
    {
     "name": "stderr",
     "output_type": "stream",
     "text": [
      "Averaging over 154 cells: 100%|██████████| 154/154 [00:00<00:00, 464.95it/s]\n"
     ]
    },
    {
     "name": "stdout",
     "output_type": "stream",
     "text": [
      "Applied BC! Non-empty list\n"
     ]
    },
    {
     "name": "stderr",
     "output_type": "stream",
     "text": [
      "Averaging over 154 cells: 100%|██████████| 154/154 [00:00<00:00, 800.44it/s]\n"
     ]
    },
    {
     "name": "stdout",
     "output_type": "stream",
     "text": [
      "Applied BC! Non-empty list\n",
      "Iteration 30: parameters (log scale) = [-43.70649536  12.33245095  15.96973083   9.23664828  -8.16175121], cost = 2.4999999999999565e-11\n"
     ]
    },
    {
     "name": "stderr",
     "output_type": "stream",
     "text": [
      "Averaging over 154 cells: 100%|██████████| 154/154 [00:00<00:00, 713.88it/s]\n"
     ]
    },
    {
     "name": "stdout",
     "output_type": "stream",
     "text": [
      "Applied BC! Non-empty list\n"
     ]
    },
    {
     "name": "stderr",
     "output_type": "stream",
     "text": [
      "Averaging over 154 cells: 100%|██████████| 154/154 [00:00<00:00, 834.83it/s]\n"
     ]
    },
    {
     "name": "stdout",
     "output_type": "stream",
     "text": [
      "Applied BC! Non-empty list\n",
      "Iteration 31: parameters (log scale) = [-43.70649536  12.33245095  15.96973083   9.23664828  -8.16175121], cost = 2.4999999999999565e-11\n"
     ]
    },
    {
     "name": "stderr",
     "output_type": "stream",
     "text": [
      "Averaging over 154 cells: 100%|██████████| 154/154 [00:00<00:00, 497.30it/s]\n"
     ]
    },
    {
     "name": "stdout",
     "output_type": "stream",
     "text": [
      "Applied BC! Non-empty list\n"
     ]
    },
    {
     "name": "stderr",
     "output_type": "stream",
     "text": [
      "Averaging over 154 cells: 100%|██████████| 154/154 [00:00<00:00, 816.82it/s]\n"
     ]
    },
    {
     "name": "stdout",
     "output_type": "stream",
     "text": [
      "Applied BC! Non-empty list\n"
     ]
    },
    {
     "name": "stderr",
     "output_type": "stream",
     "text": [
      "Averaging over 154 cells: 100%|██████████| 154/154 [00:00<00:00, 809.80it/s]\n"
     ]
    },
    {
     "name": "stdout",
     "output_type": "stream",
     "text": [
      "Applied BC! Non-empty list\n"
     ]
    },
    {
     "name": "stderr",
     "output_type": "stream",
     "text": [
      "Averaging over 154 cells: 100%|██████████| 154/154 [00:00<00:00, 828.06it/s]\n"
     ]
    },
    {
     "name": "stdout",
     "output_type": "stream",
     "text": [
      "Applied BC! Non-empty list\n"
     ]
    },
    {
     "name": "stderr",
     "output_type": "stream",
     "text": [
      "Averaging over 154 cells: 100%|██████████| 154/154 [00:00<00:00, 740.32it/s]\n"
     ]
    },
    {
     "name": "stdout",
     "output_type": "stream",
     "text": [
      "Applied BC! Non-empty list\n"
     ]
    },
    {
     "name": "stderr",
     "output_type": "stream",
     "text": [
      "Averaging over 154 cells: 100%|██████████| 154/154 [00:00<00:00, 468.28it/s]\n"
     ]
    },
    {
     "name": "stdout",
     "output_type": "stream",
     "text": [
      "Applied BC! Non-empty list\n"
     ]
    },
    {
     "name": "stderr",
     "output_type": "stream",
     "text": [
      "Averaging over 154 cells: 100%|██████████| 154/154 [00:00<00:00, 779.23it/s]\n"
     ]
    },
    {
     "name": "stdout",
     "output_type": "stream",
     "text": [
      "Applied BC! Non-empty list\n"
     ]
    },
    {
     "name": "stderr",
     "output_type": "stream",
     "text": [
      "Averaging over 154 cells: 100%|██████████| 154/154 [00:00<00:00, 715.64it/s]\n"
     ]
    },
    {
     "name": "stdout",
     "output_type": "stream",
     "text": [
      "Applied BC! Non-empty list\n",
      "Iteration 32: parameters (log scale) = [-43.70649536  12.33245095  15.96973083   9.23664828  -8.16175121], cost = 2.4999999999999565e-11\n"
     ]
    },
    {
     "name": "stderr",
     "output_type": "stream",
     "text": [
      "Averaging over 154 cells: 100%|██████████| 154/154 [00:00<00:00, 811.54it/s]\n"
     ]
    },
    {
     "name": "stdout",
     "output_type": "stream",
     "text": [
      "Applied BC! Non-empty list\n"
     ]
    },
    {
     "name": "stderr",
     "output_type": "stream",
     "text": [
      "Averaging over 154 cells: 100%|██████████| 154/154 [00:00<00:00, 475.87it/s]\n"
     ]
    },
    {
     "name": "stdout",
     "output_type": "stream",
     "text": [
      "Applied BC! Non-empty list\n"
     ]
    },
    {
     "name": "stderr",
     "output_type": "stream",
     "text": [
      "Averaging over 154 cells: 100%|██████████| 154/154 [00:00<00:00, 814.29it/s]\n"
     ]
    },
    {
     "name": "stdout",
     "output_type": "stream",
     "text": [
      "Applied BC! Non-empty list\n",
      "Iteration 33: parameters (log scale) = [-43.70649536  12.33245095  15.96973083   9.23664828  -8.16175121], cost = 2.4999999999999565e-11\n"
     ]
    },
    {
     "name": "stderr",
     "output_type": "stream",
     "text": [
      "Averaging over 154 cells: 100%|██████████| 154/154 [00:00<00:00, 698.07it/s]\n"
     ]
    },
    {
     "name": "stdout",
     "output_type": "stream",
     "text": [
      "Applied BC! Non-empty list\n"
     ]
    },
    {
     "name": "stderr",
     "output_type": "stream",
     "text": [
      "Averaging over 154 cells: 100%|██████████| 154/154 [00:00<00:00, 837.18it/s]\n"
     ]
    },
    {
     "name": "stdout",
     "output_type": "stream",
     "text": [
      "Applied BC! Non-empty list\n",
      "Iteration 34: parameters (log scale) = [-43.70649536  12.33245095  15.96973083   9.23664828  -8.16175121], cost = 2.4999999999999565e-11\n"
     ]
    },
    {
     "name": "stderr",
     "output_type": "stream",
     "text": [
      "Averaging over 154 cells: 100%|██████████| 154/154 [00:00<00:00, 758.29it/s]\n"
     ]
    },
    {
     "name": "stdout",
     "output_type": "stream",
     "text": [
      "Applied BC! Non-empty list\n"
     ]
    },
    {
     "name": "stderr",
     "output_type": "stream",
     "text": [
      "Averaging over 154 cells: 100%|██████████| 154/154 [00:00<00:00, 447.95it/s]\n"
     ]
    },
    {
     "name": "stdout",
     "output_type": "stream",
     "text": [
      "Applied BC! Non-empty list\n",
      "Iteration 35: parameters (log scale) = [-43.70649536  12.33245095  15.96973083   9.23664828  -8.16175121], cost = 2.4999999999999565e-11\n"
     ]
    },
    {
     "name": "stderr",
     "output_type": "stream",
     "text": [
      "Averaging over 154 cells: 100%|██████████| 154/154 [00:00<00:00, 778.96it/s]\n"
     ]
    },
    {
     "name": "stdout",
     "output_type": "stream",
     "text": [
      "Applied BC! Non-empty list\n"
     ]
    },
    {
     "name": "stderr",
     "output_type": "stream",
     "text": [
      "Averaging over 154 cells: 100%|██████████| 154/154 [00:00<00:00, 743.78it/s]\n"
     ]
    },
    {
     "name": "stdout",
     "output_type": "stream",
     "text": [
      "Applied BC! Non-empty list\n"
     ]
    },
    {
     "name": "stderr",
     "output_type": "stream",
     "text": [
      "Averaging over 154 cells: 100%|██████████| 154/154 [00:00<00:00, 691.34it/s]\n"
     ]
    },
    {
     "name": "stdout",
     "output_type": "stream",
     "text": [
      "Applied BC! Non-empty list\n"
     ]
    },
    {
     "name": "stderr",
     "output_type": "stream",
     "text": [
      "Averaging over 154 cells: 100%|██████████| 154/154 [00:00<00:00, 451.99it/s]\n"
     ]
    },
    {
     "name": "stdout",
     "output_type": "stream",
     "text": [
      "Applied BC! Non-empty list\n"
     ]
    },
    {
     "name": "stderr",
     "output_type": "stream",
     "text": [
      "Averaging over 154 cells: 100%|██████████| 154/154 [00:00<00:00, 552.17it/s]\n"
     ]
    },
    {
     "name": "stdout",
     "output_type": "stream",
     "text": [
      "Applied BC! Non-empty list\n"
     ]
    },
    {
     "name": "stderr",
     "output_type": "stream",
     "text": [
      "Averaging over 154 cells: 100%|██████████| 154/154 [00:00<00:00, 779.85it/s]\n"
     ]
    },
    {
     "name": "stdout",
     "output_type": "stream",
     "text": [
      "Applied BC! Non-empty list\n"
     ]
    },
    {
     "name": "stderr",
     "output_type": "stream",
     "text": [
      "Averaging over 154 cells: 100%|██████████| 154/154 [00:00<00:00, 797.89it/s]\n"
     ]
    },
    {
     "name": "stdout",
     "output_type": "stream",
     "text": [
      "Applied BC! Non-empty list\n"
     ]
    },
    {
     "name": "stderr",
     "output_type": "stream",
     "text": [
      "Averaging over 154 cells: 100%|██████████| 154/154 [00:00<00:00, 817.21it/s]\n"
     ]
    },
    {
     "name": "stdout",
     "output_type": "stream",
     "text": [
      "Applied BC! Non-empty list\n",
      "Iteration 36: parameters (log scale) = [-43.70649536  12.33245095  15.96973083   9.23664828  -8.16175121], cost = 2.4999999999999565e-11\n"
     ]
    },
    {
     "name": "stderr",
     "output_type": "stream",
     "text": [
      "Averaging over 154 cells: 100%|██████████| 154/154 [00:00<00:00, 489.12it/s]\n"
     ]
    },
    {
     "name": "stdout",
     "output_type": "stream",
     "text": [
      "Applied BC! Non-empty list\n"
     ]
    },
    {
     "name": "stderr",
     "output_type": "stream",
     "text": [
      "Averaging over 154 cells: 100%|██████████| 154/154 [00:00<00:00, 800.52it/s]\n"
     ]
    },
    {
     "name": "stdout",
     "output_type": "stream",
     "text": [
      "Applied BC! Non-empty list\n",
      "Iteration 37: parameters (log scale) = [-43.70649536  12.33245095  15.96973083   9.23664828  -8.16175121], cost = 2.4999999999999565e-11\n"
     ]
    },
    {
     "name": "stderr",
     "output_type": "stream",
     "text": [
      "Averaging over 154 cells: 100%|██████████| 154/154 [00:00<00:00, 825.98it/s]\n"
     ]
    },
    {
     "name": "stdout",
     "output_type": "stream",
     "text": [
      "Applied BC! Non-empty list\n"
     ]
    },
    {
     "name": "stderr",
     "output_type": "stream",
     "text": [
      "Averaging over 154 cells: 100%|██████████| 154/154 [00:00<00:00, 595.93it/s]\n"
     ]
    },
    {
     "name": "stdout",
     "output_type": "stream",
     "text": [
      "Applied BC! Non-empty list\n",
      "Iteration 38: parameters (log scale) = [-43.70649536  12.33245095  15.96973083   9.23664828  -8.16175121], cost = 2.4999999999999565e-11\n"
     ]
    },
    {
     "name": "stderr",
     "output_type": "stream",
     "text": [
      "Averaging over 154 cells: 100%|██████████| 154/154 [00:00<00:00, 809.89it/s]\n"
     ]
    },
    {
     "name": "stdout",
     "output_type": "stream",
     "text": [
      "Applied BC! Non-empty list\n"
     ]
    },
    {
     "name": "stderr",
     "output_type": "stream",
     "text": [
      "Averaging over 154 cells: 100%|██████████| 154/154 [00:00<00:00, 407.13it/s]\n"
     ]
    },
    {
     "name": "stdout",
     "output_type": "stream",
     "text": [
      "Applied BC! Non-empty list\n",
      "Iteration 39: parameters (log scale) = [-43.70649536  12.33245095  15.96973083   9.23664828  -8.16175121], cost = 2.4999999999999565e-11\n"
     ]
    },
    {
     "name": "stderr",
     "output_type": "stream",
     "text": [
      "Averaging over 154 cells: 100%|██████████| 154/154 [00:00<00:00, 778.97it/s]\n"
     ]
    },
    {
     "name": "stdout",
     "output_type": "stream",
     "text": [
      "Applied BC! Non-empty list\n"
     ]
    },
    {
     "name": "stderr",
     "output_type": "stream",
     "text": [
      "Averaging over 154 cells: 100%|██████████| 154/154 [00:00<00:00, 749.16it/s]\n"
     ]
    },
    {
     "name": "stdout",
     "output_type": "stream",
     "text": [
      "Applied BC! Non-empty list\n"
     ]
    },
    {
     "name": "stderr",
     "output_type": "stream",
     "text": [
      "Averaging over 154 cells: 100%|██████████| 154/154 [00:00<00:00, 782.57it/s]\n"
     ]
    },
    {
     "name": "stdout",
     "output_type": "stream",
     "text": [
      "Applied BC! Non-empty list\n",
      "Iteration 40: parameters (log scale) = [-43.70649536  12.33245095  15.96973083   9.23664828  -8.16175121], cost = 2.4999999999999565e-11\n"
     ]
    },
    {
     "name": "stderr",
     "output_type": "stream",
     "text": [
      "Averaging over 154 cells: 100%|██████████| 154/154 [00:00<00:00, 508.51it/s]\n"
     ]
    },
    {
     "name": "stdout",
     "output_type": "stream",
     "text": [
      "Applied BC! Non-empty list\n"
     ]
    },
    {
     "name": "stderr",
     "output_type": "stream",
     "text": [
      "Averaging over 154 cells: 100%|██████████| 154/154 [00:00<00:00, 724.95it/s]\n"
     ]
    },
    {
     "name": "stdout",
     "output_type": "stream",
     "text": [
      "Applied BC! Non-empty list\n",
      "Iteration 41: parameters (log scale) = [-43.70649536  12.33245095  15.96973083   9.23664828  -8.16175121], cost = 2.4999999999999565e-11\n"
     ]
    },
    {
     "name": "stderr",
     "output_type": "stream",
     "text": [
      "Averaging over 154 cells: 100%|██████████| 154/154 [00:00<00:00, 825.62it/s]\n"
     ]
    },
    {
     "name": "stdout",
     "output_type": "stream",
     "text": [
      "Applied BC! Non-empty list\n"
     ]
    },
    {
     "name": "stderr",
     "output_type": "stream",
     "text": [
      "Averaging over 154 cells: 100%|██████████| 154/154 [00:00<00:00, 820.55it/s]\n"
     ]
    },
    {
     "name": "stdout",
     "output_type": "stream",
     "text": [
      "Applied BC! Non-empty list\n"
     ]
    },
    {
     "name": "stderr",
     "output_type": "stream",
     "text": [
      "Averaging over 154 cells: 100%|██████████| 154/154 [00:00<00:00, 795.25it/s]\n"
     ]
    },
    {
     "name": "stdout",
     "output_type": "stream",
     "text": [
      "Applied BC! Non-empty list\n",
      "Iteration 42: parameters (log scale) = [-43.70649536  12.33245095  15.96973083   9.23664828  -8.16175121], cost = 2.4999999999999565e-11\n"
     ]
    },
    {
     "name": "stderr",
     "output_type": "stream",
     "text": [
      "Averaging over 154 cells: 100%|██████████| 154/154 [00:00<00:00, 547.40it/s]\n"
     ]
    },
    {
     "name": "stdout",
     "output_type": "stream",
     "text": [
      "Applied BC! Non-empty list\n"
     ]
    },
    {
     "name": "stderr",
     "output_type": "stream",
     "text": [
      "Averaging over 154 cells: 100%|██████████| 154/154 [00:00<00:00, 809.08it/s]\n"
     ]
    },
    {
     "name": "stdout",
     "output_type": "stream",
     "text": [
      "Applied BC! Non-empty list\n"
     ]
    },
    {
     "name": "stderr",
     "output_type": "stream",
     "text": [
      "Averaging over 154 cells: 100%|██████████| 154/154 [00:00<00:00, 809.19it/s]\n"
     ]
    },
    {
     "name": "stdout",
     "output_type": "stream",
     "text": [
      "Applied BC! Non-empty list\n",
      "Iteration 43: parameters (log scale) = [-43.70649536  12.33245095  15.96973083   9.23664828  -8.16175121], cost = 2.4999999999999565e-11\n"
     ]
    },
    {
     "name": "stderr",
     "output_type": "stream",
     "text": [
      "Averaging over 154 cells: 100%|██████████| 154/154 [00:00<00:00, 807.87it/s]\n"
     ]
    },
    {
     "name": "stdout",
     "output_type": "stream",
     "text": [
      "Applied BC! Non-empty list\n"
     ]
    },
    {
     "name": "stderr",
     "output_type": "stream",
     "text": [
      "Averaging over 154 cells: 100%|██████████| 154/154 [00:00<00:00, 763.55it/s]\n"
     ]
    },
    {
     "name": "stdout",
     "output_type": "stream",
     "text": [
      "Applied BC! Non-empty list\n"
     ]
    },
    {
     "name": "stderr",
     "output_type": "stream",
     "text": [
      "Averaging over 154 cells: 100%|██████████| 154/154 [00:00<00:00, 487.72it/s]\n"
     ]
    },
    {
     "name": "stdout",
     "output_type": "stream",
     "text": [
      "Applied BC! Non-empty list\n",
      "Iteration 44: parameters (log scale) = [-43.78749355  12.33660209  15.99307935   9.28839868  -8.16014975], cost = 2.4999999999999555e-11\n"
     ]
    },
    {
     "name": "stderr",
     "output_type": "stream",
     "text": [
      "Averaging over 154 cells: 100%|██████████| 154/154 [00:00<00:00, 816.25it/s]\n"
     ]
    },
    {
     "name": "stdout",
     "output_type": "stream",
     "text": [
      "Applied BC! Non-empty list\n"
     ]
    },
    {
     "name": "stderr",
     "output_type": "stream",
     "text": [
      "Averaging over 154 cells: 100%|██████████| 154/154 [00:00<00:00, 785.30it/s]\n"
     ]
    },
    {
     "name": "stdout",
     "output_type": "stream",
     "text": [
      "Applied BC! Non-empty list\n"
     ]
    },
    {
     "name": "stderr",
     "output_type": "stream",
     "text": [
      "Averaging over 154 cells: 100%|██████████| 154/154 [00:00<00:00, 702.17it/s]\n"
     ]
    },
    {
     "name": "stdout",
     "output_type": "stream",
     "text": [
      "Applied BC! Non-empty list\n"
     ]
    },
    {
     "name": "stderr",
     "output_type": "stream",
     "text": [
      "Averaging over 154 cells: 100%|██████████| 154/154 [00:00<00:00, 474.75it/s]\n"
     ]
    },
    {
     "name": "stdout",
     "output_type": "stream",
     "text": [
      "Applied BC! Non-empty list\n"
     ]
    },
    {
     "name": "stderr",
     "output_type": "stream",
     "text": [
      "Averaging over 154 cells: 100%|██████████| 154/154 [00:00<00:00, 807.89it/s]\n"
     ]
    },
    {
     "name": "stdout",
     "output_type": "stream",
     "text": [
      "Applied BC! Non-empty list\n"
     ]
    },
    {
     "name": "stderr",
     "output_type": "stream",
     "text": [
      "Averaging over 154 cells: 100%|██████████| 154/154 [00:00<00:00, 805.29it/s]\n"
     ]
    },
    {
     "name": "stdout",
     "output_type": "stream",
     "text": [
      "Applied BC! Non-empty list\n"
     ]
    },
    {
     "name": "stderr",
     "output_type": "stream",
     "text": [
      "Averaging over 154 cells: 100%|██████████| 154/154 [00:00<00:00, 806.39it/s]\n"
     ]
    },
    {
     "name": "stdout",
     "output_type": "stream",
     "text": [
      "Applied BC! Non-empty list\n"
     ]
    },
    {
     "name": "stderr",
     "output_type": "stream",
     "text": [
      "Averaging over 154 cells: 100%|██████████| 154/154 [00:00<00:00, 773.73it/s]\n"
     ]
    },
    {
     "name": "stdout",
     "output_type": "stream",
     "text": [
      "Applied BC! Non-empty list\n",
      "Iteration 45: parameters (log scale) = [-43.78749355  12.33660209  15.99307935   9.28839868  -8.16014975], cost = 2.4999999999999555e-11\n"
     ]
    },
    {
     "name": "stderr",
     "output_type": "stream",
     "text": [
      "Averaging over 154 cells: 100%|██████████| 154/154 [00:00<00:00, 464.39it/s]\n"
     ]
    },
    {
     "name": "stdout",
     "output_type": "stream",
     "text": [
      "Applied BC! Non-empty list\n"
     ]
    },
    {
     "name": "stderr",
     "output_type": "stream",
     "text": [
      "Averaging over 154 cells: 100%|██████████| 154/154 [00:00<00:00, 756.72it/s]\n"
     ]
    },
    {
     "name": "stdout",
     "output_type": "stream",
     "text": [
      "Applied BC! Non-empty list\n",
      "Iteration 46: parameters (log scale) = [-43.78749355  12.33660209  15.99307935   9.28839868  -8.16014975], cost = 2.4999999999999555e-11\n"
     ]
    },
    {
     "name": "stderr",
     "output_type": "stream",
     "text": [
      "Averaging over 154 cells: 100%|██████████| 154/154 [00:00<00:00, 783.92it/s]\n"
     ]
    },
    {
     "name": "stdout",
     "output_type": "stream",
     "text": [
      "Applied BC! Non-empty list\n"
     ]
    },
    {
     "name": "stderr",
     "output_type": "stream",
     "text": [
      "Averaging over 154 cells: 100%|██████████| 154/154 [00:00<00:00, 816.58it/s]\n"
     ]
    },
    {
     "name": "stdout",
     "output_type": "stream",
     "text": [
      "Applied BC! Non-empty list\n"
     ]
    },
    {
     "name": "stderr",
     "output_type": "stream",
     "text": [
      "Averaging over 154 cells: 100%|██████████| 154/154 [00:00<00:00, 521.53it/s]\n"
     ]
    },
    {
     "name": "stdout",
     "output_type": "stream",
     "text": [
      "Applied BC! Non-empty list\n"
     ]
    },
    {
     "name": "stderr",
     "output_type": "stream",
     "text": [
      "Averaging over 154 cells: 100%|██████████| 154/154 [00:00<00:00, 447.39it/s]\n"
     ]
    },
    {
     "name": "stdout",
     "output_type": "stream",
     "text": [
      "Applied BC! Non-empty list\n"
     ]
    },
    {
     "name": "stderr",
     "output_type": "stream",
     "text": [
      "Averaging over 154 cells: 100%|██████████| 154/154 [00:00<00:00, 805.05it/s]\n"
     ]
    },
    {
     "name": "stdout",
     "output_type": "stream",
     "text": [
      "Applied BC! Non-empty list\n"
     ]
    },
    {
     "name": "stderr",
     "output_type": "stream",
     "text": [
      "Averaging over 154 cells: 100%|██████████| 154/154 [00:00<00:00, 787.83it/s]\n"
     ]
    },
    {
     "name": "stdout",
     "output_type": "stream",
     "text": [
      "Applied BC! Non-empty list\n"
     ]
    },
    {
     "name": "stderr",
     "output_type": "stream",
     "text": [
      "Averaging over 154 cells: 100%|██████████| 154/154 [00:00<00:00, 815.82it/s]\n"
     ]
    },
    {
     "name": "stdout",
     "output_type": "stream",
     "text": [
      "Applied BC! Non-empty list\n"
     ]
    },
    {
     "name": "stderr",
     "output_type": "stream",
     "text": [
      "Averaging over 154 cells: 100%|██████████| 154/154 [00:00<00:00, 509.31it/s]\n"
     ]
    },
    {
     "name": "stdout",
     "output_type": "stream",
     "text": [
      "Applied BC! Non-empty list\n",
      "Iteration 47: parameters (log scale) = [-43.78749355  12.33660209  15.99307935   9.28839868  -8.16014975], cost = 2.4999999999999555e-11\n"
     ]
    },
    {
     "name": "stderr",
     "output_type": "stream",
     "text": [
      "Averaging over 154 cells: 100%|██████████| 154/154 [00:00<00:00, 807.74it/s]\n"
     ]
    },
    {
     "name": "stdout",
     "output_type": "stream",
     "text": [
      "Applied BC! Non-empty list\n"
     ]
    },
    {
     "name": "stderr",
     "output_type": "stream",
     "text": [
      "Averaging over 154 cells: 100%|██████████| 154/154 [00:00<00:00, 784.41it/s]\n"
     ]
    },
    {
     "name": "stdout",
     "output_type": "stream",
     "text": [
      "Applied BC! Non-empty list\n"
     ]
    },
    {
     "name": "stderr",
     "output_type": "stream",
     "text": [
      "Averaging over 154 cells: 100%|██████████| 154/154 [00:00<00:00, 790.52it/s]\n"
     ]
    },
    {
     "name": "stdout",
     "output_type": "stream",
     "text": [
      "Applied BC! Non-empty list\n"
     ]
    },
    {
     "name": "stderr",
     "output_type": "stream",
     "text": [
      "Averaging over 154 cells: 100%|██████████| 154/154 [00:00<00:00, 806.53it/s]\n"
     ]
    },
    {
     "name": "stdout",
     "output_type": "stream",
     "text": [
      "Applied BC! Non-empty list\n"
     ]
    },
    {
     "name": "stderr",
     "output_type": "stream",
     "text": [
      "Averaging over 154 cells: 100%|██████████| 154/154 [00:00<00:00, 446.07it/s]\n"
     ]
    },
    {
     "name": "stdout",
     "output_type": "stream",
     "text": [
      "Applied BC! Non-empty list\n"
     ]
    },
    {
     "name": "stderr",
     "output_type": "stream",
     "text": [
      "Averaging over 154 cells: 100%|██████████| 154/154 [00:00<00:00, 797.46it/s]\n"
     ]
    },
    {
     "name": "stdout",
     "output_type": "stream",
     "text": [
      "Applied BC! Non-empty list\n"
     ]
    },
    {
     "name": "stderr",
     "output_type": "stream",
     "text": [
      "Averaging over 154 cells: 100%|██████████| 154/154 [00:00<00:00, 723.29it/s]\n"
     ]
    },
    {
     "name": "stdout",
     "output_type": "stream",
     "text": [
      "Applied BC! Non-empty list\n"
     ]
    },
    {
     "name": "stderr",
     "output_type": "stream",
     "text": [
      "Averaging over 154 cells: 100%|██████████| 154/154 [00:00<00:00, 777.10it/s]\n"
     ]
    },
    {
     "name": "stdout",
     "output_type": "stream",
     "text": [
      "Applied BC! Non-empty list\n",
      "Iteration 48: parameters (log scale) = [-43.78749355  12.33660209  15.99307935   9.28839868  -8.16014975], cost = 2.4999999999999555e-11\n"
     ]
    },
    {
     "name": "stderr",
     "output_type": "stream",
     "text": [
      "Averaging over 154 cells: 100%|██████████| 154/154 [00:00<00:00, 717.90it/s]\n"
     ]
    },
    {
     "name": "stdout",
     "output_type": "stream",
     "text": [
      "Applied BC! Non-empty list\n"
     ]
    },
    {
     "name": "stderr",
     "output_type": "stream",
     "text": [
      "Averaging over 154 cells: 100%|██████████| 154/154 [00:00<00:00, 449.43it/s]\n"
     ]
    },
    {
     "name": "stdout",
     "output_type": "stream",
     "text": [
      "Applied BC! Non-empty list\n"
     ]
    },
    {
     "name": "stderr",
     "output_type": "stream",
     "text": [
      "Averaging over 154 cells: 100%|██████████| 154/154 [00:00<00:00, 399.91it/s]\n"
     ]
    },
    {
     "name": "stdout",
     "output_type": "stream",
     "text": [
      "Applied BC! Non-empty list\n",
      "Iteration 49: parameters (log scale) = [-43.78749355  12.33660209  15.99307935   9.28839868  -8.16014975], cost = 2.4999999999999555e-11\n"
     ]
    },
    {
     "name": "stderr",
     "output_type": "stream",
     "text": [
      "<ipython-input-60-8805a12eb8fb>:70: RuntimeWarning: Maximum number of iterations has been exceeded.\n",
      "  result = minimize(\n",
      "Averaging over 154 cells: 100%|██████████| 154/154 [00:00<00:00, 740.06it/s]\n"
     ]
    },
    {
     "name": "stdout",
     "output_type": "stream",
     "text": [
      "Applied BC! Non-empty list\n"
     ]
    },
    {
     "data": {
      "image/png": "[encoded data removed]",
      "text/plain": [
       "<Figure size 800x500 with 1 Axes>"
      ]
     },
     "metadata": {},
     "output_type": "display_data"
    },
    {
     "name": "stdout",
     "output_type": "stream",
     "text": [
      "Optimization successful? False\n",
      "Status code: 2\n",
      "Message: Maximum number of iterations has been exceeded.\n",
      "Number of iterations: 50\n",
      "Final cost: 2.4999999999999555e-11\n",
      "gamma    = 1.631e-44\n",
      "gamma_R  = 2.171e+12\n",
      "gamma_a  = 9.842e+15\n",
      "gamma_v  = 1.943e+09\n",
      "k_v      = 6.916e-09\n",
      "flow     = 4.453e-20\n"
     ]
    }
   ],
   "source": [
    "import numpy as np\n",
    "from scipy.optimize import minimize\n",
    "import matplotlib.pyplot as plt\n",
    "\n",
    "def black_box_flow(gamma, gamma_R, gamma_a, gamma_v, k_v):\n",
    "    fem_test = FEMSinkVelo.FEMSinkVelo(\n",
    "        G=G,\n",
    "        gamma=gamma,\n",
    "        gamma_R=gamma_R,\n",
    "        gamma_a=gamma_a,\n",
    "        gamma_v=gamma_v,\n",
    "        mu=1.0e-3,\n",
    "        k_t=1.0e-10,\n",
    "        k_v=k_v,\n",
    "        P_in=100.0*133.322,\n",
    "        p_cvp=1.0*133.322,\n",
    "        Lambda_inlet=[0],\n",
    "        Lambda_padding_min=0.008\n",
    "    )\n",
    "    flow_val = fem_test.compute_outflow_sink()\n",
    "    return flow_val\n",
    "\n",
    "def cost_function_log(params_log, target_flow):\n",
    "    # Unpack parameters in log-space and convert to linear scale\n",
    "    gamma_linear   = 10.0**(params_log[0])\n",
    "    gamma_R_linear = 10.0**(params_log[1])\n",
    "    gamma_a_linear = 10.0**(params_log[2])\n",
    "    gamma_v_linear = 10.0**(params_log[3])\n",
    "    k_v_linear     = 10.0**(params_log[4])\n",
    "\n",
    "    # Evaluate the flow from the PDE solver\n",
    "    flow_val = black_box_flow(\n",
    "        gamma_linear,\n",
    "        gamma_R_linear,\n",
    "        gamma_a_linear,\n",
    "        gamma_v_linear,\n",
    "        k_v=k_v_linear\n",
    "    )\n",
    "\n",
    "    # Least-squares difference from the target flow\n",
    "    return (flow_val - target_flow)**2\n",
    "\n",
    "def multi_param_fit(\n",
    "    target_flow=500.6,\n",
    "    initial_guess_log=None,\n",
    "    max_iter=50\n",
    "):\n",
    "    if initial_guess_log is None:\n",
    "        initial_guess_log = [0.0, 0.0, 0.0, 0.0, -8.0]\n",
    "\n",
    "    n_params = len(initial_guess_log)\n",
    "    initial_simplex = [np.array(initial_guess_log)]\n",
    "    for i in range(n_params):\n",
    "        vertex = np.array(initial_guess_log, copy=True)\n",
    "        if i == 4:  # k_v dimension: smaller step size\n",
    "            vertex[i] += 0.01\n",
    "        else:\n",
    "            vertex[i] += 0.1\n",
    "        initial_simplex.append(vertex)\n",
    "    initial_simplex = np.array(initial_simplex)\n",
    "\n",
    "    cost_history = []\n",
    "\n",
    "    def callback(xk):\n",
    "        cost = cost_function_log(xk, target_flow=target_flow)\n",
    "        cost_history.append(cost)\n",
    "        iteration_num = len(cost_history)\n",
    "        print(f\"Iteration {iteration_num}: parameters (log scale) = {xk}, cost = {cost}\")\n",
    "\n",
    "    result = minimize(\n",
    "        fun=lambda p: cost_function_log(p, target_flow=target_flow),\n",
    "        x0=np.array(initial_guess_log),\n",
    "        method='Nelder-Mead',\n",
    "        callback=callback,\n",
    "        options={\n",
    "            'maxiter': max_iter,\n",
    "            'disp': True,\n",
    "            'initial_simplex': initial_simplex\n",
    "        }\n",
    "    )\n",
    "\n",
    "    best_log = result.x\n",
    "    gamma_opt   = 10.0**(best_log[0])\n",
    "    gammaR_opt  = 10.0**(best_log[1])\n",
    "    gammaA_opt  = 10.0**(best_log[2])\n",
    "    gammaV_opt  = 10.0**(best_log[3])\n",
    "    k_v_opt     = 10.0**(best_log[4])\n",
    "\n",
    "    flow_final = black_box_flow(gamma_opt, gammaR_opt, gammaA_opt, gammaV_opt, k_v_opt)\n",
    "\n",
    "    # Plot the cost history\n",
    "    plt.figure(figsize=(8, 5))\n",
    "    plt.plot(range(1, len(cost_history) + 1), cost_history, marker='o', linestyle='-')\n",
    "    plt.xlabel('Iteration')\n",
    "    plt.ylabel('Cost')\n",
    "    plt.title('Cost vs. Iterations')\n",
    "    plt.grid(True)\n",
    "    plt.show()\n",
    "\n",
    "    return {\n",
    "        'success': result.success,\n",
    "        'status': result.status,\n",
    "        'message': result.message,\n",
    "        'n_iters': result.nit,\n",
    "        'cost_final': result.fun,\n",
    "        'gamma':   gamma_opt,\n",
    "        'gamma_R': gammaR_opt,\n",
    "        'gamma_a': gammaA_opt,\n",
    "        'gamma_v': gammaV_opt,\n",
    "        'k_v':     k_v_opt,\n",
    "        'flow_final': flow_final,\n",
    "        'cost_history': cost_history\n",
    "    }\n",
    "\n",
    "res = multi_param_fit(target_flow=5.0e-6, max_iter=50)\n",
    "\n",
    "print(\"Optimization successful?\", res['success'])\n",
    "print(\"Status code:\", res['status'])\n",
    "print(\"Message:\", res['message'])\n",
    "print(\"Number of iterations:\", res['n_iters'])\n",
    "print(\"Final cost:\", res['cost_final'])\n",
    "print(f\"gamma    = {res['gamma']:8.4g}\")\n",
    "print(f\"gamma_R  = {res['gamma_R']:8.4g}\")\n",
    "print(f\"gamma_a  = {res['gamma_a']:8.4g}\")\n",
    "print(f\"gamma_v  = {res['gamma_v']:8.4g}\")\n",
    "print(f\"k_v      = {res['k_v']:8.4g}\")\n",
    "print(f\"flow     = {res['flow_final']:8.4g}\")"
   ]
  },
  {
   "cell_type": "code",
   "execution_count": null,
   "metadata": {
    "id": "L3q9LM3i0gVH"
   },
   "outputs": [],
   "source": [
    "fem_test.save_vtk(os.path.join(WD_PATH, \"perfusion_results\", \"25test3\"))"
   ]
  }
 ],
 "metadata": {
  "colab": {
   "provenance": []
  },
  "kernelspec": {
   "display_name": "Python 3 (ipykernel)",
   "language": "python",
   "name": "python3"
  },
  "language_info": {
   "codemirror_mode": {
    "name": "ipython",
    "version": 3
   },
   "file_extension": ".py",
   "mimetype": "text/x-python",
   "name": "python",
   "nbconvert_exporter": "python",
   "pygments_lexer": "ipython3",
   "version": "3.11.6"
  }
 },
 "nbformat": 4,
 "nbformat_minor": 4
}
