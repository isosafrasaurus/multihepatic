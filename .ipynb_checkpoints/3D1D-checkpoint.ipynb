{
  "cells": [
    {
      "cell_type": "code",
      "source": [
        "from google.colab import drive\n",
        "drive.mount('/content/drive')"
      ],
      "metadata": {
        "colab": {
          "base_uri": "https://localhost:8080/"
        },
        "id": "_Cax3RnzYpnz",
        "outputId": "821f8266-0e3e-4445-ce54-4fc44b344467"
      },
      "execution_count": 1,
      "outputs": [
        {
          "output_type": "stream",
          "name": "stdout",
          "text": [
            "Drive already mounted at /content/drive; to attempt to forcibly remount, call drive.mount(\"/content/drive\", force_remount=True).\n"
          ]
        }
      ]
    },
    {
      "cell_type": "markdown",
      "source": [
        "| Parameter    | Units                 | Physical Role                                        |\n",
        "|--------------|-----------------------|------------------------------------------------------|\n",
        "| $$ \\mu $$    | Pa·s                  | Dynamic viscosity of blood                           |\n",
        "| $$ k_t $$    | $$ \\text{m}^2 $$      | 3D tissue permeability                               |\n",
        "| $$ k_v $$    | $$ \\text{m}^2 $$      | Axial permeability along the vessel                  |\n",
        "| $$ \\gamma $$ | $$ \\text{m}/(\\text{Pa}\\cdot\\text{s}) $$ | Vessel wall permeability coefficient (coupling tissue & vessel) |\n",
        "| $$ \\gamma_R $$ | $$ \\text{m}/(\\text{Pa}\\cdot\\text{s}) $$ | Boundary outflow (Robin) permeability                 |\n",
        "| $$ \\gamma_a $$ | m                    | Terminal vessel coupling length scale (hydraulic conductance at end) |"
      ],
      "metadata": {
        "id": "KLbYZsIQtGqb"
      }
    },
    {
      "cell_type": "code",
      "execution_count": 2,
      "metadata": {
        "id": "F5e7FAYF_3VT"
      },
      "outputs": [],
      "source": [
        "# @title Install nonstandard libraries\n",
        "%%capture\n",
        "!pip install ipywidgets\n",
        "!pip install vtk\n",
        "!pip install meshio\n",
        "!pip install pyvista\n",
        "!pip install Rtree\n",
        "\n",
        "import os, re\n",
        "\n",
        "def replace_in_file(file_path):\n",
        "    with open(file_path, 'r', encoding='utf-8') as file:\n",
        "        content = file.read()\n",
        "\n",
        "    # Replace 'ufl' with 'ufl_legacy'\n",
        "    content = re.sub(r'\\bufl\\b', 'ufl_legacy', content)\n",
        "\n",
        "    with open(file_path, 'w', encoding='utf-8') as file:\n",
        "        file.write(content)\n",
        "\n",
        "def process_directory(directory):\n",
        "    for root, _, files in os.walk(directory):\n",
        "        for file in files:\n",
        "            if file.endswith('.py'):\n",
        "                file_path = os.path.join(root, file)\n",
        "                replace_in_file(file_path)\n",
        "\n",
        "# dolfin\n",
        "try:\n",
        "    import dolfin\n",
        "except ImportError:\n",
        "    !wget \"https://fem-on-colab.github.io/releases/fenics-install-real.sh\" -O \"/tmp/fenics-install.sh\" && bash \"/tmp/fenics-install.sh\"\n",
        "\n",
        "# block\n",
        "try:\n",
        "    import block\n",
        "except ImportError:\n",
        "    !git clone \"https://bitbucket.org/fenics-apps/cbc.block/src/master/\"\n",
        "    !pip install master/\n",
        "\n",
        "# fenics_ii\n",
        "try:\n",
        "    import xii\n",
        "except ImportError:\n",
        "    !git clone --single-branch -b \"collapse-iter-dev\" \"https://github.com/MiroK/fenics_ii\"\n",
        "    process_directory(\"fenics_ii/\")\n",
        "    !pip install fenics_ii/\n",
        "\n",
        "# graphnics\n",
        "try:\n",
        "    import graphnics\n",
        "except ImportError:\n",
        "    !git clone \"https://github.com/IngeborgGjerde/graphnics\"\n",
        "    !pip install graphnics/"
      ]
    },
    {
      "cell_type": "code",
      "source": [
        "import xii"
      ],
      "metadata": {
        "colab": {
          "base_uri": "https://localhost:8080/"
        },
        "id": "64_8pAW_OfhB",
        "outputId": "cb9963dc-5656-4db3-d567-a7476d600d56"
      },
      "execution_count": 3,
      "outputs": [
        {
          "output_type": "stream",
          "name": "stderr",
          "text": [
            "/usr/local/lib/python3.11/dist-packages/block/__init__.py:15: UserWarning: The cbc.block repository has moved to https://github.com/blocknics/cbc.block\n",
            "  warnings.warn('The cbc.block repository has moved to https://github.com/blocknics/cbc.block', UserWarning)\n"
          ]
        },
        {
          "output_type": "stream",
          "name": "stdout",
          "text": [
            "Missing HsMG for fract norm computing\n"
          ]
        }
      ]
    },
    {
      "cell_type": "code",
      "execution_count": 4,
      "metadata": {
        "id": "983JJSszkZse"
      },
      "outputs": [],
      "source": [
        "WD_PATH = \"/content/drive/MyDrive/Research/3d-1d\"\n",
        "\n",
        "import sys, os\n",
        "sys.path.append(os.path.join(WD_PATH, 'modules'))\n",
        "\n",
        "import numpy as np\n",
        "import matplotlib.pyplot as plt\n",
        "import networkx as nx\n",
        "import importlib\n",
        "from graphnics import *"
      ]
    },
    {
      "cell_type": "code",
      "source": [
        "import GraphUtility\n",
        "importlib.reload(GraphUtility)\n",
        "\n",
        "TEST_GRAPH_NODES = {\n",
        "    0: [0.000, 0.020, 0.015],   # A\n",
        "    1: [0.010, 0.020, 0.015],   # B\n",
        "    2: [0.022, 0.013, 0.015],   # C\n",
        "    3: [0.022, 0.028, 0.015],   # D\n",
        "    4: [0.015, 0.005, 0.015],   # E\n",
        "    5: [0.015, 0.035, 0.015],   # F\n",
        "    6: [0.038, 0.005, 0.015],   # G\n",
        "    7: [0.038, 0.035, 0.015]    # H\n",
        "}\n",
        "\n",
        "TEST_GRAPH_EDGES = [\n",
        "    (0, 1, 0.004),  # AB\n",
        "    (1, 2, 0.003),  # BC\n",
        "    (1, 3, 0.003),  # BD\n",
        "    (2, 4, 0.002),  # CE\n",
        "    (2, 6, 0.003),  # CG\n",
        "    (3, 5, 0.002),  # DF\n",
        "    (3, 7, 0.003)   # DH\n",
        "]\n",
        "\n",
        "diag_path = [0, 1, 2, 6]\n",
        "try:\n",
        "    G, original_to_new, edge_to_new_nodes = GraphUtility.build_graph(TEST_GRAPH_NODES, TEST_GRAPH_EDGES, 10)\n",
        "    intermediate_nodes = GraphUtility.get_new_nodes_along_path(diag_path, edge_to_new_nodes)\n",
        "    print(\"New (intermediate) nodes along the path:\", intermediate_nodes)\n",
        "except ValueError as e:\n",
        "    print(\"Invalid path:\", e)"
      ],
      "metadata": {
        "id": "92yDZxs367cX",
        "colab": {
          "base_uri": "https://localhost:8080/"
        },
        "outputId": "82c3e395-1734-412c-d400-15954b4f582b"
      },
      "execution_count": 5,
      "outputs": [
        {
          "output_type": "stream",
          "name": "stdout",
          "text": [
            "New (intermediate) nodes along the path: [8, 9, 10, 11, 12, 13, 14, 15, 16, 17, 18, 19, 20, 21, 22, 23, 24, 25, 26, 27, 48, 49, 50, 51, 52, 53, 54, 55, 56, 57]\n"
          ]
        }
      ]
    },
    {
      "cell_type": "code",
      "source": [
        "import FEMSinkVelo"
      ],
      "metadata": {
        "id": "PUj-t1ncgc1j"
      },
      "execution_count": 6,
      "outputs": []
    },
    {
      "cell_type": "code",
      "source": [
        "importlib.reload(FEMSinkVelo)"
      ],
      "metadata": {
        "colab": {
          "base_uri": "https://localhost:8080/"
        },
        "id": "hXsJpQAd_Q2l",
        "outputId": "04e83752-9409-4bef-b470-31b7672d869b"
      },
      "execution_count": 7,
      "outputs": [
        {
          "output_type": "execute_result",
          "data": {
            "text/plain": [
              "<module 'FEMSinkVelo' from '/content/drive/MyDrive/Research/3d-1d/modules/FEMSinkVelo.py'>"
            ]
          },
          "metadata": {},
          "execution_count": 7
        }
      ]
    },
    {
      "cell_type": "code",
      "source": [
        "fem_test = FEMSinkVelo.FEMSinkVelo(\n",
        "    G=G,\n",
        "    gamma = 0,\n",
        "    gamma_R = 1.0e-5,\n",
        "    gamma_v = 1.0e-5,\n",
        "    gamma_a = 1.0e-13,\n",
        "    mu = 1.0e-3, # Viscosity\n",
        "    k_t = 1.0e-10, # Tissue permeability in 3D\n",
        "    k_v = 3.33e-11, # Vessel permeability in 1D\n",
        "    P_in = 100.0 * 133.322, # 100 mmHg\n",
        "    p_cvp = 1.0 * 133.322, # 1 mmHg\n",
        "    Lambda_inlet = [0],\n",
        "    Lambda_padding_min = 0.008,\n",
        "    original_to_new = original_to_new\n",
        ")"
      ],
      "metadata": {
        "colab": {
          "base_uri": "https://localhost:8080/"
        },
        "id": "0EH1o3qqgPE2",
        "outputId": "f35f45ce-cd93-4cdf-b784-5c56ad75e739"
      },
      "execution_count": 8,
      "outputs": [
        {
          "output_type": "stream",
          "name": "stdout",
          "text": [
            "Calling FFC just-in-time (JIT) compiler, this may take some time.\n"
          ]
        },
        {
          "output_type": "stream",
          "name": "stderr",
          "text": [
            "Level 25:FFC:Calling FFC just-in-time (JIT) compiler, this may take some time.\n",
            "INFO:FFC:Compiling element ffc_element_86765630720c088a2ad90ee684d3948b5df76d5b\n",
            "\n",
            "INFO:FFC:Compiler stage 1: Analyzing element(s)\n",
            "INFO:FFC:--------------------------------------\n",
            "INFO:FFC:  \n",
            "INFO:FFC:Compiler stage 1 finished in 0.004951 seconds.\n",
            "\n",
            "INFO:FFC:Compiler stage 2: Computing intermediate representation\n",
            "INFO:FFC:-------------------------------------------------------\n",
            "INFO:FFC:  Computing representation of 1 elements\n",
            "DEBUG:FFC:  Reusing element from cache\n",
            "DEBUG:FFC:  Reusing element from cache\n",
            "DEBUG:FFC:  Reusing element from cache\n",
            "DEBUG:FFC:  Reusing element from cache\n",
            "DEBUG:FFC:  Reusing element from cache\n",
            "DEBUG:FFC:  Reusing element from cache\n",
            "DEBUG:FFC:  Reusing element from cache\n",
            "DEBUG:FFC:  Reusing element from cache\n",
            "INFO:FFC:  Computing representation of 1 dofmaps\n",
            "DEBUG:FFC:  Reusing element from cache\n",
            "INFO:FFC:  Computing representation of 0 coordinate mappings\n",
            "INFO:FFC:  Computing representation of integrals\n",
            "INFO:FFC:  Computing representation of forms\n",
            "INFO:FFC:  \n",
            "INFO:FFC:Compiler stage 2 finished in 0.133408 seconds.\n",
            "\n",
            "INFO:FFC:Compiler stage 3: Optimizing intermediate representation\n",
            "INFO:FFC:--------------------------------------------------------\n",
            "INFO:FFC:  Skipping optimizations, add -O or attach {'optimize': True} metadata to integrals\n",
            "INFO:FFC:  \n",
            "INFO:FFC:Compiler stage 3 finished in 0.0241621 seconds.\n",
            "\n",
            "INFO:FFC:Compiler stage 4: Generating code\n",
            "INFO:FFC:---------------------------------\n",
            "INFO:FFC:  Generating code for 1 finite_element(s)\n",
            "INFO:FFC:  Generating code for 1 dofmap(s)\n",
            "INFO:FFC:  Generating code for 0 coordinate_mapping(s)\n",
            "INFO:FFC:  Generating code for integrals\n",
            "INFO:FFC:  Generating code for forms\n",
            "INFO:FFC:  \n",
            "INFO:FFC:Compiler stage 4 finished in 0.107328 seconds.\n",
            "\n",
            "INFO:FFC:Compiler stage 4.1 finished in 5.00679e-06 seconds.\n",
            "\n",
            "INFO:FFC:Compiler stage 5: Formatting code\n",
            "INFO:FFC:---------------------------------\n",
            "INFO:FFC:  \n",
            "INFO:FFC:Compiler stage 5 finished in 0.021843 seconds.\n",
            "\n",
            "INFO:FFC:FFC finished in 0.337219 seconds.\n"
          ]
        },
        {
          "output_type": "stream",
          "name": "stdout",
          "text": [
            "Calling FFC just-in-time (JIT) compiler, this may take some time.\n"
          ]
        },
        {
          "output_type": "stream",
          "name": "stderr",
          "text": [
            "Level 25:FFC:Calling FFC just-in-time (JIT) compiler, this may take some time.\n",
            "INFO:FFC:Compiling element ffc_element_22bb736b850c370ac1741e1a80b6653eae2ad213\n",
            "\n",
            "INFO:FFC:Compiler stage 1: Analyzing element(s)\n",
            "INFO:FFC:--------------------------------------\n",
            "INFO:FFC:  \n",
            "INFO:FFC:Compiler stage 1 finished in 0.019006 seconds.\n",
            "\n",
            "INFO:FFC:Compiler stage 2: Computing intermediate representation\n",
            "INFO:FFC:-------------------------------------------------------\n",
            "INFO:FFC:  Computing representation of 1 elements\n",
            "DEBUG:FFC:  Reusing element from cache\n",
            "DEBUG:FFC:  Reusing element from cache\n",
            "DEBUG:FFC:  Reusing element from cache\n",
            "INFO:FFC:  Computing representation of 1 dofmaps\n",
            "DEBUG:FFC:  Reusing element from cache\n",
            "INFO:FFC:  Computing representation of 0 coordinate mappings\n",
            "INFO:FFC:  Computing representation of integrals\n",
            "INFO:FFC:  Computing representation of forms\n",
            "INFO:FFC:  \n",
            "INFO:FFC:Compiler stage 2 finished in 0.075963 seconds.\n",
            "\n",
            "INFO:FFC:Compiler stage 3: Optimizing intermediate representation\n",
            "INFO:FFC:--------------------------------------------------------\n",
            "INFO:FFC:  Skipping optimizations, add -O or attach {'optimize': True} metadata to integrals\n",
            "INFO:FFC:  \n",
            "INFO:FFC:Compiler stage 3 finished in 0.0221722 seconds.\n",
            "\n",
            "INFO:FFC:Compiler stage 4: Generating code\n",
            "INFO:FFC:---------------------------------\n",
            "INFO:FFC:  Generating code for 1 finite_element(s)\n",
            "INFO:FFC:  Generating code for 1 dofmap(s)\n",
            "INFO:FFC:  Generating code for 0 coordinate_mapping(s)\n",
            "INFO:FFC:  Generating code for integrals\n",
            "INFO:FFC:  Generating code for forms\n",
            "INFO:FFC:  \n",
            "INFO:FFC:Compiler stage 4 finished in 0.105674 seconds.\n",
            "\n",
            "INFO:FFC:Compiler stage 4.1 finished in 4.05312e-06 seconds.\n",
            "\n",
            "INFO:FFC:Compiler stage 5: Formatting code\n",
            "INFO:FFC:---------------------------------\n",
            "INFO:FFC:  \n",
            "INFO:FFC:Compiler stage 5 finished in 0.0311964 seconds.\n",
            "\n",
            "INFO:FFC:FFC finished in 0.307162 seconds.\n"
          ]
        },
        {
          "output_type": "stream",
          "name": "stdout",
          "text": [
            "Calling FFC just-in-time (JIT) compiler, this may take some time.\n"
          ]
        },
        {
          "output_type": "stream",
          "name": "stderr",
          "text": [
            "Level 25:FFC:Calling FFC just-in-time (JIT) compiler, this may take some time.\n",
            "INFO:FFC:Compiling element ffc_element_cdd21d347a8b939a40c5cd04a75bdb0e0e4b85cb\n",
            "\n",
            "INFO:FFC:Compiler stage 1: Analyzing element(s)\n",
            "INFO:FFC:--------------------------------------\n",
            "INFO:FFC:  \n",
            "INFO:FFC:Compiler stage 1 finished in 0.00655389 seconds.\n",
            "\n",
            "INFO:FFC:Compiler stage 2: Computing intermediate representation\n",
            "INFO:FFC:-------------------------------------------------------\n",
            "INFO:FFC:  Computing representation of 1 elements\n",
            "DEBUG:FFC:  Reusing element from cache\n",
            "DEBUG:FFC:  Reusing element from cache\n",
            "INFO:FFC:  Computing representation of 1 dofmaps\n",
            "DEBUG:FFC:  Reusing element from cache\n",
            "INFO:FFC:  Computing representation of 0 coordinate mappings\n",
            "INFO:FFC:  Computing representation of integrals\n",
            "INFO:FFC:  Computing representation of forms\n",
            "INFO:FFC:  \n",
            "INFO:FFC:Compiler stage 2 finished in 0.504542 seconds.\n",
            "\n",
            "INFO:FFC:Compiler stage 3: Optimizing intermediate representation\n",
            "INFO:FFC:--------------------------------------------------------\n",
            "INFO:FFC:  Skipping optimizations, add -O or attach {'optimize': True} metadata to integrals\n",
            "INFO:FFC:  \n",
            "INFO:FFC:Compiler stage 3 finished in 0.00757766 seconds.\n",
            "\n",
            "INFO:FFC:Compiler stage 4: Generating code\n",
            "INFO:FFC:---------------------------------\n",
            "INFO:FFC:  Generating code for 1 finite_element(s)\n",
            "INFO:FFC:  Generating code for 1 dofmap(s)\n",
            "INFO:FFC:  Generating code for 0 coordinate_mapping(s)\n",
            "INFO:FFC:  Generating code for integrals\n",
            "INFO:FFC:  Generating code for forms\n",
            "INFO:FFC:  \n",
            "INFO:FFC:Compiler stage 4 finished in 0.112149 seconds.\n",
            "\n",
            "INFO:FFC:Compiler stage 4.1 finished in 4.05312e-06 seconds.\n",
            "\n",
            "INFO:FFC:Compiler stage 5: Formatting code\n",
            "INFO:FFC:---------------------------------\n",
            "INFO:FFC:  \n",
            "INFO:FFC:Compiler stage 5 finished in 0.00734973 seconds.\n",
            "\n",
            "INFO:FFC:FFC finished in 0.647651 seconds.\n"
          ]
        },
        {
          "output_type": "stream",
          "name": "stdout",
          "text": [
            "Calling FFC just-in-time (JIT) compiler, this may take some time.\n"
          ]
        },
        {
          "output_type": "stream",
          "name": "stderr",
          "text": [
            "Level 25:FFC:Calling FFC just-in-time (JIT) compiler, this may take some time.\n",
            "INFO:FFC:Compiling element ffc_element_7a13db3e62df35cb076482f827a4c3a63ea1ca80\n",
            "\n",
            "INFO:FFC:Compiler stage 1: Analyzing element(s)\n",
            "INFO:FFC:--------------------------------------\n",
            "INFO:FFC:  \n",
            "INFO:FFC:Compiler stage 1 finished in 0.0121179 seconds.\n",
            "\n",
            "INFO:FFC:Compiler stage 2: Computing intermediate representation\n",
            "INFO:FFC:-------------------------------------------------------\n",
            "INFO:FFC:  Computing representation of 1 elements\n",
            "DEBUG:FFC:  Reusing element from cache\n",
            "DEBUG:FFC:  Reusing element from cache\n",
            "INFO:FFC:  Computing representation of 1 dofmaps\n",
            "DEBUG:FFC:  Reusing element from cache\n",
            "INFO:FFC:  Computing representation of 0 coordinate mappings\n",
            "INFO:FFC:  Computing representation of integrals\n",
            "INFO:FFC:  Computing representation of forms\n",
            "INFO:FFC:  \n",
            "INFO:FFC:Compiler stage 2 finished in 0.0605965 seconds.\n",
            "\n",
            "INFO:FFC:Compiler stage 3: Optimizing intermediate representation\n",
            "INFO:FFC:--------------------------------------------------------\n",
            "INFO:FFC:  Skipping optimizations, add -O or attach {'optimize': True} metadata to integrals\n",
            "INFO:FFC:  \n",
            "INFO:FFC:Compiler stage 3 finished in 0.014153 seconds.\n",
            "\n",
            "INFO:FFC:Compiler stage 4: Generating code\n",
            "INFO:FFC:---------------------------------\n",
            "INFO:FFC:  Generating code for 1 finite_element(s)\n",
            "INFO:FFC:  Generating code for 1 dofmap(s)\n",
            "INFO:FFC:  Generating code for 0 coordinate_mapping(s)\n",
            "INFO:FFC:  Generating code for integrals\n",
            "INFO:FFC:  Generating code for forms\n",
            "INFO:FFC:  \n",
            "INFO:FFC:Compiler stage 4 finished in 0.0677049 seconds.\n",
            "\n",
            "INFO:FFC:Compiler stage 4.1 finished in 4.52995e-06 seconds.\n",
            "\n",
            "INFO:FFC:Compiler stage 5: Formatting code\n",
            "INFO:FFC:---------------------------------\n",
            "INFO:FFC:  \n",
            "INFO:FFC:Compiler stage 5 finished in 0.00515866 seconds.\n",
            "\n",
            "INFO:FFC:FFC finished in 0.178454 seconds.\n"
          ]
        },
        {
          "output_type": "stream",
          "name": "stdout",
          "text": [
            "Calling FFC just-in-time (JIT) compiler, this may take some time.\n"
          ]
        },
        {
          "output_type": "stream",
          "name": "stderr",
          "text": [
            "Level 25:FFC:Calling FFC just-in-time (JIT) compiler, this may take some time.\n",
            "INFO:FFC:Compiling element ffc_element_99e64e64a0b0bf7efa2745c3166b98a12c5ca04c\n",
            "\n",
            "INFO:FFC:Compiler stage 1: Analyzing element(s)\n",
            "INFO:FFC:--------------------------------------\n",
            "INFO:FFC:  \n",
            "INFO:FFC:Compiler stage 1 finished in 0.00601625 seconds.\n",
            "\n",
            "INFO:FFC:Compiler stage 2: Computing intermediate representation\n",
            "INFO:FFC:-------------------------------------------------------\n",
            "INFO:FFC:  Computing representation of 1 elements\n",
            "DEBUG:FFC:  Reusing element from cache\n",
            "DEBUG:FFC:  Reusing element from cache\n",
            "INFO:FFC:  Computing representation of 1 dofmaps\n",
            "DEBUG:FFC:  Reusing element from cache\n",
            "INFO:FFC:  Computing representation of 0 coordinate mappings\n",
            "INFO:FFC:  Computing representation of integrals\n",
            "INFO:FFC:  Computing representation of forms\n",
            "INFO:FFC:  \n",
            "INFO:FFC:Compiler stage 2 finished in 0.0238416 seconds.\n",
            "\n",
            "INFO:FFC:Compiler stage 3: Optimizing intermediate representation\n",
            "INFO:FFC:--------------------------------------------------------\n",
            "INFO:FFC:  Skipping optimizations, add -O or attach {'optimize': True} metadata to integrals\n",
            "INFO:FFC:  \n",
            "INFO:FFC:Compiler stage 3 finished in 0.0041182 seconds.\n",
            "\n",
            "INFO:FFC:Compiler stage 4: Generating code\n",
            "INFO:FFC:---------------------------------\n",
            "INFO:FFC:  Generating code for 1 finite_element(s)\n",
            "INFO:FFC:  Generating code for 1 dofmap(s)\n",
            "INFO:FFC:  Generating code for 0 coordinate_mapping(s)\n",
            "INFO:FFC:  Generating code for integrals\n",
            "INFO:FFC:  Generating code for forms\n",
            "INFO:FFC:  \n",
            "INFO:FFC:Compiler stage 4 finished in 0.0608118 seconds.\n",
            "\n",
            "INFO:FFC:Compiler stage 4.1 finished in 3.33786e-06 seconds.\n",
            "\n",
            "INFO:FFC:Compiler stage 5: Formatting code\n",
            "INFO:FFC:---------------------------------\n",
            "INFO:FFC:  \n",
            "INFO:FFC:Compiler stage 5 finished in 0.00456166 seconds.\n",
            "\n",
            "INFO:FFC:FFC finished in 0.114819 seconds.\n",
            "Averaging over 154 cells: 100%|██████████| 154/154 [00:00<00:00, 516.47it/s]\n"
          ]
        },
        {
          "output_type": "stream",
          "name": "stdout",
          "text": [
            "Calling FFC just-in-time (JIT) compiler, this may take some time.\n"
          ]
        },
        {
          "output_type": "stream",
          "name": "stderr",
          "text": [
            "Level 25:FFC:Calling FFC just-in-time (JIT) compiler, this may take some time.\n",
            "INFO:FFC:Compiling form ffc_form_13ad989b1a5f0cb94daaf558284587c298a5187f\n",
            "\n",
            "INFO:FFC:Compiler stage 1: Analyzing form(s)\n",
            "INFO:FFC:-----------------------------------\n",
            "DEBUG:FFC:  Preprocessing form using 'uflacs' representation family.\n",
            "INFO:UFL_LEGACY:Adjusting missing element cell to interval3D.\n",
            "INFO:UFL_LEGACY:Adjusting missing element cell to interval3D.\n",
            "INFO:FFC:  \n",
            "INFO:FFC:  Geometric dimension:       3\n",
            "  Number of cell subdomains: 0\n",
            "  Rank:                      2\n",
            "  Arguments:                 '(v_0, v_1)'\n",
            "  Number of coefficients:    2\n",
            "  Coefficients:              '[f_122, f_124]'\n",
            "  Unique elements:           'DG1(?,?), CG5(?,?), R0(?,?), Vector<3 x CG1(?,?)>'\n",
            "  Unique sub elements:       'DG1(?,?), CG5(?,?), R0(?,?), Vector<3 x CG1(?,?)>, CG1\n",
            "                             (?,?)'\n",
            "  \n",
            "INFO:FFC:  representation:    auto --> uflacs\n",
            "INFO:FFC:  quadrature_rule:   auto --> default\n",
            "INFO:FFC:  quadrature_degree: auto --> 7\n",
            "INFO:FFC:  quadrature_degree: 7\n",
            "INFO:FFC:  \n",
            "INFO:FFC:Compiler stage 1 finished in 0.0987258 seconds.\n",
            "\n",
            "INFO:FFC:Compiler stage 2: Computing intermediate representation\n",
            "INFO:FFC:-------------------------------------------------------\n",
            "INFO:FFC:  Computing representation of 0 elements\n",
            "INFO:FFC:  Computing representation of 0 dofmaps\n",
            "INFO:FFC:  Computing representation of 0 coordinate mappings\n",
            "INFO:FFC:  Computing representation of integrals\n",
            "INFO:FFC:  Computing uflacs representation\n",
            "DEBUG:FFC:  Reusing element from cache\n",
            "DEBUG:FFC:  Reusing element from cache\n",
            "DEBUG:FFC:  Reusing element from cache\n",
            "DEBUG:FFC:  Reusing element from cache\n",
            "DEBUG:FFC:  Reusing element from cache\n",
            "DEBUG:FFC:  Reusing element from cache\n",
            "DEBUG:FFC:  Reusing element from cache\n",
            "DEBUG:FFC:  Reusing element from cache\n",
            "DEBUG:FFC:  Reusing element from cache\n",
            "DEBUG:FFC:  Reusing element from cache\n",
            "DEBUG:FFC:  Reusing element from cache\n",
            "DEBUG:FFC:  Reusing element from cache\n",
            "DEBUG:FFC:  Reusing element from cache\n",
            "DEBUG:FFC:  Reusing element from cache\n",
            "DEBUG:FFC:  Reusing element from cache\n",
            "DEBUG:FFC:  Reusing element from cache\n",
            "DEBUG:UFL_LEGACY:Blocks of each mode: \n",
            "  1\tfull\n",
            "INFO:FFC:  Computing representation of forms\n",
            "INFO:FFC:  \n",
            "INFO:FFC:Compiler stage 2 finished in 0.126897 seconds.\n",
            "\n",
            "INFO:FFC:Compiler stage 3: Optimizing intermediate representation\n",
            "INFO:FFC:--------------------------------------------------------\n",
            "INFO:FFC:  Optimizing uflacs representation\n",
            "INFO:FFC:  \n",
            "INFO:FFC:Compiler stage 3 finished in 0.00502086 seconds.\n",
            "\n",
            "INFO:FFC:Compiler stage 4: Generating code\n",
            "INFO:FFC:---------------------------------\n",
            "INFO:FFC:  Generating code for 0 finite_element(s)\n",
            "INFO:FFC:  Generating code for 0 dofmap(s)\n",
            "INFO:FFC:  Generating code for 0 coordinate_mapping(s)\n",
            "INFO:FFC:  Generating code for integrals\n",
            "INFO:FFC:  Generating code from ffc.uflacs representation\n",
            "INFO:FFC:  Generating code for forms\n",
            "INFO:FFC:  \n",
            "INFO:FFC:Compiler stage 4 finished in 0.0621853 seconds.\n",
            "\n",
            "INFO:FFC:Compiler stage 4.1 finished in 5.24521e-06 seconds.\n",
            "\n",
            "INFO:FFC:Compiler stage 5: Formatting code\n",
            "INFO:FFC:---------------------------------\n",
            "INFO:FFC:  \n",
            "INFO:FFC:Compiler stage 5 finished in 0.00618744 seconds.\n",
            "\n",
            "INFO:FFC:FFC finished in 0.308279 seconds.\n"
          ]
        },
        {
          "output_type": "stream",
          "name": "stdout",
          "text": [
            "Calling FFC just-in-time (JIT) compiler, this may take some time.\n"
          ]
        },
        {
          "output_type": "stream",
          "name": "stderr",
          "text": [
            "Level 25:FFC:Calling FFC just-in-time (JIT) compiler, this may take some time.\n",
            "INFO:FFC:Compiling element ffc_element_0e559bb996587dc58f3fceedb54558f2cf032454\n",
            "\n",
            "INFO:FFC:Compiler stage 1: Analyzing element(s)\n",
            "INFO:FFC:--------------------------------------\n",
            "INFO:FFC:  \n",
            "INFO:FFC:Compiler stage 1 finished in 0.00377464 seconds.\n",
            "\n",
            "INFO:FFC:Compiler stage 2: Computing intermediate representation\n",
            "INFO:FFC:-------------------------------------------------------\n",
            "INFO:FFC:  Computing representation of 1 elements\n",
            "DEBUG:FFC:  Reusing element from cache\n",
            "DEBUG:FFC:  Reusing element from cache\n",
            "DEBUG:FFC:  Reusing element from cache\n",
            "INFO:FFC:  Computing representation of 1 dofmaps\n",
            "DEBUG:FFC:  Reusing element from cache\n",
            "INFO:FFC:  Computing representation of 0 coordinate mappings\n",
            "INFO:FFC:  Computing representation of integrals\n",
            "INFO:FFC:  Computing representation of forms\n",
            "INFO:FFC:  \n",
            "INFO:FFC:Compiler stage 2 finished in 0.0165339 seconds.\n",
            "\n",
            "INFO:FFC:Compiler stage 3: Optimizing intermediate representation\n",
            "INFO:FFC:--------------------------------------------------------\n",
            "INFO:FFC:  Skipping optimizations, add -O or attach {'optimize': True} metadata to integrals\n",
            "INFO:FFC:  \n",
            "INFO:FFC:Compiler stage 3 finished in 0.00539303 seconds.\n",
            "\n",
            "INFO:FFC:Compiler stage 4: Generating code\n",
            "INFO:FFC:---------------------------------\n",
            "INFO:FFC:  Generating code for 1 finite_element(s)\n",
            "INFO:FFC:  Generating code for 1 dofmap(s)\n",
            "INFO:FFC:  Generating code for 0 coordinate_mapping(s)\n",
            "INFO:FFC:  Generating code for integrals\n",
            "INFO:FFC:  Generating code for forms\n",
            "INFO:FFC:  \n",
            "INFO:FFC:Compiler stage 4 finished in 0.0468271 seconds.\n",
            "\n",
            "INFO:FFC:Compiler stage 4.1 finished in 5.96046e-06 seconds.\n",
            "\n",
            "INFO:FFC:Compiler stage 5: Formatting code\n",
            "INFO:FFC:---------------------------------\n",
            "INFO:FFC:  \n",
            "INFO:FFC:Compiler stage 5 finished in 0.00504923 seconds.\n",
            "\n",
            "INFO:FFC:FFC finished in 0.0849252 seconds.\n"
          ]
        },
        {
          "output_type": "stream",
          "name": "stdout",
          "text": [
            "Calling FFC just-in-time (JIT) compiler, this may take some time.\n"
          ]
        },
        {
          "output_type": "stream",
          "name": "stderr",
          "text": [
            "Level 25:FFC:Calling FFC just-in-time (JIT) compiler, this may take some time.\n",
            "INFO:FFC:Compiling element ffc_element_5e5241c998fccd3b916405f6926290723f6a1ae6\n",
            "\n",
            "INFO:FFC:Compiler stage 1: Analyzing element(s)\n",
            "INFO:FFC:--------------------------------------\n",
            "INFO:FFC:  \n",
            "INFO:FFC:Compiler stage 1 finished in 0.00410914 seconds.\n",
            "\n",
            "INFO:FFC:Compiler stage 2: Computing intermediate representation\n",
            "INFO:FFC:-------------------------------------------------------\n",
            "INFO:FFC:  Computing representation of 1 elements\n",
            "DEBUG:FFC:  Reusing element from cache\n",
            "DEBUG:FFC:  Reusing element from cache\n",
            "DEBUG:FFC:  Reusing element from cache\n",
            "DEBUG:FFC:  Reusing element from cache\n",
            "DEBUG:FFC:  Reusing element from cache\n",
            "DEBUG:FFC:  Reusing element from cache\n",
            "DEBUG:FFC:  Reusing element from cache\n",
            "INFO:FFC:  Computing representation of 1 dofmaps\n",
            "DEBUG:FFC:  Reusing element from cache\n",
            "INFO:FFC:  Computing representation of 0 coordinate mappings\n",
            "INFO:FFC:  Computing representation of integrals\n",
            "INFO:FFC:  Computing representation of forms\n",
            "INFO:FFC:  \n",
            "INFO:FFC:Compiler stage 2 finished in 0.024528 seconds.\n",
            "\n",
            "INFO:FFC:Compiler stage 3: Optimizing intermediate representation\n",
            "INFO:FFC:--------------------------------------------------------\n",
            "INFO:FFC:  Skipping optimizations, add -O or attach {'optimize': True} metadata to integrals\n",
            "INFO:FFC:  \n",
            "INFO:FFC:Compiler stage 3 finished in 0.00573087 seconds.\n",
            "\n",
            "INFO:FFC:Compiler stage 4: Generating code\n",
            "INFO:FFC:---------------------------------\n",
            "INFO:FFC:  Generating code for 1 finite_element(s)\n",
            "INFO:FFC:  Generating code for 1 dofmap(s)\n",
            "INFO:FFC:  Generating code for 0 coordinate_mapping(s)\n",
            "INFO:FFC:  Generating code for integrals\n",
            "INFO:FFC:  Generating code for forms\n",
            "INFO:FFC:  \n",
            "INFO:FFC:Compiler stage 4 finished in 0.0828533 seconds.\n",
            "\n",
            "INFO:FFC:Compiler stage 4.1 finished in 7.86781e-06 seconds.\n",
            "\n",
            "INFO:FFC:Compiler stage 5: Formatting code\n",
            "INFO:FFC:---------------------------------\n",
            "INFO:FFC:  \n",
            "INFO:FFC:Compiler stage 5 finished in 0.00874305 seconds.\n",
            "\n",
            "INFO:FFC:FFC finished in 0.137938 seconds.\n"
          ]
        },
        {
          "output_type": "stream",
          "name": "stdout",
          "text": [
            "Calling FFC just-in-time (JIT) compiler, this may take some time.\n"
          ]
        },
        {
          "output_type": "stream",
          "name": "stderr",
          "text": [
            "Level 25:FFC:Calling FFC just-in-time (JIT) compiler, this may take some time.\n",
            "INFO:FFC:Compiling element ffc_element_aeebad5a973881485d64eebf7ae831081e303822\n",
            "\n",
            "INFO:FFC:Compiler stage 1: Analyzing element(s)\n",
            "INFO:FFC:--------------------------------------\n",
            "INFO:FFC:  \n",
            "INFO:FFC:Compiler stage 1 finished in 0.0046103 seconds.\n",
            "\n",
            "INFO:FFC:Compiler stage 2: Computing intermediate representation\n",
            "INFO:FFC:-------------------------------------------------------\n",
            "INFO:FFC:  Computing representation of 1 elements\n",
            "DEBUG:FFC:  Reusing element from cache\n",
            "DEBUG:FFC:  Reusing element from cache\n",
            "DEBUG:FFC:  Reusing element from cache\n",
            "INFO:FFC:  Computing representation of 1 dofmaps\n",
            "DEBUG:FFC:  Reusing element from cache\n",
            "INFO:FFC:  Computing representation of 0 coordinate mappings\n",
            "INFO:FFC:  Computing representation of integrals\n",
            "INFO:FFC:  Computing representation of forms\n",
            "INFO:FFC:  \n",
            "INFO:FFC:Compiler stage 2 finished in 0.01494 seconds.\n",
            "\n",
            "INFO:FFC:Compiler stage 3: Optimizing intermediate representation\n",
            "INFO:FFC:--------------------------------------------------------\n",
            "INFO:FFC:  Skipping optimizations, add -O or attach {'optimize': True} metadata to integrals\n",
            "INFO:FFC:  \n",
            "INFO:FFC:Compiler stage 3 finished in 0.0262034 seconds.\n",
            "\n",
            "INFO:FFC:Compiler stage 4: Generating code\n",
            "INFO:FFC:---------------------------------\n",
            "INFO:FFC:  Generating code for 1 finite_element(s)\n",
            "INFO:FFC:  Generating code for 1 dofmap(s)\n",
            "INFO:FFC:  Generating code for 0 coordinate_mapping(s)\n",
            "INFO:FFC:  Generating code for integrals\n",
            "INFO:FFC:  Generating code for forms\n",
            "INFO:FFC:  \n",
            "INFO:FFC:Compiler stage 4 finished in 0.0346806 seconds.\n",
            "\n",
            "INFO:FFC:Compiler stage 4.1 finished in 4.29153e-06 seconds.\n",
            "\n",
            "INFO:FFC:Compiler stage 5: Formatting code\n",
            "INFO:FFC:---------------------------------\n",
            "INFO:FFC:  \n",
            "INFO:FFC:Compiler stage 5 finished in 0.00456309 seconds.\n",
            "\n",
            "INFO:FFC:FFC finished in 0.0990341 seconds.\n"
          ]
        },
        {
          "output_type": "stream",
          "name": "stdout",
          "text": [
            "Calling FFC just-in-time (JIT) compiler, this may take some time.\n"
          ]
        },
        {
          "output_type": "stream",
          "name": "stderr",
          "text": [
            "Level 25:FFC:Calling FFC just-in-time (JIT) compiler, this may take some time.\n",
            "INFO:FFC:Compiling element ffc_element_e72db44124fbfb039c1c7f38f8b9761b11f905e8\n",
            "\n",
            "INFO:FFC:Compiler stage 1: Analyzing element(s)\n",
            "INFO:FFC:--------------------------------------\n",
            "INFO:FFC:  \n",
            "INFO:FFC:Compiler stage 1 finished in 0.00385118 seconds.\n",
            "\n",
            "INFO:FFC:Compiler stage 2: Computing intermediate representation\n",
            "INFO:FFC:-------------------------------------------------------\n",
            "INFO:FFC:  Computing representation of 1 elements\n",
            "DEBUG:FFC:  Reusing element from cache\n",
            "DEBUG:FFC:  Reusing element from cache\n",
            "DEBUG:FFC:  Reusing element from cache\n",
            "INFO:FFC:  Computing representation of 1 dofmaps\n",
            "DEBUG:FFC:  Reusing element from cache\n",
            "INFO:FFC:  Computing representation of 0 coordinate mappings\n",
            "INFO:FFC:  Computing representation of integrals\n",
            "INFO:FFC:  Computing representation of forms\n",
            "INFO:FFC:  \n",
            "INFO:FFC:Compiler stage 2 finished in 0.0170567 seconds.\n",
            "\n",
            "INFO:FFC:Compiler stage 3: Optimizing intermediate representation\n",
            "INFO:FFC:--------------------------------------------------------\n",
            "INFO:FFC:  Skipping optimizations, add -O or attach {'optimize': True} metadata to integrals\n",
            "INFO:FFC:  \n",
            "INFO:FFC:Compiler stage 3 finished in 0.00693679 seconds.\n",
            "\n",
            "INFO:FFC:Compiler stage 4: Generating code\n",
            "INFO:FFC:---------------------------------\n",
            "INFO:FFC:  Generating code for 1 finite_element(s)\n",
            "INFO:FFC:  Generating code for 1 dofmap(s)\n",
            "INFO:FFC:  Generating code for 0 coordinate_mapping(s)\n",
            "INFO:FFC:  Generating code for integrals\n",
            "INFO:FFC:  Generating code for forms\n",
            "INFO:FFC:  \n",
            "INFO:FFC:Compiler stage 4 finished in 0.672935 seconds.\n",
            "\n",
            "INFO:FFC:Compiler stage 4.1 finished in 4.29153e-06 seconds.\n",
            "\n",
            "INFO:FFC:Compiler stage 5: Formatting code\n",
            "INFO:FFC:---------------------------------\n",
            "INFO:FFC:  \n",
            "INFO:FFC:Compiler stage 5 finished in 0.00376582 seconds.\n",
            "\n",
            "INFO:FFC:FFC finished in 0.717548 seconds.\n"
          ]
        },
        {
          "output_type": "stream",
          "name": "stdout",
          "text": [
            "Calling FFC just-in-time (JIT) compiler, this may take some time.\n"
          ]
        },
        {
          "output_type": "stream",
          "name": "stderr",
          "text": [
            "Level 25:FFC:Calling FFC just-in-time (JIT) compiler, this may take some time.\n",
            "INFO:FFC:Compiling element ffc_element_2e0427e90a841c82831c9e8b32364eced707743b\n",
            "\n",
            "INFO:FFC:Compiler stage 1: Analyzing element(s)\n",
            "INFO:FFC:--------------------------------------\n",
            "INFO:FFC:  \n",
            "INFO:FFC:Compiler stage 1 finished in 0.00689816 seconds.\n",
            "\n",
            "INFO:FFC:Compiler stage 2: Computing intermediate representation\n",
            "INFO:FFC:-------------------------------------------------------\n",
            "INFO:FFC:  Computing representation of 1 elements\n",
            "DEBUG:FFC:  Reusing element from cache\n",
            "DEBUG:FFC:  Reusing element from cache\n",
            "DEBUG:FFC:  Reusing element from cache\n",
            "INFO:FFC:  Computing representation of 1 dofmaps\n",
            "DEBUG:FFC:  Reusing element from cache\n",
            "INFO:FFC:  Computing representation of 0 coordinate mappings\n",
            "INFO:FFC:  Computing representation of integrals\n",
            "INFO:FFC:  Computing representation of forms\n",
            "INFO:FFC:  \n",
            "INFO:FFC:Compiler stage 2 finished in 0.0157745 seconds.\n",
            "\n",
            "INFO:FFC:Compiler stage 3: Optimizing intermediate representation\n",
            "INFO:FFC:--------------------------------------------------------\n",
            "INFO:FFC:  Skipping optimizations, add -O or attach {'optimize': True} metadata to integrals\n",
            "INFO:FFC:  \n",
            "INFO:FFC:Compiler stage 3 finished in 0.00451064 seconds.\n",
            "\n",
            "INFO:FFC:Compiler stage 4: Generating code\n",
            "INFO:FFC:---------------------------------\n",
            "INFO:FFC:  Generating code for 1 finite_element(s)\n",
            "INFO:FFC:  Generating code for 1 dofmap(s)\n",
            "INFO:FFC:  Generating code for 0 coordinate_mapping(s)\n",
            "INFO:FFC:  Generating code for integrals\n",
            "INFO:FFC:  Generating code for forms\n",
            "INFO:FFC:  \n",
            "INFO:FFC:Compiler stage 4 finished in 0.0585287 seconds.\n",
            "\n",
            "INFO:FFC:Compiler stage 4.1 finished in 3.8147e-06 seconds.\n",
            "\n",
            "INFO:FFC:Compiler stage 5: Formatting code\n",
            "INFO:FFC:---------------------------------\n",
            "INFO:FFC:  \n",
            "INFO:FFC:Compiler stage 5 finished in 0.00828385 seconds.\n",
            "\n",
            "INFO:FFC:FFC finished in 0.104663 seconds.\n"
          ]
        },
        {
          "output_type": "stream",
          "name": "stdout",
          "text": [
            "Calling FFC just-in-time (JIT) compiler, this may take some time.\n"
          ]
        },
        {
          "output_type": "stream",
          "name": "stderr",
          "text": [
            "Level 25:FFC:Calling FFC just-in-time (JIT) compiler, this may take some time.\n",
            "INFO:FFC:Compiling coordinate_mapping ffc_coordinate_mapping_ecb3fd63d7ddd55feb692ec4d0f046834537be75\n",
            "\n",
            "INFO:FFC:Compiler stage 1: Analyzing coordinate_mapping(s)\n",
            "INFO:FFC:-------------------------------------------------\n",
            "INFO:FFC:  \n",
            "INFO:FFC:Compiler stage 1 finished in 0.00641537 seconds.\n",
            "\n",
            "INFO:FFC:Compiler stage 2: Computing intermediate representation\n",
            "INFO:FFC:-------------------------------------------------------\n",
            "INFO:FFC:  Computing representation of 0 elements\n",
            "INFO:FFC:  Computing representation of 0 dofmaps\n",
            "INFO:FFC:  Computing representation of 1 coordinate mappings\n",
            "DEBUG:FFC:  Reusing element from cache\n",
            "INFO:FFC:  Computing representation of integrals\n",
            "INFO:FFC:  Computing representation of forms\n",
            "INFO:FFC:  \n",
            "INFO:FFC:Compiler stage 2 finished in 0.0138788 seconds.\n",
            "\n",
            "INFO:FFC:Compiler stage 3: Optimizing intermediate representation\n",
            "INFO:FFC:--------------------------------------------------------\n",
            "INFO:FFC:  Skipping optimizations, add -O or attach {'optimize': True} metadata to integrals\n",
            "INFO:FFC:  \n",
            "INFO:FFC:Compiler stage 3 finished in 0.00547504 seconds.\n",
            "\n",
            "INFO:FFC:Compiler stage 4: Generating code\n",
            "INFO:FFC:---------------------------------\n",
            "INFO:FFC:  Generating code for 0 finite_element(s)\n",
            "INFO:FFC:  Generating code for 0 dofmap(s)\n",
            "INFO:FFC:  Generating code for 1 coordinate_mapping(s)\n",
            "INFO:FFC:  Generating code for integrals\n",
            "INFO:FFC:  Generating code for forms\n",
            "INFO:FFC:  \n",
            "INFO:FFC:Compiler stage 4 finished in 0.019397 seconds.\n",
            "\n",
            "INFO:FFC:Compiler stage 4.1 finished in 2.86102e-06 seconds.\n",
            "\n",
            "INFO:FFC:Compiler stage 5: Formatting code\n",
            "INFO:FFC:---------------------------------\n",
            "INFO:FFC:  \n",
            "INFO:FFC:Compiler stage 5 finished in 0.00387335 seconds.\n",
            "\n",
            "INFO:FFC:FFC finished in 0.0696776 seconds.\n"
          ]
        },
        {
          "output_type": "stream",
          "name": "stdout",
          "text": [
            "Calling FFC just-in-time (JIT) compiler, this may take some time.\n"
          ]
        },
        {
          "output_type": "stream",
          "name": "stderr",
          "text": [
            "Level 25:FFC:Calling FFC just-in-time (JIT) compiler, this may take some time.\n",
            "INFO:FFC:Compiling form ffc_form_168a6722b3e7decf2e6398731db591b81c053fa6\n",
            "\n",
            "INFO:FFC:Compiler stage 1: Analyzing form(s)\n",
            "INFO:FFC:-----------------------------------\n",
            "DEBUG:FFC:  Preprocessing form using 'uflacs' representation family.\n",
            "INFO:UFL_LEGACY:Adjusting missing element cell to tetrahedron.\n",
            "INFO:FFC:  \n",
            "INFO:FFC:  Geometric dimension:       3\n",
            "  Number of cell subdomains: 0\n",
            "  Rank:                      2\n",
            "  Arguments:                 '(v_0, v_1)'\n",
            "  Number of coefficients:    1\n",
            "  Coefficients:              '[f_123]'\n",
            "  Unique elements:           'CG1(?,?), R0(?,?), Vector<3 x CG1(?,?)>'\n",
            "  Unique sub elements:       'CG1(?,?), R0(?,?), Vector<3 x CG1(?,?)>'\n",
            "  \n",
            "INFO:FFC:  representation:    auto --> uflacs\n",
            "INFO:FFC:  quadrature_rule:   auto --> default\n",
            "INFO:FFC:  quadrature_degree: auto --> 0\n",
            "INFO:FFC:  quadrature_degree: 0\n",
            "INFO:FFC:  \n",
            "INFO:FFC:Compiler stage 1 finished in 0.0568581 seconds.\n",
            "\n",
            "INFO:FFC:Compiler stage 2: Computing intermediate representation\n",
            "INFO:FFC:-------------------------------------------------------\n",
            "INFO:FFC:  Computing representation of 0 elements\n",
            "INFO:FFC:  Computing representation of 0 dofmaps\n",
            "INFO:FFC:  Computing representation of 0 coordinate mappings\n",
            "INFO:FFC:  Computing representation of integrals\n",
            "INFO:FFC:  Computing uflacs representation\n",
            "DEBUG:FFC:  Reusing element from cache\n",
            "DEBUG:FFC:  Reusing element from cache\n",
            "DEBUG:FFC:  Reusing element from cache\n",
            "DEBUG:FFC:  Reusing element from cache\n",
            "DEBUG:FFC:  Reusing element from cache\n",
            "DEBUG:FFC:  Reusing element from cache\n",
            "DEBUG:FFC:  Reusing element from cache\n",
            "DEBUG:FFC:  Reusing element from cache\n",
            "DEBUG:FFC:  Reusing element from cache\n",
            "DEBUG:FFC:  Reusing element from cache\n",
            "DEBUG:FFC:  Reusing element from cache\n",
            "DEBUG:FFC:  Reusing element from cache\n",
            "DEBUG:FFC:  Reusing element from cache\n",
            "DEBUG:FFC:  Reusing element from cache\n",
            "DEBUG:FFC:  Reusing element from cache\n",
            "DEBUG:FFC:  Reusing element from cache\n",
            "DEBUG:FFC:  Reusing element from cache\n",
            "DEBUG:FFC:  Reusing element from cache\n",
            "DEBUG:FFC:  Reusing element from cache\n",
            "DEBUG:FFC:  Reusing element from cache\n",
            "DEBUG:UFL_LEGACY:Blocks of each mode: \n",
            "\n",
            "INFO:FFC:  Computing representation of forms\n",
            "INFO:FFC:  \n",
            "INFO:FFC:Compiler stage 2 finished in 0.124112 seconds.\n",
            "\n",
            "INFO:FFC:Compiler stage 3: Optimizing intermediate representation\n",
            "INFO:FFC:--------------------------------------------------------\n",
            "INFO:FFC:  Optimizing uflacs representation\n",
            "INFO:FFC:  \n",
            "INFO:FFC:Compiler stage 3 finished in 0.0054121 seconds.\n",
            "\n",
            "INFO:FFC:Compiler stage 4: Generating code\n",
            "INFO:FFC:---------------------------------\n",
            "INFO:FFC:  Generating code for 0 finite_element(s)\n",
            "INFO:FFC:  Generating code for 0 dofmap(s)\n",
            "INFO:FFC:  Generating code for 0 coordinate_mapping(s)\n",
            "INFO:FFC:  Generating code for integrals\n",
            "INFO:FFC:  Generating code from ffc.uflacs representation\n",
            "INFO:FFC:  Generating code for forms\n",
            "INFO:FFC:  \n",
            "INFO:FFC:Compiler stage 4 finished in 0.023154 seconds.\n",
            "\n",
            "INFO:FFC:Compiler stage 4.1 finished in 2.86102e-06 seconds.\n",
            "\n",
            "INFO:FFC:Compiler stage 5: Formatting code\n",
            "INFO:FFC:---------------------------------\n",
            "INFO:FFC:  \n",
            "INFO:FFC:Compiler stage 5 finished in 0.00356984 seconds.\n",
            "\n",
            "INFO:FFC:FFC finished in 0.223585 seconds.\n"
          ]
        },
        {
          "output_type": "stream",
          "name": "stdout",
          "text": [
            "Calling FFC just-in-time (JIT) compiler, this may take some time.\n"
          ]
        },
        {
          "output_type": "stream",
          "name": "stderr",
          "text": [
            "Level 25:FFC:Calling FFC just-in-time (JIT) compiler, this may take some time.\n",
            "INFO:FFC:Compiling element ffc_element_18ef23f05d0effd386d0c875976458dbea712fa9\n",
            "\n",
            "INFO:FFC:Compiler stage 1: Analyzing element(s)\n",
            "INFO:FFC:--------------------------------------\n",
            "INFO:FFC:  \n",
            "INFO:FFC:Compiler stage 1 finished in 0.0031476 seconds.\n",
            "\n",
            "INFO:FFC:Compiler stage 2: Computing intermediate representation\n",
            "INFO:FFC:-------------------------------------------------------\n",
            "INFO:FFC:  Computing representation of 1 elements\n",
            "DEBUG:FFC:  Reusing element from cache\n",
            "DEBUG:FFC:  Reusing element from cache\n",
            "DEBUG:FFC:  Reusing element from cache\n",
            "INFO:FFC:  Computing representation of 1 dofmaps\n",
            "DEBUG:FFC:  Reusing element from cache\n",
            "INFO:FFC:  Computing representation of 0 coordinate mappings\n",
            "INFO:FFC:  Computing representation of integrals\n",
            "INFO:FFC:  Computing representation of forms\n",
            "INFO:FFC:  \n",
            "INFO:FFC:Compiler stage 2 finished in 0.0157979 seconds.\n",
            "\n",
            "INFO:FFC:Compiler stage 3: Optimizing intermediate representation\n",
            "INFO:FFC:--------------------------------------------------------\n",
            "INFO:FFC:  Skipping optimizations, add -O or attach {'optimize': True} metadata to integrals\n",
            "INFO:FFC:  \n",
            "INFO:FFC:Compiler stage 3 finished in 0.00392079 seconds.\n",
            "\n",
            "INFO:FFC:Compiler stage 4: Generating code\n",
            "INFO:FFC:---------------------------------\n",
            "INFO:FFC:  Generating code for 1 finite_element(s)\n",
            "INFO:FFC:  Generating code for 1 dofmap(s)\n",
            "INFO:FFC:  Generating code for 0 coordinate_mapping(s)\n",
            "INFO:FFC:  Generating code for integrals\n",
            "INFO:FFC:  Generating code for forms\n",
            "INFO:FFC:  \n",
            "INFO:FFC:Compiler stage 4 finished in 0.0794694 seconds.\n",
            "\n",
            "INFO:FFC:Compiler stage 4.1 finished in 2.86102e-06 seconds.\n",
            "\n",
            "INFO:FFC:Compiler stage 5: Formatting code\n",
            "INFO:FFC:---------------------------------\n",
            "INFO:FFC:  \n",
            "INFO:FFC:Compiler stage 5 finished in 0.00326133 seconds.\n",
            "\n",
            "INFO:FFC:FFC finished in 0.11236 seconds.\n"
          ]
        },
        {
          "output_type": "stream",
          "name": "stdout",
          "text": [
            "Calling FFC just-in-time (JIT) compiler, this may take some time.\n"
          ]
        },
        {
          "output_type": "stream",
          "name": "stderr",
          "text": [
            "Level 25:FFC:Calling FFC just-in-time (JIT) compiler, this may take some time.\n",
            "INFO:FFC:Compiling element ffc_element_e1e8307b7239af85742309df96007de46566bd94\n",
            "\n",
            "INFO:FFC:Compiler stage 1: Analyzing element(s)\n",
            "INFO:FFC:--------------------------------------\n",
            "INFO:FFC:  \n",
            "INFO:FFC:Compiler stage 1 finished in 0.00673318 seconds.\n",
            "\n",
            "INFO:FFC:Compiler stage 2: Computing intermediate representation\n",
            "INFO:FFC:-------------------------------------------------------\n",
            "INFO:FFC:  Computing representation of 1 elements\n",
            "DEBUG:FFC:  Reusing element from cache\n",
            "DEBUG:FFC:  Reusing element from cache\n",
            "DEBUG:FFC:  Reusing element from cache\n",
            "INFO:FFC:  Computing representation of 1 dofmaps\n",
            "DEBUG:FFC:  Reusing element from cache\n",
            "INFO:FFC:  Computing representation of 0 coordinate mappings\n",
            "INFO:FFC:  Computing representation of integrals\n",
            "INFO:FFC:  Computing representation of forms\n",
            "INFO:FFC:  \n",
            "INFO:FFC:Compiler stage 2 finished in 0.0310349 seconds.\n",
            "\n",
            "INFO:FFC:Compiler stage 3: Optimizing intermediate representation\n",
            "INFO:FFC:--------------------------------------------------------\n",
            "INFO:FFC:  Skipping optimizations, add -O or attach {'optimize': True} metadata to integrals\n",
            "INFO:FFC:  \n",
            "INFO:FFC:Compiler stage 3 finished in 0.00795722 seconds.\n",
            "\n",
            "INFO:FFC:Compiler stage 4: Generating code\n",
            "INFO:FFC:---------------------------------\n",
            "INFO:FFC:  Generating code for 1 finite_element(s)\n",
            "INFO:FFC:  Generating code for 1 dofmap(s)\n",
            "INFO:FFC:  Generating code for 0 coordinate_mapping(s)\n",
            "INFO:FFC:  Generating code for integrals\n",
            "INFO:FFC:  Generating code for forms\n",
            "INFO:FFC:  \n",
            "INFO:FFC:Compiler stage 4 finished in 0.142754 seconds.\n",
            "\n",
            "INFO:FFC:Compiler stage 4.1 finished in 5.00679e-06 seconds.\n",
            "\n",
            "INFO:FFC:Compiler stage 5: Formatting code\n",
            "INFO:FFC:---------------------------------\n",
            "INFO:FFC:  \n",
            "INFO:FFC:Compiler stage 5 finished in 0.00891995 seconds.\n",
            "\n",
            "INFO:FFC:FFC finished in 0.213694 seconds.\n"
          ]
        },
        {
          "output_type": "stream",
          "name": "stdout",
          "text": [
            "Calling FFC just-in-time (JIT) compiler, this may take some time.\n"
          ]
        },
        {
          "output_type": "stream",
          "name": "stderr",
          "text": [
            "Level 25:FFC:Calling FFC just-in-time (JIT) compiler, this may take some time.\n",
            "INFO:FFC:Compiling element ffc_element_89024ca3e04ccffeb95c1589e5b2b8d31d162db6\n",
            "\n",
            "INFO:FFC:Compiler stage 1: Analyzing element(s)\n",
            "INFO:FFC:--------------------------------------\n",
            "INFO:FFC:  \n",
            "INFO:FFC:Compiler stage 1 finished in 0.00946689 seconds.\n",
            "\n",
            "INFO:FFC:Compiler stage 2: Computing intermediate representation\n",
            "INFO:FFC:-------------------------------------------------------\n",
            "INFO:FFC:  Computing representation of 1 elements\n",
            "DEBUG:FFC:  Reusing element from cache\n",
            "DEBUG:FFC:  Reusing element from cache\n",
            "DEBUG:FFC:  Reusing element from cache\n",
            "INFO:FFC:  Computing representation of 1 dofmaps\n",
            "DEBUG:FFC:  Reusing element from cache\n",
            "INFO:FFC:  Computing representation of 0 coordinate mappings\n",
            "INFO:FFC:  Computing representation of integrals\n",
            "INFO:FFC:  Computing representation of forms\n",
            "INFO:FFC:  \n",
            "INFO:FFC:Compiler stage 2 finished in 0.033778 seconds.\n",
            "\n",
            "INFO:FFC:Compiler stage 3: Optimizing intermediate representation\n",
            "INFO:FFC:--------------------------------------------------------\n",
            "INFO:FFC:  Skipping optimizations, add -O or attach {'optimize': True} metadata to integrals\n",
            "INFO:FFC:  \n",
            "INFO:FFC:Compiler stage 3 finished in 0.00475097 seconds.\n",
            "\n",
            "INFO:FFC:Compiler stage 4: Generating code\n",
            "INFO:FFC:---------------------------------\n",
            "INFO:FFC:  Generating code for 1 finite_element(s)\n",
            "INFO:FFC:  Generating code for 1 dofmap(s)\n",
            "INFO:FFC:  Generating code for 0 coordinate_mapping(s)\n",
            "INFO:FFC:  Generating code for integrals\n",
            "INFO:FFC:  Generating code for forms\n",
            "INFO:FFC:  \n",
            "INFO:FFC:Compiler stage 4 finished in 0.0345592 seconds.\n",
            "\n",
            "INFO:FFC:Compiler stage 4.1 finished in 4.05312e-06 seconds.\n",
            "\n",
            "INFO:FFC:Compiler stage 5: Formatting code\n",
            "INFO:FFC:---------------------------------\n",
            "INFO:FFC:  \n",
            "INFO:FFC:Compiler stage 5 finished in 0.00522256 seconds.\n",
            "\n",
            "INFO:FFC:FFC finished in 0.0999861 seconds.\n"
          ]
        },
        {
          "output_type": "stream",
          "name": "stdout",
          "text": [
            "Calling FFC just-in-time (JIT) compiler, this may take some time.\n"
          ]
        },
        {
          "output_type": "stream",
          "name": "stderr",
          "text": [
            "Level 25:FFC:Calling FFC just-in-time (JIT) compiler, this may take some time.\n",
            "INFO:FFC:Compiling coordinate_mapping ffc_coordinate_mapping_6479fe16a617c3d73e6600e39e9829ec49ac76ab\n",
            "\n",
            "INFO:FFC:Compiler stage 1: Analyzing coordinate_mapping(s)\n",
            "INFO:FFC:-------------------------------------------------\n",
            "INFO:FFC:  \n",
            "INFO:FFC:Compiler stage 1 finished in 0.00706458 seconds.\n",
            "\n",
            "INFO:FFC:Compiler stage 2: Computing intermediate representation\n",
            "INFO:FFC:-------------------------------------------------------\n",
            "INFO:FFC:  Computing representation of 0 elements\n",
            "INFO:FFC:  Computing representation of 0 dofmaps\n",
            "INFO:FFC:  Computing representation of 1 coordinate mappings\n",
            "DEBUG:FFC:  Reusing element from cache\n",
            "INFO:FFC:  Computing representation of integrals\n",
            "INFO:FFC:  Computing representation of forms\n",
            "INFO:FFC:  \n",
            "INFO:FFC:Compiler stage 2 finished in 0.0366881 seconds.\n",
            "\n",
            "INFO:FFC:Compiler stage 3: Optimizing intermediate representation\n",
            "INFO:FFC:--------------------------------------------------------\n",
            "INFO:FFC:  Skipping optimizations, add -O or attach {'optimize': True} metadata to integrals\n",
            "INFO:FFC:  \n",
            "INFO:FFC:Compiler stage 3 finished in 0.00937104 seconds.\n",
            "\n",
            "INFO:FFC:Compiler stage 4: Generating code\n",
            "INFO:FFC:---------------------------------\n",
            "INFO:FFC:  Generating code for 0 finite_element(s)\n",
            "INFO:FFC:  Generating code for 0 dofmap(s)\n",
            "INFO:FFC:  Generating code for 1 coordinate_mapping(s)\n",
            "INFO:FFC:  Generating code for integrals\n",
            "INFO:FFC:  Generating code for forms\n",
            "INFO:FFC:  \n",
            "INFO:FFC:Compiler stage 4 finished in 0.0456405 seconds.\n",
            "\n",
            "INFO:FFC:Compiler stage 4.1 finished in 5.00679e-06 seconds.\n",
            "\n",
            "INFO:FFC:Compiler stage 5: Formatting code\n",
            "INFO:FFC:---------------------------------\n",
            "INFO:FFC:  \n",
            "INFO:FFC:Compiler stage 5 finished in 0.0201244 seconds.\n",
            "\n",
            "INFO:FFC:FFC finished in 0.134409 seconds.\n"
          ]
        },
        {
          "output_type": "stream",
          "name": "stdout",
          "text": [
            "Calling FFC just-in-time (JIT) compiler, this may take some time.\n"
          ]
        },
        {
          "output_type": "stream",
          "name": "stderr",
          "text": [
            "Level 25:FFC:Calling FFC just-in-time (JIT) compiler, this may take some time.\n",
            "INFO:FFC:Compiling form ffc_form_5d97f418a5656246a8ebc574d2b9dcfbce41b2e6\n",
            "\n",
            "INFO:FFC:Compiler stage 1: Analyzing form(s)\n",
            "INFO:FFC:-----------------------------------\n",
            "DEBUG:FFC:  Preprocessing form using 'uflacs' representation family.\n",
            "INFO:UFL_LEGACY:Adjusting missing element cell to tetrahedron.\n",
            "INFO:FFC:  \n",
            "INFO:FFC:  Geometric dimension:                 3\n",
            "  Number of exterior_facet subdomains: 2\n",
            "  Rank:                                2\n",
            "  Arguments:                           '(v_0, v_1)'\n",
            "  Number of coefficients:              1\n",
            "  Coefficients:                        '[f_125]'\n",
            "  Unique elements:                     'CG1(?,?), R0(?,?), Vector<3 x CG1(?,?)>'\n",
            "  Unique sub elements:                 'CG1(?,?), R0(?,?), Vector<3 x CG1(?,?)>'\n",
            "  \n",
            "INFO:FFC:  representation:    auto --> uflacs\n",
            "INFO:FFC:  quadrature_rule:   auto --> default\n",
            "INFO:FFC:  quadrature_degree: auto --> 2\n",
            "INFO:FFC:  quadrature_degree: 2\n",
            "INFO:FFC:  \n",
            "INFO:FFC:Compiler stage 1 finished in 0.0336158 seconds.\n",
            "\n",
            "INFO:FFC:Compiler stage 2: Computing intermediate representation\n",
            "INFO:FFC:-------------------------------------------------------\n",
            "INFO:FFC:  Computing representation of 0 elements\n",
            "INFO:FFC:  Computing representation of 0 dofmaps\n",
            "INFO:FFC:  Computing representation of 0 coordinate mappings\n",
            "INFO:FFC:  Computing representation of integrals\n",
            "INFO:FFC:  Computing uflacs representation\n",
            "DEBUG:FFC:  Reusing element from cache\n",
            "DEBUG:FFC:  Reusing element from cache\n",
            "DEBUG:FFC:  Reusing element from cache\n",
            "DEBUG:FFC:  Reusing element from cache\n",
            "DEBUG:FFC:  Reusing element from cache\n",
            "DEBUG:FFC:  Reusing element from cache\n",
            "DEBUG:FFC:  Reusing element from cache\n",
            "DEBUG:FFC:  Reusing element from cache\n",
            "DEBUG:FFC:  Reusing element from cache\n",
            "DEBUG:FFC:  Reusing element from cache\n",
            "DEBUG:FFC:  Reusing element from cache\n",
            "DEBUG:FFC:  Reusing element from cache\n",
            "DEBUG:FFC:  Reusing element from cache\n",
            "DEBUG:FFC:  Reusing element from cache\n",
            "DEBUG:FFC:  Reusing element from cache\n",
            "DEBUG:FFC:  Reusing element from cache\n",
            "DEBUG:FFC:  Reusing element from cache\n",
            "DEBUG:FFC:  Reusing element from cache\n",
            "DEBUG:FFC:  Reusing element from cache\n",
            "DEBUG:FFC:  Reusing element from cache\n",
            "DEBUG:UFL_LEGACY:Blocks of each mode: \n",
            "\n",
            "INFO:FFC:  Computing representation of forms\n",
            "INFO:FFC:  \n",
            "INFO:FFC:Compiler stage 2 finished in 0.216312 seconds.\n",
            "\n",
            "INFO:FFC:Compiler stage 3: Optimizing intermediate representation\n",
            "INFO:FFC:--------------------------------------------------------\n",
            "INFO:FFC:  Optimizing uflacs representation\n",
            "INFO:FFC:  \n",
            "INFO:FFC:Compiler stage 3 finished in 0.00505257 seconds.\n",
            "\n",
            "INFO:FFC:Compiler stage 4: Generating code\n",
            "INFO:FFC:---------------------------------\n",
            "INFO:FFC:  Generating code for 0 finite_element(s)\n",
            "INFO:FFC:  Generating code for 0 dofmap(s)\n",
            "INFO:FFC:  Generating code for 0 coordinate_mapping(s)\n",
            "INFO:FFC:  Generating code for integrals\n",
            "INFO:FFC:  Generating code from ffc.uflacs representation\n",
            "INFO:FFC:  Generating code for forms\n",
            "INFO:FFC:  \n",
            "INFO:FFC:Compiler stage 4 finished in 0.0249856 seconds.\n",
            "\n",
            "INFO:FFC:Compiler stage 4.1 finished in 4.76837e-06 seconds.\n",
            "\n",
            "INFO:FFC:Compiler stage 5: Formatting code\n",
            "INFO:FFC:---------------------------------\n",
            "INFO:FFC:  \n",
            "INFO:FFC:Compiler stage 5 finished in 0.00359225 seconds.\n",
            "\n",
            "INFO:FFC:FFC finished in 0.291228 seconds.\n"
          ]
        },
        {
          "output_type": "stream",
          "name": "stdout",
          "text": [
            "Calling FFC just-in-time (JIT) compiler, this may take some time.\n"
          ]
        },
        {
          "output_type": "stream",
          "name": "stderr",
          "text": [
            "Level 25:FFC:Calling FFC just-in-time (JIT) compiler, this may take some time.\n",
            "INFO:FFC:Compiling form ffc_form_856c0c66b2bfcf3ca5405291f42c619d70e1d00a\n",
            "\n",
            "INFO:FFC:Compiler stage 1: Analyzing form(s)\n",
            "INFO:FFC:-----------------------------------\n",
            "DEBUG:FFC:  Preprocessing form using 'uflacs' representation family.\n",
            "INFO:UFL_LEGACY:Adjusting missing element cell to interval3D.\n",
            "INFO:UFL_LEGACY:Adjusting missing element cell to interval3D.\n",
            "INFO:FFC:  \n",
            "INFO:FFC:  Geometric dimension:       3\n",
            "  Number of cell subdomains: 0\n",
            "  Rank:                      2\n",
            "  Arguments:                 '(v_0, v_1)'\n",
            "  Number of coefficients:    2\n",
            "  Coefficients:              '[f_122, f_126]'\n",
            "  Unique elements:           'DG1(?,?), CG1(?,?), CG5(?,?), R0(?,?), Vector<3 x CG1(\n",
            "                             ?,?)>'\n",
            "  Unique sub elements:       'DG1(?,?), CG1(?,?), CG5(?,?), R0(?,?), Vector<3 x CG1(\n",
            "                             ?,?)>'\n",
            "  \n",
            "INFO:FFC:  representation:    auto --> uflacs\n",
            "INFO:FFC:  quadrature_rule:   auto --> default\n",
            "INFO:FFC:  quadrature_degree: auto --> 7\n",
            "INFO:FFC:  quadrature_degree: 7\n",
            "INFO:FFC:  \n",
            "INFO:FFC:Compiler stage 1 finished in 0.0329068 seconds.\n",
            "\n",
            "INFO:FFC:Compiler stage 2: Computing intermediate representation\n",
            "INFO:FFC:-------------------------------------------------------\n",
            "INFO:FFC:  Computing representation of 0 elements\n",
            "INFO:FFC:  Computing representation of 0 dofmaps\n",
            "INFO:FFC:  Computing representation of 0 coordinate mappings\n",
            "INFO:FFC:  Computing representation of integrals\n",
            "INFO:FFC:  Computing uflacs representation\n",
            "DEBUG:FFC:  Reusing element from cache\n",
            "DEBUG:FFC:  Reusing element from cache\n",
            "DEBUG:FFC:  Reusing element from cache\n",
            "DEBUG:FFC:  Reusing element from cache\n",
            "DEBUG:FFC:  Reusing element from cache\n",
            "DEBUG:FFC:  Reusing element from cache\n",
            "DEBUG:FFC:  Reusing element from cache\n",
            "DEBUG:FFC:  Reusing element from cache\n",
            "DEBUG:FFC:  Reusing element from cache\n",
            "DEBUG:FFC:  Reusing element from cache\n",
            "DEBUG:FFC:  Reusing element from cache\n",
            "DEBUG:FFC:  Reusing element from cache\n",
            "DEBUG:FFC:  Reusing element from cache\n",
            "DEBUG:FFC:  Reusing element from cache\n",
            "DEBUG:FFC:  Reusing element from cache\n",
            "DEBUG:FFC:  Reusing element from cache\n",
            "DEBUG:FFC:  Reusing element from cache\n",
            "DEBUG:FFC:  Reusing element from cache\n",
            "DEBUG:UFL_LEGACY:Blocks of each mode: \n",
            "  1\tfull\n",
            "INFO:FFC:  Computing representation of forms\n",
            "INFO:FFC:  \n",
            "INFO:FFC:Compiler stage 2 finished in 0.0863683 seconds.\n",
            "\n",
            "INFO:FFC:Compiler stage 3: Optimizing intermediate representation\n",
            "INFO:FFC:--------------------------------------------------------\n",
            "INFO:FFC:  Optimizing uflacs representation\n",
            "INFO:FFC:  \n",
            "INFO:FFC:Compiler stage 3 finished in 0.00457168 seconds.\n",
            "\n",
            "INFO:FFC:Compiler stage 4: Generating code\n",
            "INFO:FFC:---------------------------------\n",
            "INFO:FFC:  Generating code for 0 finite_element(s)\n",
            "INFO:FFC:  Generating code for 0 dofmap(s)\n",
            "INFO:FFC:  Generating code for 0 coordinate_mapping(s)\n",
            "INFO:FFC:  Generating code for integrals\n",
            "INFO:FFC:  Generating code from ffc.uflacs representation\n",
            "INFO:FFC:  Generating code for forms\n",
            "INFO:FFC:  \n",
            "INFO:FFC:Compiler stage 4 finished in 0.0234101 seconds.\n",
            "\n",
            "INFO:FFC:Compiler stage 4.1 finished in 3.33786e-06 seconds.\n",
            "\n",
            "INFO:FFC:Compiler stage 5: Formatting code\n",
            "INFO:FFC:---------------------------------\n",
            "INFO:FFC:  \n",
            "INFO:FFC:Compiler stage 5 finished in 0.0042932 seconds.\n",
            "\n",
            "INFO:FFC:FFC finished in 0.160761 seconds.\n"
          ]
        },
        {
          "output_type": "stream",
          "name": "stdout",
          "text": [
            "Calling FFC just-in-time (JIT) compiler, this may take some time.\n"
          ]
        },
        {
          "output_type": "stream",
          "name": "stderr",
          "text": [
            "Level 25:FFC:Calling FFC just-in-time (JIT) compiler, this may take some time.\n",
            "INFO:FFC:Compiling form ffc_form_2546bfdc7cf4a4c21bcd27074b8d18c3c2bf8dcd\n",
            "\n",
            "INFO:FFC:Compiler stage 1: Analyzing form(s)\n",
            "INFO:FFC:-----------------------------------\n",
            "DEBUG:FFC:  Preprocessing form using 'uflacs' representation family.\n",
            "INFO:UFL_LEGACY:Adjusting missing element cell to interval3D.\n",
            "INFO:UFL_LEGACY:Adjusting missing element cell to interval3D.\n",
            "INFO:FFC:  \n",
            "INFO:FFC:  Geometric dimension:       3\n",
            "  Number of cell subdomains: 0\n",
            "  Rank:                      2\n",
            "  Arguments:                 '(v_0, v_1)'\n",
            "  Number of coefficients:    2\n",
            "  Coefficients:              '[f_122, f_127]'\n",
            "  Unique elements:           'CG1(?,?), DG1(?,?), CG5(?,?), R0(?,?), Vector<3 x CG1(\n",
            "                             ?,?)>'\n",
            "  Unique sub elements:       'CG1(?,?), DG1(?,?), CG5(?,?), R0(?,?), Vector<3 x CG1(\n",
            "                             ?,?)>'\n",
            "  \n",
            "INFO:FFC:  representation:    auto --> uflacs\n",
            "INFO:FFC:  quadrature_rule:   auto --> default\n",
            "INFO:FFC:  quadrature_degree: auto --> 7\n",
            "INFO:FFC:  quadrature_degree: 7\n",
            "INFO:FFC:  \n",
            "INFO:FFC:Compiler stage 1 finished in 0.0460455 seconds.\n",
            "\n",
            "INFO:FFC:Compiler stage 2: Computing intermediate representation\n",
            "INFO:FFC:-------------------------------------------------------\n",
            "INFO:FFC:  Computing representation of 0 elements\n",
            "INFO:FFC:  Computing representation of 0 dofmaps\n",
            "INFO:FFC:  Computing representation of 0 coordinate mappings\n",
            "INFO:FFC:  Computing representation of integrals\n",
            "INFO:FFC:  Computing uflacs representation\n",
            "DEBUG:FFC:  Reusing element from cache\n",
            "DEBUG:FFC:  Reusing element from cache\n",
            "DEBUG:FFC:  Reusing element from cache\n",
            "DEBUG:FFC:  Reusing element from cache\n",
            "DEBUG:FFC:  Reusing element from cache\n",
            "DEBUG:FFC:  Reusing element from cache\n",
            "DEBUG:FFC:  Reusing element from cache\n",
            "DEBUG:FFC:  Reusing element from cache\n",
            "DEBUG:FFC:  Reusing element from cache\n",
            "DEBUG:FFC:  Reusing element from cache\n",
            "DEBUG:FFC:  Reusing element from cache\n",
            "DEBUG:FFC:  Reusing element from cache\n",
            "DEBUG:FFC:  Reusing element from cache\n",
            "DEBUG:FFC:  Reusing element from cache\n",
            "DEBUG:FFC:  Reusing element from cache\n",
            "DEBUG:FFC:  Reusing element from cache\n",
            "DEBUG:FFC:  Reusing element from cache\n",
            "DEBUG:FFC:  Reusing element from cache\n",
            "DEBUG:UFL_LEGACY:Blocks of each mode: \n",
            "  1\tfull\n",
            "INFO:FFC:  Computing representation of forms\n",
            "INFO:FFC:  \n",
            "INFO:FFC:Compiler stage 2 finished in 0.077343 seconds.\n",
            "\n",
            "INFO:FFC:Compiler stage 3: Optimizing intermediate representation\n",
            "INFO:FFC:--------------------------------------------------------\n",
            "INFO:FFC:  Optimizing uflacs representation\n",
            "INFO:FFC:  \n",
            "INFO:FFC:Compiler stage 3 finished in 0.00468707 seconds.\n",
            "\n",
            "INFO:FFC:Compiler stage 4: Generating code\n",
            "INFO:FFC:---------------------------------\n",
            "INFO:FFC:  Generating code for 0 finite_element(s)\n",
            "INFO:FFC:  Generating code for 0 dofmap(s)\n",
            "INFO:FFC:  Generating code for 0 coordinate_mapping(s)\n",
            "INFO:FFC:  Generating code for integrals\n",
            "INFO:FFC:  Generating code from ffc.uflacs representation\n",
            "INFO:FFC:  Generating code for forms\n",
            "INFO:FFC:  \n",
            "INFO:FFC:Compiler stage 4 finished in 0.0174773 seconds.\n",
            "\n",
            "INFO:FFC:Compiler stage 4.1 finished in 3.8147e-06 seconds.\n",
            "\n",
            "INFO:FFC:Compiler stage 5: Formatting code\n",
            "INFO:FFC:---------------------------------\n",
            "INFO:FFC:  \n",
            "INFO:FFC:Compiler stage 5 finished in 0.00469112 seconds.\n",
            "\n",
            "INFO:FFC:FFC finished in 0.158567 seconds.\n"
          ]
        },
        {
          "output_type": "stream",
          "name": "stdout",
          "text": [
            "Calling FFC just-in-time (JIT) compiler, this may take some time.\n"
          ]
        },
        {
          "output_type": "stream",
          "name": "stderr",
          "text": [
            "Level 25:FFC:Calling FFC just-in-time (JIT) compiler, this may take some time.\n",
            "INFO:FFC:Compiling form ffc_form_0281673503960dfc8d5161dde8fb26a8c43c38ad\n",
            "\n",
            "INFO:FFC:Compiler stage 1: Analyzing form(s)\n",
            "INFO:FFC:-----------------------------------\n",
            "DEBUG:FFC:  Preprocessing form using 'uflacs' representation family.\n",
            "INFO:UFL_LEGACY:Adjusting missing element cell to interval3D.\n",
            "INFO:UFL_LEGACY:Adjusting missing element cell to interval3D.\n",
            "INFO:UFL_LEGACY:Adjusting missing element cell to interval3D.\n",
            "INFO:UFL_LEGACY:Adjusting missing element cell to interval3D.\n",
            "INFO:FFC:  \n",
            "INFO:FFC:  Geometric dimension:                 3\n",
            "  Number of cell subdomains:           0\n",
            "  Number of exterior_facet subdomains: 1\n",
            "  Rank:                                2\n",
            "  Arguments:                           '(v_0, v_1)'\n",
            "  Number of coefficients:              4\n",
            "  Coefficients:                        '[f_122, f_128, f_129, f_130]'\n",
            "  Unique elements:                     'CG1(?,?), CG5(?,?), R0(?,?), Vector<3 x CG1(\n",
            "                                       ?,?)>'\n",
            "  Unique sub elements:                 'CG1(?,?), CG5(?,?), R0(?,?), Vector<3 x CG1(\n",
            "                                       ?,?)>'\n",
            "  \n",
            "INFO:FFC:  representation:    auto --> uflacs\n",
            "INFO:FFC:  quadrature_rule:   auto --> default\n",
            "INFO:FFC:  quadrature_degree: auto --> 10\n",
            "INFO:FFC:  quadrature_degree: 10\n",
            "INFO:FFC:  representation:    auto --> uflacs\n",
            "INFO:FFC:  quadrature_rule:   auto --> default\n",
            "INFO:FFC:  quadrature_degree: auto --> 2\n",
            "INFO:FFC:  quadrature_degree: 2\n",
            "INFO:FFC:  \n",
            "INFO:FFC:Compiler stage 1 finished in 0.0484335 seconds.\n",
            "\n",
            "INFO:FFC:Compiler stage 2: Computing intermediate representation\n",
            "INFO:FFC:-------------------------------------------------------\n",
            "INFO:FFC:  Computing representation of 0 elements\n",
            "INFO:FFC:  Computing representation of 0 dofmaps\n",
            "INFO:FFC:  Computing representation of 0 coordinate mappings\n",
            "INFO:FFC:  Computing representation of integrals\n",
            "INFO:FFC:  Computing uflacs representation\n",
            "DEBUG:FFC:  Reusing element from cache\n",
            "DEBUG:FFC:  Reusing element from cache\n",
            "DEBUG:FFC:  Reusing element from cache\n",
            "DEBUG:FFC:  Reusing element from cache\n",
            "DEBUG:FFC:  Reusing element from cache\n",
            "DEBUG:FFC:  Reusing element from cache\n",
            "DEBUG:FFC:  Reusing element from cache\n",
            "DEBUG:FFC:  Reusing element from cache\n",
            "DEBUG:FFC:  Reusing element from cache\n",
            "DEBUG:FFC:  Reusing element from cache\n",
            "DEBUG:FFC:  Reusing element from cache\n",
            "DEBUG:FFC:  Reusing element from cache\n",
            "DEBUG:FFC:  Reusing element from cache\n",
            "DEBUG:FFC:  Reusing element from cache\n",
            "DEBUG:FFC:  Reusing element from cache\n",
            "DEBUG:UFL_LEGACY:Blocks of each mode: \n",
            "  1\tfull\n",
            "  1\tpartial\n",
            "INFO:FFC:  Computing uflacs representation\n",
            "DEBUG:FFC:  Reusing element from cache\n",
            "DEBUG:FFC:  Reusing element from cache\n",
            "DEBUG:FFC:  Reusing element from cache\n",
            "DEBUG:FFC:  Reusing element from cache\n",
            "DEBUG:FFC:  Reusing element from cache\n",
            "DEBUG:FFC:  Reusing element from cache\n",
            "DEBUG:FFC:  Reusing element from cache\n",
            "DEBUG:FFC:  Reusing element from cache\n",
            "DEBUG:FFC:  Reusing element from cache\n",
            "DEBUG:FFC:  Reusing element from cache\n",
            "DEBUG:UFL_LEGACY:Blocks of each mode: \n",
            "\n",
            "INFO:FFC:  Computing representation of forms\n",
            "INFO:FFC:  \n",
            "INFO:FFC:Compiler stage 2 finished in 0.126899 seconds.\n",
            "\n",
            "INFO:FFC:Compiler stage 3: Optimizing intermediate representation\n",
            "INFO:FFC:--------------------------------------------------------\n",
            "INFO:FFC:  Optimizing uflacs representation\n",
            "INFO:FFC:  Optimizing uflacs representation\n",
            "INFO:FFC:  \n",
            "INFO:FFC:Compiler stage 3 finished in 0.00557709 seconds.\n",
            "\n",
            "INFO:FFC:Compiler stage 4: Generating code\n",
            "INFO:FFC:---------------------------------\n",
            "INFO:FFC:  Generating code for 0 finite_element(s)\n",
            "INFO:FFC:  Generating code for 0 dofmap(s)\n",
            "INFO:FFC:  Generating code for 0 coordinate_mapping(s)\n",
            "INFO:FFC:  Generating code for integrals\n",
            "INFO:FFC:  Generating code from ffc.uflacs representation\n",
            "INFO:FFC:  Generating code from ffc.uflacs representation\n",
            "INFO:FFC:  Generating code for forms\n",
            "INFO:FFC:  \n",
            "INFO:FFC:Compiler stage 4 finished in 0.0208445 seconds.\n",
            "\n",
            "INFO:FFC:Compiler stage 4.1 finished in 3.8147e-06 seconds.\n",
            "\n",
            "INFO:FFC:Compiler stage 5: Formatting code\n",
            "INFO:FFC:---------------------------------\n",
            "INFO:FFC:  \n",
            "INFO:FFC:Compiler stage 5 finished in 0.00484419 seconds.\n",
            "\n",
            "INFO:FFC:FFC finished in 0.215807 seconds.\n"
          ]
        },
        {
          "output_type": "stream",
          "name": "stdout",
          "text": [
            "Calling FFC just-in-time (JIT) compiler, this may take some time.\n"
          ]
        },
        {
          "output_type": "stream",
          "name": "stderr",
          "text": [
            "Level 25:FFC:Calling FFC just-in-time (JIT) compiler, this may take some time.\n",
            "INFO:FFC:Compiling form ffc_form_4d5e2edb2da87f7f643eb82ef2150cdea07c50f1\n",
            "\n",
            "INFO:FFC:Compiler stage 1: Analyzing form(s)\n",
            "INFO:FFC:-----------------------------------\n",
            "DEBUG:FFC:  Preprocessing form using 'uflacs' representation family.\n",
            "INFO:UFL_LEGACY:Adjusting missing element cell to tetrahedron.\n",
            "INFO:UFL_LEGACY:Adjusting missing element cell to tetrahedron.\n",
            "INFO:FFC:  \n",
            "INFO:FFC:  Geometric dimension:                 3\n",
            "  Number of exterior_facet subdomains: 2\n",
            "  Rank:                                1\n",
            "  Arguments:                           '(v_0)'\n",
            "  Number of coefficients:              2\n",
            "  Coefficients:                        '[f_131, f_132]'\n",
            "  Unique elements:                     'CG1(?,?), R0(?,?), Vector<3 x CG1(?,?)>'\n",
            "  Unique sub elements:                 'CG1(?,?), R0(?,?), Vector<3 x CG1(?,?)>'\n",
            "  \n",
            "INFO:FFC:  representation:    auto --> uflacs\n",
            "INFO:FFC:  quadrature_rule:   auto --> default\n",
            "INFO:FFC:  quadrature_degree: auto --> 1\n",
            "INFO:FFC:  quadrature_degree: 1\n",
            "INFO:FFC:  \n",
            "INFO:FFC:Compiler stage 1 finished in 0.034178 seconds.\n",
            "\n",
            "INFO:FFC:Compiler stage 2: Computing intermediate representation\n",
            "INFO:FFC:-------------------------------------------------------\n",
            "INFO:FFC:  Computing representation of 0 elements\n",
            "INFO:FFC:  Computing representation of 0 dofmaps\n",
            "INFO:FFC:  Computing representation of 0 coordinate mappings\n",
            "INFO:FFC:  Computing representation of integrals\n",
            "INFO:FFC:  Computing uflacs representation\n",
            "DEBUG:FFC:  Reusing element from cache\n",
            "DEBUG:FFC:  Reusing element from cache\n",
            "DEBUG:FFC:  Reusing element from cache\n",
            "DEBUG:FFC:  Reusing element from cache\n",
            "DEBUG:FFC:  Reusing element from cache\n",
            "DEBUG:FFC:  Reusing element from cache\n",
            "DEBUG:FFC:  Reusing element from cache\n",
            "DEBUG:FFC:  Reusing element from cache\n",
            "DEBUG:FFC:  Reusing element from cache\n",
            "DEBUG:FFC:  Reusing element from cache\n",
            "DEBUG:FFC:  Reusing element from cache\n",
            "DEBUG:FFC:  Reusing element from cache\n",
            "DEBUG:FFC:  Reusing element from cache\n",
            "DEBUG:FFC:  Reusing element from cache\n",
            "DEBUG:FFC:  Reusing element from cache\n",
            "DEBUG:FFC:  Reusing element from cache\n",
            "DEBUG:FFC:  Reusing element from cache\n",
            "DEBUG:FFC:  Reusing element from cache\n",
            "DEBUG:FFC:  Reusing element from cache\n",
            "DEBUG:FFC:  Reusing element from cache\n",
            "DEBUG:UFL_LEGACY:Blocks of each mode: \n",
            "\n",
            "INFO:FFC:  Computing representation of forms\n",
            "INFO:FFC:  \n",
            "INFO:FFC:Compiler stage 2 finished in 0.265988 seconds.\n",
            "\n",
            "INFO:FFC:Compiler stage 3: Optimizing intermediate representation\n",
            "INFO:FFC:--------------------------------------------------------\n",
            "INFO:FFC:  Optimizing uflacs representation\n",
            "INFO:FFC:  \n",
            "INFO:FFC:Compiler stage 3 finished in 0.00489497 seconds.\n",
            "\n",
            "INFO:FFC:Compiler stage 4: Generating code\n",
            "INFO:FFC:---------------------------------\n",
            "INFO:FFC:  Generating code for 0 finite_element(s)\n",
            "INFO:FFC:  Generating code for 0 dofmap(s)\n",
            "INFO:FFC:  Generating code for 0 coordinate_mapping(s)\n",
            "INFO:FFC:  Generating code for integrals\n",
            "INFO:FFC:  Generating code from ffc.uflacs representation\n",
            "INFO:FFC:  Generating code for forms\n",
            "INFO:FFC:  \n",
            "INFO:FFC:Compiler stage 4 finished in 0.0283749 seconds.\n",
            "\n",
            "INFO:FFC:Compiler stage 4.1 finished in 3.57628e-06 seconds.\n",
            "\n",
            "INFO:FFC:Compiler stage 5: Formatting code\n",
            "INFO:FFC:---------------------------------\n",
            "INFO:FFC:  \n",
            "INFO:FFC:Compiler stage 5 finished in 0.00455761 seconds.\n",
            "\n",
            "INFO:FFC:FFC finished in 0.346689 seconds.\n"
          ]
        },
        {
          "output_type": "stream",
          "name": "stdout",
          "text": [
            "Calling FFC just-in-time (JIT) compiler, this may take some time.\n"
          ]
        },
        {
          "output_type": "stream",
          "name": "stderr",
          "text": [
            "Level 25:FFC:Calling FFC just-in-time (JIT) compiler, this may take some time.\n",
            "INFO:FFC:Compiling form ffc_form_a2f66506c04aa7f21a316554c72eb030fbb69a27\n",
            "\n",
            "INFO:FFC:Compiler stage 1: Analyzing form(s)\n",
            "INFO:FFC:-----------------------------------\n",
            "DEBUG:FFC:  Preprocessing form using 'uflacs' representation family.\n",
            "INFO:UFL_LEGACY:Adjusting missing element cell to interval3D.\n",
            "INFO:UFL_LEGACY:Adjusting missing element cell to interval3D.\n",
            "INFO:FFC:  \n",
            "INFO:FFC:  Geometric dimension:                 3\n",
            "  Number of exterior_facet subdomains: 1\n",
            "  Rank:                                1\n",
            "  Arguments:                           '(v_0)'\n",
            "  Number of coefficients:              2\n",
            "  Coefficients:                        '[f_133, f_134]'\n",
            "  Unique elements:                     'CG1(?,?), R0(?,?), Vector<3 x CG1(?,?)>'\n",
            "  Unique sub elements:                 'CG1(?,?), R0(?,?), Vector<3 x CG1(?,?)>'\n",
            "  \n",
            "INFO:FFC:  representation:    auto --> uflacs\n",
            "INFO:FFC:  quadrature_rule:   auto --> default\n",
            "INFO:FFC:  quadrature_degree: auto --> 1\n",
            "INFO:FFC:  quadrature_degree: 1\n",
            "INFO:FFC:  \n",
            "INFO:FFC:Compiler stage 1 finished in 0.0310552 seconds.\n",
            "\n",
            "INFO:FFC:Compiler stage 2: Computing intermediate representation\n",
            "INFO:FFC:-------------------------------------------------------\n",
            "INFO:FFC:  Computing representation of 0 elements\n",
            "INFO:FFC:  Computing representation of 0 dofmaps\n",
            "INFO:FFC:  Computing representation of 0 coordinate mappings\n",
            "INFO:FFC:  Computing representation of integrals\n",
            "INFO:FFC:  Computing uflacs representation\n",
            "DEBUG:FFC:  Reusing element from cache\n",
            "DEBUG:FFC:  Reusing element from cache\n",
            "DEBUG:FFC:  Reusing element from cache\n",
            "DEBUG:FFC:  Reusing element from cache\n",
            "DEBUG:FFC:  Reusing element from cache\n",
            "DEBUG:FFC:  Reusing element from cache\n",
            "DEBUG:FFC:  Reusing element from cache\n",
            "DEBUG:FFC:  Reusing element from cache\n",
            "DEBUG:UFL_LEGACY:Blocks of each mode: \n",
            "\n",
            "INFO:FFC:  Computing representation of forms\n",
            "INFO:FFC:  \n",
            "INFO:FFC:Compiler stage 2 finished in 0.03181 seconds.\n",
            "\n",
            "INFO:FFC:Compiler stage 3: Optimizing intermediate representation\n",
            "INFO:FFC:--------------------------------------------------------\n",
            "INFO:FFC:  Optimizing uflacs representation\n",
            "INFO:FFC:  \n",
            "INFO:FFC:Compiler stage 3 finished in 0.00419307 seconds.\n",
            "\n",
            "INFO:FFC:Compiler stage 4: Generating code\n",
            "INFO:FFC:---------------------------------\n",
            "INFO:FFC:  Generating code for 0 finite_element(s)\n",
            "INFO:FFC:  Generating code for 0 dofmap(s)\n",
            "INFO:FFC:  Generating code for 0 coordinate_mapping(s)\n",
            "INFO:FFC:  Generating code for integrals\n",
            "INFO:FFC:  Generating code from ffc.uflacs representation\n",
            "INFO:FFC:  Generating code for forms\n",
            "INFO:FFC:  \n",
            "INFO:FFC:Compiler stage 4 finished in 0.014117 seconds.\n",
            "\n",
            "INFO:FFC:Compiler stage 4.1 finished in 4.29153e-06 seconds.\n",
            "\n",
            "INFO:FFC:Compiler stage 5: Formatting code\n",
            "INFO:FFC:---------------------------------\n",
            "INFO:FFC:  \n",
            "INFO:FFC:Compiler stage 5 finished in 0.00460696 seconds.\n",
            "\n",
            "INFO:FFC:FFC finished in 0.0932288 seconds.\n"
          ]
        },
        {
          "output_type": "stream",
          "name": "stdout",
          "text": [
            "Applied BC! Non-empty list\n",
            "Calling FFC just-in-time (JIT) compiler, this may take some time.\n"
          ]
        },
        {
          "output_type": "stream",
          "name": "stderr",
          "text": [
            "Level 25:FFC:Calling FFC just-in-time (JIT) compiler, this may take some time.\n",
            "INFO:FFC:Compiling element ffc_element_d0280b54b788351a9a1c721dfa1d7a2c33a1e4f4\n",
            "\n",
            "INFO:FFC:Compiler stage 1: Analyzing element(s)\n",
            "INFO:FFC:--------------------------------------\n",
            "INFO:FFC:  \n",
            "INFO:FFC:Compiler stage 1 finished in 0.00449777 seconds.\n",
            "\n",
            "INFO:FFC:Compiler stage 2: Computing intermediate representation\n",
            "INFO:FFC:-------------------------------------------------------\n",
            "INFO:FFC:  Computing representation of 1 elements\n",
            "DEBUG:FFC:  Reusing element from cache\n",
            "DEBUG:FFC:  Reusing element from cache\n",
            "DEBUG:FFC:  Reusing element from cache\n",
            "INFO:FFC:  Computing representation of 1 dofmaps\n",
            "DEBUG:FFC:  Reusing element from cache\n",
            "INFO:FFC:  Computing representation of 0 coordinate mappings\n",
            "INFO:FFC:  Computing representation of integrals\n",
            "INFO:FFC:  Computing representation of forms\n",
            "INFO:FFC:  \n",
            "INFO:FFC:Compiler stage 2 finished in 0.0464091 seconds.\n",
            "\n",
            "INFO:FFC:Compiler stage 3: Optimizing intermediate representation\n",
            "INFO:FFC:--------------------------------------------------------\n",
            "INFO:FFC:  Skipping optimizations, add -O or attach {'optimize': True} metadata to integrals\n",
            "INFO:FFC:  \n",
            "INFO:FFC:Compiler stage 3 finished in 0.0118756 seconds.\n",
            "\n",
            "INFO:FFC:Compiler stage 4: Generating code\n",
            "INFO:FFC:---------------------------------\n",
            "INFO:FFC:  Generating code for 1 finite_element(s)\n",
            "INFO:FFC:  Generating code for 1 dofmap(s)\n",
            "INFO:FFC:  Generating code for 0 coordinate_mapping(s)\n",
            "INFO:FFC:  Generating code for integrals\n",
            "INFO:FFC:  Generating code for forms\n",
            "INFO:FFC:  \n",
            "INFO:FFC:Compiler stage 4 finished in 0.198932 seconds.\n",
            "\n",
            "INFO:FFC:Compiler stage 4.1 finished in 4.52995e-06 seconds.\n",
            "\n",
            "INFO:FFC:Compiler stage 5: Formatting code\n",
            "INFO:FFC:---------------------------------\n",
            "INFO:FFC:  \n",
            "INFO:FFC:Compiler stage 5 finished in 0.0037756 seconds.\n",
            "\n",
            "INFO:FFC:FFC finished in 0.275826 seconds.\n"
          ]
        },
        {
          "output_type": "stream",
          "name": "stdout",
          "text": [
            "Calling FFC just-in-time (JIT) compiler, this may take some time.\n"
          ]
        },
        {
          "output_type": "stream",
          "name": "stderr",
          "text": [
            "Level 25:FFC:Calling FFC just-in-time (JIT) compiler, this may take some time.\n",
            "INFO:FFC:Compiling form ffc_form_a39dc00bc629ed3985ced5cf85c36f77e87a033e\n",
            "\n",
            "INFO:FFC:Compiler stage 1: Analyzing form(s)\n",
            "INFO:FFC:-----------------------------------\n",
            "DEBUG:FFC:  Preprocessing form using 'uflacs' representation family.\n",
            "INFO:FFC:  \n",
            "INFO:FFC:  Geometric dimension:       3\n",
            "  Number of cell subdomains: 0\n",
            "  Rank:                      2\n",
            "  Arguments:                 '(v_0, v_1)'\n",
            "  Number of coefficients:    0\n",
            "  Coefficients:              '[]'\n",
            "  Unique elements:           'Vector<3 x CG1(?,?)>'\n",
            "  Unique sub elements:       'Vector<3 x CG1(?,?)>, CG1(?,?)'\n",
            "  \n",
            "INFO:FFC:  representation:    auto --> uflacs\n",
            "INFO:FFC:  quadrature_rule:   auto --> default\n",
            "INFO:FFC:  quadrature_degree: auto --> 2\n",
            "INFO:FFC:  quadrature_degree: 2\n",
            "INFO:FFC:  \n",
            "INFO:FFC:Compiler stage 1 finished in 0.0482836 seconds.\n",
            "\n",
            "INFO:FFC:Compiler stage 2: Computing intermediate representation\n",
            "INFO:FFC:-------------------------------------------------------\n",
            "INFO:FFC:  Computing representation of 0 elements\n",
            "INFO:FFC:  Computing representation of 0 dofmaps\n",
            "INFO:FFC:  Computing representation of 0 coordinate mappings\n",
            "INFO:FFC:  Computing representation of integrals\n",
            "INFO:FFC:  Computing uflacs representation\n",
            "DEBUG:FFC:  Reusing element from cache\n",
            "DEBUG:FFC:  Reusing element from cache\n",
            "DEBUG:FFC:  Reusing element from cache\n",
            "DEBUG:FFC:  Reusing element from cache\n",
            "DEBUG:FFC:  Reusing element from cache\n",
            "DEBUG:FFC:  Reusing element from cache\n",
            "DEBUG:FFC:  Reusing element from cache\n",
            "DEBUG:FFC:  Reusing element from cache\n",
            "DEBUG:FFC:  Reusing element from cache\n",
            "DEBUG:FFC:  Reusing element from cache\n",
            "DEBUG:FFC:  Reusing element from cache\n",
            "DEBUG:FFC:  Reusing element from cache\n",
            "DEBUG:FFC:  Reusing element from cache\n",
            "DEBUG:FFC:  Reusing element from cache\n",
            "DEBUG:FFC:  Reusing element from cache\n",
            "DEBUG:FFC:  Reusing element from cache\n",
            "DEBUG:FFC:  Reusing element from cache\n",
            "DEBUG:FFC:  Reusing element from cache\n",
            "DEBUG:FFC:  Reusing element from cache\n",
            "DEBUG:UFL_LEGACY:Blocks of each mode: \n",
            "\n",
            "INFO:FFC:  Computing representation of forms\n",
            "INFO:FFC:  \n",
            "INFO:FFC:Compiler stage 2 finished in 0.133855 seconds.\n",
            "\n",
            "INFO:FFC:Compiler stage 3: Optimizing intermediate representation\n",
            "INFO:FFC:--------------------------------------------------------\n",
            "INFO:FFC:  Optimizing uflacs representation\n",
            "INFO:FFC:  \n",
            "INFO:FFC:Compiler stage 3 finished in 0.00537729 seconds.\n",
            "\n",
            "INFO:FFC:Compiler stage 4: Generating code\n",
            "INFO:FFC:---------------------------------\n",
            "INFO:FFC:  Generating code for 0 finite_element(s)\n",
            "INFO:FFC:  Generating code for 0 dofmap(s)\n",
            "INFO:FFC:  Generating code for 0 coordinate_mapping(s)\n",
            "INFO:FFC:  Generating code for integrals\n",
            "INFO:FFC:  Generating code from ffc.uflacs representation\n",
            "INFO:FFC:  Generating code for forms\n",
            "INFO:FFC:  \n",
            "INFO:FFC:Compiler stage 4 finished in 0.0197301 seconds.\n",
            "\n",
            "INFO:FFC:Compiler stage 4.1 finished in 3.8147e-06 seconds.\n",
            "\n",
            "INFO:FFC:Compiler stage 5: Formatting code\n",
            "INFO:FFC:---------------------------------\n",
            "INFO:FFC:  \n",
            "INFO:FFC:Compiler stage 5 finished in 0.00345063 seconds.\n",
            "\n",
            "INFO:FFC:FFC finished in 0.219764 seconds.\n"
          ]
        },
        {
          "output_type": "stream",
          "name": "stdout",
          "text": [
            "Calling FFC just-in-time (JIT) compiler, this may take some time.\n"
          ]
        },
        {
          "output_type": "stream",
          "name": "stderr",
          "text": [
            "Level 25:FFC:Calling FFC just-in-time (JIT) compiler, this may take some time.\n",
            "INFO:FFC:Compiling form ffc_form_39b0937af70ed9639aa8275281b20cc29957d051\n",
            "\n",
            "INFO:FFC:Compiler stage 1: Analyzing form(s)\n",
            "INFO:FFC:-----------------------------------\n",
            "DEBUG:FFC:  Preprocessing form using 'uflacs' representation family.\n",
            "INFO:UFL_LEGACY:Adjusting missing element cell to tetrahedron.\n",
            "INFO:FFC:  \n",
            "INFO:FFC:  Geometric dimension:       3\n",
            "  Number of cell subdomains: 0\n",
            "  Rank:                      1\n",
            "  Arguments:                 '(v_0)'\n",
            "  Number of coefficients:    2\n",
            "  Coefficients:              '[3D Pressure, f_218]'\n",
            "  Unique elements:           'Vector<3 x CG1(?,?)>, CG1(?,?), R0(?,?)'\n",
            "  Unique sub elements:       'Vector<3 x CG1(?,?)>, CG1(?,?), R0(?,?)'\n",
            "  \n",
            "INFO:FFC:  representation:    auto --> uflacs\n",
            "INFO:FFC:  quadrature_rule:   auto --> default\n",
            "INFO:FFC:  quadrature_degree: auto --> 1\n",
            "INFO:FFC:  quadrature_degree: 1\n",
            "INFO:FFC:  \n",
            "INFO:FFC:Compiler stage 1 finished in 0.0325303 seconds.\n",
            "\n",
            "INFO:FFC:Compiler stage 2: Computing intermediate representation\n",
            "INFO:FFC:-------------------------------------------------------\n",
            "INFO:FFC:  Computing representation of 0 elements\n",
            "INFO:FFC:  Computing representation of 0 dofmaps\n",
            "INFO:FFC:  Computing representation of 0 coordinate mappings\n",
            "INFO:FFC:  Computing representation of integrals\n",
            "INFO:FFC:  Computing uflacs representation\n",
            "DEBUG:FFC:  Reusing element from cache\n",
            "DEBUG:FFC:  Reusing element from cache\n",
            "DEBUG:FFC:  Reusing element from cache\n",
            "DEBUG:FFC:  Reusing element from cache\n",
            "DEBUG:FFC:  Reusing element from cache\n",
            "DEBUG:FFC:  Reusing element from cache\n",
            "DEBUG:FFC:  Reusing element from cache\n",
            "DEBUG:FFC:  Reusing element from cache\n",
            "DEBUG:FFC:  Reusing element from cache\n",
            "DEBUG:FFC:  Reusing element from cache\n",
            "DEBUG:FFC:  Reusing element from cache\n",
            "DEBUG:FFC:  Reusing element from cache\n",
            "DEBUG:FFC:  Reusing element from cache\n",
            "DEBUG:FFC:  Reusing element from cache\n",
            "DEBUG:FFC:  Reusing element from cache\n",
            "DEBUG:FFC:  Reusing element from cache\n",
            "DEBUG:FFC:  Reusing element from cache\n",
            "DEBUG:FFC:  Reusing element from cache\n",
            "DEBUG:FFC:  Reusing element from cache\n",
            "DEBUG:FFC:  Reusing element from cache\n",
            "DEBUG:FFC:  Reusing element from cache\n",
            "DEBUG:FFC:  Reusing element from cache\n",
            "DEBUG:FFC:  Reusing element from cache\n",
            "DEBUG:UFL_LEGACY:Blocks of each mode: \n",
            "\n",
            "INFO:FFC:  Computing representation of forms\n",
            "INFO:FFC:  \n",
            "INFO:FFC:Compiler stage 2 finished in 0.183856 seconds.\n",
            "\n",
            "INFO:FFC:Compiler stage 3: Optimizing intermediate representation\n",
            "INFO:FFC:--------------------------------------------------------\n",
            "INFO:FFC:  Optimizing uflacs representation\n",
            "INFO:FFC:  \n",
            "INFO:FFC:Compiler stage 3 finished in 0.00537944 seconds.\n",
            "\n",
            "INFO:FFC:Compiler stage 4: Generating code\n",
            "INFO:FFC:---------------------------------\n",
            "INFO:FFC:  Generating code for 0 finite_element(s)\n",
            "INFO:FFC:  Generating code for 0 dofmap(s)\n",
            "INFO:FFC:  Generating code for 0 coordinate_mapping(s)\n",
            "INFO:FFC:  Generating code for integrals\n",
            "INFO:FFC:  Generating code from ffc.uflacs representation\n",
            "INFO:FFC:  Generating code for forms\n",
            "INFO:FFC:  \n",
            "INFO:FFC:Compiler stage 4 finished in 0.0271108 seconds.\n",
            "\n",
            "INFO:FFC:Compiler stage 4.1 finished in 4.05312e-06 seconds.\n",
            "\n",
            "INFO:FFC:Compiler stage 5: Formatting code\n",
            "INFO:FFC:---------------------------------\n",
            "INFO:FFC:  \n",
            "INFO:FFC:Compiler stage 5 finished in 0.00453258 seconds.\n",
            "\n",
            "INFO:FFC:FFC finished in 0.262095 seconds.\n"
          ]
        }
      ]
    },
    {
      "cell_type": "code",
      "source": [
        "fem_test.calculate_1d_inflow()"
      ],
      "metadata": {
        "colab": {
          "base_uri": "https://localhost:8080/"
        },
        "id": "7lwq1bEmtvoa",
        "outputId": "7f064198-0b9d-4d5b-b566-ef1b885c1198"
      },
      "execution_count": 9,
      "outputs": [
        {
          "output_type": "execute_result",
          "data": {
            "text/plain": [
              "6.825422803941364e-07"
            ]
          },
          "metadata": {},
          "execution_count": 9
        }
      ]
    },
    {
      "cell_type": "code",
      "source": [
        "import Visualizer\n",
        "importlib.reload(Visualizer)"
      ],
      "metadata": {
        "id": "s4savFmKSOXD",
        "colab": {
          "base_uri": "https://localhost:8080/"
        },
        "outputId": "a5646f61-59f1-4730-a3f1-a44b6521befc"
      },
      "execution_count": 10,
      "outputs": [
        {
          "output_type": "execute_result",
          "data": {
            "text/plain": [
              "<module 'Visualizer' from '/content/drive/MyDrive/Research/3d-1d/modules/Visualizer.py'>"
            ]
          },
          "metadata": {},
          "execution_count": 10
        }
      ]
    },
    {
      "cell_type": "code",
      "source": [
        "Visualizer.plot(fem_test.uh1d, fem_test.uh3d)"
      ],
      "metadata": {
        "colab": {
          "base_uri": "https://localhost:8080/",
          "height": 477
        },
        "id": "JNYSKU-rSR5q",
        "outputId": "89f3235d-9f6a-4d8b-aa94-936dcc093d33"
      },
      "execution_count": 11,
      "outputs": [
        {
          "output_type": "display_data",
          "data": {
            "text/plain": [
              "<Figure size 1400x600 with 4 Axes>"
            ],
            "image/png": "[encoded data removed]"
          },
          "metadata": {}
        }
      ]
    },
    {
      "cell_type": "code",
      "source": [
        "Visualizer.plot_path_pressure(fem_test.uh1d, intermediate_nodes)"
      ],
      "metadata": {
        "colab": {
          "base_uri": "https://localhost:8080/",
          "height": 1000
        },
        "id": "NjCkyyoroKcH",
        "outputId": "796e8439-f0a5-4d62-bedb-15317d6a24cc"
      },
      "execution_count": null,
      "outputs": [
        {
          "output_type": "stream",
          "name": "stdout",
          "text": [
            "Node Pressure Data:\n",
            "Node 8: Pressure 12961.5\n",
            "Node 9: Pressure 12590.8\n",
            "Node 10: Pressure 12220.1\n",
            "Node 11: Pressure 11849.4\n",
            "Node 12: Pressure 11478.7\n",
            "Node 13: Pressure 11108.0\n",
            "Node 14: Pressure 10737.3\n",
            "Node 15: Pressure 10291.1\n",
            "Node 16: Pressure 9632.1\n",
            "Node 17: Pressure 8973.1\n",
            "Node 18: Pressure 7855.7\n",
            "Node 19: Pressure 7397.3\n",
            "Node 20: Pressure 6938.9\n",
            "Node 21: Pressure 6480.5\n",
            "Node 22: Pressure 6022.2\n",
            "Node 23: Pressure 5563.8\n",
            "Node 24: Pressure 5105.4\n",
            "Node 25: Pressure 4647.0\n",
            "Node 26: Pressure 4188.7\n",
            "Node 27: Pressure 3396.2\n",
            "Node 48: Pressure 1610.6\n",
            "Node 49: Pressure 1209.6\n",
            "Node 50: Pressure 874.3\n",
            "Node 51: Pressure 539.1\n",
            "Node 52: Pressure 203.8\n",
            "Node 53: Pressure -131.4\n",
            "Node 54: Pressure -466.7\n",
            "Node 55: Pressure -801.9\n",
            "Node 56: Pressure -1137.1\n",
            "Node 57: Pressure -1472.4\n"
          ]
        },
        {
          "output_type": "display_data",
          "data": {
            "text/plain": [
              "<Figure size 800x600 with 1 Axes>"
            ],
            "image/png": "[encoded data removed]"
          },
          "metadata": {}
        }
      ]
    },
    {
      "cell_type": "code",
      "source": [
        "print(fem_test.calculate_total_outflow())\n",
        "print(fem_test.calculate_1d_inflow())"
      ],
      "metadata": {
        "colab": {
          "base_uri": "https://localhost:8080/"
        },
        "id": "Q4Z3lJP0Vtw_",
        "outputId": "f04f944f-a64d-4689-a1ed-7bcdc0feea7e"
      },
      "execution_count": null,
      "outputs": [
        {
          "output_type": "stream",
          "name": "stdout",
          "text": [
            "9.783564462835776e-05\n",
            "9.783564462835776e-05\n"
          ]
        }
      ]
    },
    {
      "cell_type": "code",
      "source": [
        "import numpy as np\n",
        "from scipy.optimize import minimize\n",
        "import matplotlib.pyplot as plt\n",
        "\n",
        "def black_box_flow(gamma, gamma_R, gamma_a, gamma_v, k_v):\n",
        "    fem_test = FEMSinkVelo.FEMSinkVelo(\n",
        "        G=G,\n",
        "        gamma=gamma,\n",
        "        gamma_R=gamma_R,\n",
        "        gamma_a=gamma_a,\n",
        "        gamma_v=gamma_v,\n",
        "        mu=1.0e-3,\n",
        "        k_t=1.0e-10,\n",
        "        k_v=k_v,\n",
        "        P_in=100.0*133.322,\n",
        "        p_cvp=1.0*133.322,\n",
        "        Lambda_inlet=[0],\n",
        "        Lambda_padding_min=0.008,\n",
        "        original_to_new=original_to_new\n",
        "    )\n",
        "    flow_val = fem_test.calculate_1d_inflow()\n",
        "    return flow_val\n",
        "\n",
        "def cost_function_log(params_log, target_flow):\n",
        "    # Unpack parameters in log-space and convert to linear scale\n",
        "    gamma_linear   = 10.0**(params_log[0])\n",
        "    gamma_R_linear = 10.0**(params_log[1])\n",
        "    gamma_a_linear = 10.0**(params_log[2])\n",
        "    gamma_v_linear = 10.0**(params_log[3])\n",
        "    k_v_linear     = 10.0**(params_log[4])\n",
        "\n",
        "    # Evaluate the flow from the PDE solver\n",
        "    flow_val = black_box_flow(\n",
        "        gamma_linear,\n",
        "        gamma_R_linear,\n",
        "        gamma_a_linear,\n",
        "        gamma_v_linear,\n",
        "        k_v=k_v_linear\n",
        "    )\n",
        "\n",
        "    # Least-squares difference from the target flow\n",
        "    return (flow_val - target_flow)**2\n",
        "\n",
        "def multi_param_fit(\n",
        "    target_flow=500.6,\n",
        "    initial_guess_log=None,\n",
        "    max_iter=50\n",
        "):\n",
        "    if initial_guess_log is None:\n",
        "        initial_guess_log = [0.0, 0.0, 0.0, 0.0, -8.0]\n",
        "\n",
        "    n_params = len(initial_guess_log)\n",
        "    initial_simplex = [np.array(initial_guess_log)]\n",
        "    for i in range(n_params):\n",
        "        vertex = np.array(initial_guess_log, copy=True)\n",
        "        if i == 4:  # k_v dimension: smaller step size\n",
        "            vertex[i] += 0.01\n",
        "        else:\n",
        "            vertex[i] += 0.1\n",
        "        initial_simplex.append(vertex)\n",
        "    initial_simplex = np.array(initial_simplex)\n",
        "\n",
        "    cost_history = []\n",
        "\n",
        "    def callback(xk):\n",
        "        cost = cost_function_log(xk, target_flow=target_flow)\n",
        "        cost_history.append(cost)\n",
        "        iteration_num = len(cost_history)\n",
        "        print(f\"Iteration {iteration_num}: parameters (log scale) = {xk}, cost = {cost}\")\n",
        "\n",
        "    result = minimize(\n",
        "        fun=lambda p: cost_function_log(p, target_flow=target_flow),\n",
        "        x0=np.array(initial_guess_log),\n",
        "        method='Nelder-Mead',\n",
        "        callback=callback,\n",
        "        options={\n",
        "            'maxiter': max_iter,\n",
        "            'disp': True,\n",
        "            'initial_simplex': initial_simplex\n",
        "        }\n",
        "    )\n",
        "\n",
        "    best_log = result.x\n",
        "    gamma_opt   = 10.0**(best_log[0])\n",
        "    gammaR_opt  = 10.0**(best_log[1])\n",
        "    gammaA_opt  = 10.0**(best_log[2])\n",
        "    gammaV_opt  = 10.0**(best_log[3])\n",
        "    k_v_opt     = 10.0**(best_log[4])\n",
        "\n",
        "    flow_final = black_box_flow(gamma_opt, gammaR_opt, gammaA_opt, gammaV_opt, k_v_opt)\n",
        "\n",
        "    # Plot the cost history\n",
        "    plt.figure(figsize=(8, 5))\n",
        "    plt.plot(range(1, len(cost_history) + 1), cost_history, marker='o', linestyle='-')\n",
        "    plt.xlabel('Iteration')\n",
        "    plt.ylabel('Cost')\n",
        "    plt.title('Cost vs. Iterations')\n",
        "    plt.grid(True)\n",
        "    plt.show()\n",
        "\n",
        "    return {\n",
        "        'success': result.success,\n",
        "        'status': result.status,\n",
        "        'message': result.message,\n",
        "        'n_iters': result.nit,\n",
        "        'cost_final': result.fun,\n",
        "        'gamma':   gamma_opt,\n",
        "        'gamma_R': gammaR_opt,\n",
        "        'gamma_a': gammaA_opt,\n",
        "        'gamma_v': gammaV_opt,\n",
        "        'k_v':     k_v_opt,\n",
        "        'flow_final': flow_final,\n",
        "        'cost_history': cost_history\n",
        "    }\n",
        "\n",
        "res = multi_param_fit(target_flow=5.0e-6, max_iter=50)\n",
        "\n",
        "print(\"Optimization successful?\", res['success'])\n",
        "print(\"Status code:\", res['status'])\n",
        "print(\"Message:\", res['message'])\n",
        "print(\"Number of iterations:\", res['n_iters'])\n",
        "print(\"Final cost:\", res['cost_final'])\n",
        "print(f\"gamma    = {res['gamma']:8.4g}\")\n",
        "print(f\"gamma_R  = {res['gamma_R']:8.4g}\")\n",
        "print(f\"gamma_a  = {res['gamma_a']:8.4g}\")\n",
        "print(f\"gamma_v  = {res['gamma_v']:8.4g}\")\n",
        "print(f\"k_v      = {res['k_v']:8.4g}\")\n",
        "print(f\"flow     = {res['flow_final']:8.4g}\")"
      ],
      "metadata": {
        "colab": {
          "base_uri": "https://localhost:8080/",
          "height": 1000
        },
        "id": "PUg1T5AP8ZTo",
        "outputId": "f045c62f-68ff-4311-8edb-9ebbb2022117"
      },
      "execution_count": null,
      "outputs": [
        {
          "output_type": "stream",
          "name": "stderr",
          "text": [
            "Averaging over 154 cells: 100%|██████████| 154/154 [00:00<00:00, 872.88it/s]\n"
          ]
        },
        {
          "output_type": "stream",
          "name": "stdout",
          "text": [
            "Applied BC! Non-empty list\n"
          ]
        },
        {
          "output_type": "stream",
          "name": "stderr",
          "text": [
            "Averaging over 154 cells: 100%|██████████| 154/154 [00:00<00:00, 911.25it/s]\n"
          ]
        },
        {
          "output_type": "stream",
          "name": "stdout",
          "text": [
            "Applied BC! Non-empty list\n"
          ]
        },
        {
          "output_type": "stream",
          "name": "stderr",
          "text": [
            "Averaging over 154 cells: 100%|██████████| 154/154 [00:00<00:00, 855.49it/s]\n"
          ]
        },
        {
          "output_type": "stream",
          "name": "stdout",
          "text": [
            "Applied BC! Non-empty list\n"
          ]
        },
        {
          "output_type": "stream",
          "name": "stderr",
          "text": [
            "Averaging over 154 cells: 100%|██████████| 154/154 [00:00<00:00, 572.70it/s]\n"
          ]
        },
        {
          "output_type": "stream",
          "name": "stdout",
          "text": [
            "Applied BC! Non-empty list\n"
          ]
        },
        {
          "output_type": "stream",
          "name": "stderr",
          "text": [
            "Averaging over 154 cells: 100%|██████████| 154/154 [00:00<00:00, 450.20it/s]\n"
          ]
        },
        {
          "output_type": "stream",
          "name": "stdout",
          "text": [
            "Applied BC! Non-empty list\n"
          ]
        },
        {
          "output_type": "stream",
          "name": "stderr",
          "text": [
            "Averaging over 154 cells: 100%|██████████| 154/154 [00:00<00:00, 915.53it/s]\n"
          ]
        },
        {
          "output_type": "stream",
          "name": "stdout",
          "text": [
            "Applied BC! Non-empty list\n"
          ]
        },
        {
          "output_type": "stream",
          "name": "stderr",
          "text": [
            "Averaging over 154 cells: 100%|██████████| 154/154 [00:00<00:00, 905.31it/s]\n"
          ]
        },
        {
          "output_type": "stream",
          "name": "stdout",
          "text": [
            "Applied BC! Non-empty list\n"
          ]
        },
        {
          "output_type": "stream",
          "name": "stderr",
          "text": [
            "Averaging over 154 cells: 100%|██████████| 154/154 [00:00<00:00, 913.14it/s]\n"
          ]
        },
        {
          "output_type": "stream",
          "name": "stdout",
          "text": [
            "Applied BC! Non-empty list\n"
          ]
        },
        {
          "output_type": "stream",
          "name": "stderr",
          "text": [
            "Averaging over 154 cells: 100%|██████████| 154/154 [00:00<00:00, 896.27it/s]\n"
          ]
        },
        {
          "output_type": "stream",
          "name": "stdout",
          "text": [
            "Applied BC! Non-empty list\n",
            "Iteration 1: parameters (log scale) = [ 0.06  -0.2    0.06   0.06  -7.994], cost = 8.142383577136157e-05\n"
          ]
        },
        {
          "output_type": "stream",
          "name": "stderr",
          "text": [
            "Averaging over 154 cells: 100%|██████████| 154/154 [00:00<00:00, 476.77it/s]\n"
          ]
        },
        {
          "output_type": "stream",
          "name": "stdout",
          "text": [
            "Applied BC! Non-empty list\n"
          ]
        },
        {
          "output_type": "stream",
          "name": "stderr",
          "text": [
            "Averaging over 154 cells: 100%|██████████| 154/154 [00:00<00:00, 540.35it/s]\n"
          ]
        },
        {
          "output_type": "stream",
          "name": "stdout",
          "text": [
            "Applied BC! Non-empty list\n",
            "Iteration 2: parameters (log scale) = [ 0.06  -0.2    0.06   0.06  -7.994], cost = 8.142383577136157e-05\n"
          ]
        },
        {
          "output_type": "stream",
          "name": "stderr",
          "text": [
            "Averaging over 154 cells: 100%|██████████| 154/154 [00:00<00:00, 914.91it/s]\n"
          ]
        },
        {
          "output_type": "stream",
          "name": "stdout",
          "text": [
            "Applied BC! Non-empty list\n"
          ]
        },
        {
          "output_type": "stream",
          "name": "stderr",
          "text": [
            "Averaging over 154 cells: 100%|██████████| 154/154 [00:00<00:00, 930.17it/s]\n"
          ]
        },
        {
          "output_type": "stream",
          "name": "stdout",
          "text": [
            "Applied BC! Non-empty list\n",
            "Iteration 3: parameters (log scale) = [ 0.06  -0.2    0.06   0.06  -7.994], cost = 8.142383577136157e-05\n"
          ]
        },
        {
          "output_type": "stream",
          "name": "stderr",
          "text": [
            "Averaging over 154 cells: 100%|██████████| 154/154 [00:00<00:00, 914.53it/s]\n"
          ]
        },
        {
          "output_type": "stream",
          "name": "stdout",
          "text": [
            "Applied BC! Non-empty list\n"
          ]
        },
        {
          "output_type": "stream",
          "name": "stderr",
          "text": [
            "Averaging over 154 cells: 100%|██████████| 154/154 [00:00<00:00, 899.84it/s]\n"
          ]
        },
        {
          "output_type": "stream",
          "name": "stdout",
          "text": [
            "Applied BC! Non-empty list\n",
            "Iteration 4: parameters (log scale) = [ 0.06  -0.2    0.06   0.06  -7.994], cost = 8.142383577136157e-05\n"
          ]
        },
        {
          "output_type": "stream",
          "name": "stderr",
          "text": [
            "Averaging over 154 cells: 100%|██████████| 154/154 [00:00<00:00, 540.51it/s]\n"
          ]
        },
        {
          "output_type": "stream",
          "name": "stdout",
          "text": [
            "Applied BC! Non-empty list\n"
          ]
        },
        {
          "output_type": "stream",
          "name": "stderr",
          "text": [
            "Averaging over 154 cells: 100%|██████████| 154/154 [00:00<00:00, 578.80it/s]\n"
          ]
        },
        {
          "output_type": "stream",
          "name": "stdout",
          "text": [
            "Applied BC! Non-empty list\n"
          ]
        },
        {
          "output_type": "stream",
          "name": "stderr",
          "text": [
            "Averaging over 154 cells: 100%|██████████| 154/154 [00:00<00:00, 870.54it/s]\n"
          ]
        },
        {
          "output_type": "stream",
          "name": "stdout",
          "text": [
            "Applied BC! Non-empty list\n",
            "Iteration 5: parameters (log scale) = [ 0.061824  -0.32928    0.263424   0.119424  -8.0018816], cost = 7.005172412180478e-05\n"
          ]
        },
        {
          "output_type": "stream",
          "name": "stderr",
          "text": [
            "Averaging over 154 cells: 100%|██████████| 154/154 [00:00<00:00, 752.42it/s]\n"
          ]
        },
        {
          "output_type": "stream",
          "name": "stdout",
          "text": [
            "Applied BC! Non-empty list\n"
          ]
        },
        {
          "output_type": "stream",
          "name": "stderr",
          "text": [
            "Averaging over 154 cells: 100%|██████████| 154/154 [00:00<00:00, 950.12it/s]\n"
          ]
        },
        {
          "output_type": "stream",
          "name": "stdout",
          "text": [
            "Applied BC! Non-empty list\n"
          ]
        },
        {
          "output_type": "stream",
          "name": "stderr",
          "text": [
            "Averaging over 154 cells: 100%|██████████| 154/154 [00:00<00:00, 939.22it/s]\n"
          ]
        },
        {
          "output_type": "stream",
          "name": "stdout",
          "text": [
            "Applied BC! Non-empty list\n",
            "Iteration 6: parameters (log scale) = [ 0.0989184  -0.526848    0.1614784   0.1910784  -8.00301056], cost = 5.3703726320611854e-05\n"
          ]
        },
        {
          "output_type": "stream",
          "name": "stderr",
          "text": [
            "Averaging over 154 cells: 100%|██████████| 154/154 [00:00<00:00, 933.11it/s]\n"
          ]
        },
        {
          "output_type": "stream",
          "name": "stdout",
          "text": [
            "Applied BC! Non-empty list\n"
          ]
        },
        {
          "output_type": "stream",
          "name": "stderr",
          "text": [
            "Averaging over 154 cells: 100%|██████████| 154/154 [00:00<00:00, 557.51it/s]\n"
          ]
        },
        {
          "output_type": "stream",
          "name": "stdout",
          "text": [
            "Applied BC! Non-empty list\n",
            "Iteration 7: parameters (log scale) = [ 0.0989184  -0.526848    0.1614784   0.1910784  -8.00301056], cost = 5.3703726320611854e-05\n"
          ]
        },
        {
          "output_type": "stream",
          "name": "stderr",
          "text": [
            "Averaging over 154 cells: 100%|██████████| 154/154 [00:00<00:00, 938.29it/s]\n"
          ]
        },
        {
          "output_type": "stream",
          "name": "stdout",
          "text": [
            "Applied BC! Non-empty list\n"
          ]
        },
        {
          "output_type": "stream",
          "name": "stderr",
          "text": [
            "Averaging over 154 cells: 100%|██████████| 154/154 [00:00<00:00, 901.08it/s]\n"
          ]
        },
        {
          "output_type": "stream",
          "name": "stdout",
          "text": [
            "Applied BC! Non-empty list\n"
          ]
        },
        {
          "output_type": "stream",
          "name": "stderr",
          "text": [
            "Averaging over 154 cells: 100%|██████████| 154/154 [00:00<00:00, 864.81it/s]\n"
          ]
        },
        {
          "output_type": "stream",
          "name": "stdout",
          "text": [
            "Applied BC! Non-empty list\n",
            "Iteration 8: parameters (log scale) = [ 0.26045722 -0.77373952  0.31659162  0.10289562 -7.99413565], cost = 3.083107588768816e-05\n"
          ]
        },
        {
          "output_type": "stream",
          "name": "stderr",
          "text": [
            "Averaging over 154 cells: 100%|██████████| 154/154 [00:00<00:00, 704.08it/s]\n"
          ]
        },
        {
          "output_type": "stream",
          "name": "stdout",
          "text": [
            "Applied BC! Non-empty list\n"
          ]
        },
        {
          "output_type": "stream",
          "name": "stderr",
          "text": [
            "Averaging over 154 cells: 100%|██████████| 154/154 [00:00<00:00, 880.28it/s]\n"
          ]
        },
        {
          "output_type": "stream",
          "name": "stdout",
          "text": [
            "Applied BC! Non-empty list\n",
            "Iteration 9: parameters (log scale) = [ 0.26045722 -0.77373952  0.31659162  0.10289562 -7.99413565], cost = 3.083107588768816e-05\n"
          ]
        },
        {
          "output_type": "stream",
          "name": "stderr",
          "text": [
            "Averaging over 154 cells: 100%|██████████| 154/154 [00:00<00:00, 577.32it/s]\n"
          ]
        },
        {
          "output_type": "stream",
          "name": "stdout",
          "text": [
            "Applied BC! Non-empty list\n"
          ]
        },
        {
          "output_type": "stream",
          "name": "stderr",
          "text": [
            "Averaging over 154 cells: 100%|██████████| 154/154 [00:00<00:00, 547.34it/s]\n"
          ]
        },
        {
          "output_type": "stream",
          "name": "stdout",
          "text": [
            "Applied BC! Non-empty list\n"
          ]
        },
        {
          "output_type": "stream",
          "name": "stderr",
          "text": [
            "Averaging over 154 cells: 100%|██████████| 154/154 [00:00<00:00, 887.77it/s]\n"
          ]
        },
        {
          "output_type": "stream",
          "name": "stdout",
          "text": [
            "Applied BC! Non-empty list\n",
            "Iteration 10: parameters (log scale) = [ 0.24391056 -1.30098452  0.62341162  0.34633258 -8.00296563], cost = 7.300983416029727e-06\n"
          ]
        },
        {
          "output_type": "stream",
          "name": "stderr",
          "text": [
            "Averaging over 154 cells: 100%|██████████| 154/154 [00:00<00:00, 954.46it/s]\n"
          ]
        },
        {
          "output_type": "stream",
          "name": "stdout",
          "text": [
            "Applied BC! Non-empty list\n"
          ]
        },
        {
          "output_type": "stream",
          "name": "stderr",
          "text": [
            "Averaging over 154 cells: 100%|██████████| 154/154 [00:00<00:00, 937.50it/s]\n"
          ]
        },
        {
          "output_type": "stream",
          "name": "stdout",
          "text": [
            "Applied BC! Non-empty list\n",
            "Iteration 11: parameters (log scale) = [ 0.24391056 -1.30098452  0.62341162  0.34633258 -8.00296563], cost = 7.300983416029727e-06\n"
          ]
        },
        {
          "output_type": "stream",
          "name": "stderr",
          "text": [
            "Averaging over 154 cells: 100%|██████████| 154/154 [00:00<00:00, 957.97it/s]\n"
          ]
        },
        {
          "output_type": "stream",
          "name": "stdout",
          "text": [
            "Applied BC! Non-empty list\n"
          ]
        },
        {
          "output_type": "stream",
          "name": "stderr",
          "text": [
            "Averaging over 154 cells: 100%|██████████| 154/154 [00:00<00:00, 575.16it/s]\n"
          ]
        },
        {
          "output_type": "stream",
          "name": "stdout",
          "text": [
            "Applied BC! Non-empty list\n"
          ]
        },
        {
          "output_type": "stream",
          "name": "stderr",
          "text": [
            "Averaging over 154 cells: 100%|██████████| 154/154 [00:00<00:00, 516.04it/s]\n"
          ]
        },
        {
          "output_type": "stream",
          "name": "stdout",
          "text": [
            "Applied BC! Non-empty list\n",
            "Iteration 12: parameters (log scale) = [ 0.58395941 -1.83011702  0.62357137  0.47485032 -8.00644821], cost = 5.091217471960037e-07\n"
          ]
        },
        {
          "output_type": "stream",
          "name": "stderr",
          "text": [
            "Averaging over 154 cells: 100%|██████████| 154/154 [00:00<00:00, 856.60it/s]\n"
          ]
        },
        {
          "output_type": "stream",
          "name": "stdout",
          "text": [
            "Applied BC! Non-empty list\n"
          ]
        },
        {
          "output_type": "stream",
          "name": "stderr",
          "text": [
            "Averaging over 154 cells: 100%|██████████| 154/154 [00:00<00:00, 889.16it/s]\n"
          ]
        },
        {
          "output_type": "stream",
          "name": "stdout",
          "text": [
            "Applied BC! Non-empty list\n",
            "Iteration 13: parameters (log scale) = [ 0.58395941 -1.83011702  0.62357137  0.47485032 -8.00644821], cost = 5.091217471960037e-07\n"
          ]
        },
        {
          "output_type": "stream",
          "name": "stderr",
          "text": [
            "Averaging over 154 cells: 100%|██████████| 154/154 [00:00<00:00, 710.11it/s]\n"
          ]
        },
        {
          "output_type": "stream",
          "name": "stdout",
          "text": [
            "Applied BC! Non-empty list\n"
          ]
        },
        {
          "output_type": "stream",
          "name": "stderr",
          "text": [
            "Averaging over 154 cells: 100%|██████████| 154/154 [00:00<00:00, 934.00it/s]\n"
          ]
        },
        {
          "output_type": "stream",
          "name": "stdout",
          "text": [
            "Applied BC! Non-empty list\n"
          ]
        },
        {
          "output_type": "stream",
          "name": "stderr",
          "text": [
            "Averaging over 154 cells: 100%|██████████| 154/154 [00:00<00:00, 565.19it/s]\n"
          ]
        },
        {
          "output_type": "stream",
          "name": "stdout",
          "text": [
            "Applied BC! Non-empty list\n",
            "Iteration 14: parameters (log scale) = [ 0.76972978 -2.63736809  1.03698065  0.45934374 -8.00661489], cost = 4.158920299288352e-08\n"
          ]
        },
        {
          "output_type": "stream",
          "name": "stderr",
          "text": [
            "Averaging over 154 cells: 100%|██████████| 154/154 [00:00<00:00, 510.79it/s]\n"
          ]
        },
        {
          "output_type": "stream",
          "name": "stdout",
          "text": [
            "Applied BC! Non-empty list\n"
          ]
        },
        {
          "output_type": "stream",
          "name": "stderr",
          "text": [
            "Averaging over 154 cells: 100%|██████████| 154/154 [00:00<00:00, 706.49it/s]\n"
          ]
        },
        {
          "output_type": "stream",
          "name": "stdout",
          "text": [
            "Applied BC! Non-empty list\n",
            "Iteration 15: parameters (log scale) = [ 0.76972978 -2.63736809  1.03698065  0.45934374 -8.00661489], cost = 4.158920299288352e-08\n"
          ]
        },
        {
          "output_type": "stream",
          "name": "stderr",
          "text": [
            "Averaging over 154 cells: 100%|██████████| 154/154 [00:00<00:00, 826.77it/s]\n"
          ]
        },
        {
          "output_type": "stream",
          "name": "stdout",
          "text": [
            "Applied BC! Non-empty list\n"
          ]
        },
        {
          "output_type": "stream",
          "name": "stderr",
          "text": [
            "Averaging over 154 cells: 100%|██████████| 154/154 [00:00<00:00, 821.74it/s]\n"
          ]
        },
        {
          "output_type": "stream",
          "name": "stdout",
          "text": [
            "Applied BC! Non-empty list\n"
          ]
        },
        {
          "output_type": "stream",
          "name": "stderr",
          "text": [
            "Averaging over 154 cells: 100%|██████████| 154/154 [00:00<00:00, 871.34it/s]\n"
          ]
        },
        {
          "output_type": "stream",
          "name": "stdout",
          "text": [
            "Applied BC! Non-empty list\n",
            "Iteration 16: parameters (log scale) = [ 0.86058221 -2.93451789  1.2435365   0.65798576 -8.01354205], cost = 3.67802346880152e-08\n"
          ]
        },
        {
          "output_type": "stream",
          "name": "stderr",
          "text": [
            "Averaging over 154 cells: 100%|██████████| 154/154 [00:00<00:00, 462.27it/s]\n"
          ]
        },
        {
          "output_type": "stream",
          "name": "stdout",
          "text": [
            "Applied BC! Non-empty list\n"
          ]
        },
        {
          "output_type": "stream",
          "name": "stderr",
          "text": [
            "Averaging over 154 cells: 100%|██████████| 154/154 [00:00<00:00, 517.99it/s]\n"
          ]
        },
        {
          "output_type": "stream",
          "name": "stdout",
          "text": [
            "Applied BC! Non-empty list\n",
            "Iteration 17: parameters (log scale) = [ 0.86058221 -2.93451789  1.2435365   0.65798576 -8.01354205], cost = 3.67802346880152e-08\n"
          ]
        },
        {
          "output_type": "stream",
          "name": "stderr",
          "text": [
            "Averaging over 154 cells: 100%|██████████| 154/154 [00:00<00:00, 818.09it/s]\n"
          ]
        },
        {
          "output_type": "stream",
          "name": "stdout",
          "text": [
            "Applied BC! Non-empty list\n"
          ]
        },
        {
          "output_type": "stream",
          "name": "stderr",
          "text": [
            "Averaging over 154 cells: 100%|██████████| 154/154 [00:00<00:00, 756.23it/s]\n"
          ]
        },
        {
          "output_type": "stream",
          "name": "stdout",
          "text": [
            "Applied BC! Non-empty list\n",
            "Iteration 18: parameters (log scale) = [ 0.86058221 -2.93451789  1.2435365   0.65798576 -8.01354205], cost = 3.67802346880152e-08\n"
          ]
        },
        {
          "output_type": "stream",
          "name": "stderr",
          "text": [
            "Averaging over 154 cells: 100%|██████████| 154/154 [00:00<00:00, 774.62it/s]\n"
          ]
        },
        {
          "output_type": "stream",
          "name": "stdout",
          "text": [
            "Applied BC! Non-empty list\n"
          ]
        },
        {
          "output_type": "stream",
          "name": "stderr",
          "text": [
            "Averaging over 154 cells: 100%|██████████| 154/154 [00:00<00:00, 884.99it/s]\n"
          ]
        },
        {
          "output_type": "stream",
          "name": "stdout",
          "text": [
            "Applied BC! Non-empty list\n"
          ]
        },
        {
          "output_type": "stream",
          "name": "stderr",
          "text": [
            "Averaging over 154 cells: 100%|██████████| 154/154 [00:00<00:00, 862.48it/s]\n"
          ]
        },
        {
          "output_type": "stream",
          "name": "stdout",
          "text": [
            "Applied BC! Non-empty list\n",
            "Iteration 19: parameters (log scale) = [ 0.86058221 -2.93451789  1.2435365   0.65798576 -8.01354205], cost = 3.67802346880152e-08\n"
          ]
        },
        {
          "output_type": "stream",
          "name": "stderr",
          "text": [
            "Averaging over 154 cells: 100%|██████████| 154/154 [00:00<00:00, 572.78it/s]\n"
          ]
        },
        {
          "output_type": "stream",
          "name": "stdout",
          "text": [
            "Applied BC! Non-empty list\n"
          ]
        },
        {
          "output_type": "stream",
          "name": "stderr",
          "text": [
            "Averaging over 154 cells: 100%|██████████| 154/154 [00:00<00:00, 742.94it/s]\n"
          ]
        },
        {
          "output_type": "stream",
          "name": "stdout",
          "text": [
            "Applied BC! Non-empty list\n",
            "Iteration 20: parameters (log scale) = [ 0.86058221 -2.93451789  1.2435365   0.65798576 -8.01354205], cost = 3.67802346880152e-08\n"
          ]
        },
        {
          "output_type": "stream",
          "name": "stderr",
          "text": [
            "Averaging over 154 cells: 100%|██████████| 154/154 [00:00<00:00, 927.89it/s]\n"
          ]
        },
        {
          "output_type": "stream",
          "name": "stdout",
          "text": [
            "Applied BC! Non-empty list\n"
          ]
        },
        {
          "output_type": "stream",
          "name": "stderr",
          "text": [
            "Averaging over 154 cells: 100%|██████████| 154/154 [00:00<00:00, 929.62it/s]\n"
          ]
        },
        {
          "output_type": "stream",
          "name": "stdout",
          "text": [
            "Applied BC! Non-empty list\n"
          ]
        },
        {
          "output_type": "stream",
          "name": "stderr",
          "text": [
            "Averaging over 154 cells: 100%|██████████| 154/154 [00:00<00:00, 760.28it/s]\n"
          ]
        },
        {
          "output_type": "stream",
          "name": "stdout",
          "text": [
            "Applied BC! Non-empty list\n",
            "Iteration 21: parameters (log scale) = [ 0.86058221 -2.93451789  1.2435365   0.65798576 -8.01354205], cost = 3.67802346880152e-08\n"
          ]
        },
        {
          "output_type": "stream",
          "name": "stderr",
          "text": [
            "Averaging over 154 cells: 100%|██████████| 154/154 [00:00<00:00, 854.65it/s]\n"
          ]
        },
        {
          "output_type": "stream",
          "name": "stdout",
          "text": [
            "Applied BC! Non-empty list\n"
          ]
        },
        {
          "output_type": "stream",
          "name": "stderr",
          "text": [
            "Averaging over 154 cells: 100%|██████████| 154/154 [00:00<00:00, 514.64it/s]\n"
          ]
        },
        {
          "output_type": "stream",
          "name": "stdout",
          "text": [
            "Applied BC! Non-empty list\n"
          ]
        },
        {
          "output_type": "stream",
          "name": "stderr",
          "text": [
            "Averaging over 154 cells: 100%|██████████| 154/154 [00:00<00:00, 792.04it/s]\n"
          ]
        },
        {
          "output_type": "stream",
          "name": "stdout",
          "text": [
            "Applied BC! Non-empty list\n",
            "Iteration 22: parameters (log scale) = [ 0.86058221 -2.93451789  1.2435365   0.65798576 -8.01354205], cost = 3.67802346880152e-08\n"
          ]
        },
        {
          "output_type": "stream",
          "name": "stderr",
          "text": [
            "Averaging over 154 cells: 100%|██████████| 154/154 [00:00<00:00, 946.16it/s]\n"
          ]
        },
        {
          "output_type": "stream",
          "name": "stdout",
          "text": [
            "Applied BC! Non-empty list\n"
          ]
        },
        {
          "output_type": "stream",
          "name": "stderr",
          "text": [
            "Averaging over 154 cells: 100%|██████████| 154/154 [00:00<00:00, 880.81it/s]\n"
          ]
        },
        {
          "output_type": "stream",
          "name": "stdout",
          "text": [
            "Applied BC! Non-empty list\n"
          ]
        },
        {
          "output_type": "stream",
          "name": "stderr",
          "text": [
            "Averaging over 154 cells: 100%|██████████| 154/154 [00:00<00:00, 838.81it/s]\n"
          ]
        },
        {
          "output_type": "stream",
          "name": "stdout",
          "text": [
            "Applied BC! Non-empty list\n",
            "Iteration 23: parameters (log scale) = [ 0.86058221 -2.93451789  1.2435365   0.65798576 -8.01354205], cost = 3.67802346880152e-08\n"
          ]
        },
        {
          "output_type": "stream",
          "name": "stderr",
          "text": [
            "Averaging over 154 cells: 100%|██████████| 154/154 [00:00<00:00, 855.69it/s]\n"
          ]
        },
        {
          "output_type": "stream",
          "name": "stdout",
          "text": [
            "Applied BC! Non-empty list\n"
          ]
        },
        {
          "output_type": "stream",
          "name": "stderr",
          "text": [
            "Averaging over 154 cells: 100%|██████████| 154/154 [00:00<00:00, 535.26it/s]\n"
          ]
        },
        {
          "output_type": "stream",
          "name": "stdout",
          "text": [
            "Applied BC! Non-empty list\n"
          ]
        },
        {
          "output_type": "stream",
          "name": "stderr",
          "text": [
            "Averaging over 154 cells: 100%|██████████| 154/154 [00:00<00:00, 485.00it/s]\n"
          ]
        },
        {
          "output_type": "stream",
          "name": "stdout",
          "text": [
            "Applied BC! Non-empty list\n",
            "Iteration 24: parameters (log scale) = [ 0.86058221 -2.93451789  1.2435365   0.65798576 -8.01354205], cost = 3.67802346880152e-08\n"
          ]
        },
        {
          "output_type": "stream",
          "name": "stderr",
          "text": [
            "Averaging over 154 cells: 100%|██████████| 154/154 [00:00<00:00, 909.23it/s]\n"
          ]
        },
        {
          "output_type": "stream",
          "name": "stdout",
          "text": [
            "Applied BC! Non-empty list\n"
          ]
        },
        {
          "output_type": "stream",
          "name": "stderr",
          "text": [
            "Averaging over 154 cells: 100%|██████████| 154/154 [00:00<00:00, 931.29it/s]\n"
          ]
        },
        {
          "output_type": "stream",
          "name": "stdout",
          "text": [
            "Applied BC! Non-empty list\n",
            "Iteration 25: parameters (log scale) = [ 0.86058221 -2.93451789  1.2435365   0.65798576 -8.01354205], cost = 3.67802346880152e-08\n"
          ]
        },
        {
          "output_type": "stream",
          "name": "stderr",
          "text": [
            "Averaging over 154 cells: 100%|██████████| 154/154 [00:00<00:00, 801.88it/s]\n"
          ]
        },
        {
          "output_type": "stream",
          "name": "stdout",
          "text": [
            "Applied BC! Non-empty list\n"
          ]
        },
        {
          "output_type": "stream",
          "name": "stderr",
          "text": [
            "Averaging over 154 cells: 100%|██████████| 154/154 [00:00<00:00, 919.82it/s]\n"
          ]
        },
        {
          "output_type": "stream",
          "name": "stdout",
          "text": [
            "Applied BC! Non-empty list\n"
          ]
        },
        {
          "output_type": "stream",
          "name": "stderr",
          "text": [
            "Averaging over 154 cells: 100%|██████████| 154/154 [00:00<00:00, 626.71it/s]\n"
          ]
        },
        {
          "output_type": "stream",
          "name": "stdout",
          "text": [
            "Applied BC! Non-empty list\n",
            "Iteration 26: parameters (log scale) = [ 0.86058221 -2.93451789  1.2435365   0.65798576 -8.01354205], cost = 3.67802346880152e-08\n"
          ]
        },
        {
          "output_type": "stream",
          "name": "stderr",
          "text": [
            "Averaging over 154 cells: 100%|██████████| 154/154 [00:00<00:00, 466.17it/s]\n"
          ]
        },
        {
          "output_type": "stream",
          "name": "stdout",
          "text": [
            "Applied BC! Non-empty list\n"
          ]
        },
        {
          "output_type": "stream",
          "name": "stderr",
          "text": [
            "Averaging over 154 cells: 100%|██████████| 154/154 [00:00<00:00, 878.09it/s]\n"
          ]
        },
        {
          "output_type": "stream",
          "name": "stdout",
          "text": [
            "Applied BC! Non-empty list\n"
          ]
        },
        {
          "output_type": "stream",
          "name": "stderr",
          "text": [
            "Averaging over 154 cells: 100%|██████████| 154/154 [00:00<00:00, 955.90it/s]\n"
          ]
        },
        {
          "output_type": "stream",
          "name": "stdout",
          "text": [
            "Applied BC! Non-empty list\n",
            "Iteration 27: parameters (log scale) = [ 0.86058221 -2.93451789  1.2435365   0.65798576 -8.01354205], cost = 3.67802346880152e-08\n"
          ]
        },
        {
          "output_type": "stream",
          "name": "stderr",
          "text": [
            "Averaging over 154 cells: 100%|██████████| 154/154 [00:00<00:00, 935.02it/s]\n"
          ]
        },
        {
          "output_type": "stream",
          "name": "stdout",
          "text": [
            "Applied BC! Non-empty list\n"
          ]
        },
        {
          "output_type": "stream",
          "name": "stderr",
          "text": [
            "Averaging over 154 cells: 100%|██████████| 154/154 [00:00<00:00, 862.87it/s]\n"
          ]
        },
        {
          "output_type": "stream",
          "name": "stdout",
          "text": [
            "Applied BC! Non-empty list\n"
          ]
        },
        {
          "output_type": "stream",
          "name": "stderr",
          "text": [
            "Averaging over 154 cells: 100%|██████████| 154/154 [00:00<00:00, 899.78it/s]\n"
          ]
        },
        {
          "output_type": "stream",
          "name": "stdout",
          "text": [
            "Applied BC! Non-empty list\n",
            "Iteration 28: parameters (log scale) = [ 0.86058221 -2.93451789  1.2435365   0.65798576 -8.01354205], cost = 3.67802346880152e-08\n"
          ]
        },
        {
          "output_type": "stream",
          "name": "stderr",
          "text": [
            "Averaging over 154 cells: 100%|██████████| 154/154 [00:00<00:00, 561.78it/s]\n"
          ]
        },
        {
          "output_type": "stream",
          "name": "stdout",
          "text": [
            "Applied BC! Non-empty list\n"
          ]
        },
        {
          "output_type": "stream",
          "name": "stderr",
          "text": [
            "Averaging over 154 cells: 100%|██████████| 154/154 [00:00<00:00, 887.91it/s]\n"
          ]
        },
        {
          "output_type": "stream",
          "name": "stdout",
          "text": [
            "Applied BC! Non-empty list\n"
          ]
        },
        {
          "output_type": "stream",
          "name": "stderr",
          "text": [
            "Averaging over 154 cells: 100%|██████████| 154/154 [00:00<00:00, 894.14it/s]\n"
          ]
        },
        {
          "output_type": "stream",
          "name": "stdout",
          "text": [
            "Applied BC! Non-empty list\n",
            "Iteration 29: parameters (log scale) = [ 0.86058221 -2.93451789  1.2435365   0.65798576 -8.01354205], cost = 3.67802346880152e-08\n"
          ]
        },
        {
          "output_type": "stream",
          "name": "stderr",
          "text": [
            "Averaging over 154 cells: 100%|██████████| 154/154 [00:00<00:00, 754.57it/s]\n"
          ]
        },
        {
          "output_type": "stream",
          "name": "stdout",
          "text": [
            "Applied BC! Non-empty list\n"
          ]
        },
        {
          "output_type": "stream",
          "name": "stderr",
          "text": [
            "Averaging over 154 cells: 100%|██████████| 154/154 [00:00<00:00, 943.18it/s]\n"
          ]
        },
        {
          "output_type": "stream",
          "name": "stdout",
          "text": [
            "Applied BC! Non-empty list\n",
            "Iteration 30: parameters (log scale) = [ 0.86058221 -2.93451789  1.2435365   0.65798576 -8.01354205], cost = 3.67802346880152e-08\n"
          ]
        },
        {
          "output_type": "stream",
          "name": "stderr",
          "text": [
            "Averaging over 154 cells: 100%|██████████| 154/154 [00:00<00:00, 905.25it/s]\n"
          ]
        },
        {
          "output_type": "stream",
          "name": "stdout",
          "text": [
            "Applied BC! Non-empty list\n"
          ]
        },
        {
          "output_type": "stream",
          "name": "stderr",
          "text": [
            "Averaging over 154 cells: 100%|██████████| 154/154 [00:00<00:00, 598.42it/s]\n"
          ]
        },
        {
          "output_type": "stream",
          "name": "stdout",
          "text": [
            "Applied BC! Non-empty list\n"
          ]
        },
        {
          "output_type": "stream",
          "name": "stderr",
          "text": [
            "Averaging over 154 cells: 100%|██████████| 154/154 [00:00<00:00, 471.18it/s]\n"
          ]
        },
        {
          "output_type": "stream",
          "name": "stdout",
          "text": [
            "Applied BC! Non-empty list\n",
            "Iteration 31: parameters (log scale) = [ 0.86058221 -2.93451789  1.2435365   0.65798576 -8.01354205], cost = 3.67802346880152e-08\n"
          ]
        },
        {
          "output_type": "stream",
          "name": "stderr",
          "text": [
            "Averaging over 154 cells: 100%|██████████| 154/154 [00:00<00:00, 924.41it/s]\n"
          ]
        },
        {
          "output_type": "stream",
          "name": "stdout",
          "text": [
            "Applied BC! Non-empty list\n"
          ]
        },
        {
          "output_type": "stream",
          "name": "stderr",
          "text": [
            "Averaging over 154 cells: 100%|██████████| 154/154 [00:00<00:00, 927.21it/s]\n"
          ]
        },
        {
          "output_type": "stream",
          "name": "stdout",
          "text": [
            "Applied BC! Non-empty list\n"
          ]
        },
        {
          "output_type": "stream",
          "name": "stderr",
          "text": [
            "Averaging over 154 cells: 100%|██████████| 154/154 [00:00<00:00, 903.07it/s]\n"
          ]
        },
        {
          "output_type": "stream",
          "name": "stdout",
          "text": [
            "Applied BC! Non-empty list\n",
            "Iteration 32: parameters (log scale) = [ 0.90346049 -2.84184647  1.25872388  0.54304185 -8.01707498], cost = 3.375691836823843e-08\n"
          ]
        },
        {
          "output_type": "stream",
          "name": "stderr",
          "text": [
            "Averaging over 154 cells: 100%|██████████| 154/154 [00:00<00:00, 935.81it/s]\n"
          ]
        },
        {
          "output_type": "stream",
          "name": "stdout",
          "text": [
            "Applied BC! Non-empty list\n"
          ]
        },
        {
          "output_type": "stream",
          "name": "stderr",
          "text": [
            "Averaging over 154 cells: 100%|██████████| 154/154 [00:00<00:00, 925.60it/s]\n"
          ]
        },
        {
          "output_type": "stream",
          "name": "stdout",
          "text": [
            "Applied BC! Non-empty list\n",
            "Iteration 33: parameters (log scale) = [ 0.90346049 -2.84184647  1.25872388  0.54304185 -8.01707498], cost = 3.375691836823843e-08\n"
          ]
        },
        {
          "output_type": "stream",
          "name": "stderr",
          "text": [
            "Averaging over 154 cells: 100%|██████████| 154/154 [00:00<00:00, 628.54it/s]\n"
          ]
        },
        {
          "output_type": "stream",
          "name": "stdout",
          "text": [
            "Applied BC! Non-empty list\n"
          ]
        },
        {
          "output_type": "stream",
          "name": "stderr",
          "text": [
            "Averaging over 154 cells: 100%|██████████| 154/154 [00:00<00:00, 896.16it/s]\n"
          ]
        },
        {
          "output_type": "stream",
          "name": "stdout",
          "text": [
            "Applied BC! Non-empty list\n",
            "Iteration 34: parameters (log scale) = [ 0.90346049 -2.84184647  1.25872388  0.54304185 -8.01707498], cost = 3.375691836823843e-08\n"
          ]
        },
        {
          "output_type": "stream",
          "name": "stderr",
          "text": [
            "Averaging over 154 cells: 100%|██████████| 154/154 [00:00<00:00, 898.62it/s]\n"
          ]
        },
        {
          "output_type": "stream",
          "name": "stdout",
          "text": [
            "Applied BC! Non-empty list\n"
          ]
        },
        {
          "output_type": "stream",
          "name": "stderr",
          "text": [
            "Averaging over 154 cells: 100%|██████████| 154/154 [00:00<00:00, 856.42it/s]\n"
          ]
        },
        {
          "output_type": "stream",
          "name": "stdout",
          "text": [
            "Applied BC! Non-empty list\n",
            "Iteration 35: parameters (log scale) = [ 0.90346049 -2.84184647  1.25872388  0.54304185 -8.01707498], cost = 3.375691836823843e-08\n"
          ]
        },
        {
          "output_type": "stream",
          "name": "stderr",
          "text": [
            "Averaging over 154 cells: 100%|██████████| 154/154 [00:00<00:00, 925.37it/s]\n"
          ]
        },
        {
          "output_type": "stream",
          "name": "stdout",
          "text": [
            "Applied BC! Non-empty list\n"
          ]
        },
        {
          "output_type": "stream",
          "name": "stderr",
          "text": [
            "Averaging over 154 cells: 100%|██████████| 154/154 [00:00<00:00, 931.58it/s]\n"
          ]
        },
        {
          "output_type": "stream",
          "name": "stdout",
          "text": [
            "Applied BC! Non-empty list\n"
          ]
        },
        {
          "output_type": "stream",
          "name": "stderr",
          "text": [
            "Averaging over 154 cells: 100%|██████████| 154/154 [00:00<00:00, 594.56it/s]\n"
          ]
        },
        {
          "output_type": "stream",
          "name": "stdout",
          "text": [
            "Applied BC! Non-empty list\n",
            "Iteration 36: parameters (log scale) = [ 1.04157694 -2.96629991  1.49408441  0.61855873 -8.02689714], cost = 3.270332521612351e-08\n"
          ]
        },
        {
          "output_type": "stream",
          "name": "stderr",
          "text": [
            "Averaging over 154 cells: 100%|██████████| 154/154 [00:00<00:00, 545.39it/s]\n"
          ]
        },
        {
          "output_type": "stream",
          "name": "stdout",
          "text": [
            "Applied BC! Non-empty list\n"
          ]
        },
        {
          "output_type": "stream",
          "name": "stderr",
          "text": [
            "Averaging over 154 cells: 100%|██████████| 154/154 [00:00<00:00, 878.77it/s]\n"
          ]
        },
        {
          "output_type": "stream",
          "name": "stdout",
          "text": [
            "Applied BC! Non-empty list\n"
          ]
        },
        {
          "output_type": "stream",
          "name": "stderr",
          "text": [
            "Averaging over 154 cells: 100%|██████████| 154/154 [00:00<00:00, 934.82it/s]\n"
          ]
        },
        {
          "output_type": "stream",
          "name": "stdout",
          "text": [
            "Applied BC! Non-empty list\n",
            "Iteration 37: parameters (log scale) = [ 1.07290207 -2.75802126  1.37264216  0.39156181 -8.02507683], cost = 2.8067067675736363e-08\n"
          ]
        },
        {
          "output_type": "stream",
          "name": "stderr",
          "text": [
            "Averaging over 154 cells: 100%|██████████| 154/154 [00:00<00:00, 928.63it/s]\n"
          ]
        },
        {
          "output_type": "stream",
          "name": "stdout",
          "text": [
            "Applied BC! Non-empty list\n"
          ]
        },
        {
          "output_type": "stream",
          "name": "stderr",
          "text": [
            "Averaging over 154 cells: 100%|██████████| 154/154 [00:00<00:00, 947.54it/s]\n"
          ]
        },
        {
          "output_type": "stream",
          "name": "stdout",
          "text": [
            "Applied BC! Non-empty list\n",
            "Iteration 38: parameters (log scale) = [ 1.07290207 -2.75802126  1.37264216  0.39156181 -8.02507683], cost = 2.8067067675736363e-08\n"
          ]
        },
        {
          "output_type": "stream",
          "name": "stderr",
          "text": [
            "Averaging over 154 cells: 100%|██████████| 154/154 [00:00<00:00, 585.62it/s]\n"
          ]
        },
        {
          "output_type": "stream",
          "name": "stdout",
          "text": [
            "Applied BC! Non-empty list\n"
          ]
        },
        {
          "output_type": "stream",
          "name": "stderr",
          "text": [
            "Averaging over 154 cells: 100%|██████████| 154/154 [00:00<00:00, 496.97it/s]\n"
          ]
        },
        {
          "output_type": "stream",
          "name": "stdout",
          "text": [
            "Applied BC! Non-empty list\n",
            "Iteration 39: parameters (log scale) = [ 1.07290207 -2.75802126  1.37264216  0.39156181 -8.02507683], cost = 2.8067067675736363e-08\n"
          ]
        },
        {
          "output_type": "stream",
          "name": "stderr",
          "text": [
            "Averaging over 154 cells: 100%|██████████| 154/154 [00:00<00:00, 728.44it/s]\n"
          ]
        },
        {
          "output_type": "stream",
          "name": "stdout",
          "text": [
            "Applied BC! Non-empty list\n"
          ]
        },
        {
          "output_type": "stream",
          "name": "stderr",
          "text": [
            "Averaging over 154 cells: 100%|██████████| 154/154 [00:00<00:00, 886.40it/s]\n"
          ]
        },
        {
          "output_type": "stream",
          "name": "stdout",
          "text": [
            "Applied BC! Non-empty list\n"
          ]
        },
        {
          "output_type": "stream",
          "name": "stderr",
          "text": [
            "Averaging over 154 cells: 100%|██████████| 154/154 [00:00<00:00, 889.82it/s]\n"
          ]
        },
        {
          "output_type": "stream",
          "name": "stdout",
          "text": [
            "Applied BC! Non-empty list\n",
            "Iteration 40: parameters (log scale) = [ 1.21818299 -2.76826264  1.70904479  0.4160386  -8.04489196], cost = 2.4358915602829765e-08\n"
          ]
        },
        {
          "output_type": "stream",
          "name": "stderr",
          "text": [
            "Averaging over 154 cells: 100%|██████████| 154/154 [00:00<00:00, 870.48it/s]\n"
          ]
        },
        {
          "output_type": "stream",
          "name": "stdout",
          "text": [
            "Applied BC! Non-empty list\n"
          ]
        },
        {
          "output_type": "stream",
          "name": "stderr",
          "text": [
            "Averaging over 154 cells: 100%|██████████| 154/154 [00:00<00:00, 576.62it/s]\n"
          ]
        },
        {
          "output_type": "stream",
          "name": "stdout",
          "text": [
            "Applied BC! Non-empty list\n",
            "Iteration 41: parameters (log scale) = [ 1.21818299 -2.76826264  1.70904479  0.4160386  -8.04489196], cost = 2.4358915602829765e-08\n"
          ]
        },
        {
          "output_type": "stream",
          "name": "stderr",
          "text": [
            "Averaging over 154 cells: 100%|██████████| 154/154 [00:00<00:00, 514.49it/s]\n"
          ]
        },
        {
          "output_type": "stream",
          "name": "stdout",
          "text": [
            "Applied BC! Non-empty list\n"
          ]
        },
        {
          "output_type": "stream",
          "name": "stderr",
          "text": [
            "Averaging over 154 cells: 100%|██████████| 154/154 [00:00<00:00, 786.79it/s]\n"
          ]
        },
        {
          "output_type": "stream",
          "name": "stdout",
          "text": [
            "Applied BC! Non-empty list\n"
          ]
        },
        {
          "output_type": "stream",
          "name": "stderr",
          "text": [
            "Averaging over 154 cells: 100%|██████████| 154/154 [00:00<00:00, 815.56it/s]\n"
          ]
        },
        {
          "output_type": "stream",
          "name": "stdout",
          "text": [
            "Applied BC! Non-empty list\n",
            "Iteration 42: parameters (log scale) = [ 1.35508134 -2.54051685  1.71424528  0.0461647  -8.04706465], cost = 1.9930516255560765e-08\n"
          ]
        },
        {
          "output_type": "stream",
          "name": "stderr",
          "text": [
            "Averaging over 154 cells: 100%|██████████| 154/154 [00:00<00:00, 798.22it/s]\n"
          ]
        },
        {
          "output_type": "stream",
          "name": "stdout",
          "text": [
            "Applied BC! Non-empty list\n"
          ]
        },
        {
          "output_type": "stream",
          "name": "stderr",
          "text": [
            "Averaging over 154 cells: 100%|██████████| 154/154 [00:00<00:00, 896.02it/s]\n"
          ]
        },
        {
          "output_type": "stream",
          "name": "stdout",
          "text": [
            "Applied BC! Non-empty list\n",
            "Iteration 43: parameters (log scale) = [ 1.35508134 -2.54051685  1.71424528  0.0461647  -8.04706465], cost = 1.9930516255560765e-08\n"
          ]
        },
        {
          "output_type": "stream",
          "name": "stderr",
          "text": [
            "Averaging over 154 cells: 100%|██████████| 154/154 [00:00<00:00, 514.16it/s]\n"
          ]
        },
        {
          "output_type": "stream",
          "name": "stdout",
          "text": [
            "Applied BC! Non-empty list\n"
          ]
        },
        {
          "output_type": "stream",
          "name": "stderr",
          "text": [
            "Averaging over 154 cells: 100%|██████████| 154/154 [00:00<00:00, 536.26it/s]\n"
          ]
        },
        {
          "output_type": "stream",
          "name": "stdout",
          "text": [
            "Applied BC! Non-empty list\n"
          ]
        },
        {
          "output_type": "stream",
          "name": "stderr",
          "text": [
            "Averaging over 154 cells: 100%|██████████| 154/154 [00:00<00:00, 870.45it/s]\n"
          ]
        },
        {
          "output_type": "stream",
          "name": "stdout",
          "text": [
            "Applied BC! Non-empty list\n",
            "Iteration 44: parameters (log scale) = [ 1.67264178 -2.48048322  2.0335026  -0.04204288 -8.07259309], cost = 1.4692624148231057e-08\n"
          ]
        },
        {
          "output_type": "stream",
          "name": "stderr",
          "text": [
            "Averaging over 154 cells: 100%|██████████| 154/154 [00:00<00:00, 815.52it/s]\n"
          ]
        },
        {
          "output_type": "stream",
          "name": "stdout",
          "text": [
            "Applied BC! Non-empty list\n"
          ]
        },
        {
          "output_type": "stream",
          "name": "stderr",
          "text": [
            "Averaging over 154 cells: 100%|██████████| 154/154 [00:00<00:00, 884.67it/s]\n"
          ]
        },
        {
          "output_type": "stream",
          "name": "stdout",
          "text": [
            "Applied BC! Non-empty list\n",
            "Iteration 45: parameters (log scale) = [ 1.67264178 -2.48048322  2.0335026  -0.04204288 -8.07259309], cost = 1.4692624148231057e-08\n"
          ]
        },
        {
          "output_type": "stream",
          "name": "stderr",
          "text": [
            "Averaging over 154 cells: 100%|██████████| 154/154 [00:00<00:00, 886.91it/s]\n"
          ]
        },
        {
          "output_type": "stream",
          "name": "stdout",
          "text": [
            "Applied BC! Non-empty list\n"
          ]
        },
        {
          "output_type": "stream",
          "name": "stderr",
          "text": [
            "Averaging over 154 cells: 100%|██████████| 154/154 [00:00<00:00, 508.71it/s]\n"
          ]
        },
        {
          "output_type": "stream",
          "name": "stdout",
          "text": [
            "Applied BC! Non-empty list\n",
            "Iteration 46: parameters (log scale) = [ 1.67264178 -2.48048322  2.0335026  -0.04204288 -8.07259309], cost = 1.4692624148231057e-08\n"
          ]
        },
        {
          "output_type": "stream",
          "name": "stderr",
          "text": [
            "Averaging over 154 cells: 100%|██████████| 154/154 [00:00<00:00, 500.62it/s]\n"
          ]
        },
        {
          "output_type": "stream",
          "name": "stdout",
          "text": [
            "Applied BC! Non-empty list\n"
          ]
        },
        {
          "output_type": "stream",
          "name": "stderr",
          "text": [
            "Averaging over 154 cells: 100%|██████████| 154/154 [00:00<00:00, 797.59it/s]\n"
          ]
        },
        {
          "output_type": "stream",
          "name": "stdout",
          "text": [
            "Applied BC! Non-empty list\n"
          ]
        },
        {
          "output_type": "stream",
          "name": "stderr",
          "text": [
            "Averaging over 154 cells: 100%|██████████| 154/154 [00:00<00:00, 725.24it/s]\n"
          ]
        },
        {
          "output_type": "stream",
          "name": "stdout",
          "text": [
            "Applied BC! Non-empty list\n",
            "Iteration 47: parameters (log scale) = [ 1.77775079 -2.1775456   2.1163502  -0.37213904 -8.07990246], cost = 1.427968886588948e-08\n"
          ]
        },
        {
          "output_type": "stream",
          "name": "stderr",
          "text": [
            "Averaging over 154 cells: 100%|██████████| 154/154 [00:00<00:00, 876.74it/s]\n"
          ]
        },
        {
          "output_type": "stream",
          "name": "stdout",
          "text": [
            "Applied BC! Non-empty list\n"
          ]
        },
        {
          "output_type": "stream",
          "name": "stderr",
          "text": [
            "Averaging over 154 cells: 100%|██████████| 154/154 [00:00<00:00, 932.16it/s]\n"
          ]
        },
        {
          "output_type": "stream",
          "name": "stdout",
          "text": [
            "Applied BC! Non-empty list\n"
          ]
        },
        {
          "output_type": "stream",
          "name": "stderr",
          "text": [
            "Averaging over 154 cells: 100%|██████████| 154/154 [00:00<00:00, 564.53it/s]\n"
          ]
        },
        {
          "output_type": "stream",
          "name": "stdout",
          "text": [
            "Applied BC! Non-empty list\n",
            "Iteration 48: parameters (log scale) = [ 2.30326465 -2.11628874  2.66163887 -0.7231054  -8.11758201], cost = 8.862673603977106e-09\n"
          ]
        },
        {
          "output_type": "stream",
          "name": "stderr",
          "text": [
            "Averaging over 154 cells: 100%|██████████| 154/154 [00:00<00:00, 524.54it/s]\n"
          ]
        },
        {
          "output_type": "stream",
          "name": "stdout",
          "text": [
            "Applied BC! Non-empty list\n"
          ]
        },
        {
          "output_type": "stream",
          "name": "stderr",
          "text": [
            "Averaging over 154 cells: 100%|██████████| 154/154 [00:00<00:00, 923.52it/s]\n"
          ]
        },
        {
          "output_type": "stream",
          "name": "stdout",
          "text": [
            "Applied BC! Non-empty list\n",
            "Iteration 49: parameters (log scale) = [ 2.30326465 -2.11628874  2.66163887 -0.7231054  -8.11758201], cost = 8.862673603977106e-09\n"
          ]
        },
        {
          "output_type": "stream",
          "name": "stderr",
          "text": [
            "<ipython-input-112-34ea4529549c>:71: RuntimeWarning: Maximum number of iterations has been exceeded.\n",
            "  result = minimize(\n",
            "Averaging over 154 cells: 100%|██████████| 154/154 [00:00<00:00, 904.43it/s]\n"
          ]
        },
        {
          "output_type": "stream",
          "name": "stdout",
          "text": [
            "Applied BC! Non-empty list\n"
          ]
        },
        {
          "output_type": "display_data",
          "data": {
            "text/plain": [
              "<Figure size 800x500 with 1 Axes>"
            ],
            "image/png": "[encoded data removed]"
          },
          "metadata": {}
        },
        {
          "output_type": "stream",
          "name": "stdout",
          "text": [
            "Optimization successful? False\n",
            "Status code: 2\n",
            "Message: Maximum number of iterations has been exceeded.\n",
            "Number of iterations: 50\n",
            "Final cost: 8.862673603977106e-09\n",
            "gamma    =      201\n",
            "gamma_R  = 0.007651\n",
            "gamma_a  =    458.8\n",
            "gamma_v  =   0.1892\n",
            "k_v      = 7.628e-09\n",
            "flow     = 9.914e-05\n"
          ]
        }
      ]
    },
    {
      "cell_type": "code",
      "source": [
        "fem_test.save_vtk(os.path.join(WD_PATH, \"perfusion_results\", \"23demo2.vtk\"))"
      ],
      "metadata": {
        "id": "L3q9LM3i0gVH"
      },
      "execution_count": null,
      "outputs": []
    }
  ],
  "metadata": {
    "colab": {
      "provenance": []
    },
    "kernelspec": {
      "display_name": "Python 3",
      "name": "python3"
    },
    "language_info": {
      "name": "python"
    }
  },
  "nbformat": 4,
  "nbformat_minor": 0
}