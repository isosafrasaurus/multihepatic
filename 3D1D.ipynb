{
  "cells": [
    {
      "cell_type": "code",
      "source": [
        "from google.colab import drive\n",
        "drive.mount('/content/drive')"
      ],
      "metadata": {
        "colab": {
          "base_uri": "https://localhost:8080/"
        },
        "id": "_Cax3RnzYpnz",
        "outputId": "ccca59df-4d98-424d-f519-876f4ae955bb"
      },
      "execution_count": 1,
      "outputs": [
        {
          "output_type": "stream",
          "name": "stdout",
          "text": [
            "Mounted at /content/drive\n"
          ]
        }
      ]
    },
    {
      "cell_type": "markdown",
      "source": [
        "| Parameter    | Units                 | Physical Role                                        |\n",
        "|--------------|-----------------------|------------------------------------------------------|\n",
        "| $$ \\mu $$    | Pa·s                  | Dynamic viscosity of blood                           |\n",
        "| $$ k_t $$    | $$ \\text{m}^2 $$      | 3D tissue permeability                               |\n",
        "| $$ k_v $$    | $$ \\text{m}^2 $$      | Axial permeability along the vessel                  |\n",
        "| $$ \\gamma $$ | $$ \\text{m}/(\\text{Pa}\\cdot\\text{s}) $$ | Vessel wall permeability coefficient (coupling tissue & vessel) |\n",
        "| $$ \\gamma_R $$ | $$ \\text{m}/(\\text{Pa}\\cdot\\text{s}) $$ | Boundary outflow (Robin) permeability                 |\n",
        "| $$ \\gamma_a $$ | m                    | Terminal vessel coupling length scale (hydraulic conductance at end) |"
      ],
      "metadata": {
        "id": "KLbYZsIQtGqb"
      }
    },
    {
      "cell_type": "code",
      "execution_count": 2,
      "metadata": {
        "id": "F5e7FAYF_3VT",
        "cellView": "form"
      },
      "outputs": [],
      "source": [
        "# @title Install nonstandard libraries\n",
        "%%capture\n",
        "!pip install ipywidgets\n",
        "!pip install vtk\n",
        "!pip install meshio\n",
        "!pip install pyvista\n",
        "!pip install Rtree\n",
        "\n",
        "import os, re\n",
        "\n",
        "def replace_in_file(file_path):\n",
        "    with open(file_path, 'r', encoding='utf-8') as file:\n",
        "        content = file.read()\n",
        "\n",
        "    # Replace 'ufl' with 'ufl_legacy'\n",
        "    content = re.sub(r'\\bufl\\b', 'ufl_legacy', content)\n",
        "\n",
        "    with open(file_path, 'w', encoding='utf-8') as file:\n",
        "        file.write(content)\n",
        "\n",
        "def process_directory(directory):\n",
        "    for root, _, files in os.walk(directory):\n",
        "        for file in files:\n",
        "            if file.endswith('.py'):\n",
        "                file_path = os.path.join(root, file)\n",
        "                replace_in_file(file_path)\n",
        "\n",
        "# dolfin\n",
        "try:\n",
        "    import dolfin\n",
        "except ImportError:\n",
        "    !wget \"https://fem-on-colab.github.io/releases/fenics-install-real.sh\" -O \"/tmp/fenics-install.sh\" && bash \"/tmp/fenics-install.sh\"\n",
        "\n",
        "# block\n",
        "try:\n",
        "    import block\n",
        "except ImportError:\n",
        "    !git clone \"https://bitbucket.org/fenics-apps/cbc.block/src/master/\"\n",
        "    !pip install master/\n",
        "\n",
        "# fenics_ii\n",
        "try:\n",
        "    import xii\n",
        "except ImportError:\n",
        "    !git clone \"https://github.com/MiroK/fenics_ii\"\n",
        "    process_directory(\"fenics_ii/\")\n",
        "    !pip install fenics_ii/\n",
        "\n",
        "# graphnics\n",
        "try:\n",
        "    import graphnics\n",
        "except ImportError:\n",
        "    !git clone \"https://github.com/IngeborgGjerde/graphnics\"\n",
        "    !pip install graphnics/"
      ]
    },
    {
      "cell_type": "code",
      "execution_count": 3,
      "metadata": {
        "id": "983JJSszkZse",
        "colab": {
          "base_uri": "https://localhost:8080/"
        },
        "outputId": "53f34470-d1d3-4dfb-cea3-3f9918f530fa"
      },
      "outputs": [
        {
          "output_type": "stream",
          "name": "stderr",
          "text": [
            "/usr/local/lib/python3.11/dist-packages/block/__init__.py:15: UserWarning: The cbc.block repository has moved to https://github.com/blocknics/cbc.block\n",
            "  warnings.warn('The cbc.block repository has moved to https://github.com/blocknics/cbc.block', UserWarning)\n"
          ]
        },
        {
          "output_type": "stream",
          "name": "stdout",
          "text": [
            "Missing HsMG for fract norm computing\n"
          ]
        }
      ],
      "source": [
        "WD_PATH = \"/content/drive/MyDrive/Research/3d-1d\"\n",
        "\n",
        "import sys, os\n",
        "sys.path.append(os.path.join(WD_PATH, 'modules'))\n",
        "\n",
        "import numpy as np\n",
        "import matplotlib.pyplot as plt\n",
        "import networkx as nx\n",
        "import importlib\n",
        "from graphnics import *"
      ]
    },
    {
      "cell_type": "code",
      "source": [
        "# @title Define G = test graph, with fidelity boost\n",
        "original_node_coords = {\n",
        "    0: [0.000, 0.020, 0.015],   # A\n",
        "    1: [0.010, 0.020, 0.015],   # B\n",
        "    2: [0.022, 0.013, 0.015],   # C\n",
        "    3: [0.022, 0.028, 0.015],   # D\n",
        "    4: [0.015, 0.005, 0.015],   # E\n",
        "    5: [0.015, 0.035, 0.015],   # F\n",
        "    6: [0.038, 0.005, 0.015],   # G\n",
        "    7: [0.038, 0.035, 0.015]    # H\n",
        "}\n",
        "\n",
        "# Define the original edges\n",
        "original_edges = [\n",
        "    (0, 1, 0.004),  # AB\n",
        "    (1, 2, 0.003),  # BC\n",
        "    (1, 3, 0.003),  # BD\n",
        "    (2, 4, 0.002),  # CE\n",
        "    (2, 6, 0.003),  # CG\n",
        "    (3, 5, 0.002),  # DF\n",
        "    (3, 7, 0.003)   # DH\n",
        "]\n",
        "def refine_graph(node_coords, edges, subdivisions_per_edge):\n",
        "    new_G = FenicsGraph()\n",
        "\n",
        "    # Keep track of the mapping from the original node IDs to the new graph's node IDs.\n",
        "    # For the original nodes we use the same ID.\n",
        "    original_to_new = {}\n",
        "    for orig_node, coord in node_coords.items():\n",
        "        new_G.add_node(orig_node, pos=coord)\n",
        "        original_to_new[orig_node] = orig_node  # Keep the same id.\n",
        "\n",
        "    # To create new nodes for subdivisions, start new indices from the maximum original node id + 1.\n",
        "    new_node_index = max(node_coords.keys()) + 1\n",
        "\n",
        "    # Process each original edge.\n",
        "    for u, v, radius in edges:\n",
        "        # Get the original coordinates for the endpoints.\n",
        "        pos_u = node_coords[u]\n",
        "        pos_v = node_coords[v]\n",
        "\n",
        "        # Start with the original node u.\n",
        "        current_node = original_to_new[u]\n",
        "\n",
        "        # Insert new intermediate nodes (if subdivisions_per_edge > 0)\n",
        "        for i in range(1, subdivisions_per_edge + 1):\n",
        "            t = i / (subdivisions_per_edge + 1)\n",
        "            new_coord = [(1 - t) * pu + t * pv for pu, pv in zip(pos_u, pos_v)]\n",
        "            new_G.add_node(new_node_index, pos=new_coord)\n",
        "            new_G.add_edge(current_node, new_node_index, radius=radius)\n",
        "            current_node = new_node_index\n",
        "            new_node_index += 1\n",
        "\n",
        "        new_G.add_edge(current_node, original_to_new[v], radius=radius)\n",
        "\n",
        "    return new_G\n",
        "\n",
        "refined_G = refine_graph(original_node_coords, original_edges, 10)\n",
        "original_positions = set(tuple(pos) for pos in original_node_coords.values())\n",
        "\n",
        "print(\"Transformed original nodes:\")\n",
        "for node_id, data in refined_G.nodes(data=True):\n",
        "    if tuple(data['pos']) in original_positions:\n",
        "        print(f\"Node ID: {node_id}, Position: {data['pos']}\")\n",
        "\n",
        "print(\"\\nEdges of the refined graph:\")\n",
        "for edge_id, (u, v, data) in enumerate(refined_G.edges(data=True)):\n",
        "    print(f\"Edge {edge_id}: ({u}, {v}) - Radius: {data['radius']}\")\n"
      ],
      "metadata": {
        "id": "92yDZxs367cX",
        "colab": {
          "base_uri": "https://localhost:8080/"
        },
        "outputId": "36de1a75-6fa7-40bb-9334-588354ad6edc",
        "cellView": "form"
      },
      "execution_count": 24,
      "outputs": [
        {
          "output_type": "stream",
          "name": "stdout",
          "text": [
            "Transformed original nodes:\n",
            "Node ID: 0, Position: [0.0, 0.02, 0.015]\n",
            "Node ID: 1, Position: [0.01, 0.02, 0.015]\n",
            "Node ID: 2, Position: [0.022, 0.013, 0.015]\n",
            "Node ID: 3, Position: [0.022, 0.028, 0.015]\n",
            "Node ID: 4, Position: [0.015, 0.005, 0.015]\n",
            "Node ID: 5, Position: [0.015, 0.035, 0.015]\n",
            "Node ID: 6, Position: [0.038, 0.005, 0.015]\n",
            "Node ID: 7, Position: [0.038, 0.035, 0.015]\n",
            "\n",
            "Edges of the refined graph:\n",
            "Edge 0: (0, 8) - Radius: 0.004\n",
            "Edge 1: (1, 18) - Radius: 0.003\n",
            "Edge 2: (1, 28) - Radius: 0.003\n",
            "Edge 3: (2, 38) - Radius: 0.002\n",
            "Edge 4: (2, 48) - Radius: 0.003\n",
            "Edge 5: (3, 58) - Radius: 0.002\n",
            "Edge 6: (3, 68) - Radius: 0.003\n",
            "Edge 7: (8, 9) - Radius: 0.004\n",
            "Edge 8: (9, 10) - Radius: 0.004\n",
            "Edge 9: (10, 11) - Radius: 0.004\n",
            "Edge 10: (11, 12) - Radius: 0.004\n",
            "Edge 11: (12, 13) - Radius: 0.004\n",
            "Edge 12: (13, 14) - Radius: 0.004\n",
            "Edge 13: (14, 15) - Radius: 0.004\n",
            "Edge 14: (15, 16) - Radius: 0.004\n",
            "Edge 15: (16, 17) - Radius: 0.004\n",
            "Edge 16: (17, 1) - Radius: 0.004\n",
            "Edge 17: (18, 19) - Radius: 0.003\n",
            "Edge 18: (19, 20) - Radius: 0.003\n",
            "Edge 19: (20, 21) - Radius: 0.003\n",
            "Edge 20: (21, 22) - Radius: 0.003\n",
            "Edge 21: (22, 23) - Radius: 0.003\n",
            "Edge 22: (23, 24) - Radius: 0.003\n",
            "Edge 23: (24, 25) - Radius: 0.003\n",
            "Edge 24: (25, 26) - Radius: 0.003\n",
            "Edge 25: (26, 27) - Radius: 0.003\n",
            "Edge 26: (27, 2) - Radius: 0.003\n",
            "Edge 27: (28, 29) - Radius: 0.003\n",
            "Edge 28: (29, 30) - Radius: 0.003\n",
            "Edge 29: (30, 31) - Radius: 0.003\n",
            "Edge 30: (31, 32) - Radius: 0.003\n",
            "Edge 31: (32, 33) - Radius: 0.003\n",
            "Edge 32: (33, 34) - Radius: 0.003\n",
            "Edge 33: (34, 35) - Radius: 0.003\n",
            "Edge 34: (35, 36) - Radius: 0.003\n",
            "Edge 35: (36, 37) - Radius: 0.003\n",
            "Edge 36: (37, 3) - Radius: 0.003\n",
            "Edge 37: (38, 39) - Radius: 0.002\n",
            "Edge 38: (39, 40) - Radius: 0.002\n",
            "Edge 39: (40, 41) - Radius: 0.002\n",
            "Edge 40: (41, 42) - Radius: 0.002\n",
            "Edge 41: (42, 43) - Radius: 0.002\n",
            "Edge 42: (43, 44) - Radius: 0.002\n",
            "Edge 43: (44, 45) - Radius: 0.002\n",
            "Edge 44: (45, 46) - Radius: 0.002\n",
            "Edge 45: (46, 47) - Radius: 0.002\n",
            "Edge 46: (47, 4) - Radius: 0.002\n",
            "Edge 47: (48, 49) - Radius: 0.003\n",
            "Edge 48: (49, 50) - Radius: 0.003\n",
            "Edge 49: (50, 51) - Radius: 0.003\n",
            "Edge 50: (51, 52) - Radius: 0.003\n",
            "Edge 51: (52, 53) - Radius: 0.003\n",
            "Edge 52: (53, 54) - Radius: 0.003\n",
            "Edge 53: (54, 55) - Radius: 0.003\n",
            "Edge 54: (55, 56) - Radius: 0.003\n",
            "Edge 55: (56, 57) - Radius: 0.003\n",
            "Edge 56: (57, 6) - Radius: 0.003\n",
            "Edge 57: (58, 59) - Radius: 0.002\n",
            "Edge 58: (59, 60) - Radius: 0.002\n",
            "Edge 59: (60, 61) - Radius: 0.002\n",
            "Edge 60: (61, 62) - Radius: 0.002\n",
            "Edge 61: (62, 63) - Radius: 0.002\n",
            "Edge 62: (63, 64) - Radius: 0.002\n",
            "Edge 63: (64, 65) - Radius: 0.002\n",
            "Edge 64: (65, 66) - Radius: 0.002\n",
            "Edge 65: (66, 67) - Radius: 0.002\n",
            "Edge 66: (67, 5) - Radius: 0.002\n",
            "Edge 67: (68, 69) - Radius: 0.003\n",
            "Edge 68: (69, 70) - Radius: 0.003\n",
            "Edge 69: (70, 71) - Radius: 0.003\n",
            "Edge 70: (71, 72) - Radius: 0.003\n",
            "Edge 71: (72, 73) - Radius: 0.003\n",
            "Edge 72: (73, 74) - Radius: 0.003\n",
            "Edge 73: (74, 75) - Radius: 0.003\n",
            "Edge 74: (75, 76) - Radius: 0.003\n",
            "Edge 75: (76, 77) - Radius: 0.003\n",
            "Edge 76: (77, 7) - Radius: 0.003\n"
          ]
        }
      ]
    },
    {
      "cell_type": "code",
      "source": [
        "import FEMSinkVelo"
      ],
      "metadata": {
        "id": "PUj-t1ncgc1j"
      },
      "execution_count": 16,
      "outputs": []
    },
    {
      "cell_type": "code",
      "source": [
        "importlib.reload(FEMSinkVelo)"
      ],
      "metadata": {
        "colab": {
          "base_uri": "https://localhost:8080/"
        },
        "id": "hXsJpQAd_Q2l",
        "outputId": "1a8461df-9c71-41b1-cb4b-953d446e6f11"
      },
      "execution_count": 46,
      "outputs": [
        {
          "output_type": "execute_result",
          "data": {
            "text/plain": [
              "<module 'FEMSinkVelo' from '/content/drive/MyDrive/Research/3d-1d/modules/FEMSinkVelo.py'>"
            ]
          },
          "metadata": {},
          "execution_count": 46
        }
      ]
    },
    {
      "cell_type": "code",
      "source": [
        "fem_test = FEMSinkVelo.FEMSinkVelo(\n",
        "    G=G,\n",
        "    gamma = 0.1658,\n",
        "    gamma_R = 1.06,\n",
        "    gamma_v = 1.09,\n",
        "    gamma_a = 2.245,\n",
        "    mu = 1.0e-3, # Viscosity\n",
        "    k_t = 1.0e-10, # Tissue permeability in 3D\n",
        "    k_v = 3.33e-11, # Vessel permeability in 1D\n",
        "    P_in = 100.0 * 133.322, # 100 mmHg\n",
        "    p_cvp = 1.0 * 133.322, # 1 mmHg\n",
        "    Lambda_inlet = [0],\n",
        "    Lambda_padding_min = 0.008\n",
        ")"
      ],
      "metadata": {
        "colab": {
          "base_uri": "https://localhost:8080/"
        },
        "id": "0EH1o3qqgPE2",
        "outputId": "e3a5fc69-0eb5-44c2-cf82-64635ddaaa47"
      },
      "execution_count": 51,
      "outputs": [
        {
          "output_type": "stream",
          "name": "stderr",
          "text": [
            "Averaging over 154 cells: 100%|██████████| 154/154 [00:00<00:00, 951.85it/s]\n"
          ]
        },
        {
          "output_type": "stream",
          "name": "stdout",
          "text": [
            "Applied BC! Non-empty list\n"
          ]
        }
      ]
    },
    {
      "cell_type": "code",
      "source": [
        "import Visualizer"
      ],
      "metadata": {
        "id": "s4savFmKSOXD"
      },
      "execution_count": 19,
      "outputs": []
    },
    {
      "cell_type": "code",
      "source": [
        "importlib.reload(Visualizer)"
      ],
      "metadata": {
        "colab": {
          "base_uri": "https://localhost:8080/"
        },
        "id": "v4lTGIsXSQD7",
        "outputId": "c2acb423-217c-404e-967a-2853f5ceff54"
      },
      "execution_count": 52,
      "outputs": [
        {
          "output_type": "execute_result",
          "data": {
            "text/plain": [
              "<module 'Visualizer' from '/content/drive/MyDrive/Research/3d-1d/modules/Visualizer.py'>"
            ]
          },
          "metadata": {},
          "execution_count": 52
        }
      ]
    },
    {
      "cell_type": "code",
      "source": [
        "Visualizer.Visualizer.plot(fem_test.uh1d, fem_test.uh3d, )"
      ],
      "metadata": {
        "colab": {
          "base_uri": "https://localhost:8080/",
          "height": 461
        },
        "id": "JNYSKU-rSR5q",
        "outputId": "57a47054-b6be-49d1-8c68-bf6563a3fa27"
      },
      "execution_count": 53,
      "outputs": [
        {
          "output_type": "display_data",
          "data": {
            "text/plain": [
              "<Figure size 1400x600 with 4 Axes>"
            ],
            "image/png": "[encoded data removed]"
          },
          "metadata": {}
        }
      ]
    },
    {
      "cell_type": "code",
      "source": [
        "print(fem_test.calculate_total_outflow())\n",
        "print(fem_test.calculate_1d_inflow())"
      ],
      "metadata": {
        "colab": {
          "base_uri": "https://localhost:8080/"
        },
        "id": "Q4Z3lJP0Vtw_",
        "outputId": "0147c3bc-c5f1-4ecd-c916-0351a68e17de"
      },
      "execution_count": 54,
      "outputs": [
        {
          "output_type": "stream",
          "name": "stdout",
          "text": [
            "3.087843553468103e-06\n",
            "3.087843553468103e-06\n"
          ]
        }
      ]
    },
    {
      "cell_type": "code",
      "source": [
        "import numpy as np\n",
        "from scipy.optimize import minimize\n",
        "\n",
        "def black_box_flow(gamma, gamma_R, gamma_a, gamma_v, k_v=3.33e-11):\n",
        "  fem_test = FEMSinkVelo.FEMSinkVelo(\n",
        "      G=G,\n",
        "      gamma=gamma,\n",
        "      gamma_R=gamma_R,\n",
        "      gamma_a=gamma_a,\n",
        "      gamma_v=gamma_v,\n",
        "      mu=1.0e-3,\n",
        "      k_t=1.0e-10,\n",
        "      k_v=k_v,\n",
        "      P_in=100.0*133.322,\n",
        "      p_cvp=1.0*133.322,\n",
        "      Lambda_inlet=[0],\n",
        "      Lambda_padding_min=0.008\n",
        "  )\n",
        "  flow_val = fem_test.calculate_1d_inflow()\n",
        "  return flow_val\n",
        "\n",
        "def cost_function_log(params_log, target_flow=3.333e-6, k_v=3.33e-11):\n",
        "    gamma_linear    = 10.0**(params_log[0])\n",
        "    gamma_R_linear  = 10.0**(params_log[1])\n",
        "    gamma_a_linear  = 10.0**(params_log[2])\n",
        "    gamma_v_linear  = 10.0**(params_log[3])\n",
        "\n",
        "    # Evaluate the flow from the PDE solver\n",
        "    flow_val = black_box_flow(\n",
        "        gamma_linear,\n",
        "        gamma_R_linear,\n",
        "        gamma_a_linear,\n",
        "        gamma_v_linear,\n",
        "        k_v=k_v\n",
        "    )\n",
        "\n",
        "    # Least-squares difference from the target flow\n",
        "    return (flow_val - target_flow)**2\n",
        "\n",
        "def multi_param_fit(\n",
        "    target_flow=500.6,\n",
        "    k_v=3.33e-11,\n",
        "    initial_guess_log=None,\n",
        "    max_iter=50\n",
        "):\n",
        "    if initial_guess_log is None:\n",
        "        initial_guess_log = [0.0, 0.0, 0.0, 0.0]\n",
        "\n",
        "    result = minimize(\n",
        "        fun=lambda p: cost_function_log(p, target_flow=target_flow, k_v=k_v),\n",
        "        x0=np.array(initial_guess_log),\n",
        "        method='Nelder-Mead',\n",
        "        options={'maxiter': max_iter, 'disp': True}\n",
        "    )\n",
        "\n",
        "    best_log = result.x\n",
        "    gamma_opt   = 10.0**(best_log[0])\n",
        "    gammaR_opt  = 10.0**(best_log[1])\n",
        "    gammaA_opt  = 10.0**(best_log[2])\n",
        "    gammaV_opt  = 10.0**(best_log[3])\n",
        "\n",
        "    flow_final = black_box_flow(gamma_opt, gammaR_opt, gammaA_opt, gammaV_opt, k_v)\n",
        "\n",
        "    return {\n",
        "        'success': result.success,\n",
        "        'status': result.status,\n",
        "        'message': result.message,\n",
        "        'n_iters': result.nit,\n",
        "        'cost_final': result.fun,\n",
        "        'gamma':   gamma_opt,\n",
        "        'gamma_R': gammaR_opt,\n",
        "        'gamma_a': gammaA_opt,\n",
        "        'gamma_v': gammaV_opt,\n",
        "        'flow_final': flow_final\n",
        "    }\n",
        "\n",
        "res = multi_param_fit(target_flow=3.333e-6, k_v=3.33e-11, max_iter=30)\n",
        "\n",
        "print(\"Optimization successful?\", res['success'])\n",
        "print(\"Status code:\", res['status'])\n",
        "print(\"Message:\", res['message'])\n",
        "print(\"Number of iterations:\", res['n_iters'])\n",
        "print(\"Final cost:\", res['cost_final'])\n",
        "print(f\"gamma    = {res['gamma']:8.4g}\")\n",
        "print(f\"gamma_R  = {res['gamma_R']:8.4g}\")\n",
        "print(f\"gamma_a  = {res['gamma_a']:8.4g}\")\n",
        "print(f\"gamma_v  = {res['gamma_v']:8.4g}\")\n",
        "print(f\"flow     = {res['flow_final']:8.4g}\")"
      ],
      "metadata": {
        "colab": {
          "base_uri": "https://localhost:8080/"
        },
        "id": "PUg1T5AP8ZTo",
        "outputId": "13c674a5-3aa2-4356-b2ef-e7cf1876bbeb"
      },
      "execution_count": 50,
      "outputs": [
        {
          "output_type": "stream",
          "name": "stderr",
          "text": [
            "Averaging over 154 cells: 100%|██████████| 154/154 [00:00<00:00, 394.43it/s]\n"
          ]
        },
        {
          "output_type": "stream",
          "name": "stdout",
          "text": [
            "Applied BC! Non-empty list\n"
          ]
        },
        {
          "output_type": "stream",
          "name": "stderr",
          "text": [
            "Averaging over 154 cells: 100%|██████████| 154/154 [00:00<00:00, 572.63it/s]\n"
          ]
        },
        {
          "output_type": "stream",
          "name": "stdout",
          "text": [
            "Applied BC! Non-empty list\n"
          ]
        },
        {
          "output_type": "stream",
          "name": "stderr",
          "text": [
            "Averaging over 154 cells: 100%|██████████| 154/154 [00:00<00:00, 946.51it/s]\n"
          ]
        },
        {
          "output_type": "stream",
          "name": "stdout",
          "text": [
            "Applied BC! Non-empty list\n"
          ]
        },
        {
          "output_type": "stream",
          "name": "stderr",
          "text": [
            "Averaging over 154 cells: 100%|██████████| 154/154 [00:00<00:00, 917.07it/s]\n"
          ]
        },
        {
          "output_type": "stream",
          "name": "stdout",
          "text": [
            "Applied BC! Non-empty list\n"
          ]
        },
        {
          "output_type": "stream",
          "name": "stderr",
          "text": [
            "Averaging over 154 cells: 100%|██████████| 154/154 [00:00<00:00, 582.36it/s]\n"
          ]
        },
        {
          "output_type": "stream",
          "name": "stdout",
          "text": [
            "Applied BC! Non-empty list\n"
          ]
        },
        {
          "output_type": "stream",
          "name": "stderr",
          "text": [
            "Averaging over 154 cells: 100%|██████████| 154/154 [00:00<00:00, 538.28it/s]\n"
          ]
        },
        {
          "output_type": "stream",
          "name": "stdout",
          "text": [
            "Applied BC! Non-empty list\n"
          ]
        },
        {
          "output_type": "stream",
          "name": "stderr",
          "text": [
            "Averaging over 154 cells: 100%|██████████| 154/154 [00:00<00:00, 889.35it/s]\n"
          ]
        },
        {
          "output_type": "stream",
          "name": "stdout",
          "text": [
            "Applied BC! Non-empty list\n"
          ]
        },
        {
          "output_type": "stream",
          "name": "stderr",
          "text": [
            "Averaging over 154 cells: 100%|██████████| 154/154 [00:00<00:00, 778.24it/s]\n"
          ]
        },
        {
          "output_type": "stream",
          "name": "stdout",
          "text": [
            "Applied BC! Non-empty list\n"
          ]
        },
        {
          "output_type": "stream",
          "name": "stderr",
          "text": [
            "Averaging over 154 cells: 100%|██████████| 154/154 [00:00<00:00, 883.43it/s]\n"
          ]
        },
        {
          "output_type": "stream",
          "name": "stdout",
          "text": [
            "Applied BC! Non-empty list\n"
          ]
        },
        {
          "output_type": "stream",
          "name": "stderr",
          "text": [
            "Averaging over 154 cells: 100%|██████████| 154/154 [00:00<00:00, 721.02it/s]\n"
          ]
        },
        {
          "output_type": "stream",
          "name": "stdout",
          "text": [
            "Applied BC! Non-empty list\n"
          ]
        },
        {
          "output_type": "stream",
          "name": "stderr",
          "text": [
            "Averaging over 154 cells: 100%|██████████| 154/154 [00:00<00:00, 595.38it/s]\n"
          ]
        },
        {
          "output_type": "stream",
          "name": "stdout",
          "text": [
            "Applied BC! Non-empty list\n"
          ]
        },
        {
          "output_type": "stream",
          "name": "stderr",
          "text": [
            "Averaging over 154 cells: 100%|██████████| 154/154 [00:00<00:00, 547.42it/s]\n"
          ]
        },
        {
          "output_type": "stream",
          "name": "stdout",
          "text": [
            "Applied BC! Non-empty list\n"
          ]
        },
        {
          "output_type": "stream",
          "name": "stderr",
          "text": [
            "Averaging over 154 cells: 100%|██████████| 154/154 [00:00<00:00, 937.74it/s]\n"
          ]
        },
        {
          "output_type": "stream",
          "name": "stdout",
          "text": [
            "Applied BC! Non-empty list\n"
          ]
        },
        {
          "output_type": "stream",
          "name": "stderr",
          "text": [
            "Averaging over 154 cells: 100%|██████████| 154/154 [00:00<00:00, 938.14it/s]\n"
          ]
        },
        {
          "output_type": "stream",
          "name": "stdout",
          "text": [
            "Applied BC! Non-empty list\n"
          ]
        },
        {
          "output_type": "stream",
          "name": "stderr",
          "text": [
            "Averaging over 154 cells: 100%|██████████| 154/154 [00:00<00:00, 939.03it/s]\n"
          ]
        },
        {
          "output_type": "stream",
          "name": "stdout",
          "text": [
            "Applied BC! Non-empty list\n"
          ]
        },
        {
          "output_type": "stream",
          "name": "stderr",
          "text": [
            "Averaging over 154 cells: 100%|██████████| 154/154 [00:00<00:00, 908.93it/s]\n"
          ]
        },
        {
          "output_type": "stream",
          "name": "stdout",
          "text": [
            "Applied BC! Non-empty list\n"
          ]
        },
        {
          "output_type": "stream",
          "name": "stderr",
          "text": [
            "Averaging over 154 cells: 100%|██████████| 154/154 [00:00<00:00, 909.16it/s]\n"
          ]
        },
        {
          "output_type": "stream",
          "name": "stdout",
          "text": [
            "Applied BC! Non-empty list\n"
          ]
        },
        {
          "output_type": "stream",
          "name": "stderr",
          "text": [
            "Averaging over 154 cells: 100%|██████████| 154/154 [00:00<00:00, 575.57it/s]\n"
          ]
        },
        {
          "output_type": "stream",
          "name": "stdout",
          "text": [
            "Applied BC! Non-empty list\n"
          ]
        },
        {
          "output_type": "stream",
          "name": "stderr",
          "text": [
            "Averaging over 154 cells: 100%|██████████| 154/154 [00:00<00:00, 800.41it/s]\n"
          ]
        },
        {
          "output_type": "stream",
          "name": "stdout",
          "text": [
            "Applied BC! Non-empty list\n"
          ]
        },
        {
          "output_type": "stream",
          "name": "stderr",
          "text": [
            "Averaging over 154 cells: 100%|██████████| 154/154 [00:00<00:00, 756.76it/s]\n"
          ]
        },
        {
          "output_type": "stream",
          "name": "stdout",
          "text": [
            "Applied BC! Non-empty list\n"
          ]
        },
        {
          "output_type": "stream",
          "name": "stderr",
          "text": [
            "Averaging over 154 cells: 100%|██████████| 154/154 [00:00<00:00, 866.31it/s]\n"
          ]
        },
        {
          "output_type": "stream",
          "name": "stdout",
          "text": [
            "Applied BC! Non-empty list\n"
          ]
        },
        {
          "output_type": "stream",
          "name": "stderr",
          "text": [
            "Averaging over 154 cells: 100%|██████████| 154/154 [00:00<00:00, 792.74it/s]\n"
          ]
        },
        {
          "output_type": "stream",
          "name": "stdout",
          "text": [
            "Applied BC! Non-empty list\n"
          ]
        },
        {
          "output_type": "stream",
          "name": "stderr",
          "text": [
            "Averaging over 154 cells: 100%|██████████| 154/154 [00:00<00:00, 894.02it/s]\n"
          ]
        },
        {
          "output_type": "stream",
          "name": "stdout",
          "text": [
            "Applied BC! Non-empty list\n"
          ]
        },
        {
          "output_type": "stream",
          "name": "stderr",
          "text": [
            "Averaging over 154 cells: 100%|██████████| 154/154 [00:00<00:00, 543.38it/s]\n"
          ]
        },
        {
          "output_type": "stream",
          "name": "stdout",
          "text": [
            "Applied BC! Non-empty list\n"
          ]
        },
        {
          "output_type": "stream",
          "name": "stderr",
          "text": [
            "Averaging over 154 cells: 100%|██████████| 154/154 [00:00<00:00, 601.49it/s]\n"
          ]
        },
        {
          "output_type": "stream",
          "name": "stdout",
          "text": [
            "Applied BC! Non-empty list\n"
          ]
        },
        {
          "output_type": "stream",
          "name": "stderr",
          "text": [
            "Averaging over 154 cells: 100%|██████████| 154/154 [00:00<00:00, 937.93it/s]\n"
          ]
        },
        {
          "output_type": "stream",
          "name": "stdout",
          "text": [
            "Applied BC! Non-empty list\n"
          ]
        },
        {
          "output_type": "stream",
          "name": "stderr",
          "text": [
            "Averaging over 154 cells: 100%|██████████| 154/154 [00:00<00:00, 901.64it/s]\n"
          ]
        },
        {
          "output_type": "stream",
          "name": "stdout",
          "text": [
            "Applied BC! Non-empty list\n"
          ]
        },
        {
          "output_type": "stream",
          "name": "stderr",
          "text": [
            "Averaging over 154 cells: 100%|██████████| 154/154 [00:00<00:00, 947.49it/s]\n"
          ]
        },
        {
          "output_type": "stream",
          "name": "stdout",
          "text": [
            "Applied BC! Non-empty list\n"
          ]
        },
        {
          "output_type": "stream",
          "name": "stderr",
          "text": [
            "Averaging over 154 cells: 100%|██████████| 154/154 [00:00<00:00, 908.24it/s]\n"
          ]
        },
        {
          "output_type": "stream",
          "name": "stdout",
          "text": [
            "Applied BC! Non-empty list\n"
          ]
        },
        {
          "output_type": "stream",
          "name": "stderr",
          "text": [
            "Averaging over 154 cells: 100%|██████████| 154/154 [00:00<00:00, 895.67it/s]\n"
          ]
        },
        {
          "output_type": "stream",
          "name": "stdout",
          "text": [
            "Applied BC! Non-empty list\n"
          ]
        },
        {
          "output_type": "stream",
          "name": "stderr",
          "text": [
            "Averaging over 154 cells: 100%|██████████| 154/154 [00:00<00:00, 576.45it/s]\n"
          ]
        },
        {
          "output_type": "stream",
          "name": "stdout",
          "text": [
            "Applied BC! Non-empty list\n"
          ]
        },
        {
          "output_type": "stream",
          "name": "stderr",
          "text": [
            "Averaging over 154 cells: 100%|██████████| 154/154 [00:00<00:00, 830.92it/s]\n"
          ]
        },
        {
          "output_type": "stream",
          "name": "stdout",
          "text": [
            "Applied BC! Non-empty list\n"
          ]
        },
        {
          "output_type": "stream",
          "name": "stderr",
          "text": [
            "Averaging over 154 cells: 100%|██████████| 154/154 [00:00<00:00, 935.09it/s]\n"
          ]
        },
        {
          "output_type": "stream",
          "name": "stdout",
          "text": [
            "Applied BC! Non-empty list\n"
          ]
        },
        {
          "output_type": "stream",
          "name": "stderr",
          "text": [
            "Averaging over 154 cells: 100%|██████████| 154/154 [00:00<00:00, 923.24it/s]\n"
          ]
        },
        {
          "output_type": "stream",
          "name": "stdout",
          "text": [
            "Applied BC! Non-empty list\n"
          ]
        },
        {
          "output_type": "stream",
          "name": "stderr",
          "text": [
            "Averaging over 154 cells: 100%|██████████| 154/154 [00:00<00:00, 944.54it/s]\n"
          ]
        },
        {
          "output_type": "stream",
          "name": "stdout",
          "text": [
            "Applied BC! Non-empty list\n"
          ]
        },
        {
          "output_type": "stream",
          "name": "stderr",
          "text": [
            "Averaging over 154 cells: 100%|██████████| 154/154 [00:00<00:00, 927.16it/s]\n"
          ]
        },
        {
          "output_type": "stream",
          "name": "stdout",
          "text": [
            "Applied BC! Non-empty list\n"
          ]
        },
        {
          "output_type": "stream",
          "name": "stderr",
          "text": [
            "Averaging over 154 cells: 100%|██████████| 154/154 [00:00<00:00, 594.61it/s]\n"
          ]
        },
        {
          "output_type": "stream",
          "name": "stdout",
          "text": [
            "Applied BC! Non-empty list\n"
          ]
        },
        {
          "output_type": "stream",
          "name": "stderr",
          "text": [
            "Averaging over 154 cells: 100%|██████████| 154/154 [00:00<00:00, 570.71it/s]\n"
          ]
        },
        {
          "output_type": "stream",
          "name": "stdout",
          "text": [
            "Applied BC! Non-empty list\n"
          ]
        },
        {
          "output_type": "stream",
          "name": "stderr",
          "text": [
            "Averaging over 154 cells: 100%|██████████| 154/154 [00:00<00:00, 876.38it/s]\n"
          ]
        },
        {
          "output_type": "stream",
          "name": "stdout",
          "text": [
            "Applied BC! Non-empty list\n"
          ]
        },
        {
          "output_type": "stream",
          "name": "stderr",
          "text": [
            "Averaging over 154 cells: 100%|██████████| 154/154 [00:00<00:00, 858.18it/s]\n"
          ]
        },
        {
          "output_type": "stream",
          "name": "stdout",
          "text": [
            "Applied BC! Non-empty list\n"
          ]
        },
        {
          "output_type": "stream",
          "name": "stderr",
          "text": [
            "Averaging over 154 cells: 100%|██████████| 154/154 [00:00<00:00, 875.95it/s]\n"
          ]
        },
        {
          "output_type": "stream",
          "name": "stdout",
          "text": [
            "Applied BC! Non-empty list\n"
          ]
        },
        {
          "output_type": "stream",
          "name": "stderr",
          "text": [
            "Averaging over 154 cells: 100%|██████████| 154/154 [00:00<00:00, 697.83it/s]\n"
          ]
        },
        {
          "output_type": "stream",
          "name": "stdout",
          "text": [
            "Applied BC! Non-empty list\n"
          ]
        },
        {
          "output_type": "stream",
          "name": "stderr",
          "text": [
            "Averaging over 154 cells: 100%|██████████| 154/154 [00:00<00:00, 575.78it/s]\n"
          ]
        },
        {
          "output_type": "stream",
          "name": "stdout",
          "text": [
            "Applied BC! Non-empty list\n"
          ]
        },
        {
          "output_type": "stream",
          "name": "stderr",
          "text": [
            "Averaging over 154 cells: 100%|██████████| 154/154 [00:00<00:00, 591.69it/s]\n"
          ]
        },
        {
          "output_type": "stream",
          "name": "stdout",
          "text": [
            "Applied BC! Non-empty list\n"
          ]
        },
        {
          "output_type": "stream",
          "name": "stderr",
          "text": [
            "Averaging over 154 cells: 100%|██████████| 154/154 [00:00<00:00, 904.54it/s]\n"
          ]
        },
        {
          "output_type": "stream",
          "name": "stdout",
          "text": [
            "Applied BC! Non-empty list\n"
          ]
        },
        {
          "output_type": "stream",
          "name": "stderr",
          "text": [
            "Averaging over 154 cells: 100%|██████████| 154/154 [00:00<00:00, 838.85it/s]\n"
          ]
        },
        {
          "output_type": "stream",
          "name": "stdout",
          "text": [
            "Applied BC! Non-empty list\n"
          ]
        },
        {
          "output_type": "stream",
          "name": "stderr",
          "text": [
            "Averaging over 154 cells: 100%|██████████| 154/154 [00:00<00:00, 821.23it/s]\n"
          ]
        },
        {
          "output_type": "stream",
          "name": "stdout",
          "text": [
            "Applied BC! Non-empty list\n"
          ]
        },
        {
          "output_type": "stream",
          "name": "stderr",
          "text": [
            "Averaging over 154 cells: 100%|██████████| 154/154 [00:00<00:00, 926.82it/s]\n"
          ]
        },
        {
          "output_type": "stream",
          "name": "stdout",
          "text": [
            "Applied BC! Non-empty list\n"
          ]
        },
        {
          "output_type": "stream",
          "name": "stderr",
          "text": [
            "Averaging over 154 cells: 100%|██████████| 154/154 [00:00<00:00, 948.45it/s]\n"
          ]
        },
        {
          "output_type": "stream",
          "name": "stdout",
          "text": [
            "Applied BC! Non-empty list\n"
          ]
        },
        {
          "output_type": "stream",
          "name": "stderr",
          "text": [
            "Averaging over 154 cells: 100%|██████████| 154/154 [00:00<00:00, 506.19it/s]\n"
          ]
        },
        {
          "output_type": "stream",
          "name": "stdout",
          "text": [
            "Applied BC! Non-empty list\n"
          ]
        },
        {
          "output_type": "stream",
          "name": "stderr",
          "text": [
            "Averaging over 154 cells: 100%|██████████| 154/154 [00:00<00:00, 938.87it/s]\n"
          ]
        },
        {
          "output_type": "stream",
          "name": "stdout",
          "text": [
            "Applied BC! Non-empty list\n"
          ]
        },
        {
          "output_type": "stream",
          "name": "stderr",
          "text": [
            "Averaging over 154 cells: 100%|██████████| 154/154 [00:00<00:00, 954.05it/s]\n"
          ]
        },
        {
          "output_type": "stream",
          "name": "stdout",
          "text": [
            "Applied BC! Non-empty list\n"
          ]
        },
        {
          "output_type": "stream",
          "name": "stderr",
          "text": [
            "Averaging over 154 cells: 100%|██████████| 154/154 [00:00<00:00, 940.15it/s]\n"
          ]
        },
        {
          "output_type": "stream",
          "name": "stdout",
          "text": [
            "Applied BC! Non-empty list\n"
          ]
        },
        {
          "output_type": "stream",
          "name": "stderr",
          "text": [
            "<ipython-input-50-86b2d4e8a757>:49: RuntimeWarning: Maximum number of iterations has been exceeded.\n",
            "  result = minimize(\n",
            "Averaging over 154 cells: 100%|██████████| 154/154 [00:00<00:00, 660.78it/s]\n"
          ]
        },
        {
          "output_type": "stream",
          "name": "stdout",
          "text": [
            "Applied BC! Non-empty list\n",
            "Optimization successful? False\n",
            "Status code: 2\n",
            "Message: Maximum number of iterations has been exceeded.\n",
            "Number of iterations: 30\n",
            "Final cost: 6.008733554856338e-14\n",
            "gamma    =   0.1658\n",
            "gamma_R  =     1.06\n",
            "gamma_a  =     1.09\n",
            "gamma_v  =    2.245\n",
            "flow     = 3.088e-06\n"
          ]
        }
      ]
    }
  ],
  "metadata": {
    "colab": {
      "provenance": []
    },
    "kernelspec": {
      "display_name": "Python 3",
      "name": "python3"
    },
    "language_info": {
      "name": "python"
    }
  },
  "nbformat": 4,
  "nbformat_minor": 0
}