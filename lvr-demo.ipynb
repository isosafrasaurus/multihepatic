{
 "cells": [
  {
   "cell_type": "code",
   "execution_count": 1,
   "id": "c8e3f35b-b362-4780-a403-a8a888b29baa",
   "metadata": {},
   "outputs": [],
   "source": [
    "%%capture\n",
    "!pip install numpy==1.26.4\n",
    "!pip install ipywidgets vtk meshio pyvista Rtree"
   ]
  },
  {
   "cell_type": "code",
   "execution_count": 15,
   "id": "be7f8a5b-30c8-4b32-afe1-4024991188f0",
   "metadata": {},
   "outputs": [],
   "source": [
    "import sys, os, importlib\n",
    "\n",
    "WORK_PATH = \"/root/3d-1d\"\n",
    "MODULES_PATH = os.path.join(WORK_PATH, 'modules')\n",
    "\n",
    "sys.path.append(MODULES_PATH)"
   ]
  },
  {
   "cell_type": "code",
   "execution_count": 1,
   "id": "cc4cbd66-3cd9-4d84-aeee-5913edafe55a",
   "metadata": {},
   "outputs": [],
   "source": [
    "import networkx as nx"
   ]
  },
  {
   "cell_type": "code",
   "execution_count": 2,
   "id": "e7927a9f-071d-4e1b-ba38-117105e5eaa3",
   "metadata": {},
   "outputs": [],
   "source": [
    "G = nx.Graph()\n",
    "G.add_edge(1, 2, color=\"red\")\n",
    "G.add_edge(2, 3, color=\"red\")\n",
    "G.add_node(3)\n",
    "G.add_node(4)"
   ]
  },
  {
   "cell_type": "code",
   "execution_count": 14,
   "id": "7b23bba3-ed96-4213-895e-e41d3562721e",
   "metadata": {},
   "outputs": [
    {
     "name": "stdout",
     "output_type": "stream",
     "text": [
      "[(1, 2, {'color': 'red'}), (2, 3, {'color': 'red'})]\n"
     ]
    }
   ],
   "source": [
    "print(G.edges.data(True))"
   ]
  },
  {
   "cell_type": "code",
   "execution_count": null,
   "id": "1d750dae-9c64-4fd3-a71a-3131d64928c3",
   "metadata": {},
   "outputs": [],
   "source": []
  }
 ],
 "metadata": {
  "kernelspec": {
   "display_name": "Python 3 (ipykernel)",
   "language": "python",
   "name": "python3"
  },
  "language_info": {
   "codemirror_mode": {
    "name": "ipython",
    "version": 3
   },
   "file_extension": ".py",
   "mimetype": "text/x-python",
   "name": "python",
   "nbconvert_exporter": "python",
   "pygments_lexer": "ipython3",
   "version": "3.11.11"
  }
 },
 "nbformat": 4,
 "nbformat_minor": 5
}
