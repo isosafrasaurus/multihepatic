{
 "cells": [
  {
   "cell_type": "code",
   "execution_count": 1,
   "id": "c8e3f35b-b362-4780-a403-a8a888b29baa",
   "metadata": {},
   "outputs": [],
   "source": [
    "%%capture\n",
    "!pip install numpy==1.26.4\n",
    "!pip install ipywidgets vtk meshio pyvista Rtree"
   ]
  },
  {
   "cell_type": "code",
   "execution_count": 2,
   "id": "be7f8a5b-30c8-4b32-afe1-4024991188f0",
   "metadata": {},
   "outputs": [],
   "source": [
    "import sys, os, importlib\n",
    "\n",
    "WORK_PATH = \"/root/3d-1d\"\n",
    "MODULES_PATH = os.path.join(WORK_PATH, 'modules')\n",
    "\n",
    "sys.path.append(MODULES_PATH)"
   ]
  },
  {
   "cell_type": "code",
   "execution_count": null,
   "id": "cc4cbd66-3cd9-4d84-aeee-5913edafe55a",
   "metadata": {},
   "outputs": [],
   "source": []
  }
 ],
 "metadata": {
  "kernelspec": {
   "display_name": "Python 3 (ipykernel)",
   "language": "python",
   "name": "python3"
  },
  "language_info": {
   "codemirror_mode": {
    "name": "ipython",
    "version": 3
   },
   "file_extension": ".py",
   "mimetype": "text/x-python",
   "name": "python",
   "nbconvert_exporter": "python",
   "pygments_lexer": "ipython3",
   "version": "3.11.11"
  }
 },
 "nbformat": 4,
 "nbformat_minor": 5
}
